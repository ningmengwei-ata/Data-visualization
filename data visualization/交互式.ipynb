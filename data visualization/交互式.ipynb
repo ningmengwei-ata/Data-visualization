{
 "cells": [
  {
   "cell_type": "code",
   "execution_count": 4,
   "metadata": {},
   "outputs": [
    {
     "data": {
      "text/html": [
       "<div>\n",
       "<style scoped>\n",
       "    .dataframe tbody tr th:only-of-type {\n",
       "        vertical-align: middle;\n",
       "    }\n",
       "\n",
       "    .dataframe tbody tr th {\n",
       "        vertical-align: top;\n",
       "    }\n",
       "\n",
       "    .dataframe thead th {\n",
       "        text-align: right;\n",
       "    }\n",
       "</style>\n",
       "<table border=\"1\" class=\"dataframe\">\n",
       "  <thead>\n",
       "    <tr style=\"text-align: right;\">\n",
       "      <th></th>\n",
       "      <th>year</th>\n",
       "      <th>ISO_code</th>\n",
       "      <th>Country</th>\n",
       "      <th>region</th>\n",
       "      <th>pf_rol_procedural</th>\n",
       "      <th>pf_rol_civil</th>\n",
       "      <th>pf_rol_criminal</th>\n",
       "      <th>pf_rol</th>\n",
       "      <th>pf_ss_homicide</th>\n",
       "      <th>pf_ss_disappearances_disap</th>\n",
       "      <th>...</th>\n",
       "      <th>ef_regulation_business_bribes</th>\n",
       "      <th>ef_regulation_business_licensing</th>\n",
       "      <th>ef_regulation_business_compliance</th>\n",
       "      <th>ef_regulation_business</th>\n",
       "      <th>ef_regulation</th>\n",
       "      <th>ef_score</th>\n",
       "      <th>ef_rank</th>\n",
       "      <th>hf_score</th>\n",
       "      <th>hf_rank</th>\n",
       "      <th>hf_quartile</th>\n",
       "    </tr>\n",
       "  </thead>\n",
       "  <tbody>\n",
       "    <tr>\n",
       "      <td>0</td>\n",
       "      <td>2016</td>\n",
       "      <td>ALB</td>\n",
       "      <td>Albania</td>\n",
       "      <td>Eastern Europe</td>\n",
       "      <td>6.661503</td>\n",
       "      <td>4.547244</td>\n",
       "      <td>4.666508</td>\n",
       "      <td>5.291752</td>\n",
       "      <td>8.920429</td>\n",
       "      <td>10.0</td>\n",
       "      <td>...</td>\n",
       "      <td>4.050196</td>\n",
       "      <td>7.324582</td>\n",
       "      <td>7.074366</td>\n",
       "      <td>6.705863</td>\n",
       "      <td>6.906901</td>\n",
       "      <td>7.54</td>\n",
       "      <td>34.0</td>\n",
       "      <td>7.568140</td>\n",
       "      <td>48.0</td>\n",
       "      <td>2.0</td>\n",
       "    </tr>\n",
       "    <tr>\n",
       "      <td>1</td>\n",
       "      <td>2016</td>\n",
       "      <td>DZA</td>\n",
       "      <td>Algeria</td>\n",
       "      <td>Middle East &amp; North Africa</td>\n",
       "      <td>NaN</td>\n",
       "      <td>NaN</td>\n",
       "      <td>NaN</td>\n",
       "      <td>3.819566</td>\n",
       "      <td>9.456254</td>\n",
       "      <td>10.0</td>\n",
       "      <td>...</td>\n",
       "      <td>3.765515</td>\n",
       "      <td>8.523503</td>\n",
       "      <td>7.029528</td>\n",
       "      <td>5.676956</td>\n",
       "      <td>5.268992</td>\n",
       "      <td>4.99</td>\n",
       "      <td>159.0</td>\n",
       "      <td>5.135886</td>\n",
       "      <td>155.0</td>\n",
       "      <td>4.0</td>\n",
       "    </tr>\n",
       "    <tr>\n",
       "      <td>2</td>\n",
       "      <td>2016</td>\n",
       "      <td>AGO</td>\n",
       "      <td>Angola</td>\n",
       "      <td>Sub-Saharan Africa</td>\n",
       "      <td>NaN</td>\n",
       "      <td>NaN</td>\n",
       "      <td>NaN</td>\n",
       "      <td>3.451814</td>\n",
       "      <td>8.060260</td>\n",
       "      <td>5.0</td>\n",
       "      <td>...</td>\n",
       "      <td>1.945540</td>\n",
       "      <td>8.096776</td>\n",
       "      <td>6.782923</td>\n",
       "      <td>4.930271</td>\n",
       "      <td>5.518500</td>\n",
       "      <td>5.17</td>\n",
       "      <td>155.0</td>\n",
       "      <td>5.640662</td>\n",
       "      <td>142.0</td>\n",
       "      <td>4.0</td>\n",
       "    </tr>\n",
       "    <tr>\n",
       "      <td>3</td>\n",
       "      <td>2016</td>\n",
       "      <td>ARG</td>\n",
       "      <td>Argentina</td>\n",
       "      <td>Latin America &amp; the Caribbean</td>\n",
       "      <td>7.098483</td>\n",
       "      <td>5.791960</td>\n",
       "      <td>4.343930</td>\n",
       "      <td>5.744791</td>\n",
       "      <td>7.622974</td>\n",
       "      <td>10.0</td>\n",
       "      <td>...</td>\n",
       "      <td>3.260044</td>\n",
       "      <td>5.253411</td>\n",
       "      <td>6.508295</td>\n",
       "      <td>5.535831</td>\n",
       "      <td>5.369019</td>\n",
       "      <td>4.84</td>\n",
       "      <td>160.0</td>\n",
       "      <td>6.469848</td>\n",
       "      <td>107.0</td>\n",
       "      <td>3.0</td>\n",
       "    </tr>\n",
       "    <tr>\n",
       "      <td>4</td>\n",
       "      <td>2016</td>\n",
       "      <td>ARM</td>\n",
       "      <td>Armenia</td>\n",
       "      <td>Caucasus &amp; Central Asia</td>\n",
       "      <td>NaN</td>\n",
       "      <td>NaN</td>\n",
       "      <td>NaN</td>\n",
       "      <td>5.003205</td>\n",
       "      <td>8.808750</td>\n",
       "      <td>10.0</td>\n",
       "      <td>...</td>\n",
       "      <td>4.575152</td>\n",
       "      <td>9.319612</td>\n",
       "      <td>6.491481</td>\n",
       "      <td>6.797530</td>\n",
       "      <td>7.378069</td>\n",
       "      <td>7.57</td>\n",
       "      <td>29.0</td>\n",
       "      <td>7.241402</td>\n",
       "      <td>57.0</td>\n",
       "      <td>2.0</td>\n",
       "    </tr>\n",
       "  </tbody>\n",
       "</table>\n",
       "<p>5 rows × 123 columns</p>\n",
       "</div>"
      ],
      "text/plain": [
       "   year ISO_code    Country                         region  pf_rol_procedural  \\\n",
       "0  2016      ALB    Albania                 Eastern Europe           6.661503   \n",
       "1  2016      DZA    Algeria     Middle East & North Africa                NaN   \n",
       "2  2016      AGO     Angola             Sub-Saharan Africa                NaN   \n",
       "3  2016      ARG  Argentina  Latin America & the Caribbean           7.098483   \n",
       "4  2016      ARM    Armenia        Caucasus & Central Asia                NaN   \n",
       "\n",
       "   pf_rol_civil  pf_rol_criminal    pf_rol  pf_ss_homicide  \\\n",
       "0      4.547244         4.666508  5.291752        8.920429   \n",
       "1           NaN              NaN  3.819566        9.456254   \n",
       "2           NaN              NaN  3.451814        8.060260   \n",
       "3      5.791960         4.343930  5.744791        7.622974   \n",
       "4           NaN              NaN  5.003205        8.808750   \n",
       "\n",
       "   pf_ss_disappearances_disap  ...  ef_regulation_business_bribes  \\\n",
       "0                        10.0  ...                       4.050196   \n",
       "1                        10.0  ...                       3.765515   \n",
       "2                         5.0  ...                       1.945540   \n",
       "3                        10.0  ...                       3.260044   \n",
       "4                        10.0  ...                       4.575152   \n",
       "\n",
       "   ef_regulation_business_licensing  ef_regulation_business_compliance  \\\n",
       "0                          7.324582                           7.074366   \n",
       "1                          8.523503                           7.029528   \n",
       "2                          8.096776                           6.782923   \n",
       "3                          5.253411                           6.508295   \n",
       "4                          9.319612                           6.491481   \n",
       "\n",
       "   ef_regulation_business  ef_regulation  ef_score  ef_rank  hf_score  \\\n",
       "0                6.705863       6.906901      7.54     34.0  7.568140   \n",
       "1                5.676956       5.268992      4.99    159.0  5.135886   \n",
       "2                4.930271       5.518500      5.17    155.0  5.640662   \n",
       "3                5.535831       5.369019      4.84    160.0  6.469848   \n",
       "4                6.797530       7.378069      7.57     29.0  7.241402   \n",
       "\n",
       "   hf_rank  hf_quartile  \n",
       "0     48.0          2.0  \n",
       "1    155.0          4.0  \n",
       "2    142.0          4.0  \n",
       "3    107.0          3.0  \n",
       "4     57.0          2.0  \n",
       "\n",
       "[5 rows x 123 columns]"
      ]
     },
     "execution_count": 4,
     "metadata": {},
     "output_type": "execute_result"
    }
   ],
   "source": [
    "import pandas as pd \n",
    "free18=pd.read_csv('hfi_cc_2018.csv')\n",
    "free18.head()"
   ]
  },
  {
   "cell_type": "code",
   "execution_count": 12,
   "metadata": {},
   "outputs": [
    {
     "data": {
      "application/vnd.plotly.v1+json": {
       "config": {
        "linkText": "Export to plot.ly",
        "plotlyServerURL": "https://plot.ly",
        "showLink": false
       },
       "data": [
        {
         "autocolorscale": false,
         "colorbar": {
          "title": {
           "text": "Human Freedom"
          }
         },
         "colorscale": [
          [
           0,
           "rgb(255,255,204)"
          ],
          [
           0.125,
           "rgb(255,237,160)"
          ],
          [
           0.25,
           "rgb(254,217,118)"
          ],
          [
           0.375,
           "rgb(254,178,76)"
          ],
          [
           0.5,
           "rgb(253,141,60)"
          ],
          [
           0.625,
           "rgb(252,78,42)"
          ],
          [
           0.75,
           "rgb(227,26,28)"
          ],
          [
           0.875,
           "rgb(189,0,38)"
          ],
          [
           1,
           "rgb(128,0,38)"
          ]
         ],
         "locationmode": "country names",
         "locations": [
          "Albania",
          "Algeria",
          "Angola",
          "Argentina",
          "Armenia",
          "Australia",
          "Austria",
          "Azerbaijan",
          "Bahamas",
          "Bahrain",
          "Bangladesh",
          "Barbados",
          "Belarus",
          "Belgium",
          "Belize",
          "Benin",
          "Bhutan",
          "Bolivia",
          "Bosnia and Herzegovina",
          "Botswana",
          "Brazil",
          "Brunei Darussalam",
          "Bulgaria",
          "Burkina Faso",
          "Burundi",
          "Cambodia",
          "Cameroon",
          "Canada",
          "Cape Verde",
          "Central Afr. Rep.",
          "Chad",
          "Chile",
          "China",
          "Colombia",
          "Congo, Dem. R.",
          "Congo, Rep. Of",
          "Costa Rica",
          "Cote d'Ivoire",
          "Croatia",
          "Cyprus",
          "Czech Rep.",
          "Denmark",
          "Dominican Rep.",
          "Ecuador",
          "Egypt",
          "El Salvador",
          "Estonia",
          "Ethiopia",
          "Fiji",
          "Finland",
          "France",
          "Gabon",
          "Gambia, The",
          "Georgia",
          "Germany",
          "Ghana",
          "Greece",
          "Guatemala",
          "Guinea",
          "Guinea-Bissau",
          "Guyana",
          "Haiti",
          "Honduras",
          "Hong Kong",
          "Hungary",
          "Iceland",
          "India",
          "Indonesia",
          "Iran",
          "Iraq",
          "Ireland",
          "Israel",
          "Italy",
          "Jamaica",
          "Japan",
          "Jordan",
          "Kazakhstan",
          "Kenya",
          "Korea, South",
          "Kuwait",
          "Kyrgyz Republic",
          "Laos",
          "Latvia",
          "Lebanon",
          "Lesotho",
          "Liberia",
          "Libya",
          "Lithuania",
          "Luxembourg",
          "Macedonia",
          "Madagascar",
          "Malawi",
          "Malaysia",
          "Mali",
          "Malta",
          "Mauritania",
          "Mauritius",
          "Mexico",
          "Moldova",
          "Mongolia",
          "Montenegro",
          "Morocco",
          "Mozambique",
          "Myanmar",
          "Namibia",
          "Nepal",
          "Netherlands",
          "New Zealand",
          "Nicaragua",
          "Niger",
          "Nigeria",
          "Norway",
          "Oman",
          "Pakistan",
          "Panama",
          "Pap. New Guinea",
          "Paraguay",
          "Peru",
          "Philippines",
          "Poland",
          "Portugal",
          "Qatar",
          "Romania",
          "Russia",
          "Rwanda",
          "Saudi Arabia",
          "Senegal",
          "Serbia",
          "Seychelles",
          "Sierra Leone",
          "Singapore",
          "Slovak Rep.",
          "Slovenia",
          "South Africa",
          "Spain",
          "Sri Lanka",
          "Sudan",
          "Suriname",
          "Swaziland",
          "Sweden",
          "Switzerland",
          "Syria",
          "Taiwan",
          "Tajikistan",
          "Tanzania",
          "Thailand",
          "Timor-Leste",
          "Togo",
          "Trinidad and Tobago",
          "Tunisia",
          "Turkey",
          "Uganda",
          "Ukraine",
          "United Arab Emirates",
          "United Kingdom",
          "United States",
          "Uruguay",
          "Venezuela",
          "Vietnam",
          "Yemen, Rep.",
          "Zambia",
          "Zimbabwe",
          "Albania",
          "Algeria",
          "Angola",
          "Argentina",
          "Armenia",
          "Australia",
          "Austria",
          "Azerbaijan",
          "Bahamas",
          "Bahrain",
          "Bangladesh",
          "Barbados",
          "Belarus",
          "Belgium",
          "Belize",
          "Benin",
          "Bhutan",
          "Bolivia",
          "Bosnia and Herzegovina",
          "Botswana",
          "Brazil",
          "Brunei Darussalam",
          "Bulgaria",
          "Burkina Faso",
          "Burundi",
          "Cambodia",
          "Cameroon",
          "Canada",
          "Cape Verde",
          "Central Afr. Rep.",
          "Chad",
          "Chile",
          "China",
          "Colombia",
          "Congo, Dem. R.",
          "Congo, Rep. Of",
          "Costa Rica",
          "Cote d'Ivoire",
          "Croatia",
          "Cyprus",
          "Czech Rep.",
          "Denmark",
          "Dominican Rep.",
          "Ecuador",
          "Egypt",
          "El Salvador",
          "Estonia",
          "Ethiopia",
          "Fiji",
          "Finland",
          "France",
          "Gabon",
          "Gambia, The",
          "Georgia",
          "Germany",
          "Ghana",
          "Greece",
          "Guatemala",
          "Guinea",
          "Guinea-Bissau",
          "Guyana",
          "Haiti",
          "Honduras",
          "Hong Kong",
          "Hungary",
          "Iceland",
          "India",
          "Indonesia",
          "Iran",
          "Iraq",
          "Ireland",
          "Israel",
          "Italy",
          "Jamaica",
          "Japan",
          "Jordan",
          "Kazakhstan",
          "Kenya",
          "Korea, South",
          "Kuwait",
          "Kyrgyz Republic",
          "Laos",
          "Latvia",
          "Lebanon",
          "Lesotho",
          "Liberia",
          "Libya",
          "Lithuania",
          "Luxembourg",
          "Macedonia",
          "Madagascar",
          "Malawi",
          "Malaysia",
          "Mali",
          "Malta",
          "Mauritania",
          "Mauritius",
          "Mexico",
          "Moldova",
          "Mongolia",
          "Montenegro",
          "Morocco",
          "Mozambique",
          "Myanmar",
          "Namibia",
          "Nepal",
          "Netherlands",
          "New Zealand",
          "Nicaragua",
          "Niger",
          "Nigeria",
          "Norway",
          "Oman",
          "Pakistan",
          "Panama",
          "Pap. New Guinea",
          "Paraguay",
          "Peru",
          "Philippines",
          "Poland",
          "Portugal",
          "Qatar",
          "Romania",
          "Russia",
          "Rwanda",
          "Saudi Arabia",
          "Senegal",
          "Serbia",
          "Seychelles",
          "Sierra Leone",
          "Singapore",
          "Slovak Rep.",
          "Slovenia",
          "South Africa",
          "Spain",
          "Sri Lanka",
          "Sudan",
          "Suriname",
          "Swaziland",
          "Sweden",
          "Switzerland",
          "Syria",
          "Taiwan",
          "Tajikistan",
          "Tanzania",
          "Thailand",
          "Timor-Leste",
          "Togo",
          "Trinidad and Tobago",
          "Tunisia",
          "Turkey",
          "Uganda",
          "Ukraine",
          "United Arab Emirates",
          "United Kingdom",
          "United States",
          "Uruguay",
          "Venezuela",
          "Vietnam",
          "Yemen, Rep.",
          "Zambia",
          "Zimbabwe",
          "Albania",
          "Algeria",
          "Angola",
          "Argentina",
          "Armenia",
          "Australia",
          "Austria",
          "Azerbaijan",
          "Bahamas",
          "Bahrain",
          "Bangladesh",
          "Barbados",
          "Belarus",
          "Belgium",
          "Belize",
          "Benin",
          "Bhutan",
          "Bolivia",
          "Bosnia and Herzegovina",
          "Botswana",
          "Brazil",
          "Brunei Darussalam",
          "Bulgaria",
          "Burkina Faso",
          "Burundi",
          "Cambodia",
          "Cameroon",
          "Canada",
          "Cape Verde",
          "Central Afr. Rep.",
          "Chad",
          "Chile",
          "China",
          "Colombia",
          "Congo, Dem. R.",
          "Congo, Rep. Of",
          "Costa Rica",
          "Cote d'Ivoire",
          "Croatia",
          "Cyprus",
          "Czech Rep.",
          "Denmark",
          "Dominican Rep.",
          "Ecuador",
          "Egypt",
          "El Salvador",
          "Estonia",
          "Ethiopia",
          "Fiji",
          "Finland",
          "France",
          "Gabon",
          "Gambia, The",
          "Georgia",
          "Germany",
          "Ghana",
          "Greece",
          "Guatemala",
          "Guinea",
          "Guinea-Bissau",
          "Guyana",
          "Haiti",
          "Honduras",
          "Hong Kong",
          "Hungary",
          "Iceland",
          "India",
          "Indonesia",
          "Iran",
          "Iraq",
          "Ireland",
          "Israel",
          "Italy",
          "Jamaica",
          "Japan",
          "Jordan",
          "Kazakhstan",
          "Kenya",
          "Korea, South",
          "Kuwait",
          "Kyrgyz Republic",
          "Laos",
          "Latvia",
          "Lebanon",
          "Lesotho",
          "Liberia",
          "Libya",
          "Lithuania",
          "Luxembourg",
          "Macedonia",
          "Madagascar",
          "Malawi",
          "Malaysia",
          "Mali",
          "Malta",
          "Mauritania",
          "Mauritius",
          "Mexico",
          "Moldova",
          "Mongolia",
          "Montenegro",
          "Morocco",
          "Mozambique",
          "Myanmar",
          "Namibia",
          "Nepal",
          "Netherlands",
          "New Zealand",
          "Nicaragua",
          "Niger",
          "Nigeria",
          "Norway",
          "Oman",
          "Pakistan",
          "Panama",
          "Pap. New Guinea",
          "Paraguay",
          "Peru",
          "Philippines",
          "Poland",
          "Portugal",
          "Qatar",
          "Romania",
          "Russia",
          "Rwanda",
          "Saudi Arabia",
          "Senegal",
          "Serbia",
          "Seychelles",
          "Sierra Leone",
          "Singapore",
          "Slovak Rep.",
          "Slovenia",
          "South Africa",
          "Spain",
          "Sri Lanka",
          "Sudan",
          "Suriname",
          "Swaziland",
          "Sweden",
          "Switzerland",
          "Syria",
          "Taiwan",
          "Tajikistan",
          "Tanzania",
          "Thailand",
          "Timor-Leste",
          "Togo",
          "Trinidad and Tobago",
          "Tunisia",
          "Turkey",
          "Uganda",
          "Ukraine",
          "United Arab Emirates",
          "United Kingdom",
          "United States",
          "Uruguay",
          "Venezuela",
          "Vietnam",
          "Yemen, Rep.",
          "Zambia",
          "Zimbabwe",
          "Albania",
          "Algeria",
          "Angola",
          "Argentina",
          "Armenia",
          "Australia",
          "Austria",
          "Azerbaijan",
          "Bahamas",
          "Bahrain",
          "Bangladesh",
          "Barbados",
          "Belarus",
          "Belgium",
          "Belize",
          "Benin",
          "Bhutan",
          "Bolivia",
          "Bosnia and Herzegovina",
          "Botswana",
          "Brazil",
          "Brunei Darussalam",
          "Bulgaria",
          "Burkina Faso",
          "Burundi",
          "Cambodia",
          "Cameroon",
          "Canada",
          "Cape Verde",
          "Central Afr. Rep.",
          "Chad",
          "Chile",
          "China",
          "Colombia",
          "Congo, Dem. R.",
          "Congo, Rep. Of",
          "Costa Rica",
          "Cote d'Ivoire",
          "Croatia",
          "Cyprus",
          "Czech Rep.",
          "Denmark",
          "Dominican Rep.",
          "Ecuador",
          "Egypt",
          "El Salvador",
          "Estonia",
          "Ethiopia",
          "Fiji",
          "Finland",
          "France",
          "Gabon",
          "Gambia, The",
          "Georgia",
          "Germany",
          "Ghana",
          "Greece",
          "Guatemala",
          "Guinea",
          "Guinea-Bissau",
          "Guyana",
          "Haiti",
          "Honduras",
          "Hong Kong",
          "Hungary",
          "Iceland",
          "India",
          "Indonesia",
          "Iran",
          "Iraq",
          "Ireland",
          "Israel",
          "Italy",
          "Jamaica",
          "Japan",
          "Jordan",
          "Kazakhstan",
          "Kenya",
          "Korea, South",
          "Kuwait",
          "Kyrgyz Republic",
          "Laos",
          "Latvia",
          "Lebanon",
          "Lesotho",
          "Liberia",
          "Libya",
          "Lithuania",
          "Luxembourg",
          "Macedonia",
          "Madagascar",
          "Malawi",
          "Malaysia",
          "Mali",
          "Malta",
          "Mauritania",
          "Mauritius",
          "Mexico",
          "Moldova",
          "Mongolia",
          "Montenegro",
          "Morocco",
          "Mozambique",
          "Myanmar",
          "Namibia",
          "Nepal",
          "Netherlands",
          "New Zealand",
          "Nicaragua",
          "Niger",
          "Nigeria",
          "Norway",
          "Oman",
          "Pakistan",
          "Panama",
          "Pap. New Guinea",
          "Paraguay",
          "Peru",
          "Philippines",
          "Poland",
          "Portugal",
          "Qatar",
          "Romania",
          "Russia",
          "Rwanda",
          "Saudi Arabia",
          "Senegal",
          "Serbia",
          "Seychelles",
          "Sierra Leone",
          "Singapore",
          "Slovak Rep.",
          "Slovenia",
          "South Africa",
          "Spain",
          "Sri Lanka",
          "Sudan",
          "Suriname",
          "Swaziland",
          "Sweden",
          "Switzerland",
          "Syria",
          "Taiwan",
          "Tajikistan",
          "Tanzania",
          "Thailand",
          "Timor-Leste",
          "Togo",
          "Trinidad and Tobago",
          "Tunisia",
          "Turkey",
          "Uganda",
          "Ukraine",
          "United Arab Emirates",
          "United Kingdom",
          "United States",
          "Uruguay",
          "Venezuela",
          "Vietnam",
          "Yemen, Rep.",
          "Zambia",
          "Zimbabwe",
          "Albania",
          "Algeria",
          "Angola",
          "Argentina",
          "Armenia",
          "Australia",
          "Austria",
          "Azerbaijan",
          "Bahamas",
          "Bahrain",
          "Bangladesh",
          "Barbados",
          "Belarus",
          "Belgium",
          "Belize",
          "Benin",
          "Bhutan",
          "Bolivia",
          "Bosnia and Herzegovina",
          "Botswana",
          "Brazil",
          "Brunei Darussalam",
          "Bulgaria",
          "Burkina Faso",
          "Burundi",
          "Cambodia",
          "Cameroon",
          "Canada",
          "Cape Verde",
          "Central Afr. Rep.",
          "Chad",
          "Chile",
          "China",
          "Colombia",
          "Congo, Dem. R.",
          "Congo, Rep. Of",
          "Costa Rica",
          "Cote d'Ivoire",
          "Croatia",
          "Cyprus",
          "Czech Rep.",
          "Denmark",
          "Dominican Rep.",
          "Ecuador",
          "Egypt",
          "El Salvador",
          "Estonia",
          "Ethiopia",
          "Fiji",
          "Finland",
          "France",
          "Gabon",
          "Gambia, The",
          "Georgia",
          "Germany",
          "Ghana",
          "Greece",
          "Guatemala",
          "Guinea",
          "Guinea-Bissau",
          "Guyana",
          "Haiti",
          "Honduras",
          "Hong Kong",
          "Hungary",
          "Iceland",
          "India",
          "Indonesia",
          "Iran",
          "Iraq",
          "Ireland",
          "Israel",
          "Italy",
          "Jamaica",
          "Japan",
          "Jordan",
          "Kazakhstan",
          "Kenya",
          "Korea, South",
          "Kuwait",
          "Kyrgyz Republic",
          "Laos",
          "Latvia",
          "Lebanon",
          "Lesotho",
          "Liberia",
          "Libya",
          "Lithuania",
          "Luxembourg",
          "Macedonia",
          "Madagascar",
          "Malawi",
          "Malaysia",
          "Mali",
          "Malta",
          "Mauritania",
          "Mauritius",
          "Mexico",
          "Moldova",
          "Mongolia",
          "Montenegro",
          "Morocco",
          "Mozambique",
          "Myanmar",
          "Namibia",
          "Nepal",
          "Netherlands",
          "New Zealand",
          "Nicaragua",
          "Niger",
          "Nigeria",
          "Norway",
          "Oman",
          "Pakistan",
          "Panama",
          "Pap. New Guinea",
          "Paraguay",
          "Peru",
          "Philippines",
          "Poland",
          "Portugal",
          "Qatar",
          "Romania",
          "Russia",
          "Rwanda",
          "Saudi Arabia",
          "Senegal",
          "Serbia",
          "Seychelles",
          "Sierra Leone",
          "Singapore",
          "Slovak Rep.",
          "Slovenia",
          "South Africa",
          "Spain",
          "Sri Lanka",
          "Sudan",
          "Suriname",
          "Swaziland",
          "Sweden",
          "Switzerland",
          "Syria",
          "Taiwan",
          "Tajikistan",
          "Tanzania",
          "Thailand",
          "Timor-Leste",
          "Togo",
          "Trinidad and Tobago",
          "Tunisia",
          "Turkey",
          "Uganda",
          "Ukraine",
          "United Arab Emirates",
          "United Kingdom",
          "United States",
          "Uruguay",
          "Venezuela",
          "Vietnam",
          "Yemen, Rep.",
          "Zambia",
          "Zimbabwe",
          "Albania",
          "Algeria",
          "Angola",
          "Argentina",
          "Armenia",
          "Australia",
          "Austria",
          "Azerbaijan",
          "Bahamas",
          "Bahrain",
          "Bangladesh",
          "Barbados",
          "Belarus",
          "Belgium",
          "Belize",
          "Benin",
          "Bhutan",
          "Bolivia",
          "Bosnia and Herzegovina",
          "Botswana",
          "Brazil",
          "Brunei Darussalam",
          "Bulgaria",
          "Burkina Faso",
          "Burundi",
          "Cambodia",
          "Cameroon",
          "Canada",
          "Cape Verde",
          "Central Afr. Rep.",
          "Chad",
          "Chile",
          "China",
          "Colombia",
          "Congo, Dem. R.",
          "Congo, Rep. Of",
          "Costa Rica",
          "Cote d'Ivoire",
          "Croatia",
          "Cyprus",
          "Czech Rep.",
          "Denmark",
          "Dominican Rep.",
          "Ecuador",
          "Egypt",
          "El Salvador",
          "Estonia",
          "Ethiopia",
          "Fiji",
          "Finland",
          "France",
          "Gabon",
          "Gambia, The",
          "Georgia",
          "Germany",
          "Ghana",
          "Greece",
          "Guatemala",
          "Guinea",
          "Guinea-Bissau",
          "Guyana",
          "Haiti",
          "Honduras",
          "Hong Kong",
          "Hungary",
          "Iceland",
          "India",
          "Indonesia",
          "Iran",
          "Iraq",
          "Ireland",
          "Israel",
          "Italy",
          "Jamaica",
          "Japan",
          "Jordan",
          "Kazakhstan",
          "Kenya",
          "Korea, South",
          "Kuwait",
          "Kyrgyz Republic",
          "Laos",
          "Latvia",
          "Lebanon",
          "Lesotho",
          "Liberia",
          "Libya",
          "Lithuania",
          "Luxembourg",
          "Macedonia",
          "Madagascar",
          "Malawi",
          "Malaysia",
          "Mali",
          "Malta",
          "Mauritania",
          "Mauritius",
          "Mexico",
          "Moldova",
          "Mongolia",
          "Montenegro",
          "Morocco",
          "Mozambique",
          "Myanmar",
          "Namibia",
          "Nepal",
          "Netherlands",
          "New Zealand",
          "Nicaragua",
          "Niger",
          "Nigeria",
          "Norway",
          "Oman",
          "Pakistan",
          "Panama",
          "Pap. New Guinea",
          "Paraguay",
          "Peru",
          "Philippines",
          "Poland",
          "Portugal",
          "Qatar",
          "Romania",
          "Russia",
          "Rwanda",
          "Saudi Arabia",
          "Senegal",
          "Serbia",
          "Seychelles",
          "Sierra Leone",
          "Singapore",
          "Slovak Rep.",
          "Slovenia",
          "South Africa",
          "Spain",
          "Sri Lanka",
          "Sudan",
          "Suriname",
          "Swaziland",
          "Sweden",
          "Switzerland",
          "Syria",
          "Taiwan",
          "Tajikistan",
          "Tanzania",
          "Thailand",
          "Timor-Leste",
          "Togo",
          "Trinidad and Tobago",
          "Tunisia",
          "Turkey",
          "Uganda",
          "Ukraine",
          "United Arab Emirates",
          "United Kingdom",
          "United States",
          "Uruguay",
          "Venezuela",
          "Vietnam",
          "Yemen, Rep.",
          "Zambia",
          "Zimbabwe",
          "Albania",
          "Algeria",
          "Angola",
          "Argentina",
          "Armenia",
          "Australia",
          "Austria",
          "Azerbaijan",
          "Bahamas",
          "Bahrain",
          "Bangladesh",
          "Barbados",
          "Belarus",
          "Belgium",
          "Belize",
          "Benin",
          "Bhutan",
          "Bolivia",
          "Bosnia and Herzegovina",
          "Botswana",
          "Brazil",
          "Brunei Darussalam",
          "Bulgaria",
          "Burkina Faso",
          "Burundi",
          "Cambodia",
          "Cameroon",
          "Canada",
          "Cape Verde",
          "Central Afr. Rep.",
          "Chad",
          "Chile",
          "China",
          "Colombia",
          "Congo, Dem. R.",
          "Congo, Rep. Of",
          "Costa Rica",
          "Cote d'Ivoire",
          "Croatia",
          "Cyprus",
          "Czech Rep.",
          "Denmark",
          "Dominican Rep.",
          "Ecuador",
          "Egypt",
          "El Salvador",
          "Estonia",
          "Ethiopia",
          "Fiji",
          "Finland",
          "France",
          "Gabon",
          "Gambia, The",
          "Georgia",
          "Germany",
          "Ghana",
          "Greece",
          "Guatemala",
          "Guinea",
          "Guinea-Bissau",
          "Guyana",
          "Haiti",
          "Honduras",
          "Hong Kong",
          "Hungary",
          "Iceland",
          "India",
          "Indonesia",
          "Iran",
          "Iraq",
          "Ireland",
          "Israel",
          "Italy",
          "Jamaica",
          "Japan",
          "Jordan",
          "Kazakhstan",
          "Kenya",
          "Korea, South",
          "Kuwait",
          "Kyrgyz Republic",
          "Laos",
          "Latvia",
          "Lebanon",
          "Lesotho",
          "Liberia",
          "Libya",
          "Lithuania",
          "Luxembourg",
          "Macedonia",
          "Madagascar",
          "Malawi",
          "Malaysia",
          "Mali",
          "Malta",
          "Mauritania",
          "Mauritius",
          "Mexico",
          "Moldova",
          "Mongolia",
          "Montenegro",
          "Morocco",
          "Mozambique",
          "Myanmar",
          "Namibia",
          "Nepal",
          "Netherlands",
          "New Zealand",
          "Nicaragua",
          "Niger",
          "Nigeria",
          "Norway",
          "Oman",
          "Pakistan",
          "Panama",
          "Pap. New Guinea",
          "Paraguay",
          "Peru",
          "Philippines",
          "Poland",
          "Portugal",
          "Qatar",
          "Romania",
          "Russia",
          "Rwanda",
          "Saudi Arabia",
          "Senegal",
          "Serbia",
          "Seychelles",
          "Sierra Leone",
          "Singapore",
          "Slovak Rep.",
          "Slovenia",
          "South Africa",
          "Spain",
          "Sri Lanka",
          "Sudan",
          "Suriname",
          "Swaziland",
          "Sweden",
          "Switzerland",
          "Syria",
          "Taiwan",
          "Tajikistan",
          "Tanzania",
          "Thailand",
          "Timor-Leste",
          "Togo",
          "Trinidad and Tobago",
          "Tunisia",
          "Turkey",
          "Uganda",
          "Ukraine",
          "United Arab Emirates",
          "United Kingdom",
          "United States",
          "Uruguay",
          "Venezuela",
          "Vietnam",
          "Yemen, Rep.",
          "Zambia",
          "Zimbabwe",
          "Albania",
          "Algeria",
          "Angola",
          "Argentina",
          "Armenia",
          "Australia",
          "Austria",
          "Azerbaijan",
          "Bahamas",
          "Bahrain",
          "Bangladesh",
          "Barbados",
          "Belarus",
          "Belgium",
          "Belize",
          "Benin",
          "Bhutan",
          "Bolivia",
          "Bosnia and Herzegovina",
          "Botswana",
          "Brazil",
          "Brunei Darussalam",
          "Bulgaria",
          "Burkina Faso",
          "Burundi",
          "Cambodia",
          "Cameroon",
          "Canada",
          "Cape Verde",
          "Central Afr. Rep.",
          "Chad",
          "Chile",
          "China",
          "Colombia",
          "Congo, Dem. R.",
          "Congo, Rep. Of",
          "Costa Rica",
          "Cote d'Ivoire",
          "Croatia",
          "Cyprus",
          "Czech Rep.",
          "Denmark",
          "Dominican Rep.",
          "Ecuador",
          "Egypt",
          "El Salvador",
          "Estonia",
          "Ethiopia",
          "Fiji",
          "Finland",
          "France",
          "Gabon",
          "Gambia, The",
          "Georgia",
          "Germany",
          "Ghana",
          "Greece",
          "Guatemala",
          "Guinea",
          "Guinea-Bissau",
          "Guyana",
          "Haiti",
          "Honduras",
          "Hong Kong",
          "Hungary",
          "Iceland",
          "India",
          "Indonesia",
          "Iran",
          "Iraq",
          "Ireland",
          "Israel",
          "Italy",
          "Jamaica",
          "Japan",
          "Jordan",
          "Kazakhstan",
          "Kenya",
          "Korea, South",
          "Kuwait",
          "Kyrgyz Republic",
          "Laos",
          "Latvia",
          "Lebanon",
          "Lesotho",
          "Liberia",
          "Libya",
          "Lithuania",
          "Luxembourg",
          "Macedonia",
          "Madagascar",
          "Malawi",
          "Malaysia",
          "Mali",
          "Malta",
          "Mauritania",
          "Mauritius",
          "Mexico",
          "Moldova",
          "Mongolia",
          "Montenegro",
          "Morocco",
          "Mozambique",
          "Myanmar",
          "Namibia",
          "Nepal",
          "Netherlands",
          "New Zealand",
          "Nicaragua",
          "Niger",
          "Nigeria",
          "Norway",
          "Oman",
          "Pakistan",
          "Panama",
          "Pap. New Guinea",
          "Paraguay",
          "Peru",
          "Philippines",
          "Poland",
          "Portugal",
          "Qatar",
          "Romania",
          "Russia",
          "Rwanda",
          "Saudi Arabia",
          "Senegal",
          "Serbia",
          "Seychelles",
          "Sierra Leone",
          "Singapore",
          "Slovak Rep.",
          "Slovenia",
          "South Africa",
          "Spain",
          "Sri Lanka",
          "Sudan",
          "Suriname",
          "Swaziland",
          "Sweden",
          "Switzerland",
          "Syria",
          "Taiwan",
          "Tajikistan",
          "Tanzania",
          "Thailand",
          "Timor-Leste",
          "Togo",
          "Trinidad and Tobago",
          "Tunisia",
          "Turkey",
          "Uganda",
          "Ukraine",
          "United Arab Emirates",
          "United Kingdom",
          "United States",
          "Uruguay",
          "Venezuela",
          "Vietnam",
          "Yemen, Rep.",
          "Zambia",
          "Zimbabwe",
          "Albania",
          "Algeria",
          "Angola",
          "Argentina",
          "Armenia",
          "Australia",
          "Austria",
          "Azerbaijan",
          "Bahamas",
          "Bahrain",
          "Bangladesh",
          "Barbados",
          "Belarus",
          "Belgium",
          "Belize",
          "Benin",
          "Bhutan",
          "Bolivia",
          "Bosnia and Herzegovina",
          "Botswana",
          "Brazil",
          "Brunei Darussalam",
          "Bulgaria",
          "Burkina Faso",
          "Burundi",
          "Cambodia",
          "Cameroon",
          "Canada",
          "Cape Verde",
          "Central Afr. Rep.",
          "Chad",
          "Chile",
          "China",
          "Colombia",
          "Congo, Dem. R.",
          "Congo, Rep. Of",
          "Costa Rica",
          "Cote d'Ivoire",
          "Croatia",
          "Cyprus",
          "Czech Rep.",
          "Denmark",
          "Dominican Rep.",
          "Ecuador",
          "Egypt",
          "El Salvador",
          "Estonia",
          "Ethiopia",
          "Fiji",
          "Finland",
          "France",
          "Gabon",
          "Gambia, The",
          "Georgia",
          "Germany",
          "Ghana",
          "Greece",
          "Guatemala",
          "Guinea",
          "Guinea-Bissau",
          "Guyana",
          "Haiti",
          "Honduras",
          "Hong Kong",
          "Hungary",
          "Iceland",
          "India",
          "Indonesia",
          "Iran",
          "Iraq",
          "Ireland",
          "Israel",
          "Italy",
          "Jamaica",
          "Japan",
          "Jordan",
          "Kazakhstan",
          "Kenya",
          "Korea, South",
          "Kuwait",
          "Kyrgyz Republic",
          "Laos",
          "Latvia",
          "Lebanon",
          "Lesotho",
          "Liberia",
          "Libya",
          "Lithuania",
          "Luxembourg",
          "Macedonia",
          "Madagascar",
          "Malawi",
          "Malaysia",
          "Mali",
          "Malta",
          "Mauritania",
          "Mauritius",
          "Mexico",
          "Moldova",
          "Mongolia",
          "Montenegro",
          "Morocco",
          "Mozambique",
          "Myanmar",
          "Namibia",
          "Nepal",
          "Netherlands",
          "New Zealand",
          "Nicaragua",
          "Niger",
          "Nigeria",
          "Norway",
          "Oman",
          "Pakistan",
          "Panama",
          "Pap. New Guinea",
          "Paraguay",
          "Peru",
          "Philippines",
          "Poland",
          "Portugal",
          "Qatar",
          "Romania",
          "Russia",
          "Rwanda",
          "Saudi Arabia",
          "Senegal",
          "Serbia",
          "Seychelles",
          "Sierra Leone",
          "Singapore",
          "Slovak Rep.",
          "Slovenia",
          "South Africa",
          "Spain",
          "Sri Lanka",
          "Sudan",
          "Suriname",
          "Swaziland",
          "Sweden",
          "Switzerland",
          "Syria",
          "Taiwan",
          "Tajikistan",
          "Tanzania",
          "Thailand",
          "Timor-Leste",
          "Togo",
          "Trinidad and Tobago",
          "Tunisia",
          "Turkey",
          "Uganda",
          "Ukraine",
          "United Arab Emirates",
          "United Kingdom",
          "United States",
          "Uruguay",
          "Venezuela",
          "Vietnam",
          "Yemen, Rep.",
          "Zambia",
          "Zimbabwe"
         ],
         "reversescale": true,
         "text": [
          "Eastern Europe",
          "Middle East & North Africa",
          "Sub-Saharan Africa",
          "Latin America & the Caribbean",
          "Caucasus & Central Asia",
          "Oceania",
          "Western Europe",
          "Caucasus & Central Asia",
          "Latin America & the Caribbean",
          "Middle East & North Africa",
          "South Asia",
          "Latin America & the Caribbean",
          "Eastern Europe",
          "Western Europe",
          "Latin America & the Caribbean",
          "Sub-Saharan Africa",
          "South Asia",
          "Latin America & the Caribbean",
          "Eastern Europe",
          "Sub-Saharan Africa",
          "Latin America & the Caribbean",
          "South Asia",
          "Eastern Europe",
          "Sub-Saharan Africa",
          "Sub-Saharan Africa",
          "South Asia",
          "Sub-Saharan Africa",
          "North America",
          "Sub-Saharan Africa",
          "Sub-Saharan Africa",
          "Sub-Saharan Africa",
          "Latin America & the Caribbean",
          "East Asia",
          "Latin America & the Caribbean",
          "Sub-Saharan Africa",
          "Sub-Saharan Africa",
          "Latin America & the Caribbean",
          "Sub-Saharan Africa",
          "Eastern Europe",
          "Eastern Europe",
          "Eastern Europe",
          "Western Europe",
          "Latin America & the Caribbean",
          "Latin America & the Caribbean",
          "Middle East & North Africa",
          "Latin America & the Caribbean",
          "Eastern Europe",
          "Sub-Saharan Africa",
          "Oceania",
          "Western Europe",
          "Western Europe",
          "Sub-Saharan Africa",
          "Sub-Saharan Africa",
          "Caucasus & Central Asia",
          "Western Europe",
          "Sub-Saharan Africa",
          "Eastern Europe",
          "Latin America & the Caribbean",
          "Sub-Saharan Africa",
          "Sub-Saharan Africa",
          "Latin America & the Caribbean",
          "Latin America & the Caribbean",
          "Latin America & the Caribbean",
          "East Asia",
          "Eastern Europe",
          "Western Europe",
          "South Asia",
          "South Asia",
          "Middle East & North Africa",
          "Middle East & North Africa",
          "Western Europe",
          "Middle East & North Africa",
          "Western Europe",
          "Latin America & the Caribbean",
          "East Asia",
          "Middle East & North Africa",
          "Caucasus & Central Asia",
          "Sub-Saharan Africa",
          "East Asia",
          "Middle East & North Africa",
          "Caucasus & Central Asia",
          "South Asia",
          "Eastern Europe",
          "Middle East & North Africa",
          "Sub-Saharan Africa",
          "Sub-Saharan Africa",
          "Middle East & North Africa",
          "Eastern Europe",
          "Western Europe",
          "Eastern Europe",
          "Sub-Saharan Africa",
          "Sub-Saharan Africa",
          "South Asia",
          "Sub-Saharan Africa",
          "Western Europe",
          "Sub-Saharan Africa",
          "Sub-Saharan Africa",
          "Latin America & the Caribbean",
          "Eastern Europe",
          "East Asia",
          "Eastern Europe",
          "Middle East & North Africa",
          "Sub-Saharan Africa",
          "South Asia",
          "Sub-Saharan Africa",
          "South Asia",
          "Western Europe",
          "Oceania",
          "Latin America & the Caribbean",
          "Sub-Saharan Africa",
          "Sub-Saharan Africa",
          "Western Europe",
          "Middle East & North Africa",
          "South Asia",
          "Latin America & the Caribbean",
          "Oceania",
          "Latin America & the Caribbean",
          "Latin America & the Caribbean",
          "South Asia",
          "Eastern Europe",
          "Western Europe",
          "Middle East & North Africa",
          "Eastern Europe",
          "Eastern Europe",
          "Sub-Saharan Africa",
          "Middle East & North Africa",
          "Sub-Saharan Africa",
          "Eastern Europe",
          "Sub-Saharan Africa",
          "Sub-Saharan Africa",
          "South Asia",
          "Eastern Europe",
          "Eastern Europe",
          "Sub-Saharan Africa",
          "Western Europe",
          "South Asia",
          "Sub-Saharan Africa",
          "Latin America & the Caribbean",
          "Sub-Saharan Africa",
          "Western Europe",
          "Western Europe",
          "Middle East & North Africa",
          "East Asia",
          "Caucasus & Central Asia",
          "Sub-Saharan Africa",
          "South Asia",
          "South Asia",
          "Sub-Saharan Africa",
          "Latin America & the Caribbean",
          "Middle East & North Africa",
          "Middle East & North Africa",
          "Sub-Saharan Africa",
          "Eastern Europe",
          "Middle East & North Africa",
          "Western Europe",
          "North America",
          "Latin America & the Caribbean",
          "Latin America & the Caribbean",
          "South Asia",
          "Middle East & North Africa",
          "Sub-Saharan Africa",
          "Sub-Saharan Africa",
          "Eastern Europe",
          "Middle East & North Africa",
          "Sub-Saharan Africa",
          "Latin America & the Caribbean",
          "Caucasus & Central Asia",
          "Oceania",
          "Western Europe",
          "Caucasus & Central Asia",
          "Latin America & the Caribbean",
          "Middle East & North Africa",
          "South Asia",
          "Latin America & the Caribbean",
          "Eastern Europe",
          "Western Europe",
          "Latin America & the Caribbean",
          "Sub-Saharan Africa",
          "South Asia",
          "Latin America & the Caribbean",
          "Eastern Europe",
          "Sub-Saharan Africa",
          "Latin America & the Caribbean",
          "South Asia",
          "Eastern Europe",
          "Sub-Saharan Africa",
          "Sub-Saharan Africa",
          "South Asia",
          "Sub-Saharan Africa",
          "North America",
          "Sub-Saharan Africa",
          "Sub-Saharan Africa",
          "Sub-Saharan Africa",
          "Latin America & the Caribbean",
          "East Asia",
          "Latin America & the Caribbean",
          "Sub-Saharan Africa",
          "Sub-Saharan Africa",
          "Latin America & the Caribbean",
          "Sub-Saharan Africa",
          "Eastern Europe",
          "Eastern Europe",
          "Eastern Europe",
          "Western Europe",
          "Latin America & the Caribbean",
          "Latin America & the Caribbean",
          "Middle East & North Africa",
          "Latin America & the Caribbean",
          "Eastern Europe",
          "Sub-Saharan Africa",
          "Oceania",
          "Western Europe",
          "Western Europe",
          "Sub-Saharan Africa",
          "Sub-Saharan Africa",
          "Caucasus & Central Asia",
          "Western Europe",
          "Sub-Saharan Africa",
          "Eastern Europe",
          "Latin America & the Caribbean",
          "Sub-Saharan Africa",
          "Sub-Saharan Africa",
          "Latin America & the Caribbean",
          "Latin America & the Caribbean",
          "Latin America & the Caribbean",
          "East Asia",
          "Eastern Europe",
          "Western Europe",
          "South Asia",
          "South Asia",
          "Middle East & North Africa",
          "Middle East & North Africa",
          "Western Europe",
          "Middle East & North Africa",
          "Western Europe",
          "Latin America & the Caribbean",
          "East Asia",
          "Middle East & North Africa",
          "Caucasus & Central Asia",
          "Sub-Saharan Africa",
          "East Asia",
          "Middle East & North Africa",
          "Caucasus & Central Asia",
          "South Asia",
          "Eastern Europe",
          "Middle East & North Africa",
          "Sub-Saharan Africa",
          "Sub-Saharan Africa",
          "Middle East & North Africa",
          "Eastern Europe",
          "Western Europe",
          "Eastern Europe",
          "Sub-Saharan Africa",
          "Sub-Saharan Africa",
          "South Asia",
          "Sub-Saharan Africa",
          "Western Europe",
          "Sub-Saharan Africa",
          "Sub-Saharan Africa",
          "Latin America & the Caribbean",
          "Eastern Europe",
          "East Asia",
          "Eastern Europe",
          "Middle East & North Africa",
          "Sub-Saharan Africa",
          "South Asia",
          "Sub-Saharan Africa",
          "South Asia",
          "Western Europe",
          "Oceania",
          "Latin America & the Caribbean",
          "Sub-Saharan Africa",
          "Sub-Saharan Africa",
          "Western Europe",
          "Middle East & North Africa",
          "South Asia",
          "Latin America & the Caribbean",
          "Oceania",
          "Latin America & the Caribbean",
          "Latin America & the Caribbean",
          "South Asia",
          "Eastern Europe",
          "Western Europe",
          "Middle East & North Africa",
          "Eastern Europe",
          "Eastern Europe",
          "Sub-Saharan Africa",
          "Middle East & North Africa",
          "Sub-Saharan Africa",
          "Eastern Europe",
          "Sub-Saharan Africa",
          "Sub-Saharan Africa",
          "South Asia",
          "Eastern Europe",
          "Eastern Europe",
          "Sub-Saharan Africa",
          "Western Europe",
          "South Asia",
          "Sub-Saharan Africa",
          "Latin America & the Caribbean",
          "Sub-Saharan Africa",
          "Western Europe",
          "Western Europe",
          "Middle East & North Africa",
          "East Asia",
          "Caucasus & Central Asia",
          "Sub-Saharan Africa",
          "South Asia",
          "South Asia",
          "Sub-Saharan Africa",
          "Latin America & the Caribbean",
          "Middle East & North Africa",
          "Middle East & North Africa",
          "Sub-Saharan Africa",
          "Eastern Europe",
          "Middle East & North Africa",
          "Western Europe",
          "North America",
          "Latin America & the Caribbean",
          "Latin America & the Caribbean",
          "South Asia",
          "Middle East & North Africa",
          "Sub-Saharan Africa",
          "Sub-Saharan Africa",
          "Eastern Europe",
          "Middle East & North Africa",
          "Sub-Saharan Africa",
          "Latin America & the Caribbean",
          "Caucasus & Central Asia",
          "Oceania",
          "Western Europe",
          "Caucasus & Central Asia",
          "Latin America & the Caribbean",
          "Middle East & North Africa",
          "South Asia",
          "Latin America & the Caribbean",
          "Eastern Europe",
          "Western Europe",
          "Latin America & the Caribbean",
          "Sub-Saharan Africa",
          "South Asia",
          "Latin America & the Caribbean",
          "Eastern Europe",
          "Sub-Saharan Africa",
          "Latin America & the Caribbean",
          "South Asia",
          "Eastern Europe",
          "Sub-Saharan Africa",
          "Sub-Saharan Africa",
          "South Asia",
          "Sub-Saharan Africa",
          "North America",
          "Sub-Saharan Africa",
          "Sub-Saharan Africa",
          "Sub-Saharan Africa",
          "Latin America & the Caribbean",
          "East Asia",
          "Latin America & the Caribbean",
          "Sub-Saharan Africa",
          "Sub-Saharan Africa",
          "Latin America & the Caribbean",
          "Sub-Saharan Africa",
          "Eastern Europe",
          "Eastern Europe",
          "Eastern Europe",
          "Western Europe",
          "Latin America & the Caribbean",
          "Latin America & the Caribbean",
          "Middle East & North Africa",
          "Latin America & the Caribbean",
          "Eastern Europe",
          "Sub-Saharan Africa",
          "Oceania",
          "Western Europe",
          "Western Europe",
          "Sub-Saharan Africa",
          "Sub-Saharan Africa",
          "Caucasus & Central Asia",
          "Western Europe",
          "Sub-Saharan Africa",
          "Eastern Europe",
          "Latin America & the Caribbean",
          "Sub-Saharan Africa",
          "Sub-Saharan Africa",
          "Latin America & the Caribbean",
          "Latin America & the Caribbean",
          "Latin America & the Caribbean",
          "East Asia",
          "Eastern Europe",
          "Western Europe",
          "South Asia",
          "South Asia",
          "Middle East & North Africa",
          "Middle East & North Africa",
          "Western Europe",
          "Middle East & North Africa",
          "Western Europe",
          "Latin America & the Caribbean",
          "East Asia",
          "Middle East & North Africa",
          "Caucasus & Central Asia",
          "Sub-Saharan Africa",
          "East Asia",
          "Middle East & North Africa",
          "Caucasus & Central Asia",
          "South Asia",
          "Eastern Europe",
          "Middle East & North Africa",
          "Sub-Saharan Africa",
          "Sub-Saharan Africa",
          "Middle East & North Africa",
          "Eastern Europe",
          "Western Europe",
          "Eastern Europe",
          "Sub-Saharan Africa",
          "Sub-Saharan Africa",
          "South Asia",
          "Sub-Saharan Africa",
          "Western Europe",
          "Sub-Saharan Africa",
          "Sub-Saharan Africa",
          "Latin America & the Caribbean",
          "Eastern Europe",
          "East Asia",
          "Eastern Europe",
          "Middle East & North Africa",
          "Sub-Saharan Africa",
          "South Asia",
          "Sub-Saharan Africa",
          "South Asia",
          "Western Europe",
          "Oceania",
          "Latin America & the Caribbean",
          "Sub-Saharan Africa",
          "Sub-Saharan Africa",
          "Western Europe",
          "Middle East & North Africa",
          "South Asia",
          "Latin America & the Caribbean",
          "Oceania",
          "Latin America & the Caribbean",
          "Latin America & the Caribbean",
          "South Asia",
          "Eastern Europe",
          "Western Europe",
          "Middle East & North Africa",
          "Eastern Europe",
          "Eastern Europe",
          "Sub-Saharan Africa",
          "Middle East & North Africa",
          "Sub-Saharan Africa",
          "Eastern Europe",
          "Sub-Saharan Africa",
          "Sub-Saharan Africa",
          "South Asia",
          "Eastern Europe",
          "Eastern Europe",
          "Sub-Saharan Africa",
          "Western Europe",
          "South Asia",
          "Sub-Saharan Africa",
          "Latin America & the Caribbean",
          "Sub-Saharan Africa",
          "Western Europe",
          "Western Europe",
          "Middle East & North Africa",
          "East Asia",
          "Caucasus & Central Asia",
          "Sub-Saharan Africa",
          "South Asia",
          "South Asia",
          "Sub-Saharan Africa",
          "Latin America & the Caribbean",
          "Middle East & North Africa",
          "Middle East & North Africa",
          "Sub-Saharan Africa",
          "Eastern Europe",
          "Middle East & North Africa",
          "Western Europe",
          "North America",
          "Latin America & the Caribbean",
          "Latin America & the Caribbean",
          "South Asia",
          "Middle East & North Africa",
          "Sub-Saharan Africa",
          "Sub-Saharan Africa",
          "Eastern Europe",
          "Middle East & North Africa",
          "Sub-Saharan Africa",
          "Latin America & the Caribbean",
          "Caucasus & Central Asia",
          "Oceania",
          "Western Europe",
          "Caucasus & Central Asia",
          "Latin America & the Caribbean",
          "Middle East & North Africa",
          "South Asia",
          "Latin America & the Caribbean",
          "Eastern Europe",
          "Western Europe",
          "Latin America & the Caribbean",
          "Sub-Saharan Africa",
          "South Asia",
          "Latin America & the Caribbean",
          "Eastern Europe",
          "Sub-Saharan Africa",
          "Latin America & the Caribbean",
          "South Asia",
          "Eastern Europe",
          "Sub-Saharan Africa",
          "Sub-Saharan Africa",
          "South Asia",
          "Sub-Saharan Africa",
          "North America",
          "Sub-Saharan Africa",
          "Sub-Saharan Africa",
          "Sub-Saharan Africa",
          "Latin America & the Caribbean",
          "East Asia",
          "Latin America & the Caribbean",
          "Sub-Saharan Africa",
          "Sub-Saharan Africa",
          "Latin America & the Caribbean",
          "Sub-Saharan Africa",
          "Eastern Europe",
          "Eastern Europe",
          "Eastern Europe",
          "Western Europe",
          "Latin America & the Caribbean",
          "Latin America & the Caribbean",
          "Middle East & North Africa",
          "Latin America & the Caribbean",
          "Eastern Europe",
          "Sub-Saharan Africa",
          "Oceania",
          "Western Europe",
          "Western Europe",
          "Sub-Saharan Africa",
          "Sub-Saharan Africa",
          "Caucasus & Central Asia",
          "Western Europe",
          "Sub-Saharan Africa",
          "Eastern Europe",
          "Latin America & the Caribbean",
          "Sub-Saharan Africa",
          "Sub-Saharan Africa",
          "Latin America & the Caribbean",
          "Latin America & the Caribbean",
          "Latin America & the Caribbean",
          "East Asia",
          "Eastern Europe",
          "Western Europe",
          "South Asia",
          "South Asia",
          "Middle East & North Africa",
          "Middle East & North Africa",
          "Western Europe",
          "Middle East & North Africa",
          "Western Europe",
          "Latin America & the Caribbean",
          "East Asia",
          "Middle East & North Africa",
          "Caucasus & Central Asia",
          "Sub-Saharan Africa",
          "East Asia",
          "Middle East & North Africa",
          "Caucasus & Central Asia",
          "South Asia",
          "Eastern Europe",
          "Middle East & North Africa",
          "Sub-Saharan Africa",
          "Sub-Saharan Africa",
          "Middle East & North Africa",
          "Eastern Europe",
          "Western Europe",
          "Eastern Europe",
          "Sub-Saharan Africa",
          "Sub-Saharan Africa",
          "South Asia",
          "Sub-Saharan Africa",
          "Western Europe",
          "Sub-Saharan Africa",
          "Sub-Saharan Africa",
          "Latin America & the Caribbean",
          "Eastern Europe",
          "East Asia",
          "Eastern Europe",
          "Middle East & North Africa",
          "Sub-Saharan Africa",
          "South Asia",
          "Sub-Saharan Africa",
          "South Asia",
          "Western Europe",
          "Oceania",
          "Latin America & the Caribbean",
          "Sub-Saharan Africa",
          "Sub-Saharan Africa",
          "Western Europe",
          "Middle East & North Africa",
          "South Asia",
          "Latin America & the Caribbean",
          "Oceania",
          "Latin America & the Caribbean",
          "Latin America & the Caribbean",
          "South Asia",
          "Eastern Europe",
          "Western Europe",
          "Middle East & North Africa",
          "Eastern Europe",
          "Eastern Europe",
          "Sub-Saharan Africa",
          "Middle East & North Africa",
          "Sub-Saharan Africa",
          "Eastern Europe",
          "Sub-Saharan Africa",
          "Sub-Saharan Africa",
          "South Asia",
          "Eastern Europe",
          "Eastern Europe",
          "Sub-Saharan Africa",
          "Western Europe",
          "South Asia",
          "Sub-Saharan Africa",
          "Latin America & the Caribbean",
          "Sub-Saharan Africa",
          "Western Europe",
          "Western Europe",
          "Middle East & North Africa",
          "East Asia",
          "Caucasus & Central Asia",
          "Sub-Saharan Africa",
          "South Asia",
          "South Asia",
          "Sub-Saharan Africa",
          "Latin America & the Caribbean",
          "Middle East & North Africa",
          "Middle East & North Africa",
          "Sub-Saharan Africa",
          "Eastern Europe",
          "Middle East & North Africa",
          "Western Europe",
          "North America",
          "Latin America & the Caribbean",
          "Latin America & the Caribbean",
          "South Asia",
          "Middle East & North Africa",
          "Sub-Saharan Africa",
          "Sub-Saharan Africa",
          "Eastern Europe",
          "Middle East & North Africa",
          "Sub-Saharan Africa",
          "Latin America & the Caribbean",
          "Caucasus & Central Asia",
          "Oceania",
          "Western Europe",
          "Caucasus & Central Asia",
          "Latin America & the Caribbean",
          "Middle East & North Africa",
          "South Asia",
          "Latin America & the Caribbean",
          "Eastern Europe",
          "Western Europe",
          "Latin America & the Caribbean",
          "Sub-Saharan Africa",
          "South Asia",
          "Latin America & the Caribbean",
          "Eastern Europe",
          "Sub-Saharan Africa",
          "Latin America & the Caribbean",
          "South Asia",
          "Eastern Europe",
          "Sub-Saharan Africa",
          "Sub-Saharan Africa",
          "South Asia",
          "Sub-Saharan Africa",
          "North America",
          "Sub-Saharan Africa",
          "Sub-Saharan Africa",
          "Sub-Saharan Africa",
          "Latin America & the Caribbean",
          "East Asia",
          "Latin America & the Caribbean",
          "Sub-Saharan Africa",
          "Sub-Saharan Africa",
          "Latin America & the Caribbean",
          "Sub-Saharan Africa",
          "Eastern Europe",
          "Eastern Europe",
          "Eastern Europe",
          "Western Europe",
          "Latin America & the Caribbean",
          "Latin America & the Caribbean",
          "Middle East & North Africa",
          "Latin America & the Caribbean",
          "Eastern Europe",
          "Sub-Saharan Africa",
          "Oceania",
          "Western Europe",
          "Western Europe",
          "Sub-Saharan Africa",
          "Sub-Saharan Africa",
          "Caucasus & Central Asia",
          "Western Europe",
          "Sub-Saharan Africa",
          "Eastern Europe",
          "Latin America & the Caribbean",
          "Sub-Saharan Africa",
          "Sub-Saharan Africa",
          "Latin America & the Caribbean",
          "Latin America & the Caribbean",
          "Latin America & the Caribbean",
          "East Asia",
          "Eastern Europe",
          "Western Europe",
          "South Asia",
          "South Asia",
          "Middle East & North Africa",
          "Middle East & North Africa",
          "Western Europe",
          "Middle East & North Africa",
          "Western Europe",
          "Latin America & the Caribbean",
          "East Asia",
          "Middle East & North Africa",
          "Caucasus & Central Asia",
          "Sub-Saharan Africa",
          "East Asia",
          "Middle East & North Africa",
          "Caucasus & Central Asia",
          "South Asia",
          "Eastern Europe",
          "Middle East & North Africa",
          "Sub-Saharan Africa",
          "Sub-Saharan Africa",
          "Middle East & North Africa",
          "Eastern Europe",
          "Western Europe",
          "Eastern Europe",
          "Sub-Saharan Africa",
          "Sub-Saharan Africa",
          "South Asia",
          "Sub-Saharan Africa",
          "Western Europe",
          "Sub-Saharan Africa",
          "Sub-Saharan Africa",
          "Latin America & the Caribbean",
          "Eastern Europe",
          "East Asia",
          "Eastern Europe",
          "Middle East & North Africa",
          "Sub-Saharan Africa",
          "South Asia",
          "Sub-Saharan Africa",
          "South Asia",
          "Western Europe",
          "Oceania",
          "Latin America & the Caribbean",
          "Sub-Saharan Africa",
          "Sub-Saharan Africa",
          "Western Europe",
          "Middle East & North Africa",
          "South Asia",
          "Latin America & the Caribbean",
          "Oceania",
          "Latin America & the Caribbean",
          "Latin America & the Caribbean",
          "South Asia",
          "Eastern Europe",
          "Western Europe",
          "Middle East & North Africa",
          "Eastern Europe",
          "Eastern Europe",
          "Sub-Saharan Africa",
          "Middle East & North Africa",
          "Sub-Saharan Africa",
          "Eastern Europe",
          "Sub-Saharan Africa",
          "Sub-Saharan Africa",
          "South Asia",
          "Eastern Europe",
          "Eastern Europe",
          "Sub-Saharan Africa",
          "Western Europe",
          "South Asia",
          "Sub-Saharan Africa",
          "Latin America & the Caribbean",
          "Sub-Saharan Africa",
          "Western Europe",
          "Western Europe",
          "Middle East & North Africa",
          "East Asia",
          "Caucasus & Central Asia",
          "Sub-Saharan Africa",
          "South Asia",
          "South Asia",
          "Sub-Saharan Africa",
          "Latin America & the Caribbean",
          "Middle East & North Africa",
          "Middle East & North Africa",
          "Sub-Saharan Africa",
          "Eastern Europe",
          "Middle East & North Africa",
          "Western Europe",
          "North America",
          "Latin America & the Caribbean",
          "Latin America & the Caribbean",
          "South Asia",
          "Middle East & North Africa",
          "Sub-Saharan Africa",
          "Sub-Saharan Africa",
          "Eastern Europe",
          "Middle East & North Africa",
          "Sub-Saharan Africa",
          "Latin America & the Caribbean",
          "Caucasus & Central Asia",
          "Oceania",
          "Western Europe",
          "Caucasus & Central Asia",
          "Latin America & the Caribbean",
          "Middle East & North Africa",
          "South Asia",
          "Latin America & the Caribbean",
          "Eastern Europe",
          "Western Europe",
          "Latin America & the Caribbean",
          "Sub-Saharan Africa",
          "South Asia",
          "Latin America & the Caribbean",
          "Eastern Europe",
          "Sub-Saharan Africa",
          "Latin America & the Caribbean",
          "South Asia",
          "Eastern Europe",
          "Sub-Saharan Africa",
          "Sub-Saharan Africa",
          "South Asia",
          "Sub-Saharan Africa",
          "North America",
          "Sub-Saharan Africa",
          "Sub-Saharan Africa",
          "Sub-Saharan Africa",
          "Latin America & the Caribbean",
          "East Asia",
          "Latin America & the Caribbean",
          "Sub-Saharan Africa",
          "Sub-Saharan Africa",
          "Latin America & the Caribbean",
          "Sub-Saharan Africa",
          "Eastern Europe",
          "Eastern Europe",
          "Eastern Europe",
          "Western Europe",
          "Latin America & the Caribbean",
          "Latin America & the Caribbean",
          "Middle East & North Africa",
          "Latin America & the Caribbean",
          "Eastern Europe",
          "Sub-Saharan Africa",
          "Oceania",
          "Western Europe",
          "Western Europe",
          "Sub-Saharan Africa",
          "Sub-Saharan Africa",
          "Caucasus & Central Asia",
          "Western Europe",
          "Sub-Saharan Africa",
          "Eastern Europe",
          "Latin America & the Caribbean",
          "Sub-Saharan Africa",
          "Sub-Saharan Africa",
          "Latin America & the Caribbean",
          "Latin America & the Caribbean",
          "Latin America & the Caribbean",
          "East Asia",
          "Eastern Europe",
          "Western Europe",
          "South Asia",
          "South Asia",
          "Middle East & North Africa",
          "Middle East & North Africa",
          "Western Europe",
          "Middle East & North Africa",
          "Western Europe",
          "Latin America & the Caribbean",
          "East Asia",
          "Middle East & North Africa",
          "Caucasus & Central Asia",
          "Sub-Saharan Africa",
          "East Asia",
          "Middle East & North Africa",
          "Caucasus & Central Asia",
          "South Asia",
          "Eastern Europe",
          "Middle East & North Africa",
          "Sub-Saharan Africa",
          "Sub-Saharan Africa",
          "Middle East & North Africa",
          "Eastern Europe",
          "Western Europe",
          "Eastern Europe",
          "Sub-Saharan Africa",
          "Sub-Saharan Africa",
          "South Asia",
          "Sub-Saharan Africa",
          "Western Europe",
          "Sub-Saharan Africa",
          "Sub-Saharan Africa",
          "Latin America & the Caribbean",
          "Eastern Europe",
          "East Asia",
          "Eastern Europe",
          "Middle East & North Africa",
          "Sub-Saharan Africa",
          "South Asia",
          "Sub-Saharan Africa",
          "South Asia",
          "Western Europe",
          "Oceania",
          "Latin America & the Caribbean",
          "Sub-Saharan Africa",
          "Sub-Saharan Africa",
          "Western Europe",
          "Middle East & North Africa",
          "South Asia",
          "Latin America & the Caribbean",
          "Oceania",
          "Latin America & the Caribbean",
          "Latin America & the Caribbean",
          "South Asia",
          "Eastern Europe",
          "Western Europe",
          "Middle East & North Africa",
          "Eastern Europe",
          "Eastern Europe",
          "Sub-Saharan Africa",
          "Middle East & North Africa",
          "Sub-Saharan Africa",
          "Eastern Europe",
          "Sub-Saharan Africa",
          "Sub-Saharan Africa",
          "South Asia",
          "Eastern Europe",
          "Eastern Europe",
          "Sub-Saharan Africa",
          "Western Europe",
          "South Asia",
          "Sub-Saharan Africa",
          "Latin America & the Caribbean",
          "Sub-Saharan Africa",
          "Western Europe",
          "Western Europe",
          "Middle East & North Africa",
          "East Asia",
          "Caucasus & Central Asia",
          "Sub-Saharan Africa",
          "South Asia",
          "South Asia",
          "Sub-Saharan Africa",
          "Latin America & the Caribbean",
          "Middle East & North Africa",
          "Middle East & North Africa",
          "Sub-Saharan Africa",
          "Eastern Europe",
          "Middle East & North Africa",
          "Western Europe",
          "North America",
          "Latin America & the Caribbean",
          "Latin America & the Caribbean",
          "South Asia",
          "Middle East & North Africa",
          "Sub-Saharan Africa",
          "Sub-Saharan Africa",
          "Eastern Europe",
          "Middle East & North Africa",
          "Sub-Saharan Africa",
          "Latin America & the Caribbean",
          "Caucasus & Central Asia",
          "Oceania",
          "Western Europe",
          "Caucasus & Central Asia",
          "Latin America & the Caribbean",
          "Middle East & North Africa",
          "South Asia",
          "Latin America & the Caribbean",
          "Eastern Europe",
          "Western Europe",
          "Latin America & the Caribbean",
          "Sub-Saharan Africa",
          "South Asia",
          "Latin America & the Caribbean",
          "Eastern Europe",
          "Sub-Saharan Africa",
          "Latin America & the Caribbean",
          "South Asia",
          "Eastern Europe",
          "Sub-Saharan Africa",
          "Sub-Saharan Africa",
          "South Asia",
          "Sub-Saharan Africa",
          "North America",
          "Sub-Saharan Africa",
          "Sub-Saharan Africa",
          "Sub-Saharan Africa",
          "Latin America & the Caribbean",
          "East Asia",
          "Latin America & the Caribbean",
          "Sub-Saharan Africa",
          "Sub-Saharan Africa",
          "Latin America & the Caribbean",
          "Sub-Saharan Africa",
          "Eastern Europe",
          "Eastern Europe",
          "Eastern Europe",
          "Western Europe",
          "Latin America & the Caribbean",
          "Latin America & the Caribbean",
          "Middle East & North Africa",
          "Latin America & the Caribbean",
          "Eastern Europe",
          "Sub-Saharan Africa",
          "Oceania",
          "Western Europe",
          "Western Europe",
          "Sub-Saharan Africa",
          "Sub-Saharan Africa",
          "Caucasus & Central Asia",
          "Western Europe",
          "Sub-Saharan Africa",
          "Eastern Europe",
          "Latin America & the Caribbean",
          "Sub-Saharan Africa",
          "Sub-Saharan Africa",
          "Latin America & the Caribbean",
          "Latin America & the Caribbean",
          "Latin America & the Caribbean",
          "East Asia",
          "Eastern Europe",
          "Western Europe",
          "South Asia",
          "South Asia",
          "Middle East & North Africa",
          "Middle East & North Africa",
          "Western Europe",
          "Middle East & North Africa",
          "Western Europe",
          "Latin America & the Caribbean",
          "East Asia",
          "Middle East & North Africa",
          "Caucasus & Central Asia",
          "Sub-Saharan Africa",
          "East Asia",
          "Middle East & North Africa",
          "Caucasus & Central Asia",
          "South Asia",
          "Eastern Europe",
          "Middle East & North Africa",
          "Sub-Saharan Africa",
          "Sub-Saharan Africa",
          "Middle East & North Africa",
          "Eastern Europe",
          "Western Europe",
          "Eastern Europe",
          "Sub-Saharan Africa",
          "Sub-Saharan Africa",
          "South Asia",
          "Sub-Saharan Africa",
          "Western Europe",
          "Sub-Saharan Africa",
          "Sub-Saharan Africa",
          "Latin America & the Caribbean",
          "Eastern Europe",
          "East Asia",
          "Eastern Europe",
          "Middle East & North Africa",
          "Sub-Saharan Africa",
          "South Asia",
          "Sub-Saharan Africa",
          "South Asia",
          "Western Europe",
          "Oceania",
          "Latin America & the Caribbean",
          "Sub-Saharan Africa",
          "Sub-Saharan Africa",
          "Western Europe",
          "Middle East & North Africa",
          "South Asia",
          "Latin America & the Caribbean",
          "Oceania",
          "Latin America & the Caribbean",
          "Latin America & the Caribbean",
          "South Asia",
          "Eastern Europe",
          "Western Europe",
          "Middle East & North Africa",
          "Eastern Europe",
          "Eastern Europe",
          "Sub-Saharan Africa",
          "Middle East & North Africa",
          "Sub-Saharan Africa",
          "Eastern Europe",
          "Sub-Saharan Africa",
          "Sub-Saharan Africa",
          "South Asia",
          "Eastern Europe",
          "Eastern Europe",
          "Sub-Saharan Africa",
          "Western Europe",
          "South Asia",
          "Sub-Saharan Africa",
          "Latin America & the Caribbean",
          "Sub-Saharan Africa",
          "Western Europe",
          "Western Europe",
          "Middle East & North Africa",
          "East Asia",
          "Caucasus & Central Asia",
          "Sub-Saharan Africa",
          "South Asia",
          "South Asia",
          "Sub-Saharan Africa",
          "Latin America & the Caribbean",
          "Middle East & North Africa",
          "Middle East & North Africa",
          "Sub-Saharan Africa",
          "Eastern Europe",
          "Middle East & North Africa",
          "Western Europe",
          "North America",
          "Latin America & the Caribbean",
          "Latin America & the Caribbean",
          "South Asia",
          "Middle East & North Africa",
          "Sub-Saharan Africa",
          "Sub-Saharan Africa",
          "Eastern Europe",
          "Middle East & North Africa",
          "Sub-Saharan Africa",
          "Latin America & the Caribbean",
          "Caucasus & Central Asia",
          "Oceania",
          "Western Europe",
          "Caucasus & Central Asia",
          "Latin America & the Caribbean",
          "Middle East & North Africa",
          "South Asia",
          "Latin America & the Caribbean",
          "Eastern Europe",
          "Western Europe",
          "Latin America & the Caribbean",
          "Sub-Saharan Africa",
          "South Asia",
          "Latin America & the Caribbean",
          "Eastern Europe",
          "Sub-Saharan Africa",
          "Latin America & the Caribbean",
          "South Asia",
          "Eastern Europe",
          "Sub-Saharan Africa",
          "Sub-Saharan Africa",
          "South Asia",
          "Sub-Saharan Africa",
          "North America",
          "Sub-Saharan Africa",
          "Sub-Saharan Africa",
          "Sub-Saharan Africa",
          "Latin America & the Caribbean",
          "East Asia",
          "Latin America & the Caribbean",
          "Sub-Saharan Africa",
          "Sub-Saharan Africa",
          "Latin America & the Caribbean",
          "Sub-Saharan Africa",
          "Eastern Europe",
          "Eastern Europe",
          "Eastern Europe",
          "Western Europe",
          "Latin America & the Caribbean",
          "Latin America & the Caribbean",
          "Middle East & North Africa",
          "Latin America & the Caribbean",
          "Eastern Europe",
          "Sub-Saharan Africa",
          "Oceania",
          "Western Europe",
          "Western Europe",
          "Sub-Saharan Africa",
          "Sub-Saharan Africa",
          "Caucasus & Central Asia",
          "Western Europe",
          "Sub-Saharan Africa",
          "Eastern Europe",
          "Latin America & the Caribbean",
          "Sub-Saharan Africa",
          "Sub-Saharan Africa",
          "Latin America & the Caribbean",
          "Latin America & the Caribbean",
          "Latin America & the Caribbean",
          "East Asia",
          "Eastern Europe",
          "Western Europe",
          "South Asia",
          "South Asia",
          "Middle East & North Africa",
          "Middle East & North Africa",
          "Western Europe",
          "Middle East & North Africa",
          "Western Europe",
          "Latin America & the Caribbean",
          "East Asia",
          "Middle East & North Africa",
          "Caucasus & Central Asia",
          "Sub-Saharan Africa",
          "East Asia",
          "Middle East & North Africa",
          "Caucasus & Central Asia",
          "South Asia",
          "Eastern Europe",
          "Middle East & North Africa",
          "Sub-Saharan Africa",
          "Sub-Saharan Africa",
          "Middle East & North Africa",
          "Eastern Europe",
          "Western Europe",
          "Eastern Europe",
          "Sub-Saharan Africa",
          "Sub-Saharan Africa",
          "South Asia",
          "Sub-Saharan Africa",
          "Western Europe",
          "Sub-Saharan Africa",
          "Sub-Saharan Africa",
          "Latin America & the Caribbean",
          "Eastern Europe",
          "East Asia",
          "Eastern Europe",
          "Middle East & North Africa",
          "Sub-Saharan Africa",
          "South Asia",
          "Sub-Saharan Africa",
          "South Asia",
          "Western Europe",
          "Oceania",
          "Latin America & the Caribbean",
          "Sub-Saharan Africa",
          "Sub-Saharan Africa",
          "Western Europe",
          "Middle East & North Africa",
          "South Asia",
          "Latin America & the Caribbean",
          "Oceania",
          "Latin America & the Caribbean",
          "Latin America & the Caribbean",
          "South Asia",
          "Eastern Europe",
          "Western Europe",
          "Middle East & North Africa",
          "Eastern Europe",
          "Eastern Europe",
          "Sub-Saharan Africa",
          "Middle East & North Africa",
          "Sub-Saharan Africa",
          "Eastern Europe",
          "Sub-Saharan Africa",
          "Sub-Saharan Africa",
          "South Asia",
          "Eastern Europe",
          "Eastern Europe",
          "Sub-Saharan Africa",
          "Western Europe",
          "South Asia",
          "Sub-Saharan Africa",
          "Latin America & the Caribbean",
          "Sub-Saharan Africa",
          "Western Europe",
          "Western Europe",
          "Middle East & North Africa",
          "East Asia",
          "Caucasus & Central Asia",
          "Sub-Saharan Africa",
          "South Asia",
          "South Asia",
          "Sub-Saharan Africa",
          "Latin America & the Caribbean",
          "Middle East & North Africa",
          "Middle East & North Africa",
          "Sub-Saharan Africa",
          "Eastern Europe",
          "Middle East & North Africa",
          "Western Europe",
          "North America",
          "Latin America & the Caribbean",
          "Latin America & the Caribbean",
          "South Asia",
          "Middle East & North Africa",
          "Sub-Saharan Africa",
          "Sub-Saharan Africa",
          "Eastern Europe",
          "Middle East & North Africa",
          "Sub-Saharan Africa",
          "Latin America & the Caribbean",
          "Caucasus & Central Asia",
          "Oceania",
          "Western Europe",
          "Caucasus & Central Asia",
          "Latin America & the Caribbean",
          "Middle East & North Africa",
          "South Asia",
          "Latin America & the Caribbean",
          "Eastern Europe",
          "Western Europe",
          "Latin America & the Caribbean",
          "Sub-Saharan Africa",
          "South Asia",
          "Latin America & the Caribbean",
          "Eastern Europe",
          "Sub-Saharan Africa",
          "Latin America & the Caribbean",
          "South Asia",
          "Eastern Europe",
          "Sub-Saharan Africa",
          "Sub-Saharan Africa",
          "South Asia",
          "Sub-Saharan Africa",
          "North America",
          "Sub-Saharan Africa",
          "Sub-Saharan Africa",
          "Sub-Saharan Africa",
          "Latin America & the Caribbean",
          "East Asia",
          "Latin America & the Caribbean",
          "Sub-Saharan Africa",
          "Sub-Saharan Africa",
          "Latin America & the Caribbean",
          "Sub-Saharan Africa",
          "Eastern Europe",
          "Eastern Europe",
          "Eastern Europe",
          "Western Europe",
          "Latin America & the Caribbean",
          "Latin America & the Caribbean",
          "Middle East & North Africa",
          "Latin America & the Caribbean",
          "Eastern Europe",
          "Sub-Saharan Africa",
          "Oceania",
          "Western Europe",
          "Western Europe",
          "Sub-Saharan Africa",
          "Sub-Saharan Africa",
          "Caucasus & Central Asia",
          "Western Europe",
          "Sub-Saharan Africa",
          "Eastern Europe",
          "Latin America & the Caribbean",
          "Sub-Saharan Africa",
          "Sub-Saharan Africa",
          "Latin America & the Caribbean",
          "Latin America & the Caribbean",
          "Latin America & the Caribbean",
          "East Asia",
          "Eastern Europe",
          "Western Europe",
          "South Asia",
          "South Asia",
          "Middle East & North Africa",
          "Middle East & North Africa",
          "Western Europe",
          "Middle East & North Africa",
          "Western Europe",
          "Latin America & the Caribbean",
          "East Asia",
          "Middle East & North Africa",
          "Caucasus & Central Asia",
          "Sub-Saharan Africa",
          "East Asia",
          "Middle East & North Africa",
          "Caucasus & Central Asia",
          "South Asia",
          "Eastern Europe",
          "Middle East & North Africa",
          "Sub-Saharan Africa",
          "Sub-Saharan Africa",
          "Middle East & North Africa",
          "Eastern Europe",
          "Western Europe",
          "Eastern Europe",
          "Sub-Saharan Africa",
          "Sub-Saharan Africa",
          "South Asia",
          "Sub-Saharan Africa",
          "Western Europe",
          "Sub-Saharan Africa",
          "Sub-Saharan Africa",
          "Latin America & the Caribbean",
          "Eastern Europe",
          "East Asia",
          "Eastern Europe",
          "Middle East & North Africa",
          "Sub-Saharan Africa",
          "South Asia",
          "Sub-Saharan Africa",
          "South Asia",
          "Western Europe",
          "Oceania",
          "Latin America & the Caribbean",
          "Sub-Saharan Africa",
          "Sub-Saharan Africa",
          "Western Europe",
          "Middle East & North Africa",
          "South Asia",
          "Latin America & the Caribbean",
          "Oceania",
          "Latin America & the Caribbean",
          "Latin America & the Caribbean",
          "South Asia",
          "Eastern Europe",
          "Western Europe",
          "Middle East & North Africa",
          "Eastern Europe",
          "Eastern Europe",
          "Sub-Saharan Africa",
          "Middle East & North Africa",
          "Sub-Saharan Africa",
          "Eastern Europe",
          "Sub-Saharan Africa",
          "Sub-Saharan Africa",
          "South Asia",
          "Eastern Europe",
          "Eastern Europe",
          "Sub-Saharan Africa",
          "Western Europe",
          "South Asia",
          "Sub-Saharan Africa",
          "Latin America & the Caribbean",
          "Sub-Saharan Africa",
          "Western Europe",
          "Western Europe",
          "Middle East & North Africa",
          "East Asia",
          "Caucasus & Central Asia",
          "Sub-Saharan Africa",
          "South Asia",
          "South Asia",
          "Sub-Saharan Africa",
          "Latin America & the Caribbean",
          "Middle East & North Africa",
          "Middle East & North Africa",
          "Sub-Saharan Africa",
          "Eastern Europe",
          "Middle East & North Africa",
          "Western Europe",
          "North America",
          "Latin America & the Caribbean",
          "Latin America & the Caribbean",
          "South Asia",
          "Middle East & North Africa",
          "Sub-Saharan Africa",
          "Sub-Saharan Africa"
         ],
         "type": "choropleth",
         "z": [
          7.5681402879999995,
          5.135886055,
          5.640662182000001,
          6.469847841,
          7.241401801,
          8.582219227000001,
          8.4134742,
          6.0832767389999995,
          7.3972689229999995,
          6.848034997,
          5.801300179,
          7.0684472320000005,
          6.144514082000001,
          8.153589293,
          7.145431918,
          6.738488147000001,
          6.810486407000001,
          6.718385007,
          7.2307235720000005,
          7.153167226,
          6.207988703,
          5.796849859,
          7.782769537999999,
          6.752669835,
          5.167067213,
          7.204224142999999,
          5.575387155,
          8.565863321,
          7.333291533,
          5.287816197,
          5.474770535,
          8.00801767,
          5.905410169,
          6.760756637,
          5.308628393,
          5.898933847,
          7.857714484,
          6.531271024,
          7.7080878760000004,
          8.112196958,
          8.294880707,
          8.547819985,
          7.061287481,
          6.80527768,
          4.807276886,
          7.033950991,
          8.436850609,
          5.397044971000001,
          7.291102197000001,
          8.472183957999999,
          8.008401464,
          5.577787611000001,
          6.321342351,
          7.798267752999999,
          8.462595689,
          7.236088907999999,
          7.203384075,
          7.094122991,
          5.650600803,
          6.054860862000001,
          6.675897936,
          6.847221294,
          6.723241298,
          8.776839796,
          7.739472887000001,
          8.151753108,
          6.412935667999999,
          6.77065623,
          5.281224623,
          4.25801381,
          8.504564702,
          7.517458071,
          7.9802231589999995,
          7.224208046,
          8.101885275,
          6.849333258,
          6.742837772000001,
          6.822768345,
          8.148174929,
          6.190287237000001,
          6.588506477,
          6.386793085,
          8.245534042000001,
          6.70999709,
          6.53422198,
          6.481700872,
          4.310282812,
          8.340669463,
          8.428700911,
          7.271829012,
          6.512561755,
          6.652606805,
          6.4114899770000005,
          5.930464736,
          8.353998731,
          5.473874887999999,
          7.863732816000001,
          6.848010198,
          6.849514762,
          7.699156277,
          7.335052066,
          6.178378256,
          6.0796033220000005,
          5.441680433999999,
          6.897457751,
          6.720805695,
          8.55442118,
          8.887409579,
          6.851247363,
          5.862260048,
          6.071808602999999,
          8.471240566,
          6.134527607000001,
          5.662296223999999,
          7.647620037,
          6.752474407999999,
          6.962299094,
          7.575393347,
          6.9187633470000005,
          7.811560227,
          8.276856122,
          6.507776487999999,
          8.171616249,
          6.272190833,
          6.9738695260000005,
          5.479366035,
          6.497093885,
          7.348971626,
          7.301262167999999,
          6.397329576000001,
          8.159711817,
          7.918249946,
          7.9363957329999995,
          7.172571807000001,
          8.159106882,
          6.265360917000001,
          4.803023585,
          7.074281523,
          6.240164329,
          8.387375149,
          8.78775905,
          3.765826877,
          8.465697018,
          6.18616229,
          6.523209346,
          6.6247813010000005,
          6.368224812999999,
          6.274969005,
          6.825223193999999,
          6.433736122000001,
          6.466232654,
          6.769444547000001,
          6.283135204,
          6.286675088,
          8.497917936,
          8.388655108,
          7.728070903,
          4.2007244560000006,
          6.1940038,
          4.25327767,
          6.308849427999999,
          5.6153627870000005,
          7.558539004,
          5.082654926,
          5.78647914,
          6.502547776,
          7.23088653,
          8.607372636000001,
          8.509897141,
          5.966188537000001,
          7.426491282000001,
          6.744450937000001,
          5.811104428999999,
          7.160925615,
          null,
          8.307856586,
          6.952292025,
          6.6808567,
          6.886395462,
          6.700965914,
          7.3166333560000005,
          7.070066166,
          6.227149845,
          5.689558005,
          7.819202739,
          6.698857887999999,
          5.055532591,
          7.257274211,
          5.458969807000001,
          8.520056022,
          7.515902979,
          5.124578036,
          5.432498247000001,
          8.027501015,
          5.882349969,
          6.727887227,
          5.29980609,
          5.836478102999999,
          7.882654156,
          6.441134794,
          7.780960107,
          8.179577076000001,
          8.264353336000001,
          8.543022951000001,
          7.131683786,
          6.771338651000001,
          4.811136075,
          7.12998588,
          8.446540136,
          5.35315865,
          7.260645345,
          8.55893467,
          8.004390532999999,
          5.549342511,
          6.340070895,
          7.878481138,
          8.480457213,
          7.115640407000001,
          7.260917299,
          7.110302442999999,
          5.650030837999999,
          6.205557796,
          6.73478346,
          6.875493497000001,
          6.8738146129999995,
          8.857580854,
          7.816496842,
          8.199763632,
          6.407364322,
          6.714059835,
          4.946036881,
          null,
          8.645524808,
          7.646338717000001,
          8.013608012,
          7.243405882,
          8.083185043,
          6.881636772999999,
          6.84099752,
          6.7166945579999995,
          8.173463506000001,
          6.022684272999999,
          6.51096085,
          6.443006919,
          8.268126902,
          6.563954002999999,
          6.585665574,
          6.620194605,
          4.432118027,
          8.349684134,
          8.484667047,
          7.315449485,
          6.597624796,
          6.608428575,
          6.560067272,
          5.895994521,
          8.380703637,
          5.370912595,
          7.900516457,
          6.896256348,
          6.835593974,
          7.70943627,
          7.361486265,
          6.170122642000001,
          6.204761382,
          5.451370803,
          6.970734632999999,
          6.725541224,
          8.548259045,
          8.876890041000001,
          6.81612606,
          5.672234987,
          6.010441361,
          8.519495857999999,
          6.116406195,
          5.612343569,
          7.638484471,
          6.682072282000001,
          6.954961063,
          7.615036554,
          7.052764482000001,
          7.990384338999999,
          8.295667819,
          6.512465295,
          8.207011317000001,
          6.168259454,
          7.055828428,
          5.322203778,
          6.496133675,
          7.370479819,
          7.538074064,
          6.478120071,
          8.226765387999999,
          7.922490231,
          8.017880322,
          7.256591899,
          8.175966435,
          6.333774971,
          null,
          7.30020369,
          6.284964555,
          8.484574296,
          8.814458177999999,
          3.9108264289999997,
          8.40662716,
          6.206025992000001,
          6.555737389,
          6.626618128,
          6.10535483,
          6.195466842,
          6.75996737,
          6.46563917,
          6.656816926,
          6.709794702000001,
          5.844351567,
          6.275227501,
          8.528703805,
          8.378784993,
          7.770346829,
          4.24174988,
          6.157491413,
          4.203442179,
          6.434490094,
          5.582639607999999,
          7.61508284,
          5.194328288,
          5.618964119,
          6.207145102999999,
          7.307985965,
          8.672342139,
          8.530127871,
          6.11168378,
          7.371080415,
          6.674289283999999,
          5.897130036,
          7.255031757,
          null,
          8.345543595,
          6.941909202000001,
          6.751381491,
          6.85646176,
          6.77605832,
          7.411478407000001,
          7.021225842000001,
          6.444999694,
          5.784087244,
          7.848782998,
          6.66712846,
          5.304037402,
          7.242739211,
          5.721978614,
          8.719552703,
          7.283377261,
          5.306738505,
          5.482045514,
          8.017589148999999,
          5.949879602999999,
          6.763731861,
          5.028850291,
          5.727710136000001,
          8.058857435,
          6.485539052999999,
          7.739444767,
          8.015890575,
          8.239657227999999,
          8.607840268,
          7.27586445,
          6.523791123,
          5.040691235,
          7.420582400000001,
          8.395252649,
          5.319690856,
          7.053694403,
          8.638352543,
          8.147373177,
          5.3996183570000005,
          6.563964887000001,
          7.895940922,
          8.486199533999999,
          7.14044982,
          7.47658543,
          7.302367372000001,
          5.494057416,
          6.00377922,
          6.577630376,
          7.02700541,
          6.906581763999999,
          8.892455501,
          7.96364927,
          8.238316864,
          6.254944233,
          6.709357777,
          4.560685665,
          null,
          8.457800101,
          7.455517242999999,
          7.976814912999999,
          7.24449911,
          8.145721961,
          6.919080803,
          6.849998708999999,
          6.655763326000001,
          8.202720433,
          6.262156082000001,
          6.607284132,
          6.445993988,
          8.260536935,
          6.577702609,
          6.516615262,
          6.818557168,
          4.51324798,
          8.319542986,
          8.571140483999999,
          7.1923647410000004,
          6.830610569,
          6.674206119,
          6.469500551,
          5.831699826,
          8.335626768,
          5.404587557,
          7.9321328289999995,
          6.921105000000001,
          6.88807564,
          7.708622609,
          7.635718097000001,
          6.183304314,
          6.229745352999999,
          5.578475572,
          7.004266114,
          6.768275227999999,
          8.475679069,
          8.921385823,
          6.9745781220000005,
          5.834480682000001,
          6.051684031000001,
          8.573281905,
          6.377978741000001,
          5.46788881,
          7.583917533999999,
          6.615681342999999,
          7.02518439,
          7.547979889,
          7.00402038,
          8.131661511,
          8.314716719,
          6.682397717000001,
          8.321219197000001,
          6.281298471,
          6.9547868,
          5.636533188,
          6.519865874,
          7.385024168999999,
          7.055370214,
          6.643678445,
          8.214531099,
          8.048419978,
          7.973033439,
          7.184779207999999,
          8.197268999,
          6.167201332,
          null,
          7.021839041000001,
          6.212136665,
          8.436783012000001,
          8.806932103,
          4.023595192,
          8.272642583,
          6.324275342000001,
          6.5599655089999995,
          6.593850657999999,
          6.497712223,
          6.230779139,
          6.903894719,
          6.572693667,
          6.7561508660000005,
          6.734945809,
          6.0351988389999995,
          6.41928645,
          8.532902597,
          8.330284961,
          7.736980347,
          4.573730018,
          6.17034097,
          4.629534556,
          6.331481934,
          5.467682725,
          7.389596629,
          5.093420924,
          5.994838944,
          6.570844416,
          7.396940279,
          8.543665621,
          8.475109458,
          6.086469972000001,
          7.373848881,
          6.536132686,
          5.831063894,
          7.29088558,
          null,
          8.205533362,
          7.085206605,
          6.907810101,
          6.8745455579999994,
          7.023938468,
          7.311344346,
          6.893040234,
          6.727380646,
          6.3454451689999996,
          7.838760096000001,
          6.83022773,
          6.1588563579999995,
          7.181448812,
          6.086251752999999,
          8.627752135,
          7.31329429,
          5.300176733,
          5.275264041000001,
          7.994037872000001,
          6.0637811070000005,
          6.570410506,
          4.907996375,
          5.664823086,
          7.856514418,
          6.290210514,
          7.690944065,
          7.852294126,
          8.237574489,
          8.599675186,
          7.175953534,
          6.753069585,
          5.354584979,
          7.203558201,
          8.335505592999999,
          5.693807144,
          6.862124216000001,
          8.578115342,
          7.999735458,
          5.80457318,
          6.6249189379999995,
          7.814162819,
          8.440461275,
          7.234067672,
          7.486946427,
          7.138615991,
          5.766187467999999,
          5.627785512999999,
          6.836647963,
          6.7392392789999995,
          6.5426879410000005,
          8.971814737999999,
          7.9489019679999995,
          8.134551314,
          6.662614272999999,
          6.970870708,
          4.563808631000001,
          null,
          8.527786174,
          7.642391212000001,
          7.975039793,
          7.233387566,
          8.196299861,
          6.885037564,
          6.739074194,
          6.734823136,
          8.013032637,
          6.513792261,
          6.452561362000001,
          null,
          8.216455527,
          6.517672236,
          6.3781675689999995,
          null,
          4.887964895,
          8.196107569,
          8.399014538,
          7.566805756,
          6.834334346,
          6.716589367,
          6.602414736,
          5.96247423,
          8.295163383,
          5.474042001,
          8.231684245,
          6.780395532000001,
          7.001998445,
          7.637595222000001,
          7.565899596,
          6.3069086510000005,
          6.413641332999999,
          5.190547615,
          7.003490833,
          6.887385411,
          8.403018652,
          8.868584618,
          7.109560566,
          5.953385834,
          5.917728297999999,
          8.580084703999999,
          6.3865276070000006,
          5.465421127000001,
          7.5490422729999995,
          6.927972118,
          7.119652068,
          7.4865655129999995,
          6.803980179,
          8.070503364,
          8.224702942,
          6.614741463,
          8.122809443,
          6.444533637999999,
          6.961369381,
          5.45575957,
          6.46772135,
          7.153365327,
          7.026217999999999,
          6.249241888999999,
          7.968492532999999,
          8.068592507,
          7.83524065,
          7.141938322000001,
          8.00589731,
          6.237140224,
          null,
          7.002772765,
          6.19978342,
          8.355575868999999,
          8.715261916000001,
          4.095028377,
          8.199116539,
          6.587587532000001,
          6.761207174,
          6.745172748,
          6.567290732999999,
          6.094975546000001,
          6.9179295839999995,
          6.138195195,
          7.087987469,
          6.737992349,
          6.7706347110000005,
          6.458097287,
          8.512753587,
          8.187365735,
          7.876803412999999,
          5.013857143,
          6.309325436,
          4.812704931,
          6.695434317999999,
          5.347534507,
          7.435190912,
          5.09740352,
          5.832180214,
          6.569286677999999,
          7.559297684,
          8.557936388,
          8.444271876,
          6.160655707,
          7.580937417,
          6.589263747,
          5.858958578999999,
          7.35360848,
          null,
          8.191890553,
          7.1775777220000005,
          6.421428196,
          null,
          6.991255335,
          7.3324885239999995,
          6.829040234,
          6.830380012999999,
          6.830317257000001,
          7.818330894,
          6.625860263,
          5.6238407939999995,
          7.131812758,
          6.090272917,
          8.598394011,
          7.379235734,
          4.829056616,
          5.13271564,
          8.219910779,
          6.003389743,
          6.557821085,
          4.8106643469999995,
          5.334760515,
          7.890737866,
          5.9554019920000005,
          7.676494353,
          7.988521521,
          8.225202715,
          8.523583455,
          7.031471442999999,
          6.681142972000001,
          5.671286501,
          7.143169312,
          8.323872462999999,
          5.543544648999999,
          7.09451287,
          8.625452253999999,
          8.011116762999999,
          5.73117123,
          6.475026831,
          7.5641097020000005,
          8.42327019,
          7.033530635,
          7.6327716070000005,
          6.9966037839999995,
          null,
          5.955378023,
          7.006310031,
          6.524265734,
          6.5186694229999995,
          8.999085668,
          7.929346172000001,
          8.105130958,
          6.87225727,
          6.880625922999999,
          4.44178272,
          null,
          8.482832369,
          7.565425163,
          7.9727609610000005,
          7.060265873,
          8.273474936,
          6.886891338,
          6.757831653999999,
          6.717473009,
          8.056670500000001,
          6.513549844,
          6.469824906,
          null,
          8.141821962,
          6.667920968,
          6.331657152999999,
          null,
          null,
          8.101507526,
          8.314570094,
          7.745664132000001,
          6.745301029,
          6.892474784,
          6.564180956,
          5.966582077000001,
          8.237023762,
          5.753550532,
          8.366165654,
          6.6726135079999995,
          7.050049727999999,
          7.521696663999999,
          7.663848975,
          6.376908521,
          6.336044028,
          5.050197673,
          6.968657499,
          6.695567811,
          8.349488011,
          8.784639041,
          6.999313161,
          6.057667925,
          5.72371737,
          8.574077116,
          6.422788156,
          5.538477723,
          7.534258242999999,
          6.592902673999999,
          7.113477065,
          7.63099092,
          7.085144176,
          8.115046326,
          8.1297,
          6.377228222,
          7.996492303999999,
          6.476556007,
          6.820159195,
          5.400079099,
          6.165521125,
          7.011449233,
          null,
          6.147112259,
          7.901725525,
          8.069402361,
          7.875984807000001,
          7.068924316,
          8.016793658,
          6.225721649,
          null,
          7.131956793,
          5.927162308,
          8.464092224,
          8.760105158,
          4.866653428,
          8.116416272,
          6.743352196,
          6.580361503,
          6.8833527960000005,
          6.667227287,
          5.415906197999999,
          6.794579194,
          6.270078069,
          7.089684984,
          6.521357849,
          6.926985325,
          6.287808145,
          8.472484169,
          8.251223064,
          7.959078117000001,
          5.225650396,
          6.345682817,
          4.775506098,
          6.883593296,
          5.084809744,
          7.502044237000001,
          5.211169541,
          5.354951097,
          6.855326361,
          7.56033998,
          8.596250688,
          8.413279904,
          6.117849122999999,
          7.631374097,
          6.7959222829999995,
          5.978482869,
          7.3293241039999995,
          null,
          8.225931736,
          7.257903638999999,
          6.5866402520000005,
          null,
          6.935415823,
          7.346709576,
          6.882127535,
          7.040544137,
          6.787915202000001,
          7.864986342999999,
          6.748533581,
          5.671812021,
          7.244143796,
          6.079132062,
          8.607992824,
          7.390781152000001,
          4.969729536,
          5.31263957,
          8.290152327000001,
          6.029485716,
          6.674009395,
          5.038326861,
          5.3900139010000006,
          7.919854607,
          5.863494198,
          7.688918478,
          8.163659206,
          8.139646955,
          8.592387421,
          7.075986664,
          6.678048715,
          5.735934965,
          6.987843915,
          8.348332219,
          5.389141325,
          7.197905284,
          8.674685314,
          8.047115842,
          5.799872005,
          6.616699714,
          7.548244232,
          8.462488936,
          7.203735662000001,
          7.708558786,
          6.895697072000001,
          null,
          5.935594714,
          7.0808480970000005,
          6.73968383,
          6.677098709,
          9.027890876,
          8.047762045,
          8.081966262,
          6.928908738,
          6.939293987999999,
          4.842482113,
          null,
          8.445626471,
          7.642747366,
          7.983160044,
          7.000054232999999,
          8.193005522,
          6.840968727999999,
          6.678371471,
          6.746533875,
          8.075037522,
          6.5781257570000005,
          6.405152072999999,
          null,
          8.071350606000001,
          6.933952777000001,
          6.390797986,
          null,
          null,
          8.117726631,
          8.342448102,
          7.730682213,
          6.789096206,
          6.9937493239999995,
          6.672539673999999,
          6.094369334,
          8.337221199,
          5.829615267,
          8.315692151,
          6.721786358999999,
          7.081986832,
          7.575505135,
          7.6448314029999995,
          6.464544865,
          6.325090512999999,
          4.779236149,
          6.963634676,
          6.8002307989999995,
          8.398793162999999,
          8.791730475,
          7.023952027000001,
          6.2434094579999995,
          5.84015383,
          8.4626989,
          6.388310825,
          5.658577711,
          7.428221737,
          6.59441459,
          7.034437082,
          7.683066509,
          7.123144305,
          8.169270893,
          8.135128783999999,
          6.231096858,
          7.958425516,
          6.47066875,
          6.899931894,
          5.552782832,
          6.179209976,
          7.065929706,
          null,
          6.0957052,
          7.985541155,
          8.141521059,
          7.850275541,
          7.181898147999999,
          8.125421602000001,
          6.359019977000001,
          null,
          7.040116209,
          6.025906655,
          8.506444619,
          8.777166122,
          5.6292675910000005,
          8.157819488,
          6.604089144,
          6.717680359,
          7.006757853,
          6.84549069,
          5.531652949,
          6.831867514,
          6.561851091,
          7.218772701000001,
          6.546112319,
          6.925909852,
          6.264677712,
          8.494381097,
          8.2364668,
          8.041428303,
          5.332457816,
          6.3275415829999995,
          4.710594206000001,
          6.990258686000001,
          5.050735669,
          7.553625028,
          5.1393562489999995,
          5.237694904,
          6.885658106,
          7.488131598,
          8.642692871,
          8.321524196,
          6.311327694,
          7.637068542000001,
          6.895730392000001,
          5.944205222999999,
          7.329851162000001,
          null,
          8.243991622000001,
          6.9496571110000005,
          6.4148809920000005,
          null,
          6.86715054,
          7.417272729,
          6.909825948,
          7.114175201,
          6.723968076,
          7.799512726000001,
          6.75707007,
          5.766097892,
          7.413318491,
          5.88926212,
          8.640115087,
          7.346023524,
          5.2137563060000005,
          5.569967951000001,
          8.271367096,
          5.91182201,
          6.811983251,
          5.447901533,
          5.702646176,
          7.682003774,
          5.753024902000001,
          7.414163499,
          8.334084703,
          8.155990167999999,
          8.629381029,
          7.065832238,
          6.6408260310000005,
          5.944259599,
          7.219149306,
          8.44331859,
          5.473526401,
          7.246718222999999,
          8.645241088999999,
          8.102085654,
          5.800136555,
          6.408104005,
          7.818304605,
          8.348372223,
          7.165817275,
          7.714738725,
          7.211521164,
          null,
          5.69052527,
          6.70229469,
          6.61591679,
          6.849277146,
          9.028447907,
          8.096436,
          7.836819568999999,
          6.482085841,
          7.0064216020000005,
          5.1995024039999995,
          null,
          8.369535763,
          7.898468542000001,
          7.9762129360000005,
          7.097204861,
          8.189865485,
          6.692852024,
          6.92544927,
          6.692387656,
          8.171659215,
          6.597137367999999,
          6.399291985,
          null,
          7.943820357999999,
          6.831532752999999,
          5.883610486,
          null,
          null,
          8.06700822,
          8.366378111,
          7.547960222,
          6.6164771579999995,
          6.770515007,
          6.577418071,
          6.283035269,
          8.31107695,
          5.784328803999999,
          8.243358111000001,
          6.72392677,
          7.015258695,
          7.3199163810000005,
          7.769285535,
          6.401966042000001,
          5.954574194,
          5.033974751000001,
          7.041205687000001,
          6.773826786,
          8.338628577,
          8.879076728,
          7.290495428,
          6.552164251000001,
          6.000912773,
          8.51592539,
          6.221742299,
          5.501967145,
          7.451840015,
          6.94566459,
          7.02908407,
          7.619558845,
          7.184964619,
          8.024837508,
          7.99985023,
          6.155398065,
          8.024764965,
          6.516866747999999,
          6.97027171,
          5.658029989,
          6.205384819,
          7.144191366,
          null,
          6.3476255020000005,
          8.10271966,
          8.123184852,
          7.720019452000001,
          6.924080687999999,
          8.24620003,
          6.60032485,
          null,
          7.246088431,
          6.131358044,
          8.50930254,
          8.818141443,
          5.554295962,
          7.9974533910000005,
          6.9076341470000004,
          6.589585152000001,
          7.199052729,
          6.743546245,
          5.67489369,
          6.725200847000001,
          6.088739601,
          6.9910000839999995,
          6.523093745,
          6.798132026,
          6.71088474,
          8.451403071,
          8.260846041,
          8.073787564,
          5.1566190480000005,
          6.504935552999999,
          5.425224246,
          6.718691464,
          4.909414793,
          7.585133596,
          5.159940635,
          5.206897575,
          6.997731122999999,
          7.47916104,
          8.630312773,
          8.345880617,
          6.176735582999999,
          7.745257644,
          7.020660561000001,
          5.916510685,
          7.369415048,
          null,
          8.195431758,
          7.2146744720000004,
          6.486473585,
          null,
          6.920340044,
          7.3932939520000005,
          6.799034323,
          6.995548966,
          null,
          7.848102367,
          6.666082374,
          6.117209218999999,
          null,
          5.79377628,
          8.638999354,
          null,
          5.405057834,
          5.352743427,
          8.249135968,
          5.937936265,
          6.7475716839999995,
          5.444295478,
          5.64990279,
          7.817826325,
          5.794556957,
          7.594676647000001,
          8.345637657000001,
          8.161824436,
          8.572328379,
          6.994194332999999,
          6.64996875,
          5.880784987,
          7.161024306,
          8.378999516,
          5.498212187000001,
          7.318470927000001,
          8.610269069,
          8.21487322,
          5.942305867000001,
          null,
          7.777713207000001,
          8.34638437,
          7.249368136,
          7.863461447000001,
          7.167473545,
          null,
          5.8257606829999995,
          6.832992074,
          6.9318852,
          6.858298937000001,
          9.052653088,
          8.084371354,
          8.072751354,
          6.490823625,
          6.874152216000001,
          5.131931145,
          null,
          8.402759288,
          7.495602988,
          7.881115021,
          7.277135417,
          8.191371714,
          6.624606493,
          6.9190616689999995,
          6.660161611,
          8.051751807999999,
          6.683036528,
          6.775686062999999,
          null,
          7.890817675,
          null,
          5.867638264,
          null,
          null,
          8.121203697999999,
          8.246273578,
          7.48386637,
          6.549999467,
          6.778147186,
          6.574382912000001,
          6.185010122,
          8.360116093,
          5.954854683,
          8.105452487,
          6.832680087999999,
          7.19384373,
          7.295919861000001,
          7.580152112,
          6.361933327000001,
          5.856997369,
          5.3612473,
          7.058721039,
          6.713549295,
          8.331244474,
          8.797717026,
          7.199153764,
          6.375930539,
          5.889429496,
          8.460101009,
          6.357652624,
          5.595221297,
          7.518631533,
          6.8049180620000005,
          6.850076434,
          7.541654728999999,
          6.950193747,
          8.075007573999999,
          8.015403484,
          null,
          8.059244209,
          6.447556416,
          7.23220888,
          null,
          6.333262373999999,
          7.229333061,
          null,
          6.27717527,
          8.194760582999999,
          8.118595638,
          7.826199122999999,
          6.813115079,
          8.101026464,
          6.132485933,
          null,
          null,
          null,
          8.415915653999999,
          8.792258292,
          5.52959379,
          7.813038464,
          null,
          6.437958167000001,
          7.262806637000001,
          null,
          5.681883107999999,
          6.764905708,
          6.2651721270000005,
          6.9636724260000005,
          6.410308511,
          6.8309981870000005,
          6.481551407,
          8.590176722999999,
          8.260843887,
          7.9254093029999995,
          5.283514408,
          6.565151297000001,
          null,
          6.620113589,
          4.92767343,
          7.498848866,
          5.153065376,
          4.8235278169999996,
          7.035120011,
          7.455280489,
          8.686020243,
          8.363703418,
          6.371672233,
          7.863355202,
          7.1001191079999995,
          5.798135907000001,
          7.177507535,
          null,
          8.182085856,
          7.335334194,
          6.490137606,
          null,
          6.728644654,
          7.282437587,
          6.83582588,
          7.014409184,
          null,
          7.706452047999999,
          6.759230665,
          5.646142692000001,
          null,
          5.687288973999999,
          8.653001565,
          null,
          5.481581758,
          5.212512011,
          8.227215073,
          5.9956437760000005,
          6.762603689,
          5.3518430530000005,
          5.6303181339999995,
          7.83294432,
          5.696570822999999,
          7.398385027000001,
          8.344051602999999,
          8.170668411,
          8.68717383,
          6.669026833999999,
          6.7180544520000005,
          6.004860002000001,
          7.3992361110000004,
          8.404652042999999,
          5.3588546489999995,
          7.523307205,
          8.653870745,
          8.194982519,
          5.895043962000001,
          null,
          7.556304258,
          8.322049372,
          7.213843152999999,
          7.935508771,
          7.199325397000001,
          null,
          5.69349402,
          6.677489081,
          6.941049235,
          7.005012595,
          9.126312939,
          8.04740465,
          8.277247882000001,
          6.5199474870000005,
          6.78741383,
          5.4711242,
          null,
          8.464583235,
          7.395273675,
          7.931940466,
          7.278020832999999,
          8.239303911,
          6.559812142999999,
          6.954439429,
          6.617297678,
          8.149323236,
          6.593605143,
          6.801020059,
          null,
          8.082147484,
          null,
          5.9536104860000005,
          null,
          null,
          8.01018155,
          8.364242943999999,
          7.533718326,
          6.55572319,
          6.72177225,
          6.453140392999999,
          6.093562166,
          8.312908122,
          5.895358395,
          8.214829659,
          6.923600177999999,
          7.208984756,
          7.145358771000001,
          7.6695584210000005,
          6.291418298,
          6.031946262999999,
          4.955303208999999,
          7.0049801060000005,
          6.7136727039999995,
          8.410510546,
          8.910542465,
          7.263152612000001,
          6.172414624,
          6.151358657,
          8.592142222,
          6.467042558999999,
          5.401850447999999,
          7.494156231,
          6.9140673679999995,
          6.900825415,
          7.497498458,
          7.055628658,
          7.976932519,
          8.098138186,
          null,
          8.028976623,
          6.525689053,
          6.949574622,
          null,
          6.198871486,
          7.232640781000001,
          null,
          6.2351383,
          8.179720572999999,
          8.233432487,
          7.825762377999999,
          6.762374339,
          8.247249223999999,
          5.860377495,
          null,
          null,
          null,
          8.452347112,
          8.77443651,
          5.457515592000001,
          7.792327162,
          null,
          6.3386059999999995,
          7.274282546,
          null,
          5.76336459,
          6.805600152999999,
          6.249057982999999,
          6.918408798,
          6.495271027,
          6.798697378,
          6.784866222000001,
          8.536420793,
          8.448265467999999,
          7.94784663,
          5.2578793280000005,
          6.420206307999999,
          null,
          6.647724406,
          4.935570731
         ]
        }
       ],
       "layout": {
        "geo": {
         "projection": {
          "type": "equirectangular"
         },
         "showframe": false
        },
        "template": {
         "data": {
          "bar": [
           {
            "error_x": {
             "color": "#2a3f5f"
            },
            "error_y": {
             "color": "#2a3f5f"
            },
            "marker": {
             "line": {
              "color": "#E5ECF6",
              "width": 0.5
             }
            },
            "type": "bar"
           }
          ],
          "barpolar": [
           {
            "marker": {
             "line": {
              "color": "#E5ECF6",
              "width": 0.5
             }
            },
            "type": "barpolar"
           }
          ],
          "carpet": [
           {
            "aaxis": {
             "endlinecolor": "#2a3f5f",
             "gridcolor": "white",
             "linecolor": "white",
             "minorgridcolor": "white",
             "startlinecolor": "#2a3f5f"
            },
            "baxis": {
             "endlinecolor": "#2a3f5f",
             "gridcolor": "white",
             "linecolor": "white",
             "minorgridcolor": "white",
             "startlinecolor": "#2a3f5f"
            },
            "type": "carpet"
           }
          ],
          "choropleth": [
           {
            "colorbar": {
             "outlinewidth": 0,
             "ticks": ""
            },
            "type": "choropleth"
           }
          ],
          "contour": [
           {
            "colorbar": {
             "outlinewidth": 0,
             "ticks": ""
            },
            "colorscale": [
             [
              0,
              "#0d0887"
             ],
             [
              0.1111111111111111,
              "#46039f"
             ],
             [
              0.2222222222222222,
              "#7201a8"
             ],
             [
              0.3333333333333333,
              "#9c179e"
             ],
             [
              0.4444444444444444,
              "#bd3786"
             ],
             [
              0.5555555555555556,
              "#d8576b"
             ],
             [
              0.6666666666666666,
              "#ed7953"
             ],
             [
              0.7777777777777778,
              "#fb9f3a"
             ],
             [
              0.8888888888888888,
              "#fdca26"
             ],
             [
              1,
              "#f0f921"
             ]
            ],
            "type": "contour"
           }
          ],
          "contourcarpet": [
           {
            "colorbar": {
             "outlinewidth": 0,
             "ticks": ""
            },
            "type": "contourcarpet"
           }
          ],
          "heatmap": [
           {
            "colorbar": {
             "outlinewidth": 0,
             "ticks": ""
            },
            "colorscale": [
             [
              0,
              "#0d0887"
             ],
             [
              0.1111111111111111,
              "#46039f"
             ],
             [
              0.2222222222222222,
              "#7201a8"
             ],
             [
              0.3333333333333333,
              "#9c179e"
             ],
             [
              0.4444444444444444,
              "#bd3786"
             ],
             [
              0.5555555555555556,
              "#d8576b"
             ],
             [
              0.6666666666666666,
              "#ed7953"
             ],
             [
              0.7777777777777778,
              "#fb9f3a"
             ],
             [
              0.8888888888888888,
              "#fdca26"
             ],
             [
              1,
              "#f0f921"
             ]
            ],
            "type": "heatmap"
           }
          ],
          "heatmapgl": [
           {
            "colorbar": {
             "outlinewidth": 0,
             "ticks": ""
            },
            "colorscale": [
             [
              0,
              "#0d0887"
             ],
             [
              0.1111111111111111,
              "#46039f"
             ],
             [
              0.2222222222222222,
              "#7201a8"
             ],
             [
              0.3333333333333333,
              "#9c179e"
             ],
             [
              0.4444444444444444,
              "#bd3786"
             ],
             [
              0.5555555555555556,
              "#d8576b"
             ],
             [
              0.6666666666666666,
              "#ed7953"
             ],
             [
              0.7777777777777778,
              "#fb9f3a"
             ],
             [
              0.8888888888888888,
              "#fdca26"
             ],
             [
              1,
              "#f0f921"
             ]
            ],
            "type": "heatmapgl"
           }
          ],
          "histogram": [
           {
            "marker": {
             "colorbar": {
              "outlinewidth": 0,
              "ticks": ""
             }
            },
            "type": "histogram"
           }
          ],
          "histogram2d": [
           {
            "colorbar": {
             "outlinewidth": 0,
             "ticks": ""
            },
            "colorscale": [
             [
              0,
              "#0d0887"
             ],
             [
              0.1111111111111111,
              "#46039f"
             ],
             [
              0.2222222222222222,
              "#7201a8"
             ],
             [
              0.3333333333333333,
              "#9c179e"
             ],
             [
              0.4444444444444444,
              "#bd3786"
             ],
             [
              0.5555555555555556,
              "#d8576b"
             ],
             [
              0.6666666666666666,
              "#ed7953"
             ],
             [
              0.7777777777777778,
              "#fb9f3a"
             ],
             [
              0.8888888888888888,
              "#fdca26"
             ],
             [
              1,
              "#f0f921"
             ]
            ],
            "type": "histogram2d"
           }
          ],
          "histogram2dcontour": [
           {
            "colorbar": {
             "outlinewidth": 0,
             "ticks": ""
            },
            "colorscale": [
             [
              0,
              "#0d0887"
             ],
             [
              0.1111111111111111,
              "#46039f"
             ],
             [
              0.2222222222222222,
              "#7201a8"
             ],
             [
              0.3333333333333333,
              "#9c179e"
             ],
             [
              0.4444444444444444,
              "#bd3786"
             ],
             [
              0.5555555555555556,
              "#d8576b"
             ],
             [
              0.6666666666666666,
              "#ed7953"
             ],
             [
              0.7777777777777778,
              "#fb9f3a"
             ],
             [
              0.8888888888888888,
              "#fdca26"
             ],
             [
              1,
              "#f0f921"
             ]
            ],
            "type": "histogram2dcontour"
           }
          ],
          "mesh3d": [
           {
            "colorbar": {
             "outlinewidth": 0,
             "ticks": ""
            },
            "type": "mesh3d"
           }
          ],
          "parcoords": [
           {
            "line": {
             "colorbar": {
              "outlinewidth": 0,
              "ticks": ""
             }
            },
            "type": "parcoords"
           }
          ],
          "pie": [
           {
            "automargin": true,
            "type": "pie"
           }
          ],
          "scatter": [
           {
            "marker": {
             "colorbar": {
              "outlinewidth": 0,
              "ticks": ""
             }
            },
            "type": "scatter"
           }
          ],
          "scatter3d": [
           {
            "line": {
             "colorbar": {
              "outlinewidth": 0,
              "ticks": ""
             }
            },
            "marker": {
             "colorbar": {
              "outlinewidth": 0,
              "ticks": ""
             }
            },
            "type": "scatter3d"
           }
          ],
          "scattercarpet": [
           {
            "marker": {
             "colorbar": {
              "outlinewidth": 0,
              "ticks": ""
             }
            },
            "type": "scattercarpet"
           }
          ],
          "scattergeo": [
           {
            "marker": {
             "colorbar": {
              "outlinewidth": 0,
              "ticks": ""
             }
            },
            "type": "scattergeo"
           }
          ],
          "scattergl": [
           {
            "marker": {
             "colorbar": {
              "outlinewidth": 0,
              "ticks": ""
             }
            },
            "type": "scattergl"
           }
          ],
          "scattermapbox": [
           {
            "marker": {
             "colorbar": {
              "outlinewidth": 0,
              "ticks": ""
             }
            },
            "type": "scattermapbox"
           }
          ],
          "scatterpolar": [
           {
            "marker": {
             "colorbar": {
              "outlinewidth": 0,
              "ticks": ""
             }
            },
            "type": "scatterpolar"
           }
          ],
          "scatterpolargl": [
           {
            "marker": {
             "colorbar": {
              "outlinewidth": 0,
              "ticks": ""
             }
            },
            "type": "scatterpolargl"
           }
          ],
          "scatterternary": [
           {
            "marker": {
             "colorbar": {
              "outlinewidth": 0,
              "ticks": ""
             }
            },
            "type": "scatterternary"
           }
          ],
          "surface": [
           {
            "colorbar": {
             "outlinewidth": 0,
             "ticks": ""
            },
            "colorscale": [
             [
              0,
              "#0d0887"
             ],
             [
              0.1111111111111111,
              "#46039f"
             ],
             [
              0.2222222222222222,
              "#7201a8"
             ],
             [
              0.3333333333333333,
              "#9c179e"
             ],
             [
              0.4444444444444444,
              "#bd3786"
             ],
             [
              0.5555555555555556,
              "#d8576b"
             ],
             [
              0.6666666666666666,
              "#ed7953"
             ],
             [
              0.7777777777777778,
              "#fb9f3a"
             ],
             [
              0.8888888888888888,
              "#fdca26"
             ],
             [
              1,
              "#f0f921"
             ]
            ],
            "type": "surface"
           }
          ],
          "table": [
           {
            "cells": {
             "fill": {
              "color": "#EBF0F8"
             },
             "line": {
              "color": "white"
             }
            },
            "header": {
             "fill": {
              "color": "#C8D4E3"
             },
             "line": {
              "color": "white"
             }
            },
            "type": "table"
           }
          ]
         },
         "layout": {
          "annotationdefaults": {
           "arrowcolor": "#2a3f5f",
           "arrowhead": 0,
           "arrowwidth": 1
          },
          "coloraxis": {
           "colorbar": {
            "outlinewidth": 0,
            "ticks": ""
           }
          },
          "colorscale": {
           "diverging": [
            [
             0,
             "#8e0152"
            ],
            [
             0.1,
             "#c51b7d"
            ],
            [
             0.2,
             "#de77ae"
            ],
            [
             0.3,
             "#f1b6da"
            ],
            [
             0.4,
             "#fde0ef"
            ],
            [
             0.5,
             "#f7f7f7"
            ],
            [
             0.6,
             "#e6f5d0"
            ],
            [
             0.7,
             "#b8e186"
            ],
            [
             0.8,
             "#7fbc41"
            ],
            [
             0.9,
             "#4d9221"
            ],
            [
             1,
             "#276419"
            ]
           ],
           "sequential": [
            [
             0,
             "#0d0887"
            ],
            [
             0.1111111111111111,
             "#46039f"
            ],
            [
             0.2222222222222222,
             "#7201a8"
            ],
            [
             0.3333333333333333,
             "#9c179e"
            ],
            [
             0.4444444444444444,
             "#bd3786"
            ],
            [
             0.5555555555555556,
             "#d8576b"
            ],
            [
             0.6666666666666666,
             "#ed7953"
            ],
            [
             0.7777777777777778,
             "#fb9f3a"
            ],
            [
             0.8888888888888888,
             "#fdca26"
            ],
            [
             1,
             "#f0f921"
            ]
           ],
           "sequentialminus": [
            [
             0,
             "#0d0887"
            ],
            [
             0.1111111111111111,
             "#46039f"
            ],
            [
             0.2222222222222222,
             "#7201a8"
            ],
            [
             0.3333333333333333,
             "#9c179e"
            ],
            [
             0.4444444444444444,
             "#bd3786"
            ],
            [
             0.5555555555555556,
             "#d8576b"
            ],
            [
             0.6666666666666666,
             "#ed7953"
            ],
            [
             0.7777777777777778,
             "#fb9f3a"
            ],
            [
             0.8888888888888888,
             "#fdca26"
            ],
            [
             1,
             "#f0f921"
            ]
           ]
          },
          "colorway": [
           "#636efa",
           "#EF553B",
           "#00cc96",
           "#ab63fa",
           "#FFA15A",
           "#19d3f3",
           "#FF6692",
           "#B6E880",
           "#FF97FF",
           "#FECB52"
          ],
          "font": {
           "color": "#2a3f5f"
          },
          "geo": {
           "bgcolor": "white",
           "lakecolor": "white",
           "landcolor": "#E5ECF6",
           "showlakes": true,
           "showland": true,
           "subunitcolor": "white"
          },
          "hoverlabel": {
           "align": "left"
          },
          "hovermode": "closest",
          "mapbox": {
           "style": "light"
          },
          "paper_bgcolor": "white",
          "plot_bgcolor": "#E5ECF6",
          "polar": {
           "angularaxis": {
            "gridcolor": "white",
            "linecolor": "white",
            "ticks": ""
           },
           "bgcolor": "#E5ECF6",
           "radialaxis": {
            "gridcolor": "white",
            "linecolor": "white",
            "ticks": ""
           }
          },
          "scene": {
           "xaxis": {
            "backgroundcolor": "#E5ECF6",
            "gridcolor": "white",
            "gridwidth": 2,
            "linecolor": "white",
            "showbackground": true,
            "ticks": "",
            "zerolinecolor": "white"
           },
           "yaxis": {
            "backgroundcolor": "#E5ECF6",
            "gridcolor": "white",
            "gridwidth": 2,
            "linecolor": "white",
            "showbackground": true,
            "ticks": "",
            "zerolinecolor": "white"
           },
           "zaxis": {
            "backgroundcolor": "#E5ECF6",
            "gridcolor": "white",
            "gridwidth": 2,
            "linecolor": "white",
            "showbackground": true,
            "ticks": "",
            "zerolinecolor": "white"
           }
          },
          "shapedefaults": {
           "line": {
            "color": "#2a3f5f"
           }
          },
          "ternary": {
           "aaxis": {
            "gridcolor": "white",
            "linecolor": "white",
            "ticks": ""
           },
           "baxis": {
            "gridcolor": "white",
            "linecolor": "white",
            "ticks": ""
           },
           "bgcolor": "#E5ECF6",
           "caxis": {
            "gridcolor": "white",
            "linecolor": "white",
            "ticks": ""
           }
          },
          "title": {
           "x": 0.05
          },
          "xaxis": {
           "automargin": true,
           "gridcolor": "white",
           "linecolor": "white",
           "ticks": "",
           "title": {
            "standoff": 15
           },
           "zerolinecolor": "white",
           "zerolinewidth": 2
          },
          "yaxis": {
           "automargin": true,
           "gridcolor": "white",
           "linecolor": "white",
           "ticks": "",
           "title": {
            "standoff": 15
           },
           "zerolinecolor": "white",
           "zerolinewidth": 2
          }
         }
        },
        "title": {
         "text": "Human Freedom In The World "
        }
       }
      },
      "text/html": [
       "<div>\n",
       "        \n",
       "        \n",
       "            <div id=\"09af4705-5327-414f-b68f-c33f8ae3cb28\" class=\"plotly-graph-div\" style=\"height:525px; width:100%;\"></div>\n",
       "            <script type=\"text/javascript\">\n",
       "                require([\"plotly\"], function(Plotly) {\n",
       "                    window.PLOTLYENV=window.PLOTLYENV || {};\n",
       "                    \n",
       "                if (document.getElementById(\"09af4705-5327-414f-b68f-c33f8ae3cb28\")) {\n",
       "                    Plotly.newPlot(\n",
       "                        '09af4705-5327-414f-b68f-c33f8ae3cb28',\n",
       "                        [{\"autocolorscale\": false, \"colorbar\": {\"title\": {\"text\": \"Human Freedom\"}}, \"colorscale\": [[0.0, \"rgb(255,255,204)\"], [0.125, \"rgb(255,237,160)\"], [0.25, \"rgb(254,217,118)\"], [0.375, \"rgb(254,178,76)\"], [0.5, \"rgb(253,141,60)\"], [0.625, \"rgb(252,78,42)\"], [0.75, \"rgb(227,26,28)\"], [0.875, \"rgb(189,0,38)\"], [1.0, \"rgb(128,0,38)\"]], \"locationmode\": \"country names\", \"locations\": [\"Albania\", \"Algeria\", \"Angola\", \"Argentina\", \"Armenia\", \"Australia\", \"Austria\", \"Azerbaijan\", \"Bahamas\", \"Bahrain\", \"Bangladesh\", \"Barbados\", \"Belarus\", \"Belgium\", \"Belize\", \"Benin\", \"Bhutan\", \"Bolivia\", \"Bosnia and Herzegovina\", \"Botswana\", \"Brazil\", \"Brunei Darussalam\", \"Bulgaria\", \"Burkina Faso\", \"Burundi\", \"Cambodia\", \"Cameroon\", \"Canada\", \"Cape Verde\", \"Central Afr. Rep.\", \"Chad\", \"Chile\", \"China\", \"Colombia\", \"Congo, Dem. R.\", \"Congo, Rep. Of\", \"Costa Rica\", \"Cote d'Ivoire\", \"Croatia\", \"Cyprus\", \"Czech Rep.\", \"Denmark\", \"Dominican Rep.\", \"Ecuador\", \"Egypt\", \"El Salvador\", \"Estonia\", \"Ethiopia\", \"Fiji\", \"Finland\", \"France\", \"Gabon\", \"Gambia, The\", \"Georgia\", \"Germany\", \"Ghana\", \"Greece\", \"Guatemala\", \"Guinea\", \"Guinea-Bissau\", \"Guyana\", \"Haiti\", \"Honduras\", \"Hong Kong\", \"Hungary\", \"Iceland\", \"India\", \"Indonesia\", \"Iran\", \"Iraq\", \"Ireland\", \"Israel\", \"Italy\", \"Jamaica\", \"Japan\", \"Jordan\", \"Kazakhstan\", \"Kenya\", \"Korea, South\", \"Kuwait\", \"Kyrgyz Republic\", \"Laos\", \"Latvia\", \"Lebanon\", \"Lesotho\", \"Liberia\", \"Libya\", \"Lithuania\", \"Luxembourg\", \"Macedonia\", \"Madagascar\", \"Malawi\", \"Malaysia\", \"Mali\", \"Malta\", \"Mauritania\", \"Mauritius\", \"Mexico\", \"Moldova\", \"Mongolia\", \"Montenegro\", \"Morocco\", \"Mozambique\", \"Myanmar\", \"Namibia\", \"Nepal\", \"Netherlands\", \"New Zealand\", \"Nicaragua\", \"Niger\", \"Nigeria\", \"Norway\", \"Oman\", \"Pakistan\", \"Panama\", \"Pap. New Guinea\", \"Paraguay\", \"Peru\", \"Philippines\", \"Poland\", \"Portugal\", \"Qatar\", \"Romania\", \"Russia\", \"Rwanda\", \"Saudi Arabia\", \"Senegal\", \"Serbia\", \"Seychelles\", \"Sierra Leone\", \"Singapore\", \"Slovak Rep.\", \"Slovenia\", \"South Africa\", \"Spain\", \"Sri Lanka\", \"Sudan\", \"Suriname\", \"Swaziland\", \"Sweden\", \"Switzerland\", \"Syria\", \"Taiwan\", \"Tajikistan\", \"Tanzania\", \"Thailand\", \"Timor-Leste\", \"Togo\", \"Trinidad and Tobago\", \"Tunisia\", \"Turkey\", \"Uganda\", \"Ukraine\", \"United Arab Emirates\", \"United Kingdom\", \"United States\", \"Uruguay\", \"Venezuela\", \"Vietnam\", \"Yemen, Rep.\", \"Zambia\", \"Zimbabwe\", \"Albania\", \"Algeria\", \"Angola\", \"Argentina\", \"Armenia\", \"Australia\", \"Austria\", \"Azerbaijan\", \"Bahamas\", \"Bahrain\", \"Bangladesh\", \"Barbados\", \"Belarus\", \"Belgium\", \"Belize\", \"Benin\", \"Bhutan\", \"Bolivia\", \"Bosnia and Herzegovina\", \"Botswana\", \"Brazil\", \"Brunei Darussalam\", \"Bulgaria\", \"Burkina Faso\", \"Burundi\", \"Cambodia\", \"Cameroon\", \"Canada\", \"Cape Verde\", \"Central Afr. Rep.\", \"Chad\", \"Chile\", \"China\", \"Colombia\", \"Congo, Dem. R.\", \"Congo, Rep. Of\", \"Costa Rica\", \"Cote d'Ivoire\", \"Croatia\", \"Cyprus\", \"Czech Rep.\", \"Denmark\", \"Dominican Rep.\", \"Ecuador\", \"Egypt\", \"El Salvador\", \"Estonia\", \"Ethiopia\", \"Fiji\", \"Finland\", \"France\", \"Gabon\", \"Gambia, The\", \"Georgia\", \"Germany\", \"Ghana\", \"Greece\", \"Guatemala\", \"Guinea\", \"Guinea-Bissau\", \"Guyana\", \"Haiti\", \"Honduras\", \"Hong Kong\", \"Hungary\", \"Iceland\", \"India\", \"Indonesia\", \"Iran\", \"Iraq\", \"Ireland\", \"Israel\", \"Italy\", \"Jamaica\", \"Japan\", \"Jordan\", \"Kazakhstan\", \"Kenya\", \"Korea, South\", \"Kuwait\", \"Kyrgyz Republic\", \"Laos\", \"Latvia\", \"Lebanon\", \"Lesotho\", \"Liberia\", \"Libya\", \"Lithuania\", \"Luxembourg\", \"Macedonia\", \"Madagascar\", \"Malawi\", \"Malaysia\", \"Mali\", \"Malta\", \"Mauritania\", \"Mauritius\", \"Mexico\", \"Moldova\", \"Mongolia\", \"Montenegro\", \"Morocco\", \"Mozambique\", \"Myanmar\", \"Namibia\", \"Nepal\", \"Netherlands\", \"New Zealand\", \"Nicaragua\", \"Niger\", \"Nigeria\", \"Norway\", \"Oman\", \"Pakistan\", \"Panama\", \"Pap. New Guinea\", \"Paraguay\", \"Peru\", \"Philippines\", \"Poland\", \"Portugal\", \"Qatar\", \"Romania\", \"Russia\", \"Rwanda\", \"Saudi Arabia\", \"Senegal\", \"Serbia\", \"Seychelles\", \"Sierra Leone\", \"Singapore\", \"Slovak Rep.\", \"Slovenia\", \"South Africa\", \"Spain\", \"Sri Lanka\", \"Sudan\", \"Suriname\", \"Swaziland\", \"Sweden\", \"Switzerland\", \"Syria\", \"Taiwan\", \"Tajikistan\", \"Tanzania\", \"Thailand\", \"Timor-Leste\", \"Togo\", \"Trinidad and Tobago\", \"Tunisia\", \"Turkey\", \"Uganda\", \"Ukraine\", \"United Arab Emirates\", \"United Kingdom\", \"United States\", \"Uruguay\", \"Venezuela\", \"Vietnam\", \"Yemen, Rep.\", \"Zambia\", \"Zimbabwe\", \"Albania\", \"Algeria\", \"Angola\", \"Argentina\", \"Armenia\", \"Australia\", \"Austria\", \"Azerbaijan\", \"Bahamas\", \"Bahrain\", \"Bangladesh\", \"Barbados\", \"Belarus\", \"Belgium\", \"Belize\", \"Benin\", \"Bhutan\", \"Bolivia\", \"Bosnia and Herzegovina\", \"Botswana\", \"Brazil\", \"Brunei Darussalam\", \"Bulgaria\", \"Burkina Faso\", \"Burundi\", \"Cambodia\", \"Cameroon\", \"Canada\", \"Cape Verde\", \"Central Afr. Rep.\", \"Chad\", \"Chile\", \"China\", \"Colombia\", \"Congo, Dem. R.\", \"Congo, Rep. Of\", \"Costa Rica\", \"Cote d'Ivoire\", \"Croatia\", \"Cyprus\", \"Czech Rep.\", \"Denmark\", \"Dominican Rep.\", \"Ecuador\", \"Egypt\", \"El Salvador\", \"Estonia\", \"Ethiopia\", \"Fiji\", \"Finland\", \"France\", \"Gabon\", \"Gambia, The\", \"Georgia\", \"Germany\", \"Ghana\", \"Greece\", \"Guatemala\", \"Guinea\", \"Guinea-Bissau\", \"Guyana\", \"Haiti\", \"Honduras\", \"Hong Kong\", \"Hungary\", \"Iceland\", \"India\", \"Indonesia\", \"Iran\", \"Iraq\", \"Ireland\", \"Israel\", \"Italy\", \"Jamaica\", \"Japan\", \"Jordan\", \"Kazakhstan\", \"Kenya\", \"Korea, South\", \"Kuwait\", \"Kyrgyz Republic\", \"Laos\", \"Latvia\", \"Lebanon\", \"Lesotho\", \"Liberia\", \"Libya\", \"Lithuania\", \"Luxembourg\", \"Macedonia\", \"Madagascar\", \"Malawi\", \"Malaysia\", \"Mali\", \"Malta\", \"Mauritania\", \"Mauritius\", \"Mexico\", \"Moldova\", \"Mongolia\", \"Montenegro\", \"Morocco\", \"Mozambique\", \"Myanmar\", \"Namibia\", \"Nepal\", \"Netherlands\", \"New Zealand\", \"Nicaragua\", \"Niger\", \"Nigeria\", \"Norway\", \"Oman\", \"Pakistan\", \"Panama\", \"Pap. New Guinea\", \"Paraguay\", \"Peru\", \"Philippines\", \"Poland\", \"Portugal\", \"Qatar\", \"Romania\", \"Russia\", \"Rwanda\", \"Saudi Arabia\", \"Senegal\", \"Serbia\", \"Seychelles\", \"Sierra Leone\", \"Singapore\", \"Slovak Rep.\", \"Slovenia\", \"South Africa\", \"Spain\", \"Sri Lanka\", \"Sudan\", \"Suriname\", \"Swaziland\", \"Sweden\", \"Switzerland\", \"Syria\", \"Taiwan\", \"Tajikistan\", \"Tanzania\", \"Thailand\", \"Timor-Leste\", \"Togo\", \"Trinidad and Tobago\", \"Tunisia\", \"Turkey\", \"Uganda\", \"Ukraine\", \"United Arab Emirates\", \"United Kingdom\", \"United States\", \"Uruguay\", \"Venezuela\", \"Vietnam\", \"Yemen, Rep.\", \"Zambia\", \"Zimbabwe\", \"Albania\", \"Algeria\", \"Angola\", \"Argentina\", \"Armenia\", \"Australia\", \"Austria\", \"Azerbaijan\", \"Bahamas\", \"Bahrain\", \"Bangladesh\", \"Barbados\", \"Belarus\", \"Belgium\", \"Belize\", \"Benin\", \"Bhutan\", \"Bolivia\", \"Bosnia and Herzegovina\", \"Botswana\", \"Brazil\", \"Brunei Darussalam\", \"Bulgaria\", \"Burkina Faso\", \"Burundi\", \"Cambodia\", \"Cameroon\", \"Canada\", \"Cape Verde\", \"Central Afr. Rep.\", \"Chad\", \"Chile\", \"China\", \"Colombia\", \"Congo, Dem. R.\", \"Congo, Rep. Of\", \"Costa Rica\", \"Cote d'Ivoire\", \"Croatia\", \"Cyprus\", \"Czech Rep.\", \"Denmark\", \"Dominican Rep.\", \"Ecuador\", \"Egypt\", \"El Salvador\", \"Estonia\", \"Ethiopia\", \"Fiji\", \"Finland\", \"France\", \"Gabon\", \"Gambia, The\", \"Georgia\", \"Germany\", \"Ghana\", \"Greece\", \"Guatemala\", \"Guinea\", \"Guinea-Bissau\", \"Guyana\", \"Haiti\", \"Honduras\", \"Hong Kong\", \"Hungary\", \"Iceland\", \"India\", \"Indonesia\", \"Iran\", \"Iraq\", \"Ireland\", \"Israel\", \"Italy\", \"Jamaica\", \"Japan\", \"Jordan\", \"Kazakhstan\", \"Kenya\", \"Korea, South\", \"Kuwait\", \"Kyrgyz Republic\", \"Laos\", \"Latvia\", \"Lebanon\", \"Lesotho\", \"Liberia\", \"Libya\", \"Lithuania\", \"Luxembourg\", \"Macedonia\", \"Madagascar\", \"Malawi\", \"Malaysia\", \"Mali\", \"Malta\", \"Mauritania\", \"Mauritius\", \"Mexico\", \"Moldova\", \"Mongolia\", \"Montenegro\", \"Morocco\", \"Mozambique\", \"Myanmar\", \"Namibia\", \"Nepal\", \"Netherlands\", \"New Zealand\", \"Nicaragua\", \"Niger\", \"Nigeria\", \"Norway\", \"Oman\", \"Pakistan\", \"Panama\", \"Pap. New Guinea\", \"Paraguay\", \"Peru\", \"Philippines\", \"Poland\", \"Portugal\", \"Qatar\", \"Romania\", \"Russia\", \"Rwanda\", \"Saudi Arabia\", \"Senegal\", \"Serbia\", \"Seychelles\", \"Sierra Leone\", \"Singapore\", \"Slovak Rep.\", \"Slovenia\", \"South Africa\", \"Spain\", \"Sri Lanka\", \"Sudan\", \"Suriname\", \"Swaziland\", \"Sweden\", \"Switzerland\", \"Syria\", \"Taiwan\", \"Tajikistan\", \"Tanzania\", \"Thailand\", \"Timor-Leste\", \"Togo\", \"Trinidad and Tobago\", \"Tunisia\", \"Turkey\", \"Uganda\", \"Ukraine\", \"United Arab Emirates\", \"United Kingdom\", \"United States\", \"Uruguay\", \"Venezuela\", \"Vietnam\", \"Yemen, Rep.\", \"Zambia\", \"Zimbabwe\", \"Albania\", \"Algeria\", \"Angola\", \"Argentina\", \"Armenia\", \"Australia\", \"Austria\", \"Azerbaijan\", \"Bahamas\", \"Bahrain\", \"Bangladesh\", \"Barbados\", \"Belarus\", \"Belgium\", \"Belize\", \"Benin\", \"Bhutan\", \"Bolivia\", \"Bosnia and Herzegovina\", \"Botswana\", \"Brazil\", \"Brunei Darussalam\", \"Bulgaria\", \"Burkina Faso\", \"Burundi\", \"Cambodia\", \"Cameroon\", \"Canada\", \"Cape Verde\", \"Central Afr. Rep.\", \"Chad\", \"Chile\", \"China\", \"Colombia\", \"Congo, Dem. R.\", \"Congo, Rep. Of\", \"Costa Rica\", \"Cote d'Ivoire\", \"Croatia\", \"Cyprus\", \"Czech Rep.\", \"Denmark\", \"Dominican Rep.\", \"Ecuador\", \"Egypt\", \"El Salvador\", \"Estonia\", \"Ethiopia\", \"Fiji\", \"Finland\", \"France\", \"Gabon\", \"Gambia, The\", \"Georgia\", \"Germany\", \"Ghana\", \"Greece\", \"Guatemala\", \"Guinea\", \"Guinea-Bissau\", \"Guyana\", \"Haiti\", \"Honduras\", \"Hong Kong\", \"Hungary\", \"Iceland\", \"India\", \"Indonesia\", \"Iran\", \"Iraq\", \"Ireland\", \"Israel\", \"Italy\", \"Jamaica\", \"Japan\", \"Jordan\", \"Kazakhstan\", \"Kenya\", \"Korea, South\", \"Kuwait\", \"Kyrgyz Republic\", \"Laos\", \"Latvia\", \"Lebanon\", \"Lesotho\", \"Liberia\", \"Libya\", \"Lithuania\", \"Luxembourg\", \"Macedonia\", \"Madagascar\", \"Malawi\", \"Malaysia\", \"Mali\", \"Malta\", \"Mauritania\", \"Mauritius\", \"Mexico\", \"Moldova\", \"Mongolia\", \"Montenegro\", \"Morocco\", \"Mozambique\", \"Myanmar\", \"Namibia\", \"Nepal\", \"Netherlands\", \"New Zealand\", \"Nicaragua\", \"Niger\", \"Nigeria\", \"Norway\", \"Oman\", \"Pakistan\", \"Panama\", \"Pap. New Guinea\", \"Paraguay\", \"Peru\", \"Philippines\", \"Poland\", \"Portugal\", \"Qatar\", \"Romania\", \"Russia\", \"Rwanda\", \"Saudi Arabia\", \"Senegal\", \"Serbia\", \"Seychelles\", \"Sierra Leone\", \"Singapore\", \"Slovak Rep.\", \"Slovenia\", \"South Africa\", \"Spain\", \"Sri Lanka\", \"Sudan\", \"Suriname\", \"Swaziland\", \"Sweden\", \"Switzerland\", \"Syria\", \"Taiwan\", \"Tajikistan\", \"Tanzania\", \"Thailand\", \"Timor-Leste\", \"Togo\", \"Trinidad and Tobago\", \"Tunisia\", \"Turkey\", \"Uganda\", \"Ukraine\", \"United Arab Emirates\", \"United Kingdom\", \"United States\", \"Uruguay\", \"Venezuela\", \"Vietnam\", \"Yemen, Rep.\", \"Zambia\", \"Zimbabwe\", \"Albania\", \"Algeria\", \"Angola\", \"Argentina\", \"Armenia\", \"Australia\", \"Austria\", \"Azerbaijan\", \"Bahamas\", \"Bahrain\", \"Bangladesh\", \"Barbados\", \"Belarus\", \"Belgium\", \"Belize\", \"Benin\", \"Bhutan\", \"Bolivia\", \"Bosnia and Herzegovina\", \"Botswana\", \"Brazil\", \"Brunei Darussalam\", \"Bulgaria\", \"Burkina Faso\", \"Burundi\", \"Cambodia\", \"Cameroon\", \"Canada\", \"Cape Verde\", \"Central Afr. Rep.\", \"Chad\", \"Chile\", \"China\", \"Colombia\", \"Congo, Dem. R.\", \"Congo, Rep. Of\", \"Costa Rica\", \"Cote d'Ivoire\", \"Croatia\", \"Cyprus\", \"Czech Rep.\", \"Denmark\", \"Dominican Rep.\", \"Ecuador\", \"Egypt\", \"El Salvador\", \"Estonia\", \"Ethiopia\", \"Fiji\", \"Finland\", \"France\", \"Gabon\", \"Gambia, The\", \"Georgia\", \"Germany\", \"Ghana\", \"Greece\", \"Guatemala\", \"Guinea\", \"Guinea-Bissau\", \"Guyana\", \"Haiti\", \"Honduras\", \"Hong Kong\", \"Hungary\", \"Iceland\", \"India\", \"Indonesia\", \"Iran\", \"Iraq\", \"Ireland\", \"Israel\", \"Italy\", \"Jamaica\", \"Japan\", \"Jordan\", \"Kazakhstan\", \"Kenya\", \"Korea, South\", \"Kuwait\", \"Kyrgyz Republic\", \"Laos\", \"Latvia\", \"Lebanon\", \"Lesotho\", \"Liberia\", \"Libya\", \"Lithuania\", \"Luxembourg\", \"Macedonia\", \"Madagascar\", \"Malawi\", \"Malaysia\", \"Mali\", \"Malta\", \"Mauritania\", \"Mauritius\", \"Mexico\", \"Moldova\", \"Mongolia\", \"Montenegro\", \"Morocco\", \"Mozambique\", \"Myanmar\", \"Namibia\", \"Nepal\", \"Netherlands\", \"New Zealand\", \"Nicaragua\", \"Niger\", \"Nigeria\", \"Norway\", \"Oman\", \"Pakistan\", \"Panama\", \"Pap. New Guinea\", \"Paraguay\", \"Peru\", \"Philippines\", \"Poland\", \"Portugal\", \"Qatar\", \"Romania\", \"Russia\", \"Rwanda\", \"Saudi Arabia\", \"Senegal\", \"Serbia\", \"Seychelles\", \"Sierra Leone\", \"Singapore\", \"Slovak Rep.\", \"Slovenia\", \"South Africa\", \"Spain\", \"Sri Lanka\", \"Sudan\", \"Suriname\", \"Swaziland\", \"Sweden\", \"Switzerland\", \"Syria\", \"Taiwan\", \"Tajikistan\", \"Tanzania\", \"Thailand\", \"Timor-Leste\", \"Togo\", \"Trinidad and Tobago\", \"Tunisia\", \"Turkey\", \"Uganda\", \"Ukraine\", \"United Arab Emirates\", \"United Kingdom\", \"United States\", \"Uruguay\", \"Venezuela\", \"Vietnam\", \"Yemen, Rep.\", \"Zambia\", \"Zimbabwe\", \"Albania\", \"Algeria\", \"Angola\", \"Argentina\", \"Armenia\", \"Australia\", \"Austria\", \"Azerbaijan\", \"Bahamas\", \"Bahrain\", \"Bangladesh\", \"Barbados\", \"Belarus\", \"Belgium\", \"Belize\", \"Benin\", \"Bhutan\", \"Bolivia\", \"Bosnia and Herzegovina\", \"Botswana\", \"Brazil\", \"Brunei Darussalam\", \"Bulgaria\", \"Burkina Faso\", \"Burundi\", \"Cambodia\", \"Cameroon\", \"Canada\", \"Cape Verde\", \"Central Afr. Rep.\", \"Chad\", \"Chile\", \"China\", \"Colombia\", \"Congo, Dem. R.\", \"Congo, Rep. Of\", \"Costa Rica\", \"Cote d'Ivoire\", \"Croatia\", \"Cyprus\", \"Czech Rep.\", \"Denmark\", \"Dominican Rep.\", \"Ecuador\", \"Egypt\", \"El Salvador\", \"Estonia\", \"Ethiopia\", \"Fiji\", \"Finland\", \"France\", \"Gabon\", \"Gambia, The\", \"Georgia\", \"Germany\", \"Ghana\", \"Greece\", \"Guatemala\", \"Guinea\", \"Guinea-Bissau\", \"Guyana\", \"Haiti\", \"Honduras\", \"Hong Kong\", \"Hungary\", \"Iceland\", \"India\", \"Indonesia\", \"Iran\", \"Iraq\", \"Ireland\", \"Israel\", \"Italy\", \"Jamaica\", \"Japan\", \"Jordan\", \"Kazakhstan\", \"Kenya\", \"Korea, South\", \"Kuwait\", \"Kyrgyz Republic\", \"Laos\", \"Latvia\", \"Lebanon\", \"Lesotho\", \"Liberia\", \"Libya\", \"Lithuania\", \"Luxembourg\", \"Macedonia\", \"Madagascar\", \"Malawi\", \"Malaysia\", \"Mali\", \"Malta\", \"Mauritania\", \"Mauritius\", \"Mexico\", \"Moldova\", \"Mongolia\", \"Montenegro\", \"Morocco\", \"Mozambique\", \"Myanmar\", \"Namibia\", \"Nepal\", \"Netherlands\", \"New Zealand\", \"Nicaragua\", \"Niger\", \"Nigeria\", \"Norway\", \"Oman\", \"Pakistan\", \"Panama\", \"Pap. New Guinea\", \"Paraguay\", \"Peru\", \"Philippines\", \"Poland\", \"Portugal\", \"Qatar\", \"Romania\", \"Russia\", \"Rwanda\", \"Saudi Arabia\", \"Senegal\", \"Serbia\", \"Seychelles\", \"Sierra Leone\", \"Singapore\", \"Slovak Rep.\", \"Slovenia\", \"South Africa\", \"Spain\", \"Sri Lanka\", \"Sudan\", \"Suriname\", \"Swaziland\", \"Sweden\", \"Switzerland\", \"Syria\", \"Taiwan\", \"Tajikistan\", \"Tanzania\", \"Thailand\", \"Timor-Leste\", \"Togo\", \"Trinidad and Tobago\", \"Tunisia\", \"Turkey\", \"Uganda\", \"Ukraine\", \"United Arab Emirates\", \"United Kingdom\", \"United States\", \"Uruguay\", \"Venezuela\", \"Vietnam\", \"Yemen, Rep.\", \"Zambia\", \"Zimbabwe\", \"Albania\", \"Algeria\", \"Angola\", \"Argentina\", \"Armenia\", \"Australia\", \"Austria\", \"Azerbaijan\", \"Bahamas\", \"Bahrain\", \"Bangladesh\", \"Barbados\", \"Belarus\", \"Belgium\", \"Belize\", \"Benin\", \"Bhutan\", \"Bolivia\", \"Bosnia and Herzegovina\", \"Botswana\", \"Brazil\", \"Brunei Darussalam\", \"Bulgaria\", \"Burkina Faso\", \"Burundi\", \"Cambodia\", \"Cameroon\", \"Canada\", \"Cape Verde\", \"Central Afr. Rep.\", \"Chad\", \"Chile\", \"China\", \"Colombia\", \"Congo, Dem. R.\", \"Congo, Rep. Of\", \"Costa Rica\", \"Cote d'Ivoire\", \"Croatia\", \"Cyprus\", \"Czech Rep.\", \"Denmark\", \"Dominican Rep.\", \"Ecuador\", \"Egypt\", \"El Salvador\", \"Estonia\", \"Ethiopia\", \"Fiji\", \"Finland\", \"France\", \"Gabon\", \"Gambia, The\", \"Georgia\", \"Germany\", \"Ghana\", \"Greece\", \"Guatemala\", \"Guinea\", \"Guinea-Bissau\", \"Guyana\", \"Haiti\", \"Honduras\", \"Hong Kong\", \"Hungary\", \"Iceland\", \"India\", \"Indonesia\", \"Iran\", \"Iraq\", \"Ireland\", \"Israel\", \"Italy\", \"Jamaica\", \"Japan\", \"Jordan\", \"Kazakhstan\", \"Kenya\", \"Korea, South\", \"Kuwait\", \"Kyrgyz Republic\", \"Laos\", \"Latvia\", \"Lebanon\", \"Lesotho\", \"Liberia\", \"Libya\", \"Lithuania\", \"Luxembourg\", \"Macedonia\", \"Madagascar\", \"Malawi\", \"Malaysia\", \"Mali\", \"Malta\", \"Mauritania\", \"Mauritius\", \"Mexico\", \"Moldova\", \"Mongolia\", \"Montenegro\", \"Morocco\", \"Mozambique\", \"Myanmar\", \"Namibia\", \"Nepal\", \"Netherlands\", \"New Zealand\", \"Nicaragua\", \"Niger\", \"Nigeria\", \"Norway\", \"Oman\", \"Pakistan\", \"Panama\", \"Pap. New Guinea\", \"Paraguay\", \"Peru\", \"Philippines\", \"Poland\", \"Portugal\", \"Qatar\", \"Romania\", \"Russia\", \"Rwanda\", \"Saudi Arabia\", \"Senegal\", \"Serbia\", \"Seychelles\", \"Sierra Leone\", \"Singapore\", \"Slovak Rep.\", \"Slovenia\", \"South Africa\", \"Spain\", \"Sri Lanka\", \"Sudan\", \"Suriname\", \"Swaziland\", \"Sweden\", \"Switzerland\", \"Syria\", \"Taiwan\", \"Tajikistan\", \"Tanzania\", \"Thailand\", \"Timor-Leste\", \"Togo\", \"Trinidad and Tobago\", \"Tunisia\", \"Turkey\", \"Uganda\", \"Ukraine\", \"United Arab Emirates\", \"United Kingdom\", \"United States\", \"Uruguay\", \"Venezuela\", \"Vietnam\", \"Yemen, Rep.\", \"Zambia\", \"Zimbabwe\", \"Albania\", \"Algeria\", \"Angola\", \"Argentina\", \"Armenia\", \"Australia\", \"Austria\", \"Azerbaijan\", \"Bahamas\", \"Bahrain\", \"Bangladesh\", \"Barbados\", \"Belarus\", \"Belgium\", \"Belize\", \"Benin\", \"Bhutan\", \"Bolivia\", \"Bosnia and Herzegovina\", \"Botswana\", \"Brazil\", \"Brunei Darussalam\", \"Bulgaria\", \"Burkina Faso\", \"Burundi\", \"Cambodia\", \"Cameroon\", \"Canada\", \"Cape Verde\", \"Central Afr. Rep.\", \"Chad\", \"Chile\", \"China\", \"Colombia\", \"Congo, Dem. R.\", \"Congo, Rep. Of\", \"Costa Rica\", \"Cote d'Ivoire\", \"Croatia\", \"Cyprus\", \"Czech Rep.\", \"Denmark\", \"Dominican Rep.\", \"Ecuador\", \"Egypt\", \"El Salvador\", \"Estonia\", \"Ethiopia\", \"Fiji\", \"Finland\", \"France\", \"Gabon\", \"Gambia, The\", \"Georgia\", \"Germany\", \"Ghana\", \"Greece\", \"Guatemala\", \"Guinea\", \"Guinea-Bissau\", \"Guyana\", \"Haiti\", \"Honduras\", \"Hong Kong\", \"Hungary\", \"Iceland\", \"India\", \"Indonesia\", \"Iran\", \"Iraq\", \"Ireland\", \"Israel\", \"Italy\", \"Jamaica\", \"Japan\", \"Jordan\", \"Kazakhstan\", \"Kenya\", \"Korea, South\", \"Kuwait\", \"Kyrgyz Republic\", \"Laos\", \"Latvia\", \"Lebanon\", \"Lesotho\", \"Liberia\", \"Libya\", \"Lithuania\", \"Luxembourg\", \"Macedonia\", \"Madagascar\", \"Malawi\", \"Malaysia\", \"Mali\", \"Malta\", \"Mauritania\", \"Mauritius\", \"Mexico\", \"Moldova\", \"Mongolia\", \"Montenegro\", \"Morocco\", \"Mozambique\", \"Myanmar\", \"Namibia\", \"Nepal\", \"Netherlands\", \"New Zealand\", \"Nicaragua\", \"Niger\", \"Nigeria\", \"Norway\", \"Oman\", \"Pakistan\", \"Panama\", \"Pap. New Guinea\", \"Paraguay\", \"Peru\", \"Philippines\", \"Poland\", \"Portugal\", \"Qatar\", \"Romania\", \"Russia\", \"Rwanda\", \"Saudi Arabia\", \"Senegal\", \"Serbia\", \"Seychelles\", \"Sierra Leone\", \"Singapore\", \"Slovak Rep.\", \"Slovenia\", \"South Africa\", \"Spain\", \"Sri Lanka\", \"Sudan\", \"Suriname\", \"Swaziland\", \"Sweden\", \"Switzerland\", \"Syria\", \"Taiwan\", \"Tajikistan\", \"Tanzania\", \"Thailand\", \"Timor-Leste\", \"Togo\", \"Trinidad and Tobago\", \"Tunisia\", \"Turkey\", \"Uganda\", \"Ukraine\", \"United Arab Emirates\", \"United Kingdom\", \"United States\", \"Uruguay\", \"Venezuela\", \"Vietnam\", \"Yemen, Rep.\", \"Zambia\", \"Zimbabwe\"], \"reversescale\": true, \"text\": [\"Eastern Europe\", \"Middle East & North Africa\", \"Sub-Saharan Africa\", \"Latin America & the Caribbean\", \"Caucasus & Central Asia\", \"Oceania\", \"Western Europe\", \"Caucasus & Central Asia\", \"Latin America & the Caribbean\", \"Middle East & North Africa\", \"South Asia\", \"Latin America & the Caribbean\", \"Eastern Europe\", \"Western Europe\", \"Latin America & the Caribbean\", \"Sub-Saharan Africa\", \"South Asia\", \"Latin America & the Caribbean\", \"Eastern Europe\", \"Sub-Saharan Africa\", \"Latin America & the Caribbean\", \"South Asia\", \"Eastern Europe\", \"Sub-Saharan Africa\", \"Sub-Saharan Africa\", \"South Asia\", \"Sub-Saharan Africa\", \"North America\", \"Sub-Saharan Africa\", \"Sub-Saharan Africa\", \"Sub-Saharan Africa\", \"Latin America & the Caribbean\", \"East Asia\", \"Latin America & the Caribbean\", \"Sub-Saharan Africa\", \"Sub-Saharan Africa\", \"Latin America & the Caribbean\", \"Sub-Saharan Africa\", \"Eastern Europe\", \"Eastern Europe\", \"Eastern Europe\", \"Western Europe\", \"Latin America & the Caribbean\", \"Latin America & the Caribbean\", \"Middle East & North Africa\", \"Latin America & the Caribbean\", \"Eastern Europe\", \"Sub-Saharan Africa\", \"Oceania\", \"Western Europe\", \"Western Europe\", \"Sub-Saharan Africa\", \"Sub-Saharan Africa\", \"Caucasus & Central Asia\", \"Western Europe\", \"Sub-Saharan Africa\", \"Eastern Europe\", \"Latin America & the Caribbean\", \"Sub-Saharan Africa\", \"Sub-Saharan Africa\", \"Latin America & the Caribbean\", \"Latin America & the Caribbean\", \"Latin America & the Caribbean\", \"East Asia\", \"Eastern Europe\", \"Western Europe\", \"South Asia\", \"South Asia\", \"Middle East & North Africa\", \"Middle East & North Africa\", \"Western Europe\", \"Middle East & North Africa\", \"Western Europe\", \"Latin America & the Caribbean\", \"East Asia\", \"Middle East & North Africa\", \"Caucasus & Central Asia\", \"Sub-Saharan Africa\", \"East Asia\", \"Middle East & North Africa\", \"Caucasus & Central Asia\", \"South Asia\", \"Eastern Europe\", \"Middle East & North Africa\", \"Sub-Saharan Africa\", \"Sub-Saharan Africa\", \"Middle East & North Africa\", \"Eastern Europe\", \"Western Europe\", \"Eastern Europe\", \"Sub-Saharan Africa\", \"Sub-Saharan Africa\", \"South Asia\", \"Sub-Saharan Africa\", \"Western Europe\", \"Sub-Saharan Africa\", \"Sub-Saharan Africa\", \"Latin America & the Caribbean\", \"Eastern Europe\", \"East Asia\", \"Eastern Europe\", \"Middle East & North Africa\", \"Sub-Saharan Africa\", \"South Asia\", \"Sub-Saharan Africa\", \"South Asia\", \"Western Europe\", \"Oceania\", \"Latin America & the Caribbean\", \"Sub-Saharan Africa\", \"Sub-Saharan Africa\", \"Western Europe\", \"Middle East & North Africa\", \"South Asia\", \"Latin America & the Caribbean\", \"Oceania\", \"Latin America & the Caribbean\", \"Latin America & the Caribbean\", \"South Asia\", \"Eastern Europe\", \"Western Europe\", \"Middle East & North Africa\", \"Eastern Europe\", \"Eastern Europe\", \"Sub-Saharan Africa\", \"Middle East & North Africa\", \"Sub-Saharan Africa\", \"Eastern Europe\", \"Sub-Saharan Africa\", \"Sub-Saharan Africa\", \"South Asia\", \"Eastern Europe\", \"Eastern Europe\", \"Sub-Saharan Africa\", \"Western Europe\", \"South Asia\", \"Sub-Saharan Africa\", \"Latin America & the Caribbean\", \"Sub-Saharan Africa\", \"Western Europe\", \"Western Europe\", \"Middle East & North Africa\", \"East Asia\", \"Caucasus & Central Asia\", \"Sub-Saharan Africa\", \"South Asia\", \"South Asia\", \"Sub-Saharan Africa\", \"Latin America & the Caribbean\", \"Middle East & North Africa\", \"Middle East & North Africa\", \"Sub-Saharan Africa\", \"Eastern Europe\", \"Middle East & North Africa\", \"Western Europe\", \"North America\", \"Latin America & the Caribbean\", \"Latin America & the Caribbean\", \"South Asia\", \"Middle East & North Africa\", \"Sub-Saharan Africa\", \"Sub-Saharan Africa\", \"Eastern Europe\", \"Middle East & North Africa\", \"Sub-Saharan Africa\", \"Latin America & the Caribbean\", \"Caucasus & Central Asia\", \"Oceania\", \"Western Europe\", \"Caucasus & Central Asia\", \"Latin America & the Caribbean\", \"Middle East & North Africa\", \"South Asia\", \"Latin America & the Caribbean\", \"Eastern Europe\", \"Western Europe\", \"Latin America & the Caribbean\", \"Sub-Saharan Africa\", \"South Asia\", \"Latin America & the Caribbean\", \"Eastern Europe\", \"Sub-Saharan Africa\", \"Latin America & the Caribbean\", \"South Asia\", \"Eastern Europe\", \"Sub-Saharan Africa\", \"Sub-Saharan Africa\", \"South Asia\", \"Sub-Saharan Africa\", \"North America\", \"Sub-Saharan Africa\", \"Sub-Saharan Africa\", \"Sub-Saharan Africa\", \"Latin America & the Caribbean\", \"East Asia\", \"Latin America & the Caribbean\", \"Sub-Saharan Africa\", \"Sub-Saharan Africa\", \"Latin America & the Caribbean\", \"Sub-Saharan Africa\", \"Eastern Europe\", \"Eastern Europe\", \"Eastern Europe\", \"Western Europe\", \"Latin America & the Caribbean\", \"Latin America & the Caribbean\", \"Middle East & North Africa\", \"Latin America & the Caribbean\", \"Eastern Europe\", \"Sub-Saharan Africa\", \"Oceania\", \"Western Europe\", \"Western Europe\", \"Sub-Saharan Africa\", \"Sub-Saharan Africa\", \"Caucasus & Central Asia\", \"Western Europe\", \"Sub-Saharan Africa\", \"Eastern Europe\", \"Latin America & the Caribbean\", \"Sub-Saharan Africa\", \"Sub-Saharan Africa\", \"Latin America & the Caribbean\", \"Latin America & the Caribbean\", \"Latin America & the Caribbean\", \"East Asia\", \"Eastern Europe\", \"Western Europe\", \"South Asia\", \"South Asia\", \"Middle East & North Africa\", \"Middle East & North Africa\", \"Western Europe\", \"Middle East & North Africa\", \"Western Europe\", \"Latin America & the Caribbean\", \"East Asia\", \"Middle East & North Africa\", \"Caucasus & Central Asia\", \"Sub-Saharan Africa\", \"East Asia\", \"Middle East & North Africa\", \"Caucasus & Central Asia\", \"South Asia\", \"Eastern Europe\", \"Middle East & North Africa\", \"Sub-Saharan Africa\", \"Sub-Saharan Africa\", \"Middle East & North Africa\", \"Eastern Europe\", \"Western Europe\", \"Eastern Europe\", \"Sub-Saharan Africa\", \"Sub-Saharan Africa\", \"South Asia\", \"Sub-Saharan Africa\", \"Western Europe\", \"Sub-Saharan Africa\", \"Sub-Saharan Africa\", \"Latin America & the Caribbean\", \"Eastern Europe\", \"East Asia\", \"Eastern Europe\", \"Middle East & North Africa\", \"Sub-Saharan Africa\", \"South Asia\", \"Sub-Saharan Africa\", \"South Asia\", \"Western Europe\", \"Oceania\", \"Latin America & the Caribbean\", \"Sub-Saharan Africa\", \"Sub-Saharan Africa\", \"Western Europe\", \"Middle East & North Africa\", \"South Asia\", \"Latin America & the Caribbean\", \"Oceania\", \"Latin America & the Caribbean\", \"Latin America & the Caribbean\", \"South Asia\", \"Eastern Europe\", \"Western Europe\", \"Middle East & North Africa\", \"Eastern Europe\", \"Eastern Europe\", \"Sub-Saharan Africa\", \"Middle East & North Africa\", \"Sub-Saharan Africa\", \"Eastern Europe\", \"Sub-Saharan Africa\", \"Sub-Saharan Africa\", \"South Asia\", \"Eastern Europe\", \"Eastern Europe\", \"Sub-Saharan Africa\", \"Western Europe\", \"South Asia\", \"Sub-Saharan Africa\", \"Latin America & the Caribbean\", \"Sub-Saharan Africa\", \"Western Europe\", \"Western Europe\", \"Middle East & North Africa\", \"East Asia\", \"Caucasus & Central Asia\", \"Sub-Saharan Africa\", \"South Asia\", \"South Asia\", \"Sub-Saharan Africa\", \"Latin America & the Caribbean\", \"Middle East & North Africa\", \"Middle East & North Africa\", \"Sub-Saharan Africa\", \"Eastern Europe\", \"Middle East & North Africa\", \"Western Europe\", \"North America\", \"Latin America & the Caribbean\", \"Latin America & the Caribbean\", \"South Asia\", \"Middle East & North Africa\", \"Sub-Saharan Africa\", \"Sub-Saharan Africa\", \"Eastern Europe\", \"Middle East & North Africa\", \"Sub-Saharan Africa\", \"Latin America & the Caribbean\", \"Caucasus & Central Asia\", \"Oceania\", \"Western Europe\", \"Caucasus & Central Asia\", \"Latin America & the Caribbean\", \"Middle East & North Africa\", \"South Asia\", \"Latin America & the Caribbean\", \"Eastern Europe\", \"Western Europe\", \"Latin America & the Caribbean\", \"Sub-Saharan Africa\", \"South Asia\", \"Latin America & the Caribbean\", \"Eastern Europe\", \"Sub-Saharan Africa\", \"Latin America & the Caribbean\", \"South Asia\", \"Eastern Europe\", \"Sub-Saharan Africa\", \"Sub-Saharan Africa\", \"South Asia\", \"Sub-Saharan Africa\", \"North America\", \"Sub-Saharan Africa\", \"Sub-Saharan Africa\", \"Sub-Saharan Africa\", \"Latin America & the Caribbean\", \"East Asia\", \"Latin America & the Caribbean\", \"Sub-Saharan Africa\", \"Sub-Saharan Africa\", \"Latin America & the Caribbean\", \"Sub-Saharan Africa\", \"Eastern Europe\", \"Eastern Europe\", \"Eastern Europe\", \"Western Europe\", \"Latin America & the Caribbean\", \"Latin America & the Caribbean\", \"Middle East & North Africa\", \"Latin America & the Caribbean\", \"Eastern Europe\", \"Sub-Saharan Africa\", \"Oceania\", \"Western Europe\", \"Western Europe\", \"Sub-Saharan Africa\", \"Sub-Saharan Africa\", \"Caucasus & Central Asia\", \"Western Europe\", \"Sub-Saharan Africa\", \"Eastern Europe\", \"Latin America & the Caribbean\", \"Sub-Saharan Africa\", \"Sub-Saharan Africa\", \"Latin America & the Caribbean\", \"Latin America & the Caribbean\", \"Latin America & the Caribbean\", \"East Asia\", \"Eastern Europe\", \"Western Europe\", \"South Asia\", \"South Asia\", \"Middle East & North Africa\", \"Middle East & North Africa\", \"Western Europe\", \"Middle East & North Africa\", \"Western Europe\", \"Latin America & the Caribbean\", \"East Asia\", \"Middle East & North Africa\", \"Caucasus & Central Asia\", \"Sub-Saharan Africa\", \"East Asia\", \"Middle East & North Africa\", \"Caucasus & Central Asia\", \"South Asia\", \"Eastern Europe\", \"Middle East & North Africa\", \"Sub-Saharan Africa\", \"Sub-Saharan Africa\", \"Middle East & North Africa\", \"Eastern Europe\", \"Western Europe\", \"Eastern Europe\", \"Sub-Saharan Africa\", \"Sub-Saharan Africa\", \"South Asia\", \"Sub-Saharan Africa\", \"Western Europe\", \"Sub-Saharan Africa\", \"Sub-Saharan Africa\", \"Latin America & the Caribbean\", \"Eastern Europe\", \"East Asia\", \"Eastern Europe\", \"Middle East & North Africa\", \"Sub-Saharan Africa\", \"South Asia\", \"Sub-Saharan Africa\", \"South Asia\", \"Western Europe\", \"Oceania\", \"Latin America & the Caribbean\", \"Sub-Saharan Africa\", \"Sub-Saharan Africa\", \"Western Europe\", \"Middle East & North Africa\", \"South Asia\", \"Latin America & the Caribbean\", \"Oceania\", \"Latin America & the Caribbean\", \"Latin America & the Caribbean\", \"South Asia\", \"Eastern Europe\", \"Western Europe\", \"Middle East & North Africa\", \"Eastern Europe\", \"Eastern Europe\", \"Sub-Saharan Africa\", \"Middle East & North Africa\", \"Sub-Saharan Africa\", \"Eastern Europe\", \"Sub-Saharan Africa\", \"Sub-Saharan Africa\", \"South Asia\", \"Eastern Europe\", \"Eastern Europe\", \"Sub-Saharan Africa\", \"Western Europe\", \"South Asia\", \"Sub-Saharan Africa\", \"Latin America & the Caribbean\", \"Sub-Saharan Africa\", \"Western Europe\", \"Western Europe\", \"Middle East & North Africa\", \"East Asia\", \"Caucasus & Central Asia\", \"Sub-Saharan Africa\", \"South Asia\", \"South Asia\", \"Sub-Saharan Africa\", \"Latin America & the Caribbean\", \"Middle East & North Africa\", \"Middle East & North Africa\", \"Sub-Saharan Africa\", \"Eastern Europe\", \"Middle East & North Africa\", \"Western Europe\", \"North America\", \"Latin America & the Caribbean\", \"Latin America & the Caribbean\", \"South Asia\", \"Middle East & North Africa\", \"Sub-Saharan Africa\", \"Sub-Saharan Africa\", \"Eastern Europe\", \"Middle East & North Africa\", \"Sub-Saharan Africa\", \"Latin America & the Caribbean\", \"Caucasus & Central Asia\", \"Oceania\", \"Western Europe\", \"Caucasus & Central Asia\", \"Latin America & the Caribbean\", \"Middle East & North Africa\", \"South Asia\", \"Latin America & the Caribbean\", \"Eastern Europe\", \"Western Europe\", \"Latin America & the Caribbean\", \"Sub-Saharan Africa\", \"South Asia\", \"Latin America & the Caribbean\", \"Eastern Europe\", \"Sub-Saharan Africa\", \"Latin America & the Caribbean\", \"South Asia\", \"Eastern Europe\", \"Sub-Saharan Africa\", \"Sub-Saharan Africa\", \"South Asia\", \"Sub-Saharan Africa\", \"North America\", \"Sub-Saharan Africa\", \"Sub-Saharan Africa\", \"Sub-Saharan Africa\", \"Latin America & the Caribbean\", \"East Asia\", \"Latin America & the Caribbean\", \"Sub-Saharan Africa\", \"Sub-Saharan Africa\", \"Latin America & the Caribbean\", \"Sub-Saharan Africa\", \"Eastern Europe\", \"Eastern Europe\", \"Eastern Europe\", \"Western Europe\", \"Latin America & the Caribbean\", \"Latin America & the Caribbean\", \"Middle East & North Africa\", \"Latin America & the Caribbean\", \"Eastern Europe\", \"Sub-Saharan Africa\", \"Oceania\", \"Western Europe\", \"Western Europe\", \"Sub-Saharan Africa\", \"Sub-Saharan Africa\", \"Caucasus & Central Asia\", \"Western Europe\", \"Sub-Saharan Africa\", \"Eastern Europe\", \"Latin America & the Caribbean\", \"Sub-Saharan Africa\", \"Sub-Saharan Africa\", \"Latin America & the Caribbean\", \"Latin America & the Caribbean\", \"Latin America & the Caribbean\", \"East Asia\", \"Eastern Europe\", \"Western Europe\", \"South Asia\", \"South Asia\", \"Middle East & North Africa\", \"Middle East & North Africa\", \"Western Europe\", \"Middle East & North Africa\", \"Western Europe\", \"Latin America & the Caribbean\", \"East Asia\", \"Middle East & North Africa\", \"Caucasus & Central Asia\", \"Sub-Saharan Africa\", \"East Asia\", \"Middle East & North Africa\", \"Caucasus & Central Asia\", \"South Asia\", \"Eastern Europe\", \"Middle East & North Africa\", \"Sub-Saharan Africa\", \"Sub-Saharan Africa\", \"Middle East & North Africa\", \"Eastern Europe\", \"Western Europe\", \"Eastern Europe\", \"Sub-Saharan Africa\", \"Sub-Saharan Africa\", \"South Asia\", \"Sub-Saharan Africa\", \"Western Europe\", \"Sub-Saharan Africa\", \"Sub-Saharan Africa\", \"Latin America & the Caribbean\", \"Eastern Europe\", \"East Asia\", \"Eastern Europe\", \"Middle East & North Africa\", \"Sub-Saharan Africa\", \"South Asia\", \"Sub-Saharan Africa\", \"South Asia\", \"Western Europe\", \"Oceania\", \"Latin America & the Caribbean\", \"Sub-Saharan Africa\", \"Sub-Saharan Africa\", \"Western Europe\", \"Middle East & North Africa\", \"South Asia\", \"Latin America & the Caribbean\", \"Oceania\", \"Latin America & the Caribbean\", \"Latin America & the Caribbean\", \"South Asia\", \"Eastern Europe\", \"Western Europe\", \"Middle East & North Africa\", \"Eastern Europe\", \"Eastern Europe\", \"Sub-Saharan Africa\", \"Middle East & North Africa\", \"Sub-Saharan Africa\", \"Eastern Europe\", \"Sub-Saharan Africa\", \"Sub-Saharan Africa\", \"South Asia\", \"Eastern Europe\", \"Eastern Europe\", \"Sub-Saharan Africa\", \"Western Europe\", \"South Asia\", \"Sub-Saharan Africa\", \"Latin America & the Caribbean\", \"Sub-Saharan Africa\", \"Western Europe\", \"Western Europe\", \"Middle East & North Africa\", \"East Asia\", \"Caucasus & Central Asia\", \"Sub-Saharan Africa\", \"South Asia\", \"South Asia\", \"Sub-Saharan Africa\", \"Latin America & the Caribbean\", \"Middle East & North Africa\", \"Middle East & North Africa\", \"Sub-Saharan Africa\", \"Eastern Europe\", \"Middle East & North Africa\", \"Western Europe\", \"North America\", \"Latin America & the Caribbean\", \"Latin America & the Caribbean\", \"South Asia\", \"Middle East & North Africa\", \"Sub-Saharan Africa\", \"Sub-Saharan Africa\", \"Eastern Europe\", \"Middle East & North Africa\", \"Sub-Saharan Africa\", \"Latin America & the Caribbean\", \"Caucasus & Central Asia\", \"Oceania\", \"Western Europe\", \"Caucasus & Central Asia\", \"Latin America & the Caribbean\", \"Middle East & North Africa\", \"South Asia\", \"Latin America & the Caribbean\", \"Eastern Europe\", \"Western Europe\", \"Latin America & the Caribbean\", \"Sub-Saharan Africa\", \"South Asia\", \"Latin America & the Caribbean\", \"Eastern Europe\", \"Sub-Saharan Africa\", \"Latin America & the Caribbean\", \"South Asia\", \"Eastern Europe\", \"Sub-Saharan Africa\", \"Sub-Saharan Africa\", \"South Asia\", \"Sub-Saharan Africa\", \"North America\", \"Sub-Saharan Africa\", \"Sub-Saharan Africa\", \"Sub-Saharan Africa\", \"Latin America & the Caribbean\", \"East Asia\", \"Latin America & the Caribbean\", \"Sub-Saharan Africa\", \"Sub-Saharan Africa\", \"Latin America & the Caribbean\", \"Sub-Saharan Africa\", \"Eastern Europe\", \"Eastern Europe\", \"Eastern Europe\", \"Western Europe\", \"Latin America & the Caribbean\", \"Latin America & the Caribbean\", \"Middle East & North Africa\", \"Latin America & the Caribbean\", \"Eastern Europe\", \"Sub-Saharan Africa\", \"Oceania\", \"Western Europe\", \"Western Europe\", \"Sub-Saharan Africa\", \"Sub-Saharan Africa\", \"Caucasus & Central Asia\", \"Western Europe\", \"Sub-Saharan Africa\", \"Eastern Europe\", \"Latin America & the Caribbean\", \"Sub-Saharan Africa\", \"Sub-Saharan Africa\", \"Latin America & the Caribbean\", \"Latin America & the Caribbean\", \"Latin America & the Caribbean\", \"East Asia\", \"Eastern Europe\", \"Western Europe\", \"South Asia\", \"South Asia\", \"Middle East & North Africa\", \"Middle East & North Africa\", \"Western Europe\", \"Middle East & North Africa\", \"Western Europe\", \"Latin America & the Caribbean\", \"East Asia\", \"Middle East & North Africa\", \"Caucasus & Central Asia\", \"Sub-Saharan Africa\", \"East Asia\", \"Middle East & North Africa\", \"Caucasus & Central Asia\", \"South Asia\", \"Eastern Europe\", \"Middle East & North Africa\", \"Sub-Saharan Africa\", \"Sub-Saharan Africa\", \"Middle East & North Africa\", \"Eastern Europe\", \"Western Europe\", \"Eastern Europe\", \"Sub-Saharan Africa\", \"Sub-Saharan Africa\", \"South Asia\", \"Sub-Saharan Africa\", \"Western Europe\", \"Sub-Saharan Africa\", \"Sub-Saharan Africa\", \"Latin America & the Caribbean\", \"Eastern Europe\", \"East Asia\", \"Eastern Europe\", \"Middle East & North Africa\", \"Sub-Saharan Africa\", \"South Asia\", \"Sub-Saharan Africa\", \"South Asia\", \"Western Europe\", \"Oceania\", \"Latin America & the Caribbean\", \"Sub-Saharan Africa\", \"Sub-Saharan Africa\", \"Western Europe\", \"Middle East & North Africa\", \"South Asia\", \"Latin America & the Caribbean\", \"Oceania\", \"Latin America & the Caribbean\", \"Latin America & the Caribbean\", \"South Asia\", \"Eastern Europe\", \"Western Europe\", \"Middle East & North Africa\", \"Eastern Europe\", \"Eastern Europe\", \"Sub-Saharan Africa\", \"Middle East & North Africa\", \"Sub-Saharan Africa\", \"Eastern Europe\", \"Sub-Saharan Africa\", \"Sub-Saharan Africa\", \"South Asia\", \"Eastern Europe\", \"Eastern Europe\", \"Sub-Saharan Africa\", \"Western Europe\", \"South Asia\", \"Sub-Saharan Africa\", \"Latin America & the Caribbean\", \"Sub-Saharan Africa\", \"Western Europe\", \"Western Europe\", \"Middle East & North Africa\", \"East Asia\", \"Caucasus & Central Asia\", \"Sub-Saharan Africa\", \"South Asia\", \"South Asia\", \"Sub-Saharan Africa\", \"Latin America & the Caribbean\", \"Middle East & North Africa\", \"Middle East & North Africa\", \"Sub-Saharan Africa\", \"Eastern Europe\", \"Middle East & North Africa\", \"Western Europe\", \"North America\", \"Latin America & the Caribbean\", \"Latin America & the Caribbean\", \"South Asia\", \"Middle East & North Africa\", \"Sub-Saharan Africa\", \"Sub-Saharan Africa\", \"Eastern Europe\", \"Middle East & North Africa\", \"Sub-Saharan Africa\", \"Latin America & the Caribbean\", \"Caucasus & Central Asia\", \"Oceania\", \"Western Europe\", \"Caucasus & Central Asia\", \"Latin America & the Caribbean\", \"Middle East & North Africa\", \"South Asia\", \"Latin America & the Caribbean\", \"Eastern Europe\", \"Western Europe\", \"Latin America & the Caribbean\", \"Sub-Saharan Africa\", \"South Asia\", \"Latin America & the Caribbean\", \"Eastern Europe\", \"Sub-Saharan Africa\", \"Latin America & the Caribbean\", \"South Asia\", \"Eastern Europe\", \"Sub-Saharan Africa\", \"Sub-Saharan Africa\", \"South Asia\", \"Sub-Saharan Africa\", \"North America\", \"Sub-Saharan Africa\", \"Sub-Saharan Africa\", \"Sub-Saharan Africa\", \"Latin America & the Caribbean\", \"East Asia\", \"Latin America & the Caribbean\", \"Sub-Saharan Africa\", \"Sub-Saharan Africa\", \"Latin America & the Caribbean\", \"Sub-Saharan Africa\", \"Eastern Europe\", \"Eastern Europe\", \"Eastern Europe\", \"Western Europe\", \"Latin America & the Caribbean\", \"Latin America & the Caribbean\", \"Middle East & North Africa\", \"Latin America & the Caribbean\", \"Eastern Europe\", \"Sub-Saharan Africa\", \"Oceania\", \"Western Europe\", \"Western Europe\", \"Sub-Saharan Africa\", \"Sub-Saharan Africa\", \"Caucasus & Central Asia\", \"Western Europe\", \"Sub-Saharan Africa\", \"Eastern Europe\", \"Latin America & the Caribbean\", \"Sub-Saharan Africa\", \"Sub-Saharan Africa\", \"Latin America & the Caribbean\", \"Latin America & the Caribbean\", \"Latin America & the Caribbean\", \"East Asia\", \"Eastern Europe\", \"Western Europe\", \"South Asia\", \"South Asia\", \"Middle East & North Africa\", \"Middle East & North Africa\", \"Western Europe\", \"Middle East & North Africa\", \"Western Europe\", \"Latin America & the Caribbean\", \"East Asia\", \"Middle East & North Africa\", \"Caucasus & Central Asia\", \"Sub-Saharan Africa\", \"East Asia\", \"Middle East & North Africa\", \"Caucasus & Central Asia\", \"South Asia\", \"Eastern Europe\", \"Middle East & North Africa\", \"Sub-Saharan Africa\", \"Sub-Saharan Africa\", \"Middle East & North Africa\", \"Eastern Europe\", \"Western Europe\", \"Eastern Europe\", \"Sub-Saharan Africa\", \"Sub-Saharan Africa\", \"South Asia\", \"Sub-Saharan Africa\", \"Western Europe\", \"Sub-Saharan Africa\", \"Sub-Saharan Africa\", \"Latin America & the Caribbean\", \"Eastern Europe\", \"East Asia\", \"Eastern Europe\", \"Middle East & North Africa\", \"Sub-Saharan Africa\", \"South Asia\", \"Sub-Saharan Africa\", \"South Asia\", \"Western Europe\", \"Oceania\", \"Latin America & the Caribbean\", \"Sub-Saharan Africa\", \"Sub-Saharan Africa\", \"Western Europe\", \"Middle East & North Africa\", \"South Asia\", \"Latin America & the Caribbean\", \"Oceania\", \"Latin America & the Caribbean\", \"Latin America & the Caribbean\", \"South Asia\", \"Eastern Europe\", \"Western Europe\", \"Middle East & North Africa\", \"Eastern Europe\", \"Eastern Europe\", \"Sub-Saharan Africa\", \"Middle East & North Africa\", \"Sub-Saharan Africa\", \"Eastern Europe\", \"Sub-Saharan Africa\", \"Sub-Saharan Africa\", \"South Asia\", \"Eastern Europe\", \"Eastern Europe\", \"Sub-Saharan Africa\", \"Western Europe\", \"South Asia\", \"Sub-Saharan Africa\", \"Latin America & the Caribbean\", \"Sub-Saharan Africa\", \"Western Europe\", \"Western Europe\", \"Middle East & North Africa\", \"East Asia\", \"Caucasus & Central Asia\", \"Sub-Saharan Africa\", \"South Asia\", \"South Asia\", \"Sub-Saharan Africa\", \"Latin America & the Caribbean\", \"Middle East & North Africa\", \"Middle East & North Africa\", \"Sub-Saharan Africa\", \"Eastern Europe\", \"Middle East & North Africa\", \"Western Europe\", \"North America\", \"Latin America & the Caribbean\", \"Latin America & the Caribbean\", \"South Asia\", \"Middle East & North Africa\", \"Sub-Saharan Africa\", \"Sub-Saharan Africa\", \"Eastern Europe\", \"Middle East & North Africa\", \"Sub-Saharan Africa\", \"Latin America & the Caribbean\", \"Caucasus & Central Asia\", \"Oceania\", \"Western Europe\", \"Caucasus & Central Asia\", \"Latin America & the Caribbean\", \"Middle East & North Africa\", \"South Asia\", \"Latin America & the Caribbean\", \"Eastern Europe\", \"Western Europe\", \"Latin America & the Caribbean\", \"Sub-Saharan Africa\", \"South Asia\", \"Latin America & the Caribbean\", \"Eastern Europe\", \"Sub-Saharan Africa\", \"Latin America & the Caribbean\", \"South Asia\", \"Eastern Europe\", \"Sub-Saharan Africa\", \"Sub-Saharan Africa\", \"South Asia\", \"Sub-Saharan Africa\", \"North America\", \"Sub-Saharan Africa\", \"Sub-Saharan Africa\", \"Sub-Saharan Africa\", \"Latin America & the Caribbean\", \"East Asia\", \"Latin America & the Caribbean\", \"Sub-Saharan Africa\", \"Sub-Saharan Africa\", \"Latin America & the Caribbean\", \"Sub-Saharan Africa\", \"Eastern Europe\", \"Eastern Europe\", \"Eastern Europe\", \"Western Europe\", \"Latin America & the Caribbean\", \"Latin America & the Caribbean\", \"Middle East & North Africa\", \"Latin America & the Caribbean\", \"Eastern Europe\", \"Sub-Saharan Africa\", \"Oceania\", \"Western Europe\", \"Western Europe\", \"Sub-Saharan Africa\", \"Sub-Saharan Africa\", \"Caucasus & Central Asia\", \"Western Europe\", \"Sub-Saharan Africa\", \"Eastern Europe\", \"Latin America & the Caribbean\", \"Sub-Saharan Africa\", \"Sub-Saharan Africa\", \"Latin America & the Caribbean\", \"Latin America & the Caribbean\", \"Latin America & the Caribbean\", \"East Asia\", \"Eastern Europe\", \"Western Europe\", \"South Asia\", \"South Asia\", \"Middle East & North Africa\", \"Middle East & North Africa\", \"Western Europe\", \"Middle East & North Africa\", \"Western Europe\", \"Latin America & the Caribbean\", \"East Asia\", \"Middle East & North Africa\", \"Caucasus & Central Asia\", \"Sub-Saharan Africa\", \"East Asia\", \"Middle East & North Africa\", \"Caucasus & Central Asia\", \"South Asia\", \"Eastern Europe\", \"Middle East & North Africa\", \"Sub-Saharan Africa\", \"Sub-Saharan Africa\", \"Middle East & North Africa\", \"Eastern Europe\", \"Western Europe\", \"Eastern Europe\", \"Sub-Saharan Africa\", \"Sub-Saharan Africa\", \"South Asia\", \"Sub-Saharan Africa\", \"Western Europe\", \"Sub-Saharan Africa\", \"Sub-Saharan Africa\", \"Latin America & the Caribbean\", \"Eastern Europe\", \"East Asia\", \"Eastern Europe\", \"Middle East & North Africa\", \"Sub-Saharan Africa\", \"South Asia\", \"Sub-Saharan Africa\", \"South Asia\", \"Western Europe\", \"Oceania\", \"Latin America & the Caribbean\", \"Sub-Saharan Africa\", \"Sub-Saharan Africa\", \"Western Europe\", \"Middle East & North Africa\", \"South Asia\", \"Latin America & the Caribbean\", \"Oceania\", \"Latin America & the Caribbean\", \"Latin America & the Caribbean\", \"South Asia\", \"Eastern Europe\", \"Western Europe\", \"Middle East & North Africa\", \"Eastern Europe\", \"Eastern Europe\", \"Sub-Saharan Africa\", \"Middle East & North Africa\", \"Sub-Saharan Africa\", \"Eastern Europe\", \"Sub-Saharan Africa\", \"Sub-Saharan Africa\", \"South Asia\", \"Eastern Europe\", \"Eastern Europe\", \"Sub-Saharan Africa\", \"Western Europe\", \"South Asia\", \"Sub-Saharan Africa\", \"Latin America & the Caribbean\", \"Sub-Saharan Africa\", \"Western Europe\", \"Western Europe\", \"Middle East & North Africa\", \"East Asia\", \"Caucasus & Central Asia\", \"Sub-Saharan Africa\", \"South Asia\", \"South Asia\", \"Sub-Saharan Africa\", \"Latin America & the Caribbean\", \"Middle East & North Africa\", \"Middle East & North Africa\", \"Sub-Saharan Africa\", \"Eastern Europe\", \"Middle East & North Africa\", \"Western Europe\", \"North America\", \"Latin America & the Caribbean\", \"Latin America & the Caribbean\", \"South Asia\", \"Middle East & North Africa\", \"Sub-Saharan Africa\", \"Sub-Saharan Africa\", \"Eastern Europe\", \"Middle East & North Africa\", \"Sub-Saharan Africa\", \"Latin America & the Caribbean\", \"Caucasus & Central Asia\", \"Oceania\", \"Western Europe\", \"Caucasus & Central Asia\", \"Latin America & the Caribbean\", \"Middle East & North Africa\", \"South Asia\", \"Latin America & the Caribbean\", \"Eastern Europe\", \"Western Europe\", \"Latin America & the Caribbean\", \"Sub-Saharan Africa\", \"South Asia\", \"Latin America & the Caribbean\", \"Eastern Europe\", \"Sub-Saharan Africa\", \"Latin America & the Caribbean\", \"South Asia\", \"Eastern Europe\", \"Sub-Saharan Africa\", \"Sub-Saharan Africa\", \"South Asia\", \"Sub-Saharan Africa\", \"North America\", \"Sub-Saharan Africa\", \"Sub-Saharan Africa\", \"Sub-Saharan Africa\", \"Latin America & the Caribbean\", \"East Asia\", \"Latin America & the Caribbean\", \"Sub-Saharan Africa\", \"Sub-Saharan Africa\", \"Latin America & the Caribbean\", \"Sub-Saharan Africa\", \"Eastern Europe\", \"Eastern Europe\", \"Eastern Europe\", \"Western Europe\", \"Latin America & the Caribbean\", \"Latin America & the Caribbean\", \"Middle East & North Africa\", \"Latin America & the Caribbean\", \"Eastern Europe\", \"Sub-Saharan Africa\", \"Oceania\", \"Western Europe\", \"Western Europe\", \"Sub-Saharan Africa\", \"Sub-Saharan Africa\", \"Caucasus & Central Asia\", \"Western Europe\", \"Sub-Saharan Africa\", \"Eastern Europe\", \"Latin America & the Caribbean\", \"Sub-Saharan Africa\", \"Sub-Saharan Africa\", \"Latin America & the Caribbean\", \"Latin America & the Caribbean\", \"Latin America & the Caribbean\", \"East Asia\", \"Eastern Europe\", \"Western Europe\", \"South Asia\", \"South Asia\", \"Middle East & North Africa\", \"Middle East & North Africa\", \"Western Europe\", \"Middle East & North Africa\", \"Western Europe\", \"Latin America & the Caribbean\", \"East Asia\", \"Middle East & North Africa\", \"Caucasus & Central Asia\", \"Sub-Saharan Africa\", \"East Asia\", \"Middle East & North Africa\", \"Caucasus & Central Asia\", \"South Asia\", \"Eastern Europe\", \"Middle East & North Africa\", \"Sub-Saharan Africa\", \"Sub-Saharan Africa\", \"Middle East & North Africa\", \"Eastern Europe\", \"Western Europe\", \"Eastern Europe\", \"Sub-Saharan Africa\", \"Sub-Saharan Africa\", \"South Asia\", \"Sub-Saharan Africa\", \"Western Europe\", \"Sub-Saharan Africa\", \"Sub-Saharan Africa\", \"Latin America & the Caribbean\", \"Eastern Europe\", \"East Asia\", \"Eastern Europe\", \"Middle East & North Africa\", \"Sub-Saharan Africa\", \"South Asia\", \"Sub-Saharan Africa\", \"South Asia\", \"Western Europe\", \"Oceania\", \"Latin America & the Caribbean\", \"Sub-Saharan Africa\", \"Sub-Saharan Africa\", \"Western Europe\", \"Middle East & North Africa\", \"South Asia\", \"Latin America & the Caribbean\", \"Oceania\", \"Latin America & the Caribbean\", \"Latin America & the Caribbean\", \"South Asia\", \"Eastern Europe\", \"Western Europe\", \"Middle East & North Africa\", \"Eastern Europe\", \"Eastern Europe\", \"Sub-Saharan Africa\", \"Middle East & North Africa\", \"Sub-Saharan Africa\", \"Eastern Europe\", \"Sub-Saharan Africa\", \"Sub-Saharan Africa\", \"South Asia\", \"Eastern Europe\", \"Eastern Europe\", \"Sub-Saharan Africa\", \"Western Europe\", \"South Asia\", \"Sub-Saharan Africa\", \"Latin America & the Caribbean\", \"Sub-Saharan Africa\", \"Western Europe\", \"Western Europe\", \"Middle East & North Africa\", \"East Asia\", \"Caucasus & Central Asia\", \"Sub-Saharan Africa\", \"South Asia\", \"South Asia\", \"Sub-Saharan Africa\", \"Latin America & the Caribbean\", \"Middle East & North Africa\", \"Middle East & North Africa\", \"Sub-Saharan Africa\", \"Eastern Europe\", \"Middle East & North Africa\", \"Western Europe\", \"North America\", \"Latin America & the Caribbean\", \"Latin America & the Caribbean\", \"South Asia\", \"Middle East & North Africa\", \"Sub-Saharan Africa\", \"Sub-Saharan Africa\", \"Eastern Europe\", \"Middle East & North Africa\", \"Sub-Saharan Africa\", \"Latin America & the Caribbean\", \"Caucasus & Central Asia\", \"Oceania\", \"Western Europe\", \"Caucasus & Central Asia\", \"Latin America & the Caribbean\", \"Middle East & North Africa\", \"South Asia\", \"Latin America & the Caribbean\", \"Eastern Europe\", \"Western Europe\", \"Latin America & the Caribbean\", \"Sub-Saharan Africa\", \"South Asia\", \"Latin America & the Caribbean\", \"Eastern Europe\", \"Sub-Saharan Africa\", \"Latin America & the Caribbean\", \"South Asia\", \"Eastern Europe\", \"Sub-Saharan Africa\", \"Sub-Saharan Africa\", \"South Asia\", \"Sub-Saharan Africa\", \"North America\", \"Sub-Saharan Africa\", \"Sub-Saharan Africa\", \"Sub-Saharan Africa\", \"Latin America & the Caribbean\", \"East Asia\", \"Latin America & the Caribbean\", \"Sub-Saharan Africa\", \"Sub-Saharan Africa\", \"Latin America & the Caribbean\", \"Sub-Saharan Africa\", \"Eastern Europe\", \"Eastern Europe\", \"Eastern Europe\", \"Western Europe\", \"Latin America & the Caribbean\", \"Latin America & the Caribbean\", \"Middle East & North Africa\", \"Latin America & the Caribbean\", \"Eastern Europe\", \"Sub-Saharan Africa\", \"Oceania\", \"Western Europe\", \"Western Europe\", \"Sub-Saharan Africa\", \"Sub-Saharan Africa\", \"Caucasus & Central Asia\", \"Western Europe\", \"Sub-Saharan Africa\", \"Eastern Europe\", \"Latin America & the Caribbean\", \"Sub-Saharan Africa\", \"Sub-Saharan Africa\", \"Latin America & the Caribbean\", \"Latin America & the Caribbean\", \"Latin America & the Caribbean\", \"East Asia\", \"Eastern Europe\", \"Western Europe\", \"South Asia\", \"South Asia\", \"Middle East & North Africa\", \"Middle East & North Africa\", \"Western Europe\", \"Middle East & North Africa\", \"Western Europe\", \"Latin America & the Caribbean\", \"East Asia\", \"Middle East & North Africa\", \"Caucasus & Central Asia\", \"Sub-Saharan Africa\", \"East Asia\", \"Middle East & North Africa\", \"Caucasus & Central Asia\", \"South Asia\", \"Eastern Europe\", \"Middle East & North Africa\", \"Sub-Saharan Africa\", \"Sub-Saharan Africa\", \"Middle East & North Africa\", \"Eastern Europe\", \"Western Europe\", \"Eastern Europe\", \"Sub-Saharan Africa\", \"Sub-Saharan Africa\", \"South Asia\", \"Sub-Saharan Africa\", \"Western Europe\", \"Sub-Saharan Africa\", \"Sub-Saharan Africa\", \"Latin America & the Caribbean\", \"Eastern Europe\", \"East Asia\", \"Eastern Europe\", \"Middle East & North Africa\", \"Sub-Saharan Africa\", \"South Asia\", \"Sub-Saharan Africa\", \"South Asia\", \"Western Europe\", \"Oceania\", \"Latin America & the Caribbean\", \"Sub-Saharan Africa\", \"Sub-Saharan Africa\", \"Western Europe\", \"Middle East & North Africa\", \"South Asia\", \"Latin America & the Caribbean\", \"Oceania\", \"Latin America & the Caribbean\", \"Latin America & the Caribbean\", \"South Asia\", \"Eastern Europe\", \"Western Europe\", \"Middle East & North Africa\", \"Eastern Europe\", \"Eastern Europe\", \"Sub-Saharan Africa\", \"Middle East & North Africa\", \"Sub-Saharan Africa\", \"Eastern Europe\", \"Sub-Saharan Africa\", \"Sub-Saharan Africa\", \"South Asia\", \"Eastern Europe\", \"Eastern Europe\", \"Sub-Saharan Africa\", \"Western Europe\", \"South Asia\", \"Sub-Saharan Africa\", \"Latin America & the Caribbean\", \"Sub-Saharan Africa\", \"Western Europe\", \"Western Europe\", \"Middle East & North Africa\", \"East Asia\", \"Caucasus & Central Asia\", \"Sub-Saharan Africa\", \"South Asia\", \"South Asia\", \"Sub-Saharan Africa\", \"Latin America & the Caribbean\", \"Middle East & North Africa\", \"Middle East & North Africa\", \"Sub-Saharan Africa\", \"Eastern Europe\", \"Middle East & North Africa\", \"Western Europe\", \"North America\", \"Latin America & the Caribbean\", \"Latin America & the Caribbean\", \"South Asia\", \"Middle East & North Africa\", \"Sub-Saharan Africa\", \"Sub-Saharan Africa\"], \"type\": \"choropleth\", \"z\": [7.5681402879999995, 5.135886055, 5.640662182000001, 6.469847841, 7.241401801, 8.582219227000001, 8.4134742, 6.0832767389999995, 7.3972689229999995, 6.848034997, 5.801300179, 7.0684472320000005, 6.144514082000001, 8.153589293, 7.145431918, 6.738488147000001, 6.810486407000001, 6.718385007, 7.2307235720000005, 7.153167226, 6.207988703, 5.796849859, 7.782769537999999, 6.752669835, 5.167067213, 7.204224142999999, 5.575387155, 8.565863321, 7.333291533, 5.287816197, 5.474770535, 8.00801767, 5.905410169, 6.760756637, 5.308628393, 5.898933847, 7.857714484, 6.531271024, 7.7080878760000004, 8.112196958, 8.294880707, 8.547819985, 7.061287481, 6.80527768, 4.807276886, 7.033950991, 8.436850609, 5.397044971000001, 7.291102197000001, 8.472183957999999, 8.008401464, 5.577787611000001, 6.321342351, 7.798267752999999, 8.462595689, 7.236088907999999, 7.203384075, 7.094122991, 5.650600803, 6.054860862000001, 6.675897936, 6.847221294, 6.723241298, 8.776839796, 7.739472887000001, 8.151753108, 6.412935667999999, 6.77065623, 5.281224623, 4.25801381, 8.504564702, 7.517458071, 7.9802231589999995, 7.224208046, 8.101885275, 6.849333258, 6.742837772000001, 6.822768345, 8.148174929, 6.190287237000001, 6.588506477, 6.386793085, 8.245534042000001, 6.70999709, 6.53422198, 6.481700872, 4.310282812, 8.340669463, 8.428700911, 7.271829012, 6.512561755, 6.652606805, 6.4114899770000005, 5.930464736, 8.353998731, 5.473874887999999, 7.863732816000001, 6.848010198, 6.849514762, 7.699156277, 7.335052066, 6.178378256, 6.0796033220000005, 5.441680433999999, 6.897457751, 6.720805695, 8.55442118, 8.887409579, 6.851247363, 5.862260048, 6.071808602999999, 8.471240566, 6.134527607000001, 5.662296223999999, 7.647620037, 6.752474407999999, 6.962299094, 7.575393347, 6.9187633470000005, 7.811560227, 8.276856122, 6.507776487999999, 8.171616249, 6.272190833, 6.9738695260000005, 5.479366035, 6.497093885, 7.348971626, 7.301262167999999, 6.397329576000001, 8.159711817, 7.918249946, 7.9363957329999995, 7.172571807000001, 8.159106882, 6.265360917000001, 4.803023585, 7.074281523, 6.240164329, 8.387375149, 8.78775905, 3.765826877, 8.465697018, 6.18616229, 6.523209346, 6.6247813010000005, 6.368224812999999, 6.274969005, 6.825223193999999, 6.433736122000001, 6.466232654, 6.769444547000001, 6.283135204, 6.286675088, 8.497917936, 8.388655108, 7.728070903, 4.2007244560000006, 6.1940038, 4.25327767, 6.308849427999999, 5.6153627870000005, 7.558539004, 5.082654926, 5.78647914, 6.502547776, 7.23088653, 8.607372636000001, 8.509897141, 5.966188537000001, 7.426491282000001, 6.744450937000001, 5.811104428999999, 7.160925615, null, 8.307856586, 6.952292025, 6.6808567, 6.886395462, 6.700965914, 7.3166333560000005, 7.070066166, 6.227149845, 5.689558005, 7.819202739, 6.698857887999999, 5.055532591, 7.257274211, 5.458969807000001, 8.520056022, 7.515902979, 5.124578036, 5.432498247000001, 8.027501015, 5.882349969, 6.727887227, 5.29980609, 5.836478102999999, 7.882654156, 6.441134794, 7.780960107, 8.179577076000001, 8.264353336000001, 8.543022951000001, 7.131683786, 6.771338651000001, 4.811136075, 7.12998588, 8.446540136, 5.35315865, 7.260645345, 8.55893467, 8.004390532999999, 5.549342511, 6.340070895, 7.878481138, 8.480457213, 7.115640407000001, 7.260917299, 7.110302442999999, 5.650030837999999, 6.205557796, 6.73478346, 6.875493497000001, 6.8738146129999995, 8.857580854, 7.816496842, 8.199763632, 6.407364322, 6.714059835, 4.946036881, null, 8.645524808, 7.646338717000001, 8.013608012, 7.243405882, 8.083185043, 6.881636772999999, 6.84099752, 6.7166945579999995, 8.173463506000001, 6.022684272999999, 6.51096085, 6.443006919, 8.268126902, 6.563954002999999, 6.585665574, 6.620194605, 4.432118027, 8.349684134, 8.484667047, 7.315449485, 6.597624796, 6.608428575, 6.560067272, 5.895994521, 8.380703637, 5.370912595, 7.900516457, 6.896256348, 6.835593974, 7.70943627, 7.361486265, 6.170122642000001, 6.204761382, 5.451370803, 6.970734632999999, 6.725541224, 8.548259045, 8.876890041000001, 6.81612606, 5.672234987, 6.010441361, 8.519495857999999, 6.116406195, 5.612343569, 7.638484471, 6.682072282000001, 6.954961063, 7.615036554, 7.052764482000001, 7.990384338999999, 8.295667819, 6.512465295, 8.207011317000001, 6.168259454, 7.055828428, 5.322203778, 6.496133675, 7.370479819, 7.538074064, 6.478120071, 8.226765387999999, 7.922490231, 8.017880322, 7.256591899, 8.175966435, 6.333774971, null, 7.30020369, 6.284964555, 8.484574296, 8.814458177999999, 3.9108264289999997, 8.40662716, 6.206025992000001, 6.555737389, 6.626618128, 6.10535483, 6.195466842, 6.75996737, 6.46563917, 6.656816926, 6.709794702000001, 5.844351567, 6.275227501, 8.528703805, 8.378784993, 7.770346829, 4.24174988, 6.157491413, 4.203442179, 6.434490094, 5.582639607999999, 7.61508284, 5.194328288, 5.618964119, 6.207145102999999, 7.307985965, 8.672342139, 8.530127871, 6.11168378, 7.371080415, 6.674289283999999, 5.897130036, 7.255031757, null, 8.345543595, 6.941909202000001, 6.751381491, 6.85646176, 6.77605832, 7.411478407000001, 7.021225842000001, 6.444999694, 5.784087244, 7.848782998, 6.66712846, 5.304037402, 7.242739211, 5.721978614, 8.719552703, 7.283377261, 5.306738505, 5.482045514, 8.017589148999999, 5.949879602999999, 6.763731861, 5.028850291, 5.727710136000001, 8.058857435, 6.485539052999999, 7.739444767, 8.015890575, 8.239657227999999, 8.607840268, 7.27586445, 6.523791123, 5.040691235, 7.420582400000001, 8.395252649, 5.319690856, 7.053694403, 8.638352543, 8.147373177, 5.3996183570000005, 6.563964887000001, 7.895940922, 8.486199533999999, 7.14044982, 7.47658543, 7.302367372000001, 5.494057416, 6.00377922, 6.577630376, 7.02700541, 6.906581763999999, 8.892455501, 7.96364927, 8.238316864, 6.254944233, 6.709357777, 4.560685665, null, 8.457800101, 7.455517242999999, 7.976814912999999, 7.24449911, 8.145721961, 6.919080803, 6.849998708999999, 6.655763326000001, 8.202720433, 6.262156082000001, 6.607284132, 6.445993988, 8.260536935, 6.577702609, 6.516615262, 6.818557168, 4.51324798, 8.319542986, 8.571140483999999, 7.1923647410000004, 6.830610569, 6.674206119, 6.469500551, 5.831699826, 8.335626768, 5.404587557, 7.9321328289999995, 6.921105000000001, 6.88807564, 7.708622609, 7.635718097000001, 6.183304314, 6.229745352999999, 5.578475572, 7.004266114, 6.768275227999999, 8.475679069, 8.921385823, 6.9745781220000005, 5.834480682000001, 6.051684031000001, 8.573281905, 6.377978741000001, 5.46788881, 7.583917533999999, 6.615681342999999, 7.02518439, 7.547979889, 7.00402038, 8.131661511, 8.314716719, 6.682397717000001, 8.321219197000001, 6.281298471, 6.9547868, 5.636533188, 6.519865874, 7.385024168999999, 7.055370214, 6.643678445, 8.214531099, 8.048419978, 7.973033439, 7.184779207999999, 8.197268999, 6.167201332, null, 7.021839041000001, 6.212136665, 8.436783012000001, 8.806932103, 4.023595192, 8.272642583, 6.324275342000001, 6.5599655089999995, 6.593850657999999, 6.497712223, 6.230779139, 6.903894719, 6.572693667, 6.7561508660000005, 6.734945809, 6.0351988389999995, 6.41928645, 8.532902597, 8.330284961, 7.736980347, 4.573730018, 6.17034097, 4.629534556, 6.331481934, 5.467682725, 7.389596629, 5.093420924, 5.994838944, 6.570844416, 7.396940279, 8.543665621, 8.475109458, 6.086469972000001, 7.373848881, 6.536132686, 5.831063894, 7.29088558, null, 8.205533362, 7.085206605, 6.907810101, 6.8745455579999994, 7.023938468, 7.311344346, 6.893040234, 6.727380646, 6.3454451689999996, 7.838760096000001, 6.83022773, 6.1588563579999995, 7.181448812, 6.086251752999999, 8.627752135, 7.31329429, 5.300176733, 5.275264041000001, 7.994037872000001, 6.0637811070000005, 6.570410506, 4.907996375, 5.664823086, 7.856514418, 6.290210514, 7.690944065, 7.852294126, 8.237574489, 8.599675186, 7.175953534, 6.753069585, 5.354584979, 7.203558201, 8.335505592999999, 5.693807144, 6.862124216000001, 8.578115342, 7.999735458, 5.80457318, 6.6249189379999995, 7.814162819, 8.440461275, 7.234067672, 7.486946427, 7.138615991, 5.766187467999999, 5.627785512999999, 6.836647963, 6.7392392789999995, 6.5426879410000005, 8.971814737999999, 7.9489019679999995, 8.134551314, 6.662614272999999, 6.970870708, 4.563808631000001, null, 8.527786174, 7.642391212000001, 7.975039793, 7.233387566, 8.196299861, 6.885037564, 6.739074194, 6.734823136, 8.013032637, 6.513792261, 6.452561362000001, null, 8.216455527, 6.517672236, 6.3781675689999995, null, 4.887964895, 8.196107569, 8.399014538, 7.566805756, 6.834334346, 6.716589367, 6.602414736, 5.96247423, 8.295163383, 5.474042001, 8.231684245, 6.780395532000001, 7.001998445, 7.637595222000001, 7.565899596, 6.3069086510000005, 6.413641332999999, 5.190547615, 7.003490833, 6.887385411, 8.403018652, 8.868584618, 7.109560566, 5.953385834, 5.917728297999999, 8.580084703999999, 6.3865276070000006, 5.465421127000001, 7.5490422729999995, 6.927972118, 7.119652068, 7.4865655129999995, 6.803980179, 8.070503364, 8.224702942, 6.614741463, 8.122809443, 6.444533637999999, 6.961369381, 5.45575957, 6.46772135, 7.153365327, 7.026217999999999, 6.249241888999999, 7.968492532999999, 8.068592507, 7.83524065, 7.141938322000001, 8.00589731, 6.237140224, null, 7.002772765, 6.19978342, 8.355575868999999, 8.715261916000001, 4.095028377, 8.199116539, 6.587587532000001, 6.761207174, 6.745172748, 6.567290732999999, 6.094975546000001, 6.9179295839999995, 6.138195195, 7.087987469, 6.737992349, 6.7706347110000005, 6.458097287, 8.512753587, 8.187365735, 7.876803412999999, 5.013857143, 6.309325436, 4.812704931, 6.695434317999999, 5.347534507, 7.435190912, 5.09740352, 5.832180214, 6.569286677999999, 7.559297684, 8.557936388, 8.444271876, 6.160655707, 7.580937417, 6.589263747, 5.858958578999999, 7.35360848, null, 8.191890553, 7.1775777220000005, 6.421428196, null, 6.991255335, 7.3324885239999995, 6.829040234, 6.830380012999999, 6.830317257000001, 7.818330894, 6.625860263, 5.6238407939999995, 7.131812758, 6.090272917, 8.598394011, 7.379235734, 4.829056616, 5.13271564, 8.219910779, 6.003389743, 6.557821085, 4.8106643469999995, 5.334760515, 7.890737866, 5.9554019920000005, 7.676494353, 7.988521521, 8.225202715, 8.523583455, 7.031471442999999, 6.681142972000001, 5.671286501, 7.143169312, 8.323872462999999, 5.543544648999999, 7.09451287, 8.625452253999999, 8.011116762999999, 5.73117123, 6.475026831, 7.5641097020000005, 8.42327019, 7.033530635, 7.6327716070000005, 6.9966037839999995, null, 5.955378023, 7.006310031, 6.524265734, 6.5186694229999995, 8.999085668, 7.929346172000001, 8.105130958, 6.87225727, 6.880625922999999, 4.44178272, null, 8.482832369, 7.565425163, 7.9727609610000005, 7.060265873, 8.273474936, 6.886891338, 6.757831653999999, 6.717473009, 8.056670500000001, 6.513549844, 6.469824906, null, 8.141821962, 6.667920968, 6.331657152999999, null, null, 8.101507526, 8.314570094, 7.745664132000001, 6.745301029, 6.892474784, 6.564180956, 5.966582077000001, 8.237023762, 5.753550532, 8.366165654, 6.6726135079999995, 7.050049727999999, 7.521696663999999, 7.663848975, 6.376908521, 6.336044028, 5.050197673, 6.968657499, 6.695567811, 8.349488011, 8.784639041, 6.999313161, 6.057667925, 5.72371737, 8.574077116, 6.422788156, 5.538477723, 7.534258242999999, 6.592902673999999, 7.113477065, 7.63099092, 7.085144176, 8.115046326, 8.1297, 6.377228222, 7.996492303999999, 6.476556007, 6.820159195, 5.400079099, 6.165521125, 7.011449233, null, 6.147112259, 7.901725525, 8.069402361, 7.875984807000001, 7.068924316, 8.016793658, 6.225721649, null, 7.131956793, 5.927162308, 8.464092224, 8.760105158, 4.866653428, 8.116416272, 6.743352196, 6.580361503, 6.8833527960000005, 6.667227287, 5.415906197999999, 6.794579194, 6.270078069, 7.089684984, 6.521357849, 6.926985325, 6.287808145, 8.472484169, 8.251223064, 7.959078117000001, 5.225650396, 6.345682817, 4.775506098, 6.883593296, 5.084809744, 7.502044237000001, 5.211169541, 5.354951097, 6.855326361, 7.56033998, 8.596250688, 8.413279904, 6.117849122999999, 7.631374097, 6.7959222829999995, 5.978482869, 7.3293241039999995, null, 8.225931736, 7.257903638999999, 6.5866402520000005, null, 6.935415823, 7.346709576, 6.882127535, 7.040544137, 6.787915202000001, 7.864986342999999, 6.748533581, 5.671812021, 7.244143796, 6.079132062, 8.607992824, 7.390781152000001, 4.969729536, 5.31263957, 8.290152327000001, 6.029485716, 6.674009395, 5.038326861, 5.3900139010000006, 7.919854607, 5.863494198, 7.688918478, 8.163659206, 8.139646955, 8.592387421, 7.075986664, 6.678048715, 5.735934965, 6.987843915, 8.348332219, 5.389141325, 7.197905284, 8.674685314, 8.047115842, 5.799872005, 6.616699714, 7.548244232, 8.462488936, 7.203735662000001, 7.708558786, 6.895697072000001, null, 5.935594714, 7.0808480970000005, 6.73968383, 6.677098709, 9.027890876, 8.047762045, 8.081966262, 6.928908738, 6.939293987999999, 4.842482113, null, 8.445626471, 7.642747366, 7.983160044, 7.000054232999999, 8.193005522, 6.840968727999999, 6.678371471, 6.746533875, 8.075037522, 6.5781257570000005, 6.405152072999999, null, 8.071350606000001, 6.933952777000001, 6.390797986, null, null, 8.117726631, 8.342448102, 7.730682213, 6.789096206, 6.9937493239999995, 6.672539673999999, 6.094369334, 8.337221199, 5.829615267, 8.315692151, 6.721786358999999, 7.081986832, 7.575505135, 7.6448314029999995, 6.464544865, 6.325090512999999, 4.779236149, 6.963634676, 6.8002307989999995, 8.398793162999999, 8.791730475, 7.023952027000001, 6.2434094579999995, 5.84015383, 8.4626989, 6.388310825, 5.658577711, 7.428221737, 6.59441459, 7.034437082, 7.683066509, 7.123144305, 8.169270893, 8.135128783999999, 6.231096858, 7.958425516, 6.47066875, 6.899931894, 5.552782832, 6.179209976, 7.065929706, null, 6.0957052, 7.985541155, 8.141521059, 7.850275541, 7.181898147999999, 8.125421602000001, 6.359019977000001, null, 7.040116209, 6.025906655, 8.506444619, 8.777166122, 5.6292675910000005, 8.157819488, 6.604089144, 6.717680359, 7.006757853, 6.84549069, 5.531652949, 6.831867514, 6.561851091, 7.218772701000001, 6.546112319, 6.925909852, 6.264677712, 8.494381097, 8.2364668, 8.041428303, 5.332457816, 6.3275415829999995, 4.710594206000001, 6.990258686000001, 5.050735669, 7.553625028, 5.1393562489999995, 5.237694904, 6.885658106, 7.488131598, 8.642692871, 8.321524196, 6.311327694, 7.637068542000001, 6.895730392000001, 5.944205222999999, 7.329851162000001, null, 8.243991622000001, 6.9496571110000005, 6.4148809920000005, null, 6.86715054, 7.417272729, 6.909825948, 7.114175201, 6.723968076, 7.799512726000001, 6.75707007, 5.766097892, 7.413318491, 5.88926212, 8.640115087, 7.346023524, 5.2137563060000005, 5.569967951000001, 8.271367096, 5.91182201, 6.811983251, 5.447901533, 5.702646176, 7.682003774, 5.753024902000001, 7.414163499, 8.334084703, 8.155990167999999, 8.629381029, 7.065832238, 6.6408260310000005, 5.944259599, 7.219149306, 8.44331859, 5.473526401, 7.246718222999999, 8.645241088999999, 8.102085654, 5.800136555, 6.408104005, 7.818304605, 8.348372223, 7.165817275, 7.714738725, 7.211521164, null, 5.69052527, 6.70229469, 6.61591679, 6.849277146, 9.028447907, 8.096436, 7.836819568999999, 6.482085841, 7.0064216020000005, 5.1995024039999995, null, 8.369535763, 7.898468542000001, 7.9762129360000005, 7.097204861, 8.189865485, 6.692852024, 6.92544927, 6.692387656, 8.171659215, 6.597137367999999, 6.399291985, null, 7.943820357999999, 6.831532752999999, 5.883610486, null, null, 8.06700822, 8.366378111, 7.547960222, 6.6164771579999995, 6.770515007, 6.577418071, 6.283035269, 8.31107695, 5.784328803999999, 8.243358111000001, 6.72392677, 7.015258695, 7.3199163810000005, 7.769285535, 6.401966042000001, 5.954574194, 5.033974751000001, 7.041205687000001, 6.773826786, 8.338628577, 8.879076728, 7.290495428, 6.552164251000001, 6.000912773, 8.51592539, 6.221742299, 5.501967145, 7.451840015, 6.94566459, 7.02908407, 7.619558845, 7.184964619, 8.024837508, 7.99985023, 6.155398065, 8.024764965, 6.516866747999999, 6.97027171, 5.658029989, 6.205384819, 7.144191366, null, 6.3476255020000005, 8.10271966, 8.123184852, 7.720019452000001, 6.924080687999999, 8.24620003, 6.60032485, null, 7.246088431, 6.131358044, 8.50930254, 8.818141443, 5.554295962, 7.9974533910000005, 6.9076341470000004, 6.589585152000001, 7.199052729, 6.743546245, 5.67489369, 6.725200847000001, 6.088739601, 6.9910000839999995, 6.523093745, 6.798132026, 6.71088474, 8.451403071, 8.260846041, 8.073787564, 5.1566190480000005, 6.504935552999999, 5.425224246, 6.718691464, 4.909414793, 7.585133596, 5.159940635, 5.206897575, 6.997731122999999, 7.47916104, 8.630312773, 8.345880617, 6.176735582999999, 7.745257644, 7.020660561000001, 5.916510685, 7.369415048, null, 8.195431758, 7.2146744720000004, 6.486473585, null, 6.920340044, 7.3932939520000005, 6.799034323, 6.995548966, null, 7.848102367, 6.666082374, 6.117209218999999, null, 5.79377628, 8.638999354, null, 5.405057834, 5.352743427, 8.249135968, 5.937936265, 6.7475716839999995, 5.444295478, 5.64990279, 7.817826325, 5.794556957, 7.594676647000001, 8.345637657000001, 8.161824436, 8.572328379, 6.994194332999999, 6.64996875, 5.880784987, 7.161024306, 8.378999516, 5.498212187000001, 7.318470927000001, 8.610269069, 8.21487322, 5.942305867000001, null, 7.777713207000001, 8.34638437, 7.249368136, 7.863461447000001, 7.167473545, null, 5.8257606829999995, 6.832992074, 6.9318852, 6.858298937000001, 9.052653088, 8.084371354, 8.072751354, 6.490823625, 6.874152216000001, 5.131931145, null, 8.402759288, 7.495602988, 7.881115021, 7.277135417, 8.191371714, 6.624606493, 6.9190616689999995, 6.660161611, 8.051751807999999, 6.683036528, 6.775686062999999, null, 7.890817675, null, 5.867638264, null, null, 8.121203697999999, 8.246273578, 7.48386637, 6.549999467, 6.778147186, 6.574382912000001, 6.185010122, 8.360116093, 5.954854683, 8.105452487, 6.832680087999999, 7.19384373, 7.295919861000001, 7.580152112, 6.361933327000001, 5.856997369, 5.3612473, 7.058721039, 6.713549295, 8.331244474, 8.797717026, 7.199153764, 6.375930539, 5.889429496, 8.460101009, 6.357652624, 5.595221297, 7.518631533, 6.8049180620000005, 6.850076434, 7.541654728999999, 6.950193747, 8.075007573999999, 8.015403484, null, 8.059244209, 6.447556416, 7.23220888, null, 6.333262373999999, 7.229333061, null, 6.27717527, 8.194760582999999, 8.118595638, 7.826199122999999, 6.813115079, 8.101026464, 6.132485933, null, null, null, 8.415915653999999, 8.792258292, 5.52959379, 7.813038464, null, 6.437958167000001, 7.262806637000001, null, 5.681883107999999, 6.764905708, 6.2651721270000005, 6.9636724260000005, 6.410308511, 6.8309981870000005, 6.481551407, 8.590176722999999, 8.260843887, 7.9254093029999995, 5.283514408, 6.565151297000001, null, 6.620113589, 4.92767343, 7.498848866, 5.153065376, 4.8235278169999996, 7.035120011, 7.455280489, 8.686020243, 8.363703418, 6.371672233, 7.863355202, 7.1001191079999995, 5.798135907000001, 7.177507535, null, 8.182085856, 7.335334194, 6.490137606, null, 6.728644654, 7.282437587, 6.83582588, 7.014409184, null, 7.706452047999999, 6.759230665, 5.646142692000001, null, 5.687288973999999, 8.653001565, null, 5.481581758, 5.212512011, 8.227215073, 5.9956437760000005, 6.762603689, 5.3518430530000005, 5.6303181339999995, 7.83294432, 5.696570822999999, 7.398385027000001, 8.344051602999999, 8.170668411, 8.68717383, 6.669026833999999, 6.7180544520000005, 6.004860002000001, 7.3992361110000004, 8.404652042999999, 5.3588546489999995, 7.523307205, 8.653870745, 8.194982519, 5.895043962000001, null, 7.556304258, 8.322049372, 7.213843152999999, 7.935508771, 7.199325397000001, null, 5.69349402, 6.677489081, 6.941049235, 7.005012595, 9.126312939, 8.04740465, 8.277247882000001, 6.5199474870000005, 6.78741383, 5.4711242, null, 8.464583235, 7.395273675, 7.931940466, 7.278020832999999, 8.239303911, 6.559812142999999, 6.954439429, 6.617297678, 8.149323236, 6.593605143, 6.801020059, null, 8.082147484, null, 5.9536104860000005, null, null, 8.01018155, 8.364242943999999, 7.533718326, 6.55572319, 6.72177225, 6.453140392999999, 6.093562166, 8.312908122, 5.895358395, 8.214829659, 6.923600177999999, 7.208984756, 7.145358771000001, 7.6695584210000005, 6.291418298, 6.031946262999999, 4.955303208999999, 7.0049801060000005, 6.7136727039999995, 8.410510546, 8.910542465, 7.263152612000001, 6.172414624, 6.151358657, 8.592142222, 6.467042558999999, 5.401850447999999, 7.494156231, 6.9140673679999995, 6.900825415, 7.497498458, 7.055628658, 7.976932519, 8.098138186, null, 8.028976623, 6.525689053, 6.949574622, null, 6.198871486, 7.232640781000001, null, 6.2351383, 8.179720572999999, 8.233432487, 7.825762377999999, 6.762374339, 8.247249223999999, 5.860377495, null, null, null, 8.452347112, 8.77443651, 5.457515592000001, 7.792327162, null, 6.3386059999999995, 7.274282546, null, 5.76336459, 6.805600152999999, 6.249057982999999, 6.918408798, 6.495271027, 6.798697378, 6.784866222000001, 8.536420793, 8.448265467999999, 7.94784663, 5.2578793280000005, 6.420206307999999, null, 6.647724406, 4.935570731]}],\n",
       "                        {\"geo\": {\"projection\": {\"type\": \"equirectangular\"}, \"showframe\": false}, \"template\": {\"data\": {\"bar\": [{\"error_x\": {\"color\": \"#2a3f5f\"}, \"error_y\": {\"color\": \"#2a3f5f\"}, \"marker\": {\"line\": {\"color\": \"#E5ECF6\", \"width\": 0.5}}, \"type\": \"bar\"}], \"barpolar\": [{\"marker\": {\"line\": {\"color\": \"#E5ECF6\", \"width\": 0.5}}, \"type\": \"barpolar\"}], \"carpet\": [{\"aaxis\": {\"endlinecolor\": \"#2a3f5f\", \"gridcolor\": \"white\", \"linecolor\": \"white\", \"minorgridcolor\": \"white\", \"startlinecolor\": \"#2a3f5f\"}, \"baxis\": {\"endlinecolor\": \"#2a3f5f\", \"gridcolor\": \"white\", \"linecolor\": \"white\", \"minorgridcolor\": \"white\", \"startlinecolor\": \"#2a3f5f\"}, \"type\": \"carpet\"}], \"choropleth\": [{\"colorbar\": {\"outlinewidth\": 0, \"ticks\": \"\"}, \"type\": \"choropleth\"}], \"contour\": [{\"colorbar\": {\"outlinewidth\": 0, \"ticks\": \"\"}, \"colorscale\": [[0.0, \"#0d0887\"], [0.1111111111111111, \"#46039f\"], [0.2222222222222222, \"#7201a8\"], [0.3333333333333333, \"#9c179e\"], [0.4444444444444444, \"#bd3786\"], [0.5555555555555556, \"#d8576b\"], [0.6666666666666666, \"#ed7953\"], [0.7777777777777778, \"#fb9f3a\"], [0.8888888888888888, \"#fdca26\"], [1.0, \"#f0f921\"]], \"type\": \"contour\"}], \"contourcarpet\": [{\"colorbar\": {\"outlinewidth\": 0, \"ticks\": \"\"}, \"type\": \"contourcarpet\"}], \"heatmap\": [{\"colorbar\": {\"outlinewidth\": 0, \"ticks\": \"\"}, \"colorscale\": [[0.0, \"#0d0887\"], [0.1111111111111111, \"#46039f\"], [0.2222222222222222, \"#7201a8\"], [0.3333333333333333, \"#9c179e\"], [0.4444444444444444, \"#bd3786\"], [0.5555555555555556, \"#d8576b\"], [0.6666666666666666, \"#ed7953\"], [0.7777777777777778, \"#fb9f3a\"], [0.8888888888888888, \"#fdca26\"], [1.0, \"#f0f921\"]], \"type\": \"heatmap\"}], \"heatmapgl\": [{\"colorbar\": {\"outlinewidth\": 0, \"ticks\": \"\"}, \"colorscale\": [[0.0, \"#0d0887\"], [0.1111111111111111, \"#46039f\"], [0.2222222222222222, \"#7201a8\"], [0.3333333333333333, \"#9c179e\"], [0.4444444444444444, \"#bd3786\"], [0.5555555555555556, \"#d8576b\"], [0.6666666666666666, \"#ed7953\"], [0.7777777777777778, \"#fb9f3a\"], [0.8888888888888888, \"#fdca26\"], [1.0, \"#f0f921\"]], \"type\": \"heatmapgl\"}], \"histogram\": [{\"marker\": {\"colorbar\": {\"outlinewidth\": 0, \"ticks\": \"\"}}, \"type\": \"histogram\"}], \"histogram2d\": [{\"colorbar\": {\"outlinewidth\": 0, \"ticks\": \"\"}, \"colorscale\": [[0.0, \"#0d0887\"], [0.1111111111111111, \"#46039f\"], [0.2222222222222222, \"#7201a8\"], [0.3333333333333333, \"#9c179e\"], [0.4444444444444444, \"#bd3786\"], [0.5555555555555556, \"#d8576b\"], [0.6666666666666666, \"#ed7953\"], [0.7777777777777778, \"#fb9f3a\"], [0.8888888888888888, \"#fdca26\"], [1.0, \"#f0f921\"]], \"type\": \"histogram2d\"}], \"histogram2dcontour\": [{\"colorbar\": {\"outlinewidth\": 0, \"ticks\": \"\"}, \"colorscale\": [[0.0, \"#0d0887\"], [0.1111111111111111, \"#46039f\"], [0.2222222222222222, \"#7201a8\"], [0.3333333333333333, \"#9c179e\"], [0.4444444444444444, \"#bd3786\"], [0.5555555555555556, \"#d8576b\"], [0.6666666666666666, \"#ed7953\"], [0.7777777777777778, \"#fb9f3a\"], [0.8888888888888888, \"#fdca26\"], [1.0, \"#f0f921\"]], \"type\": \"histogram2dcontour\"}], \"mesh3d\": [{\"colorbar\": {\"outlinewidth\": 0, \"ticks\": \"\"}, \"type\": \"mesh3d\"}], \"parcoords\": [{\"line\": {\"colorbar\": {\"outlinewidth\": 0, \"ticks\": \"\"}}, \"type\": \"parcoords\"}], \"pie\": [{\"automargin\": true, \"type\": \"pie\"}], \"scatter\": [{\"marker\": {\"colorbar\": {\"outlinewidth\": 0, \"ticks\": \"\"}}, \"type\": \"scatter\"}], \"scatter3d\": [{\"line\": {\"colorbar\": {\"outlinewidth\": 0, \"ticks\": \"\"}}, \"marker\": {\"colorbar\": {\"outlinewidth\": 0, \"ticks\": \"\"}}, \"type\": \"scatter3d\"}], \"scattercarpet\": [{\"marker\": {\"colorbar\": {\"outlinewidth\": 0, \"ticks\": \"\"}}, \"type\": \"scattercarpet\"}], \"scattergeo\": [{\"marker\": {\"colorbar\": {\"outlinewidth\": 0, \"ticks\": \"\"}}, \"type\": \"scattergeo\"}], \"scattergl\": [{\"marker\": {\"colorbar\": {\"outlinewidth\": 0, \"ticks\": \"\"}}, \"type\": \"scattergl\"}], \"scattermapbox\": [{\"marker\": {\"colorbar\": {\"outlinewidth\": 0, \"ticks\": \"\"}}, \"type\": \"scattermapbox\"}], \"scatterpolar\": [{\"marker\": {\"colorbar\": {\"outlinewidth\": 0, \"ticks\": \"\"}}, \"type\": \"scatterpolar\"}], \"scatterpolargl\": [{\"marker\": {\"colorbar\": {\"outlinewidth\": 0, \"ticks\": \"\"}}, \"type\": \"scatterpolargl\"}], \"scatterternary\": [{\"marker\": {\"colorbar\": {\"outlinewidth\": 0, \"ticks\": \"\"}}, \"type\": \"scatterternary\"}], \"surface\": [{\"colorbar\": {\"outlinewidth\": 0, \"ticks\": \"\"}, \"colorscale\": [[0.0, \"#0d0887\"], [0.1111111111111111, \"#46039f\"], [0.2222222222222222, \"#7201a8\"], [0.3333333333333333, \"#9c179e\"], [0.4444444444444444, \"#bd3786\"], [0.5555555555555556, \"#d8576b\"], [0.6666666666666666, \"#ed7953\"], [0.7777777777777778, \"#fb9f3a\"], [0.8888888888888888, \"#fdca26\"], [1.0, \"#f0f921\"]], \"type\": \"surface\"}], \"table\": [{\"cells\": {\"fill\": {\"color\": \"#EBF0F8\"}, \"line\": {\"color\": \"white\"}}, \"header\": {\"fill\": {\"color\": \"#C8D4E3\"}, \"line\": {\"color\": \"white\"}}, \"type\": \"table\"}]}, \"layout\": {\"annotationdefaults\": {\"arrowcolor\": \"#2a3f5f\", \"arrowhead\": 0, \"arrowwidth\": 1}, \"coloraxis\": {\"colorbar\": {\"outlinewidth\": 0, \"ticks\": \"\"}}, \"colorscale\": {\"diverging\": [[0, \"#8e0152\"], [0.1, \"#c51b7d\"], [0.2, \"#de77ae\"], [0.3, \"#f1b6da\"], [0.4, \"#fde0ef\"], [0.5, \"#f7f7f7\"], [0.6, \"#e6f5d0\"], [0.7, \"#b8e186\"], [0.8, \"#7fbc41\"], [0.9, \"#4d9221\"], [1, \"#276419\"]], \"sequential\": [[0.0, \"#0d0887\"], [0.1111111111111111, \"#46039f\"], [0.2222222222222222, \"#7201a8\"], [0.3333333333333333, \"#9c179e\"], [0.4444444444444444, \"#bd3786\"], [0.5555555555555556, \"#d8576b\"], [0.6666666666666666, \"#ed7953\"], [0.7777777777777778, \"#fb9f3a\"], [0.8888888888888888, \"#fdca26\"], [1.0, \"#f0f921\"]], \"sequentialminus\": [[0.0, \"#0d0887\"], [0.1111111111111111, \"#46039f\"], [0.2222222222222222, \"#7201a8\"], [0.3333333333333333, \"#9c179e\"], [0.4444444444444444, \"#bd3786\"], [0.5555555555555556, \"#d8576b\"], [0.6666666666666666, \"#ed7953\"], [0.7777777777777778, \"#fb9f3a\"], [0.8888888888888888, \"#fdca26\"], [1.0, \"#f0f921\"]]}, \"colorway\": [\"#636efa\", \"#EF553B\", \"#00cc96\", \"#ab63fa\", \"#FFA15A\", \"#19d3f3\", \"#FF6692\", \"#B6E880\", \"#FF97FF\", \"#FECB52\"], \"font\": {\"color\": \"#2a3f5f\"}, \"geo\": {\"bgcolor\": \"white\", \"lakecolor\": \"white\", \"landcolor\": \"#E5ECF6\", \"showlakes\": true, \"showland\": true, \"subunitcolor\": \"white\"}, \"hoverlabel\": {\"align\": \"left\"}, \"hovermode\": \"closest\", \"mapbox\": {\"style\": \"light\"}, \"paper_bgcolor\": \"white\", \"plot_bgcolor\": \"#E5ECF6\", \"polar\": {\"angularaxis\": {\"gridcolor\": \"white\", \"linecolor\": \"white\", \"ticks\": \"\"}, \"bgcolor\": \"#E5ECF6\", \"radialaxis\": {\"gridcolor\": \"white\", \"linecolor\": \"white\", \"ticks\": \"\"}}, \"scene\": {\"xaxis\": {\"backgroundcolor\": \"#E5ECF6\", \"gridcolor\": \"white\", \"gridwidth\": 2, \"linecolor\": \"white\", \"showbackground\": true, \"ticks\": \"\", \"zerolinecolor\": \"white\"}, \"yaxis\": {\"backgroundcolor\": \"#E5ECF6\", \"gridcolor\": \"white\", \"gridwidth\": 2, \"linecolor\": \"white\", \"showbackground\": true, \"ticks\": \"\", \"zerolinecolor\": \"white\"}, \"zaxis\": {\"backgroundcolor\": \"#E5ECF6\", \"gridcolor\": \"white\", \"gridwidth\": 2, \"linecolor\": \"white\", \"showbackground\": true, \"ticks\": \"\", \"zerolinecolor\": \"white\"}}, \"shapedefaults\": {\"line\": {\"color\": \"#2a3f5f\"}}, \"ternary\": {\"aaxis\": {\"gridcolor\": \"white\", \"linecolor\": \"white\", \"ticks\": \"\"}, \"baxis\": {\"gridcolor\": \"white\", \"linecolor\": \"white\", \"ticks\": \"\"}, \"bgcolor\": \"#E5ECF6\", \"caxis\": {\"gridcolor\": \"white\", \"linecolor\": \"white\", \"ticks\": \"\"}}, \"title\": {\"x\": 0.05}, \"xaxis\": {\"automargin\": true, \"gridcolor\": \"white\", \"linecolor\": \"white\", \"ticks\": \"\", \"title\": {\"standoff\": 15}, \"zerolinecolor\": \"white\", \"zerolinewidth\": 2}, \"yaxis\": {\"automargin\": true, \"gridcolor\": \"white\", \"linecolor\": \"white\", \"ticks\": \"\", \"title\": {\"standoff\": 15}, \"zerolinecolor\": \"white\", \"zerolinewidth\": 2}}}, \"title\": {\"text\": \"Human Freedom In The World \"}},\n",
       "                        {\"responsive\": true}\n",
       "                    ).then(function(){\n",
       "                            \n",
       "var gd = document.getElementById('09af4705-5327-414f-b68f-c33f8ae3cb28');\n",
       "var x = new MutationObserver(function (mutations, observer) {{\n",
       "        var display = window.getComputedStyle(gd).display;\n",
       "        if (!display || display === 'none') {{\n",
       "            console.log([gd, 'removed!']);\n",
       "            Plotly.purge(gd);\n",
       "            observer.disconnect();\n",
       "        }}\n",
       "}});\n",
       "\n",
       "// Listen for the removal of the full notebook cells\n",
       "var notebookContainer = gd.closest('#notebook-container');\n",
       "if (notebookContainer) {{\n",
       "    x.observe(notebookContainer, {childList: true});\n",
       "}}\n",
       "\n",
       "// Listen for the clearing of the current output cell\n",
       "var outputEl = gd.closest('.output');\n",
       "if (outputEl) {{\n",
       "    x.observe(outputEl, {childList: true});\n",
       "}}\n",
       "\n",
       "                        })\n",
       "                };\n",
       "                });\n",
       "            </script>\n",
       "        </div>"
      ]
     },
     "metadata": {},
     "output_type": "display_data"
    }
   ],
   "source": [
    "import plotly as py\n",
    "import plotly.graph_objs as go\n",
    "from plotly.offline import iplot\n",
    "map_plot = dict(type = 'choropleth', \n",
    "locations = free18['Country'],\n",
    "locationmode = 'country names',\n",
    "z = free18['hf_score'].astype(float), \n",
    "text =free18['region'],\n",
    "colorscale='YlOrRd',\n",
    "autocolorscale = False, reversescale = True,colorbar=dict(\n",
    "title = \"Human Freedom\"))\n",
    "layout = dict(title = 'Human Freedom In The World ', \n",
    "geo = dict(showframe = False, \n",
    "projection = {'type': 'equirectangular'}))\n",
    "choromap = go.Figure(data = [map_plot], layout=layout)\n",
    "iplot(choromap)"
   ]
  },
  {
   "cell_type": "code",
   "execution_count": 6,
   "metadata": {},
   "outputs": [],
   "source": [
    "happy2020=pd.read_csv('2020.csv')"
   ]
  },
  {
   "cell_type": "code",
   "execution_count": 9,
   "metadata": {},
   "outputs": [
    {
     "data": {
      "application/vnd.plotly.v1+json": {
       "config": {
        "linkText": "Export to plot.ly",
        "plotlyServerURL": "https://plot.ly",
        "showLink": false
       },
       "data": [
        {
         "autocolorscale": false,
         "colorbar": {
          "title": {
           "text": "Freedom to make life choices"
          }
         },
         "colorscale": [
          [
           0,
           "rgb(255,255,204)"
          ],
          [
           0.125,
           "rgb(255,237,160)"
          ],
          [
           0.25,
           "rgb(254,217,118)"
          ],
          [
           0.375,
           "rgb(254,178,76)"
          ],
          [
           0.5,
           "rgb(253,141,60)"
          ],
          [
           0.625,
           "rgb(252,78,42)"
          ],
          [
           0.75,
           "rgb(227,26,28)"
          ],
          [
           0.875,
           "rgb(189,0,38)"
          ],
          [
           1,
           "rgb(128,0,38)"
          ]
         ],
         "locationmode": "country names",
         "locations": [
          "Finland",
          "Denmark",
          "Switzerland",
          "Iceland",
          "Norway",
          "Netherlands",
          "Sweden",
          "New Zealand",
          "Austria",
          "Luxembourg",
          "Canada",
          "Australia",
          "United Kingdom",
          "Israel",
          "Costa Rica",
          "Ireland",
          "Germany",
          "United States",
          "Czech Republic",
          "Belgium",
          "United Arab Emirates",
          "Malta",
          "France",
          "Mexico",
          "Taiwan Province of China",
          "Uruguay",
          "Saudi Arabia",
          "Spain",
          "Guatemala",
          "Italy",
          "Singapore",
          "Brazil",
          "Slovenia",
          "El Salvador",
          "Kosovo",
          "Panama",
          "Slovakia",
          "Uzbekistan",
          "Chile",
          "Bahrain",
          "Lithuania",
          "Trinidad and Tobago",
          "Poland",
          "Colombia",
          "Cyprus",
          "Nicaragua",
          "Romania",
          "Kuwait",
          "Mauritius",
          "Kazakhstan",
          "Estonia",
          "Philippines",
          "Hungary",
          "Thailand",
          "Argentina",
          "Honduras",
          "Latvia",
          "Ecuador",
          "Portugal",
          "Jamaica",
          "South Korea",
          "Japan",
          "Peru",
          "Serbia",
          "Bolivia",
          "Pakistan",
          "Paraguay",
          "Dominican Republic",
          "Bosnia and Herzegovina",
          "Moldova",
          "Tajikistan",
          "Montenegro",
          "Russia",
          "Kyrgyzstan",
          "Belarus",
          "North Cyprus",
          "Greece",
          "Hong Kong S.A.R. of China",
          "Croatia",
          "Libya",
          "Mongolia",
          "Malaysia",
          "Vietnam",
          "Indonesia",
          "Ivory Coast",
          "Benin",
          "Maldives",
          "Congo (Brazzaville)",
          "Azerbaijan",
          "Macedonia",
          "Ghana",
          "Nepal",
          "Turkey",
          "China",
          "Turkmenistan",
          "Bulgaria",
          "Morocco",
          "Cameroon",
          "Venezuela",
          "Algeria",
          "Senegal",
          "Guinea",
          "Niger",
          "Laos",
          "Albania",
          "Cambodia",
          "Bangladesh",
          "Gabon",
          "South Africa",
          "Iraq",
          "Lebanon",
          "Burkina Faso",
          "Gambia",
          "Mali",
          "Nigeria",
          "Armenia",
          "Georgia",
          "Iran",
          "Jordan",
          "Mozambique",
          "Kenya",
          "Namibia",
          "Ukraine",
          "Liberia",
          "Palestinian Territories",
          "Uganda",
          "Chad",
          "Tunisia",
          "Mauritania",
          "Sri Lanka",
          "Congo (Kinshasa)",
          "Swaziland",
          "Myanmar",
          "Comoros",
          "Togo",
          "Ethiopia",
          "Madagascar",
          "Egypt",
          "Sierra Leone",
          "Burundi",
          "Zambia",
          "Haiti",
          "Lesotho",
          "India",
          "Malawi",
          "Yemen",
          "Botswana",
          "Tanzania",
          "Central African Republic",
          "Rwanda",
          "Zimbabwe",
          "South Sudan",
          "Afghanistan"
         ],
         "reversescale": true,
         "text": [
          "Western Europe",
          "Western Europe",
          "Western Europe",
          "Western Europe",
          "Western Europe",
          "Western Europe",
          "Western Europe",
          "North America and ANZ",
          "Western Europe",
          "Western Europe",
          "North America and ANZ",
          "North America and ANZ",
          "Western Europe",
          "Middle East and North Africa",
          "Latin America and Caribbean",
          "Western Europe",
          "Western Europe",
          "North America and ANZ",
          "Central and Eastern Europe",
          "Western Europe",
          "Middle East and North Africa",
          "Western Europe",
          "Western Europe",
          "Latin America and Caribbean",
          "East Asia",
          "Latin America and Caribbean",
          "Middle East and North Africa",
          "Western Europe",
          "Latin America and Caribbean",
          "Western Europe",
          "Southeast Asia",
          "Latin America and Caribbean",
          "Central and Eastern Europe",
          "Latin America and Caribbean",
          "Central and Eastern Europe",
          "Latin America and Caribbean",
          "Central and Eastern Europe",
          "Commonwealth of Independent States",
          "Latin America and Caribbean",
          "Middle East and North Africa",
          "Central and Eastern Europe",
          "Latin America and Caribbean",
          "Central and Eastern Europe",
          "Latin America and Caribbean",
          "Western Europe",
          "Latin America and Caribbean",
          "Central and Eastern Europe",
          "Middle East and North Africa",
          "Sub-Saharan Africa",
          "Commonwealth of Independent States",
          "Central and Eastern Europe",
          "Southeast Asia",
          "Central and Eastern Europe",
          "Southeast Asia",
          "Latin America and Caribbean",
          "Latin America and Caribbean",
          "Central and Eastern Europe",
          "Latin America and Caribbean",
          "Western Europe",
          "Latin America and Caribbean",
          "East Asia",
          "East Asia",
          "Latin America and Caribbean",
          "Central and Eastern Europe",
          "Latin America and Caribbean",
          "South Asia",
          "Latin America and Caribbean",
          "Latin America and Caribbean",
          "Central and Eastern Europe",
          "Commonwealth of Independent States",
          "Commonwealth of Independent States",
          "Central and Eastern Europe",
          "Commonwealth of Independent States",
          "Commonwealth of Independent States",
          "Commonwealth of Independent States",
          "Western Europe",
          "Western Europe",
          "East Asia",
          "Central and Eastern Europe",
          "Middle East and North Africa",
          "East Asia",
          "Southeast Asia",
          "Southeast Asia",
          "Southeast Asia",
          "Sub-Saharan Africa",
          "Sub-Saharan Africa",
          "South Asia",
          "Sub-Saharan Africa",
          "Commonwealth of Independent States",
          "Central and Eastern Europe",
          "Sub-Saharan Africa",
          "South Asia",
          "Middle East and North Africa",
          "East Asia",
          "Commonwealth of Independent States",
          "Central and Eastern Europe",
          "Middle East and North Africa",
          "Sub-Saharan Africa",
          "Latin America and Caribbean",
          "Middle East and North Africa",
          "Sub-Saharan Africa",
          "Sub-Saharan Africa",
          "Sub-Saharan Africa",
          "Southeast Asia",
          "Central and Eastern Europe",
          "Southeast Asia",
          "South Asia",
          "Sub-Saharan Africa",
          "Sub-Saharan Africa",
          "Middle East and North Africa",
          "Middle East and North Africa",
          "Sub-Saharan Africa",
          "Sub-Saharan Africa",
          "Sub-Saharan Africa",
          "Sub-Saharan Africa",
          "Commonwealth of Independent States",
          "Commonwealth of Independent States",
          "Middle East and North Africa",
          "Middle East and North Africa",
          "Sub-Saharan Africa",
          "Sub-Saharan Africa",
          "Sub-Saharan Africa",
          "Commonwealth of Independent States",
          "Sub-Saharan Africa",
          "Middle East and North Africa",
          "Sub-Saharan Africa",
          "Sub-Saharan Africa",
          "Middle East and North Africa",
          "Sub-Saharan Africa",
          "South Asia",
          "Sub-Saharan Africa",
          "Sub-Saharan Africa",
          "Southeast Asia",
          "Sub-Saharan Africa",
          "Sub-Saharan Africa",
          "Sub-Saharan Africa",
          "Sub-Saharan Africa",
          "Middle East and North Africa",
          "Sub-Saharan Africa",
          "Sub-Saharan Africa",
          "Sub-Saharan Africa",
          "Latin America and Caribbean",
          "Sub-Saharan Africa",
          "South Asia",
          "Sub-Saharan Africa",
          "Middle East and North Africa",
          "Sub-Saharan Africa",
          "Sub-Saharan Africa",
          "Sub-Saharan Africa",
          "Sub-Saharan Africa",
          "Sub-Saharan Africa",
          "Sub-Saharan Africa",
          "South Asia"
         ],
         "type": "choropleth",
         "z": [
          0.949172199,
          0.9514442679999999,
          0.921336651,
          0.948891878,
          0.955750287,
          0.908547819,
          0.939144194,
          0.9362174870000001,
          0.899989486,
          0.90563643,
          0.9339132309999999,
          0.915431738,
          0.834743679,
          0.7475805879999999,
          0.9347389340000001,
          0.8869829770000001,
          0.867371082,
          0.842619538,
          0.818537354,
          0.813582063,
          0.941345513,
          0.9249114390000001,
          0.8254676459999999,
          0.8587092759999999,
          0.77153033,
          0.892395437,
          0.854191244,
          0.751989543,
          0.9081475729999999,
          0.66465199,
          0.926645339,
          0.799804807,
          0.936142623,
          0.833805263,
          0.861535907,
          0.880366504,
          0.7499526740000001,
          0.974998116,
          0.7448962929999999,
          0.905855775,
          0.747381449,
          0.8579071159999999,
          0.8620557790000001,
          0.8361799120000001,
          0.7798582909999999,
          0.8639028670000001,
          0.842823207,
          0.8723664879999999,
          0.889534533,
          0.811601937,
          0.87770915,
          0.915463448,
          0.718964577,
          0.905063033,
          0.831132412,
          0.870603263,
          0.671237648,
          0.8598289490000001,
          0.8887478109999999,
          0.8580685259999999,
          0.6129651070000001,
          0.8099613790000001,
          0.8247660990000001,
          0.726495862,
          0.875873327,
          0.734833717,
          0.885923445,
          0.8662027720000001,
          0.651352704,
          0.721609175,
          0.831383407,
          0.649565637,
          0.729892612,
          0.909374893,
          0.6391630770000001,
          0.79529351,
          0.5413451189999999,
          0.7798337940000001,
          0.714838803,
          0.773157001,
          0.693351328,
          0.8946268559999999,
          0.939592957,
          0.8706144090000001,
          0.727909327,
          0.735182583,
          0.8539627790000001,
          0.7190585140000001,
          0.786824107,
          0.738840938,
          0.794796526,
          0.797565043,
          0.6088304520000001,
          0.898517907,
          0.8264570240000001,
          0.745178163,
          0.772072434,
          0.7630518079999999,
          0.62327832,
          0.46661090899999996,
          0.6905961629999999,
          0.7068467740000001,
          0.759772122,
          0.907213569,
          0.7819942240000001,
          0.9597046379999999,
          0.90062499,
          0.7048292159999999,
          0.7593300940000001,
          0.633182645,
          0.5513575079999999,
          0.665563583,
          0.733163178,
          0.71156615,
          0.759578407,
          0.7120178340000001,
          0.8016415240000001,
          0.647873282,
          0.75104779,
          0.864451885,
          0.829747558,
          0.767520964,
          0.663081884,
          0.735268712,
          0.645791829,
          0.7317139509999999,
          0.587305248,
          0.593361557,
          0.551522553,
          0.837633669,
          0.700793564,
          0.646822274,
          0.895075202,
          0.547612607,
          0.6498286129999999,
          0.740795195,
          0.5575740929999999,
          0.708354175,
          0.715315044,
          0.626350224,
          0.806500256,
          0.537825167,
          0.738125861,
          0.8814448709999999,
          0.803223193,
          0.599920273,
          0.8213281040000001,
          0.82153976,
          0.640880644,
          0.9005894059999999,
          0.711457908,
          0.451313615,
          0.39657300700000003
         ]
        }
       ],
       "layout": {
        "geo": {
         "projection": {
          "type": "equirectangular"
         },
         "showframe": false
        },
        "template": {
         "data": {
          "bar": [
           {
            "error_x": {
             "color": "#2a3f5f"
            },
            "error_y": {
             "color": "#2a3f5f"
            },
            "marker": {
             "line": {
              "color": "#E5ECF6",
              "width": 0.5
             }
            },
            "type": "bar"
           }
          ],
          "barpolar": [
           {
            "marker": {
             "line": {
              "color": "#E5ECF6",
              "width": 0.5
             }
            },
            "type": "barpolar"
           }
          ],
          "carpet": [
           {
            "aaxis": {
             "endlinecolor": "#2a3f5f",
             "gridcolor": "white",
             "linecolor": "white",
             "minorgridcolor": "white",
             "startlinecolor": "#2a3f5f"
            },
            "baxis": {
             "endlinecolor": "#2a3f5f",
             "gridcolor": "white",
             "linecolor": "white",
             "minorgridcolor": "white",
             "startlinecolor": "#2a3f5f"
            },
            "type": "carpet"
           }
          ],
          "choropleth": [
           {
            "colorbar": {
             "outlinewidth": 0,
             "ticks": ""
            },
            "type": "choropleth"
           }
          ],
          "contour": [
           {
            "colorbar": {
             "outlinewidth": 0,
             "ticks": ""
            },
            "colorscale": [
             [
              0,
              "#0d0887"
             ],
             [
              0.1111111111111111,
              "#46039f"
             ],
             [
              0.2222222222222222,
              "#7201a8"
             ],
             [
              0.3333333333333333,
              "#9c179e"
             ],
             [
              0.4444444444444444,
              "#bd3786"
             ],
             [
              0.5555555555555556,
              "#d8576b"
             ],
             [
              0.6666666666666666,
              "#ed7953"
             ],
             [
              0.7777777777777778,
              "#fb9f3a"
             ],
             [
              0.8888888888888888,
              "#fdca26"
             ],
             [
              1,
              "#f0f921"
             ]
            ],
            "type": "contour"
           }
          ],
          "contourcarpet": [
           {
            "colorbar": {
             "outlinewidth": 0,
             "ticks": ""
            },
            "type": "contourcarpet"
           }
          ],
          "heatmap": [
           {
            "colorbar": {
             "outlinewidth": 0,
             "ticks": ""
            },
            "colorscale": [
             [
              0,
              "#0d0887"
             ],
             [
              0.1111111111111111,
              "#46039f"
             ],
             [
              0.2222222222222222,
              "#7201a8"
             ],
             [
              0.3333333333333333,
              "#9c179e"
             ],
             [
              0.4444444444444444,
              "#bd3786"
             ],
             [
              0.5555555555555556,
              "#d8576b"
             ],
             [
              0.6666666666666666,
              "#ed7953"
             ],
             [
              0.7777777777777778,
              "#fb9f3a"
             ],
             [
              0.8888888888888888,
              "#fdca26"
             ],
             [
              1,
              "#f0f921"
             ]
            ],
            "type": "heatmap"
           }
          ],
          "heatmapgl": [
           {
            "colorbar": {
             "outlinewidth": 0,
             "ticks": ""
            },
            "colorscale": [
             [
              0,
              "#0d0887"
             ],
             [
              0.1111111111111111,
              "#46039f"
             ],
             [
              0.2222222222222222,
              "#7201a8"
             ],
             [
              0.3333333333333333,
              "#9c179e"
             ],
             [
              0.4444444444444444,
              "#bd3786"
             ],
             [
              0.5555555555555556,
              "#d8576b"
             ],
             [
              0.6666666666666666,
              "#ed7953"
             ],
             [
              0.7777777777777778,
              "#fb9f3a"
             ],
             [
              0.8888888888888888,
              "#fdca26"
             ],
             [
              1,
              "#f0f921"
             ]
            ],
            "type": "heatmapgl"
           }
          ],
          "histogram": [
           {
            "marker": {
             "colorbar": {
              "outlinewidth": 0,
              "ticks": ""
             }
            },
            "type": "histogram"
           }
          ],
          "histogram2d": [
           {
            "colorbar": {
             "outlinewidth": 0,
             "ticks": ""
            },
            "colorscale": [
             [
              0,
              "#0d0887"
             ],
             [
              0.1111111111111111,
              "#46039f"
             ],
             [
              0.2222222222222222,
              "#7201a8"
             ],
             [
              0.3333333333333333,
              "#9c179e"
             ],
             [
              0.4444444444444444,
              "#bd3786"
             ],
             [
              0.5555555555555556,
              "#d8576b"
             ],
             [
              0.6666666666666666,
              "#ed7953"
             ],
             [
              0.7777777777777778,
              "#fb9f3a"
             ],
             [
              0.8888888888888888,
              "#fdca26"
             ],
             [
              1,
              "#f0f921"
             ]
            ],
            "type": "histogram2d"
           }
          ],
          "histogram2dcontour": [
           {
            "colorbar": {
             "outlinewidth": 0,
             "ticks": ""
            },
            "colorscale": [
             [
              0,
              "#0d0887"
             ],
             [
              0.1111111111111111,
              "#46039f"
             ],
             [
              0.2222222222222222,
              "#7201a8"
             ],
             [
              0.3333333333333333,
              "#9c179e"
             ],
             [
              0.4444444444444444,
              "#bd3786"
             ],
             [
              0.5555555555555556,
              "#d8576b"
             ],
             [
              0.6666666666666666,
              "#ed7953"
             ],
             [
              0.7777777777777778,
              "#fb9f3a"
             ],
             [
              0.8888888888888888,
              "#fdca26"
             ],
             [
              1,
              "#f0f921"
             ]
            ],
            "type": "histogram2dcontour"
           }
          ],
          "mesh3d": [
           {
            "colorbar": {
             "outlinewidth": 0,
             "ticks": ""
            },
            "type": "mesh3d"
           }
          ],
          "parcoords": [
           {
            "line": {
             "colorbar": {
              "outlinewidth": 0,
              "ticks": ""
             }
            },
            "type": "parcoords"
           }
          ],
          "pie": [
           {
            "automargin": true,
            "type": "pie"
           }
          ],
          "scatter": [
           {
            "marker": {
             "colorbar": {
              "outlinewidth": 0,
              "ticks": ""
             }
            },
            "type": "scatter"
           }
          ],
          "scatter3d": [
           {
            "line": {
             "colorbar": {
              "outlinewidth": 0,
              "ticks": ""
             }
            },
            "marker": {
             "colorbar": {
              "outlinewidth": 0,
              "ticks": ""
             }
            },
            "type": "scatter3d"
           }
          ],
          "scattercarpet": [
           {
            "marker": {
             "colorbar": {
              "outlinewidth": 0,
              "ticks": ""
             }
            },
            "type": "scattercarpet"
           }
          ],
          "scattergeo": [
           {
            "marker": {
             "colorbar": {
              "outlinewidth": 0,
              "ticks": ""
             }
            },
            "type": "scattergeo"
           }
          ],
          "scattergl": [
           {
            "marker": {
             "colorbar": {
              "outlinewidth": 0,
              "ticks": ""
             }
            },
            "type": "scattergl"
           }
          ],
          "scattermapbox": [
           {
            "marker": {
             "colorbar": {
              "outlinewidth": 0,
              "ticks": ""
             }
            },
            "type": "scattermapbox"
           }
          ],
          "scatterpolar": [
           {
            "marker": {
             "colorbar": {
              "outlinewidth": 0,
              "ticks": ""
             }
            },
            "type": "scatterpolar"
           }
          ],
          "scatterpolargl": [
           {
            "marker": {
             "colorbar": {
              "outlinewidth": 0,
              "ticks": ""
             }
            },
            "type": "scatterpolargl"
           }
          ],
          "scatterternary": [
           {
            "marker": {
             "colorbar": {
              "outlinewidth": 0,
              "ticks": ""
             }
            },
            "type": "scatterternary"
           }
          ],
          "surface": [
           {
            "colorbar": {
             "outlinewidth": 0,
             "ticks": ""
            },
            "colorscale": [
             [
              0,
              "#0d0887"
             ],
             [
              0.1111111111111111,
              "#46039f"
             ],
             [
              0.2222222222222222,
              "#7201a8"
             ],
             [
              0.3333333333333333,
              "#9c179e"
             ],
             [
              0.4444444444444444,
              "#bd3786"
             ],
             [
              0.5555555555555556,
              "#d8576b"
             ],
             [
              0.6666666666666666,
              "#ed7953"
             ],
             [
              0.7777777777777778,
              "#fb9f3a"
             ],
             [
              0.8888888888888888,
              "#fdca26"
             ],
             [
              1,
              "#f0f921"
             ]
            ],
            "type": "surface"
           }
          ],
          "table": [
           {
            "cells": {
             "fill": {
              "color": "#EBF0F8"
             },
             "line": {
              "color": "white"
             }
            },
            "header": {
             "fill": {
              "color": "#C8D4E3"
             },
             "line": {
              "color": "white"
             }
            },
            "type": "table"
           }
          ]
         },
         "layout": {
          "annotationdefaults": {
           "arrowcolor": "#2a3f5f",
           "arrowhead": 0,
           "arrowwidth": 1
          },
          "coloraxis": {
           "colorbar": {
            "outlinewidth": 0,
            "ticks": ""
           }
          },
          "colorscale": {
           "diverging": [
            [
             0,
             "#8e0152"
            ],
            [
             0.1,
             "#c51b7d"
            ],
            [
             0.2,
             "#de77ae"
            ],
            [
             0.3,
             "#f1b6da"
            ],
            [
             0.4,
             "#fde0ef"
            ],
            [
             0.5,
             "#f7f7f7"
            ],
            [
             0.6,
             "#e6f5d0"
            ],
            [
             0.7,
             "#b8e186"
            ],
            [
             0.8,
             "#7fbc41"
            ],
            [
             0.9,
             "#4d9221"
            ],
            [
             1,
             "#276419"
            ]
           ],
           "sequential": [
            [
             0,
             "#0d0887"
            ],
            [
             0.1111111111111111,
             "#46039f"
            ],
            [
             0.2222222222222222,
             "#7201a8"
            ],
            [
             0.3333333333333333,
             "#9c179e"
            ],
            [
             0.4444444444444444,
             "#bd3786"
            ],
            [
             0.5555555555555556,
             "#d8576b"
            ],
            [
             0.6666666666666666,
             "#ed7953"
            ],
            [
             0.7777777777777778,
             "#fb9f3a"
            ],
            [
             0.8888888888888888,
             "#fdca26"
            ],
            [
             1,
             "#f0f921"
            ]
           ],
           "sequentialminus": [
            [
             0,
             "#0d0887"
            ],
            [
             0.1111111111111111,
             "#46039f"
            ],
            [
             0.2222222222222222,
             "#7201a8"
            ],
            [
             0.3333333333333333,
             "#9c179e"
            ],
            [
             0.4444444444444444,
             "#bd3786"
            ],
            [
             0.5555555555555556,
             "#d8576b"
            ],
            [
             0.6666666666666666,
             "#ed7953"
            ],
            [
             0.7777777777777778,
             "#fb9f3a"
            ],
            [
             0.8888888888888888,
             "#fdca26"
            ],
            [
             1,
             "#f0f921"
            ]
           ]
          },
          "colorway": [
           "#636efa",
           "#EF553B",
           "#00cc96",
           "#ab63fa",
           "#FFA15A",
           "#19d3f3",
           "#FF6692",
           "#B6E880",
           "#FF97FF",
           "#FECB52"
          ],
          "font": {
           "color": "#2a3f5f"
          },
          "geo": {
           "bgcolor": "white",
           "lakecolor": "white",
           "landcolor": "#E5ECF6",
           "showlakes": true,
           "showland": true,
           "subunitcolor": "white"
          },
          "hoverlabel": {
           "align": "left"
          },
          "hovermode": "closest",
          "mapbox": {
           "style": "light"
          },
          "paper_bgcolor": "white",
          "plot_bgcolor": "#E5ECF6",
          "polar": {
           "angularaxis": {
            "gridcolor": "white",
            "linecolor": "white",
            "ticks": ""
           },
           "bgcolor": "#E5ECF6",
           "radialaxis": {
            "gridcolor": "white",
            "linecolor": "white",
            "ticks": ""
           }
          },
          "scene": {
           "xaxis": {
            "backgroundcolor": "#E5ECF6",
            "gridcolor": "white",
            "gridwidth": 2,
            "linecolor": "white",
            "showbackground": true,
            "ticks": "",
            "zerolinecolor": "white"
           },
           "yaxis": {
            "backgroundcolor": "#E5ECF6",
            "gridcolor": "white",
            "gridwidth": 2,
            "linecolor": "white",
            "showbackground": true,
            "ticks": "",
            "zerolinecolor": "white"
           },
           "zaxis": {
            "backgroundcolor": "#E5ECF6",
            "gridcolor": "white",
            "gridwidth": 2,
            "linecolor": "white",
            "showbackground": true,
            "ticks": "",
            "zerolinecolor": "white"
           }
          },
          "shapedefaults": {
           "line": {
            "color": "#2a3f5f"
           }
          },
          "ternary": {
           "aaxis": {
            "gridcolor": "white",
            "linecolor": "white",
            "ticks": ""
           },
           "baxis": {
            "gridcolor": "white",
            "linecolor": "white",
            "ticks": ""
           },
           "bgcolor": "#E5ECF6",
           "caxis": {
            "gridcolor": "white",
            "linecolor": "white",
            "ticks": ""
           }
          },
          "title": {
           "x": 0.05
          },
          "xaxis": {
           "automargin": true,
           "gridcolor": "white",
           "linecolor": "white",
           "ticks": "",
           "title": {
            "standoff": 15
           },
           "zerolinecolor": "white",
           "zerolinewidth": 2
          },
          "yaxis": {
           "automargin": true,
           "gridcolor": "white",
           "linecolor": "white",
           "ticks": "",
           "title": {
            "standoff": 15
           },
           "zerolinecolor": "white",
           "zerolinewidth": 2
          }
         }
        },
        "title": {
         "text": "Most Freedom Oriented Countries In The World "
        }
       }
      },
      "text/html": [
       "<div>\n",
       "        \n",
       "        \n",
       "            <div id=\"ce34921e-e0f8-4402-b844-2b844010c104\" class=\"plotly-graph-div\" style=\"height:525px; width:100%;\"></div>\n",
       "            <script type=\"text/javascript\">\n",
       "                require([\"plotly\"], function(Plotly) {\n",
       "                    window.PLOTLYENV=window.PLOTLYENV || {};\n",
       "                    \n",
       "                if (document.getElementById(\"ce34921e-e0f8-4402-b844-2b844010c104\")) {\n",
       "                    Plotly.newPlot(\n",
       "                        'ce34921e-e0f8-4402-b844-2b844010c104',\n",
       "                        [{\"autocolorscale\": false, \"colorbar\": {\"title\": {\"text\": \"Freedom to make life choices\"}}, \"colorscale\": [[0.0, \"rgb(255,255,204)\"], [0.125, \"rgb(255,237,160)\"], [0.25, \"rgb(254,217,118)\"], [0.375, \"rgb(254,178,76)\"], [0.5, \"rgb(253,141,60)\"], [0.625, \"rgb(252,78,42)\"], [0.75, \"rgb(227,26,28)\"], [0.875, \"rgb(189,0,38)\"], [1.0, \"rgb(128,0,38)\"]], \"locationmode\": \"country names\", \"locations\": [\"Finland\", \"Denmark\", \"Switzerland\", \"Iceland\", \"Norway\", \"Netherlands\", \"Sweden\", \"New Zealand\", \"Austria\", \"Luxembourg\", \"Canada\", \"Australia\", \"United Kingdom\", \"Israel\", \"Costa Rica\", \"Ireland\", \"Germany\", \"United States\", \"Czech Republic\", \"Belgium\", \"United Arab Emirates\", \"Malta\", \"France\", \"Mexico\", \"Taiwan Province of China\", \"Uruguay\", \"Saudi Arabia\", \"Spain\", \"Guatemala\", \"Italy\", \"Singapore\", \"Brazil\", \"Slovenia\", \"El Salvador\", \"Kosovo\", \"Panama\", \"Slovakia\", \"Uzbekistan\", \"Chile\", \"Bahrain\", \"Lithuania\", \"Trinidad and Tobago\", \"Poland\", \"Colombia\", \"Cyprus\", \"Nicaragua\", \"Romania\", \"Kuwait\", \"Mauritius\", \"Kazakhstan\", \"Estonia\", \"Philippines\", \"Hungary\", \"Thailand\", \"Argentina\", \"Honduras\", \"Latvia\", \"Ecuador\", \"Portugal\", \"Jamaica\", \"South Korea\", \"Japan\", \"Peru\", \"Serbia\", \"Bolivia\", \"Pakistan\", \"Paraguay\", \"Dominican Republic\", \"Bosnia and Herzegovina\", \"Moldova\", \"Tajikistan\", \"Montenegro\", \"Russia\", \"Kyrgyzstan\", \"Belarus\", \"North Cyprus\", \"Greece\", \"Hong Kong S.A.R. of China\", \"Croatia\", \"Libya\", \"Mongolia\", \"Malaysia\", \"Vietnam\", \"Indonesia\", \"Ivory Coast\", \"Benin\", \"Maldives\", \"Congo (Brazzaville)\", \"Azerbaijan\", \"Macedonia\", \"Ghana\", \"Nepal\", \"Turkey\", \"China\", \"Turkmenistan\", \"Bulgaria\", \"Morocco\", \"Cameroon\", \"Venezuela\", \"Algeria\", \"Senegal\", \"Guinea\", \"Niger\", \"Laos\", \"Albania\", \"Cambodia\", \"Bangladesh\", \"Gabon\", \"South Africa\", \"Iraq\", \"Lebanon\", \"Burkina Faso\", \"Gambia\", \"Mali\", \"Nigeria\", \"Armenia\", \"Georgia\", \"Iran\", \"Jordan\", \"Mozambique\", \"Kenya\", \"Namibia\", \"Ukraine\", \"Liberia\", \"Palestinian Territories\", \"Uganda\", \"Chad\", \"Tunisia\", \"Mauritania\", \"Sri Lanka\", \"Congo (Kinshasa)\", \"Swaziland\", \"Myanmar\", \"Comoros\", \"Togo\", \"Ethiopia\", \"Madagascar\", \"Egypt\", \"Sierra Leone\", \"Burundi\", \"Zambia\", \"Haiti\", \"Lesotho\", \"India\", \"Malawi\", \"Yemen\", \"Botswana\", \"Tanzania\", \"Central African Republic\", \"Rwanda\", \"Zimbabwe\", \"South Sudan\", \"Afghanistan\"], \"reversescale\": true, \"text\": [\"Western Europe\", \"Western Europe\", \"Western Europe\", \"Western Europe\", \"Western Europe\", \"Western Europe\", \"Western Europe\", \"North America and ANZ\", \"Western Europe\", \"Western Europe\", \"North America and ANZ\", \"North America and ANZ\", \"Western Europe\", \"Middle East and North Africa\", \"Latin America and Caribbean\", \"Western Europe\", \"Western Europe\", \"North America and ANZ\", \"Central and Eastern Europe\", \"Western Europe\", \"Middle East and North Africa\", \"Western Europe\", \"Western Europe\", \"Latin America and Caribbean\", \"East Asia\", \"Latin America and Caribbean\", \"Middle East and North Africa\", \"Western Europe\", \"Latin America and Caribbean\", \"Western Europe\", \"Southeast Asia\", \"Latin America and Caribbean\", \"Central and Eastern Europe\", \"Latin America and Caribbean\", \"Central and Eastern Europe\", \"Latin America and Caribbean\", \"Central and Eastern Europe\", \"Commonwealth of Independent States\", \"Latin America and Caribbean\", \"Middle East and North Africa\", \"Central and Eastern Europe\", \"Latin America and Caribbean\", \"Central and Eastern Europe\", \"Latin America and Caribbean\", \"Western Europe\", \"Latin America and Caribbean\", \"Central and Eastern Europe\", \"Middle East and North Africa\", \"Sub-Saharan Africa\", \"Commonwealth of Independent States\", \"Central and Eastern Europe\", \"Southeast Asia\", \"Central and Eastern Europe\", \"Southeast Asia\", \"Latin America and Caribbean\", \"Latin America and Caribbean\", \"Central and Eastern Europe\", \"Latin America and Caribbean\", \"Western Europe\", \"Latin America and Caribbean\", \"East Asia\", \"East Asia\", \"Latin America and Caribbean\", \"Central and Eastern Europe\", \"Latin America and Caribbean\", \"South Asia\", \"Latin America and Caribbean\", \"Latin America and Caribbean\", \"Central and Eastern Europe\", \"Commonwealth of Independent States\", \"Commonwealth of Independent States\", \"Central and Eastern Europe\", \"Commonwealth of Independent States\", \"Commonwealth of Independent States\", \"Commonwealth of Independent States\", \"Western Europe\", \"Western Europe\", \"East Asia\", \"Central and Eastern Europe\", \"Middle East and North Africa\", \"East Asia\", \"Southeast Asia\", \"Southeast Asia\", \"Southeast Asia\", \"Sub-Saharan Africa\", \"Sub-Saharan Africa\", \"South Asia\", \"Sub-Saharan Africa\", \"Commonwealth of Independent States\", \"Central and Eastern Europe\", \"Sub-Saharan Africa\", \"South Asia\", \"Middle East and North Africa\", \"East Asia\", \"Commonwealth of Independent States\", \"Central and Eastern Europe\", \"Middle East and North Africa\", \"Sub-Saharan Africa\", \"Latin America and Caribbean\", \"Middle East and North Africa\", \"Sub-Saharan Africa\", \"Sub-Saharan Africa\", \"Sub-Saharan Africa\", \"Southeast Asia\", \"Central and Eastern Europe\", \"Southeast Asia\", \"South Asia\", \"Sub-Saharan Africa\", \"Sub-Saharan Africa\", \"Middle East and North Africa\", \"Middle East and North Africa\", \"Sub-Saharan Africa\", \"Sub-Saharan Africa\", \"Sub-Saharan Africa\", \"Sub-Saharan Africa\", \"Commonwealth of Independent States\", \"Commonwealth of Independent States\", \"Middle East and North Africa\", \"Middle East and North Africa\", \"Sub-Saharan Africa\", \"Sub-Saharan Africa\", \"Sub-Saharan Africa\", \"Commonwealth of Independent States\", \"Sub-Saharan Africa\", \"Middle East and North Africa\", \"Sub-Saharan Africa\", \"Sub-Saharan Africa\", \"Middle East and North Africa\", \"Sub-Saharan Africa\", \"South Asia\", \"Sub-Saharan Africa\", \"Sub-Saharan Africa\", \"Southeast Asia\", \"Sub-Saharan Africa\", \"Sub-Saharan Africa\", \"Sub-Saharan Africa\", \"Sub-Saharan Africa\", \"Middle East and North Africa\", \"Sub-Saharan Africa\", \"Sub-Saharan Africa\", \"Sub-Saharan Africa\", \"Latin America and Caribbean\", \"Sub-Saharan Africa\", \"South Asia\", \"Sub-Saharan Africa\", \"Middle East and North Africa\", \"Sub-Saharan Africa\", \"Sub-Saharan Africa\", \"Sub-Saharan Africa\", \"Sub-Saharan Africa\", \"Sub-Saharan Africa\", \"Sub-Saharan Africa\", \"South Asia\"], \"type\": \"choropleth\", \"z\": [0.949172199, 0.9514442679999999, 0.921336651, 0.948891878, 0.955750287, 0.908547819, 0.939144194, 0.9362174870000001, 0.899989486, 0.90563643, 0.9339132309999999, 0.915431738, 0.834743679, 0.7475805879999999, 0.9347389340000001, 0.8869829770000001, 0.867371082, 0.842619538, 0.818537354, 0.813582063, 0.941345513, 0.9249114390000001, 0.8254676459999999, 0.8587092759999999, 0.77153033, 0.892395437, 0.854191244, 0.751989543, 0.9081475729999999, 0.66465199, 0.926645339, 0.799804807, 0.936142623, 0.833805263, 0.861535907, 0.880366504, 0.7499526740000001, 0.974998116, 0.7448962929999999, 0.905855775, 0.747381449, 0.8579071159999999, 0.8620557790000001, 0.8361799120000001, 0.7798582909999999, 0.8639028670000001, 0.842823207, 0.8723664879999999, 0.889534533, 0.811601937, 0.87770915, 0.915463448, 0.718964577, 0.905063033, 0.831132412, 0.870603263, 0.671237648, 0.8598289490000001, 0.8887478109999999, 0.8580685259999999, 0.6129651070000001, 0.8099613790000001, 0.8247660990000001, 0.726495862, 0.875873327, 0.734833717, 0.885923445, 0.8662027720000001, 0.651352704, 0.721609175, 0.831383407, 0.649565637, 0.729892612, 0.909374893, 0.6391630770000001, 0.79529351, 0.5413451189999999, 0.7798337940000001, 0.714838803, 0.773157001, 0.693351328, 0.8946268559999999, 0.939592957, 0.8706144090000001, 0.727909327, 0.735182583, 0.8539627790000001, 0.7190585140000001, 0.786824107, 0.738840938, 0.794796526, 0.797565043, 0.6088304520000001, 0.898517907, 0.8264570240000001, 0.745178163, 0.772072434, 0.7630518079999999, 0.62327832, 0.46661090899999996, 0.6905961629999999, 0.7068467740000001, 0.759772122, 0.907213569, 0.7819942240000001, 0.9597046379999999, 0.90062499, 0.7048292159999999, 0.7593300940000001, 0.633182645, 0.5513575079999999, 0.665563583, 0.733163178, 0.71156615, 0.759578407, 0.7120178340000001, 0.8016415240000001, 0.647873282, 0.75104779, 0.864451885, 0.829747558, 0.767520964, 0.663081884, 0.735268712, 0.645791829, 0.7317139509999999, 0.587305248, 0.593361557, 0.551522553, 0.837633669, 0.700793564, 0.646822274, 0.895075202, 0.547612607, 0.6498286129999999, 0.740795195, 0.5575740929999999, 0.708354175, 0.715315044, 0.626350224, 0.806500256, 0.537825167, 0.738125861, 0.8814448709999999, 0.803223193, 0.599920273, 0.8213281040000001, 0.82153976, 0.640880644, 0.9005894059999999, 0.711457908, 0.451313615, 0.39657300700000003]}],\n",
       "                        {\"geo\": {\"projection\": {\"type\": \"equirectangular\"}, \"showframe\": false}, \"template\": {\"data\": {\"bar\": [{\"error_x\": {\"color\": \"#2a3f5f\"}, \"error_y\": {\"color\": \"#2a3f5f\"}, \"marker\": {\"line\": {\"color\": \"#E5ECF6\", \"width\": 0.5}}, \"type\": \"bar\"}], \"barpolar\": [{\"marker\": {\"line\": {\"color\": \"#E5ECF6\", \"width\": 0.5}}, \"type\": \"barpolar\"}], \"carpet\": [{\"aaxis\": {\"endlinecolor\": \"#2a3f5f\", \"gridcolor\": \"white\", \"linecolor\": \"white\", \"minorgridcolor\": \"white\", \"startlinecolor\": \"#2a3f5f\"}, \"baxis\": {\"endlinecolor\": \"#2a3f5f\", \"gridcolor\": \"white\", \"linecolor\": \"white\", \"minorgridcolor\": \"white\", \"startlinecolor\": \"#2a3f5f\"}, \"type\": \"carpet\"}], \"choropleth\": [{\"colorbar\": {\"outlinewidth\": 0, \"ticks\": \"\"}, \"type\": \"choropleth\"}], \"contour\": [{\"colorbar\": {\"outlinewidth\": 0, \"ticks\": \"\"}, \"colorscale\": [[0.0, \"#0d0887\"], [0.1111111111111111, \"#46039f\"], [0.2222222222222222, \"#7201a8\"], [0.3333333333333333, \"#9c179e\"], [0.4444444444444444, \"#bd3786\"], [0.5555555555555556, \"#d8576b\"], [0.6666666666666666, \"#ed7953\"], [0.7777777777777778, \"#fb9f3a\"], [0.8888888888888888, \"#fdca26\"], [1.0, \"#f0f921\"]], \"type\": \"contour\"}], \"contourcarpet\": [{\"colorbar\": {\"outlinewidth\": 0, \"ticks\": \"\"}, \"type\": \"contourcarpet\"}], \"heatmap\": [{\"colorbar\": {\"outlinewidth\": 0, \"ticks\": \"\"}, \"colorscale\": [[0.0, \"#0d0887\"], [0.1111111111111111, \"#46039f\"], [0.2222222222222222, \"#7201a8\"], [0.3333333333333333, \"#9c179e\"], [0.4444444444444444, \"#bd3786\"], [0.5555555555555556, \"#d8576b\"], [0.6666666666666666, \"#ed7953\"], [0.7777777777777778, \"#fb9f3a\"], [0.8888888888888888, \"#fdca26\"], [1.0, \"#f0f921\"]], \"type\": \"heatmap\"}], \"heatmapgl\": [{\"colorbar\": {\"outlinewidth\": 0, \"ticks\": \"\"}, \"colorscale\": [[0.0, \"#0d0887\"], [0.1111111111111111, \"#46039f\"], [0.2222222222222222, \"#7201a8\"], [0.3333333333333333, \"#9c179e\"], [0.4444444444444444, \"#bd3786\"], [0.5555555555555556, \"#d8576b\"], [0.6666666666666666, \"#ed7953\"], [0.7777777777777778, \"#fb9f3a\"], [0.8888888888888888, \"#fdca26\"], [1.0, \"#f0f921\"]], \"type\": \"heatmapgl\"}], \"histogram\": [{\"marker\": {\"colorbar\": {\"outlinewidth\": 0, \"ticks\": \"\"}}, \"type\": \"histogram\"}], \"histogram2d\": [{\"colorbar\": {\"outlinewidth\": 0, \"ticks\": \"\"}, \"colorscale\": [[0.0, \"#0d0887\"], [0.1111111111111111, \"#46039f\"], [0.2222222222222222, \"#7201a8\"], [0.3333333333333333, \"#9c179e\"], [0.4444444444444444, \"#bd3786\"], [0.5555555555555556, \"#d8576b\"], [0.6666666666666666, \"#ed7953\"], [0.7777777777777778, \"#fb9f3a\"], [0.8888888888888888, \"#fdca26\"], [1.0, \"#f0f921\"]], \"type\": \"histogram2d\"}], \"histogram2dcontour\": [{\"colorbar\": {\"outlinewidth\": 0, \"ticks\": \"\"}, \"colorscale\": [[0.0, \"#0d0887\"], [0.1111111111111111, \"#46039f\"], [0.2222222222222222, \"#7201a8\"], [0.3333333333333333, \"#9c179e\"], [0.4444444444444444, \"#bd3786\"], [0.5555555555555556, \"#d8576b\"], [0.6666666666666666, \"#ed7953\"], [0.7777777777777778, \"#fb9f3a\"], [0.8888888888888888, \"#fdca26\"], [1.0, \"#f0f921\"]], \"type\": \"histogram2dcontour\"}], \"mesh3d\": [{\"colorbar\": {\"outlinewidth\": 0, \"ticks\": \"\"}, \"type\": \"mesh3d\"}], \"parcoords\": [{\"line\": {\"colorbar\": {\"outlinewidth\": 0, \"ticks\": \"\"}}, \"type\": \"parcoords\"}], \"pie\": [{\"automargin\": true, \"type\": \"pie\"}], \"scatter\": [{\"marker\": {\"colorbar\": {\"outlinewidth\": 0, \"ticks\": \"\"}}, \"type\": \"scatter\"}], \"scatter3d\": [{\"line\": {\"colorbar\": {\"outlinewidth\": 0, \"ticks\": \"\"}}, \"marker\": {\"colorbar\": {\"outlinewidth\": 0, \"ticks\": \"\"}}, \"type\": \"scatter3d\"}], \"scattercarpet\": [{\"marker\": {\"colorbar\": {\"outlinewidth\": 0, \"ticks\": \"\"}}, \"type\": \"scattercarpet\"}], \"scattergeo\": [{\"marker\": {\"colorbar\": {\"outlinewidth\": 0, \"ticks\": \"\"}}, \"type\": \"scattergeo\"}], \"scattergl\": [{\"marker\": {\"colorbar\": {\"outlinewidth\": 0, \"ticks\": \"\"}}, \"type\": \"scattergl\"}], \"scattermapbox\": [{\"marker\": {\"colorbar\": {\"outlinewidth\": 0, \"ticks\": \"\"}}, \"type\": \"scattermapbox\"}], \"scatterpolar\": [{\"marker\": {\"colorbar\": {\"outlinewidth\": 0, \"ticks\": \"\"}}, \"type\": \"scatterpolar\"}], \"scatterpolargl\": [{\"marker\": {\"colorbar\": {\"outlinewidth\": 0, \"ticks\": \"\"}}, \"type\": \"scatterpolargl\"}], \"scatterternary\": [{\"marker\": {\"colorbar\": {\"outlinewidth\": 0, \"ticks\": \"\"}}, \"type\": \"scatterternary\"}], \"surface\": [{\"colorbar\": {\"outlinewidth\": 0, \"ticks\": \"\"}, \"colorscale\": [[0.0, \"#0d0887\"], [0.1111111111111111, \"#46039f\"], [0.2222222222222222, \"#7201a8\"], [0.3333333333333333, \"#9c179e\"], [0.4444444444444444, \"#bd3786\"], [0.5555555555555556, \"#d8576b\"], [0.6666666666666666, \"#ed7953\"], [0.7777777777777778, \"#fb9f3a\"], [0.8888888888888888, \"#fdca26\"], [1.0, \"#f0f921\"]], \"type\": \"surface\"}], \"table\": [{\"cells\": {\"fill\": {\"color\": \"#EBF0F8\"}, \"line\": {\"color\": \"white\"}}, \"header\": {\"fill\": {\"color\": \"#C8D4E3\"}, \"line\": {\"color\": \"white\"}}, \"type\": \"table\"}]}, \"layout\": {\"annotationdefaults\": {\"arrowcolor\": \"#2a3f5f\", \"arrowhead\": 0, \"arrowwidth\": 1}, \"coloraxis\": {\"colorbar\": {\"outlinewidth\": 0, \"ticks\": \"\"}}, \"colorscale\": {\"diverging\": [[0, \"#8e0152\"], [0.1, \"#c51b7d\"], [0.2, \"#de77ae\"], [0.3, \"#f1b6da\"], [0.4, \"#fde0ef\"], [0.5, \"#f7f7f7\"], [0.6, \"#e6f5d0\"], [0.7, \"#b8e186\"], [0.8, \"#7fbc41\"], [0.9, \"#4d9221\"], [1, \"#276419\"]], \"sequential\": [[0.0, \"#0d0887\"], [0.1111111111111111, \"#46039f\"], [0.2222222222222222, \"#7201a8\"], [0.3333333333333333, \"#9c179e\"], [0.4444444444444444, \"#bd3786\"], [0.5555555555555556, \"#d8576b\"], [0.6666666666666666, \"#ed7953\"], [0.7777777777777778, \"#fb9f3a\"], [0.8888888888888888, \"#fdca26\"], [1.0, \"#f0f921\"]], \"sequentialminus\": [[0.0, \"#0d0887\"], [0.1111111111111111, \"#46039f\"], [0.2222222222222222, \"#7201a8\"], [0.3333333333333333, \"#9c179e\"], [0.4444444444444444, \"#bd3786\"], [0.5555555555555556, \"#d8576b\"], [0.6666666666666666, \"#ed7953\"], [0.7777777777777778, \"#fb9f3a\"], [0.8888888888888888, \"#fdca26\"], [1.0, \"#f0f921\"]]}, \"colorway\": [\"#636efa\", \"#EF553B\", \"#00cc96\", \"#ab63fa\", \"#FFA15A\", \"#19d3f3\", \"#FF6692\", \"#B6E880\", \"#FF97FF\", \"#FECB52\"], \"font\": {\"color\": \"#2a3f5f\"}, \"geo\": {\"bgcolor\": \"white\", \"lakecolor\": \"white\", \"landcolor\": \"#E5ECF6\", \"showlakes\": true, \"showland\": true, \"subunitcolor\": \"white\"}, \"hoverlabel\": {\"align\": \"left\"}, \"hovermode\": \"closest\", \"mapbox\": {\"style\": \"light\"}, \"paper_bgcolor\": \"white\", \"plot_bgcolor\": \"#E5ECF6\", \"polar\": {\"angularaxis\": {\"gridcolor\": \"white\", \"linecolor\": \"white\", \"ticks\": \"\"}, \"bgcolor\": \"#E5ECF6\", \"radialaxis\": {\"gridcolor\": \"white\", \"linecolor\": \"white\", \"ticks\": \"\"}}, \"scene\": {\"xaxis\": {\"backgroundcolor\": \"#E5ECF6\", \"gridcolor\": \"white\", \"gridwidth\": 2, \"linecolor\": \"white\", \"showbackground\": true, \"ticks\": \"\", \"zerolinecolor\": \"white\"}, \"yaxis\": {\"backgroundcolor\": \"#E5ECF6\", \"gridcolor\": \"white\", \"gridwidth\": 2, \"linecolor\": \"white\", \"showbackground\": true, \"ticks\": \"\", \"zerolinecolor\": \"white\"}, \"zaxis\": {\"backgroundcolor\": \"#E5ECF6\", \"gridcolor\": \"white\", \"gridwidth\": 2, \"linecolor\": \"white\", \"showbackground\": true, \"ticks\": \"\", \"zerolinecolor\": \"white\"}}, \"shapedefaults\": {\"line\": {\"color\": \"#2a3f5f\"}}, \"ternary\": {\"aaxis\": {\"gridcolor\": \"white\", \"linecolor\": \"white\", \"ticks\": \"\"}, \"baxis\": {\"gridcolor\": \"white\", \"linecolor\": \"white\", \"ticks\": \"\"}, \"bgcolor\": \"#E5ECF6\", \"caxis\": {\"gridcolor\": \"white\", \"linecolor\": \"white\", \"ticks\": \"\"}}, \"title\": {\"x\": 0.05}, \"xaxis\": {\"automargin\": true, \"gridcolor\": \"white\", \"linecolor\": \"white\", \"ticks\": \"\", \"title\": {\"standoff\": 15}, \"zerolinecolor\": \"white\", \"zerolinewidth\": 2}, \"yaxis\": {\"automargin\": true, \"gridcolor\": \"white\", \"linecolor\": \"white\", \"ticks\": \"\", \"title\": {\"standoff\": 15}, \"zerolinecolor\": \"white\", \"zerolinewidth\": 2}}}, \"title\": {\"text\": \"Most Freedom Oriented Countries In The World \"}},\n",
       "                        {\"responsive\": true}\n",
       "                    ).then(function(){\n",
       "                            \n",
       "var gd = document.getElementById('ce34921e-e0f8-4402-b844-2b844010c104');\n",
       "var x = new MutationObserver(function (mutations, observer) {{\n",
       "        var display = window.getComputedStyle(gd).display;\n",
       "        if (!display || display === 'none') {{\n",
       "            console.log([gd, 'removed!']);\n",
       "            Plotly.purge(gd);\n",
       "            observer.disconnect();\n",
       "        }}\n",
       "}});\n",
       "\n",
       "// Listen for the removal of the full notebook cells\n",
       "var notebookContainer = gd.closest('#notebook-container');\n",
       "if (notebookContainer) {{\n",
       "    x.observe(notebookContainer, {childList: true});\n",
       "}}\n",
       "\n",
       "// Listen for the clearing of the current output cell\n",
       "var outputEl = gd.closest('.output');\n",
       "if (outputEl) {{\n",
       "    x.observe(outputEl, {childList: true});\n",
       "}}\n",
       "\n",
       "                        })\n",
       "                };\n",
       "                });\n",
       "            </script>\n",
       "        </div>"
      ]
     },
     "metadata": {},
     "output_type": "display_data"
    }
   ],
   "source": [
    "import plotly as py\n",
    "import plotly.graph_objs as go\n",
    "from plotly.offline import iplot\n",
    "map_plot = dict(type = 'choropleth', \n",
    "locations = happy2020['Country name'],\n",
    "locationmode = 'country names',\n",
    "z = happy2020['Freedom to make life choices'].astype(float), \n",
    "text =happy2020['Regional indicator'],\n",
    "colorscale='YlOrRd',\n",
    "autocolorscale = False, reversescale = True,colorbar=dict(\n",
    "title = \"Freedom to make life choices\"))\n",
    "layout = dict(title = 'Most Freedom Oriented Countries In The World ', \n",
    "geo = dict(showframe = False, \n",
    "projection = {'type': 'equirectangular'}))\n",
    "choromap = go.Figure(data = [map_plot], layout=layout)\n",
    "iplot(choromap)"
   ]
  },
  {
   "cell_type": "code",
   "execution_count": 7,
   "metadata": {},
   "outputs": [
    {
     "data": {
      "application/vnd.plotly.v1+json": {
       "config": {
        "linkText": "Export to plot.ly",
        "plotlyServerURL": "https://plot.ly",
        "showLink": false
       },
       "data": [
        {
         "autocolorscale": false,
         "colorbar": {
          "title": {
           "text": "Happiness Score(0-10)"
          }
         },
         "colorscale": [
          [
           0,
           "rgb(255,255,204)"
          ],
          [
           0.125,
           "rgb(255,237,160)"
          ],
          [
           0.25,
           "rgb(254,217,118)"
          ],
          [
           0.375,
           "rgb(254,178,76)"
          ],
          [
           0.5,
           "rgb(253,141,60)"
          ],
          [
           0.625,
           "rgb(252,78,42)"
          ],
          [
           0.75,
           "rgb(227,26,28)"
          ],
          [
           0.875,
           "rgb(189,0,38)"
          ],
          [
           1,
           "rgb(128,0,38)"
          ]
         ],
         "locationmode": "country names",
         "locations": [
          "Finland",
          "Denmark",
          "Switzerland",
          "Iceland",
          "Norway",
          "Netherlands",
          "Sweden",
          "New Zealand",
          "Austria",
          "Luxembourg",
          "Canada",
          "Australia",
          "United Kingdom",
          "Israel",
          "Costa Rica",
          "Ireland",
          "Germany",
          "United States",
          "Czech Republic",
          "Belgium",
          "United Arab Emirates",
          "Malta",
          "France",
          "Mexico",
          "Taiwan Province of China",
          "Uruguay",
          "Saudi Arabia",
          "Spain",
          "Guatemala",
          "Italy",
          "Singapore",
          "Brazil",
          "Slovenia",
          "El Salvador",
          "Kosovo",
          "Panama",
          "Slovakia",
          "Uzbekistan",
          "Chile",
          "Bahrain",
          "Lithuania",
          "Trinidad and Tobago",
          "Poland",
          "Colombia",
          "Cyprus",
          "Nicaragua",
          "Romania",
          "Kuwait",
          "Mauritius",
          "Kazakhstan",
          "Estonia",
          "Philippines",
          "Hungary",
          "Thailand",
          "Argentina",
          "Honduras",
          "Latvia",
          "Ecuador",
          "Portugal",
          "Jamaica",
          "South Korea",
          "Japan",
          "Peru",
          "Serbia",
          "Bolivia",
          "Pakistan",
          "Paraguay",
          "Dominican Republic",
          "Bosnia and Herzegovina",
          "Moldova",
          "Tajikistan",
          "Montenegro",
          "Russia",
          "Kyrgyzstan",
          "Belarus",
          "North Cyprus",
          "Greece",
          "Hong Kong S.A.R. of China",
          "Croatia",
          "Libya",
          "Mongolia",
          "Malaysia",
          "Vietnam",
          "Indonesia",
          "Ivory Coast",
          "Benin",
          "Maldives",
          "Congo (Brazzaville)",
          "Azerbaijan",
          "Macedonia",
          "Ghana",
          "Nepal",
          "Turkey",
          "China",
          "Turkmenistan",
          "Bulgaria",
          "Morocco",
          "Cameroon",
          "Venezuela",
          "Algeria",
          "Senegal",
          "Guinea",
          "Niger",
          "Laos",
          "Albania",
          "Cambodia",
          "Bangladesh",
          "Gabon",
          "South Africa",
          "Iraq",
          "Lebanon",
          "Burkina Faso",
          "Gambia",
          "Mali",
          "Nigeria",
          "Armenia",
          "Georgia",
          "Iran",
          "Jordan",
          "Mozambique",
          "Kenya",
          "Namibia",
          "Ukraine",
          "Liberia",
          "Palestinian Territories",
          "Uganda",
          "Chad",
          "Tunisia",
          "Mauritania",
          "Sri Lanka",
          "Congo (Kinshasa)",
          "Swaziland",
          "Myanmar",
          "Comoros",
          "Togo",
          "Ethiopia",
          "Madagascar",
          "Egypt",
          "Sierra Leone",
          "Burundi",
          "Zambia",
          "Haiti",
          "Lesotho",
          "India",
          "Malawi",
          "Yemen",
          "Botswana",
          "Tanzania",
          "Central African Republic",
          "Rwanda",
          "Zimbabwe",
          "South Sudan",
          "Afghanistan"
         ],
         "reversescale": true,
         "text": [
          "Western Europe",
          "Western Europe",
          "Western Europe",
          "Western Europe",
          "Western Europe",
          "Western Europe",
          "Western Europe",
          "North America and ANZ",
          "Western Europe",
          "Western Europe",
          "North America and ANZ",
          "North America and ANZ",
          "Western Europe",
          "Middle East and North Africa",
          "Latin America and Caribbean",
          "Western Europe",
          "Western Europe",
          "North America and ANZ",
          "Central and Eastern Europe",
          "Western Europe",
          "Middle East and North Africa",
          "Western Europe",
          "Western Europe",
          "Latin America and Caribbean",
          "East Asia",
          "Latin America and Caribbean",
          "Middle East and North Africa",
          "Western Europe",
          "Latin America and Caribbean",
          "Western Europe",
          "Southeast Asia",
          "Latin America and Caribbean",
          "Central and Eastern Europe",
          "Latin America and Caribbean",
          "Central and Eastern Europe",
          "Latin America and Caribbean",
          "Central and Eastern Europe",
          "Commonwealth of Independent States",
          "Latin America and Caribbean",
          "Middle East and North Africa",
          "Central and Eastern Europe",
          "Latin America and Caribbean",
          "Central and Eastern Europe",
          "Latin America and Caribbean",
          "Western Europe",
          "Latin America and Caribbean",
          "Central and Eastern Europe",
          "Middle East and North Africa",
          "Sub-Saharan Africa",
          "Commonwealth of Independent States",
          "Central and Eastern Europe",
          "Southeast Asia",
          "Central and Eastern Europe",
          "Southeast Asia",
          "Latin America and Caribbean",
          "Latin America and Caribbean",
          "Central and Eastern Europe",
          "Latin America and Caribbean",
          "Western Europe",
          "Latin America and Caribbean",
          "East Asia",
          "East Asia",
          "Latin America and Caribbean",
          "Central and Eastern Europe",
          "Latin America and Caribbean",
          "South Asia",
          "Latin America and Caribbean",
          "Latin America and Caribbean",
          "Central and Eastern Europe",
          "Commonwealth of Independent States",
          "Commonwealth of Independent States",
          "Central and Eastern Europe",
          "Commonwealth of Independent States",
          "Commonwealth of Independent States",
          "Commonwealth of Independent States",
          "Western Europe",
          "Western Europe",
          "East Asia",
          "Central and Eastern Europe",
          "Middle East and North Africa",
          "East Asia",
          "Southeast Asia",
          "Southeast Asia",
          "Southeast Asia",
          "Sub-Saharan Africa",
          "Sub-Saharan Africa",
          "South Asia",
          "Sub-Saharan Africa",
          "Commonwealth of Independent States",
          "Central and Eastern Europe",
          "Sub-Saharan Africa",
          "South Asia",
          "Middle East and North Africa",
          "East Asia",
          "Commonwealth of Independent States",
          "Central and Eastern Europe",
          "Middle East and North Africa",
          "Sub-Saharan Africa",
          "Latin America and Caribbean",
          "Middle East and North Africa",
          "Sub-Saharan Africa",
          "Sub-Saharan Africa",
          "Sub-Saharan Africa",
          "Southeast Asia",
          "Central and Eastern Europe",
          "Southeast Asia",
          "South Asia",
          "Sub-Saharan Africa",
          "Sub-Saharan Africa",
          "Middle East and North Africa",
          "Middle East and North Africa",
          "Sub-Saharan Africa",
          "Sub-Saharan Africa",
          "Sub-Saharan Africa",
          "Sub-Saharan Africa",
          "Commonwealth of Independent States",
          "Commonwealth of Independent States",
          "Middle East and North Africa",
          "Middle East and North Africa",
          "Sub-Saharan Africa",
          "Sub-Saharan Africa",
          "Sub-Saharan Africa",
          "Commonwealth of Independent States",
          "Sub-Saharan Africa",
          "Middle East and North Africa",
          "Sub-Saharan Africa",
          "Sub-Saharan Africa",
          "Middle East and North Africa",
          "Sub-Saharan Africa",
          "South Asia",
          "Sub-Saharan Africa",
          "Sub-Saharan Africa",
          "Southeast Asia",
          "Sub-Saharan Africa",
          "Sub-Saharan Africa",
          "Sub-Saharan Africa",
          "Sub-Saharan Africa",
          "Middle East and North Africa",
          "Sub-Saharan Africa",
          "Sub-Saharan Africa",
          "Sub-Saharan Africa",
          "Latin America and Caribbean",
          "Sub-Saharan Africa",
          "South Asia",
          "Sub-Saharan Africa",
          "Middle East and North Africa",
          "Sub-Saharan Africa",
          "Sub-Saharan Africa",
          "Sub-Saharan Africa",
          "Sub-Saharan Africa",
          "Sub-Saharan Africa",
          "Sub-Saharan Africa",
          "South Asia"
         ],
         "type": "choropleth",
         "z": [
          7.808700085,
          7.645599842,
          7.559899807000001,
          7.504499912000001,
          7.487999916000001,
          7.448900223,
          7.353499889,
          7.2996001239999995,
          7.294199944,
          7.2375001910000005,
          7.23210001,
          7.222799778,
          7.164500237,
          7.128600121,
          7.121399879,
          7.093699932000001,
          7.075799942000001,
          6.939599991000001,
          6.9109001160000005,
          6.863500117999999,
          6.790800095,
          6.772799968999999,
          6.663799762999999,
          6.465000152999999,
          6.45539999,
          6.440100192999999,
          6.406499863,
          6.4008998870000005,
          6.398900032,
          6.38740015,
          6.377099991000001,
          6.375599861,
          6.363399982000001,
          6.34829998,
          6.325200081,
          6.304800033999999,
          6.280600071,
          6.257599831,
          6.228499889,
          6.227300167,
          6.215499877999999,
          6.1918997760000005,
          6.1862998010000005,
          6.163400172999999,
          6.15899992,
          6.13710022,
          6.123700142000001,
          6.102099895,
          6.101299762999999,
          6.0578999520000005,
          6.0218000410000005,
          6.006000042,
          6.000400066,
          5.9987998010000005,
          5.974699974,
          5.953199862999999,
          5.9499998089999995,
          5.925199986,
          5.9109001160000005,
          5.889800072000001,
          5.872399807000001,
          5.870800018,
          5.796800137000001,
          5.77820015,
          5.747499942999999,
          5.69329977,
          5.6921000479999995,
          5.6891999239999995,
          5.674099922000001,
          5.607500076,
          5.555699825,
          5.54610014,
          5.546000004,
          5.541500092000001,
          5.539899826,
          5.53550005,
          5.514999866,
          5.510399818,
          5.504700184,
          5.488800049,
          5.4562001229999995,
          5.384300232,
          5.353499889,
          5.285600185,
          5.233300208999999,
          5.21600008,
          5.197599888,
          5.1943998339999995,
          5.164800167,
          5.1598000530000006,
          5.1479997630000005,
          5.137199879,
          5.131800175,
          5.123899937,
          5.119100093999999,
          5.101500034,
          5.094799995,
          5.084899902,
          5.053199768,
          5.005099773,
          4.980800152,
          4.949299812,
          4.909599781,
          4.888599873,
          4.882699966000001,
          4.8484001160000005,
          4.832799911,
          4.829299927,
          4.814099789,
          4.7848000530000006,
          4.771500111,
          4.768700123,
          4.750599861,
          4.729300021999999,
          4.724100113,
          4.676799774,
          4.672599792,
          4.672399998,
          4.6333999630000005,
          4.623600006,
          4.583000183,
          4.571100235,
          4.56069994,
          4.557899952,
          4.552800179,
          4.43200016,
          4.422699928,
          4.392199993,
          4.374599934,
          4.327000141,
          4.31099987,
          4.3081002239999995,
          4.308000088,
          4.288599968,
          4.187200069,
          4.186200142,
          4.165599823,
          4.151400089,
          3.926399946,
          3.775300026,
          3.759399891,
          3.720799923,
          3.6528000830000003,
          3.573299885,
          3.538000107,
          3.5274000169999997,
          3.4788999560000002,
          3.4762001039999997,
          3.475899935,
          3.312299967,
          3.2992000580000003,
          2.8166000839999996,
          2.566900015
         ]
        }
       ],
       "layout": {
        "geo": {
         "projection": {
          "type": "equirectangular"
         },
         "showframe": false
        },
        "template": {
         "data": {
          "bar": [
           {
            "error_x": {
             "color": "#2a3f5f"
            },
            "error_y": {
             "color": "#2a3f5f"
            },
            "marker": {
             "line": {
              "color": "#E5ECF6",
              "width": 0.5
             }
            },
            "type": "bar"
           }
          ],
          "barpolar": [
           {
            "marker": {
             "line": {
              "color": "#E5ECF6",
              "width": 0.5
             }
            },
            "type": "barpolar"
           }
          ],
          "carpet": [
           {
            "aaxis": {
             "endlinecolor": "#2a3f5f",
             "gridcolor": "white",
             "linecolor": "white",
             "minorgridcolor": "white",
             "startlinecolor": "#2a3f5f"
            },
            "baxis": {
             "endlinecolor": "#2a3f5f",
             "gridcolor": "white",
             "linecolor": "white",
             "minorgridcolor": "white",
             "startlinecolor": "#2a3f5f"
            },
            "type": "carpet"
           }
          ],
          "choropleth": [
           {
            "colorbar": {
             "outlinewidth": 0,
             "ticks": ""
            },
            "type": "choropleth"
           }
          ],
          "contour": [
           {
            "colorbar": {
             "outlinewidth": 0,
             "ticks": ""
            },
            "colorscale": [
             [
              0,
              "#0d0887"
             ],
             [
              0.1111111111111111,
              "#46039f"
             ],
             [
              0.2222222222222222,
              "#7201a8"
             ],
             [
              0.3333333333333333,
              "#9c179e"
             ],
             [
              0.4444444444444444,
              "#bd3786"
             ],
             [
              0.5555555555555556,
              "#d8576b"
             ],
             [
              0.6666666666666666,
              "#ed7953"
             ],
             [
              0.7777777777777778,
              "#fb9f3a"
             ],
             [
              0.8888888888888888,
              "#fdca26"
             ],
             [
              1,
              "#f0f921"
             ]
            ],
            "type": "contour"
           }
          ],
          "contourcarpet": [
           {
            "colorbar": {
             "outlinewidth": 0,
             "ticks": ""
            },
            "type": "contourcarpet"
           }
          ],
          "heatmap": [
           {
            "colorbar": {
             "outlinewidth": 0,
             "ticks": ""
            },
            "colorscale": [
             [
              0,
              "#0d0887"
             ],
             [
              0.1111111111111111,
              "#46039f"
             ],
             [
              0.2222222222222222,
              "#7201a8"
             ],
             [
              0.3333333333333333,
              "#9c179e"
             ],
             [
              0.4444444444444444,
              "#bd3786"
             ],
             [
              0.5555555555555556,
              "#d8576b"
             ],
             [
              0.6666666666666666,
              "#ed7953"
             ],
             [
              0.7777777777777778,
              "#fb9f3a"
             ],
             [
              0.8888888888888888,
              "#fdca26"
             ],
             [
              1,
              "#f0f921"
             ]
            ],
            "type": "heatmap"
           }
          ],
          "heatmapgl": [
           {
            "colorbar": {
             "outlinewidth": 0,
             "ticks": ""
            },
            "colorscale": [
             [
              0,
              "#0d0887"
             ],
             [
              0.1111111111111111,
              "#46039f"
             ],
             [
              0.2222222222222222,
              "#7201a8"
             ],
             [
              0.3333333333333333,
              "#9c179e"
             ],
             [
              0.4444444444444444,
              "#bd3786"
             ],
             [
              0.5555555555555556,
              "#d8576b"
             ],
             [
              0.6666666666666666,
              "#ed7953"
             ],
             [
              0.7777777777777778,
              "#fb9f3a"
             ],
             [
              0.8888888888888888,
              "#fdca26"
             ],
             [
              1,
              "#f0f921"
             ]
            ],
            "type": "heatmapgl"
           }
          ],
          "histogram": [
           {
            "marker": {
             "colorbar": {
              "outlinewidth": 0,
              "ticks": ""
             }
            },
            "type": "histogram"
           }
          ],
          "histogram2d": [
           {
            "colorbar": {
             "outlinewidth": 0,
             "ticks": ""
            },
            "colorscale": [
             [
              0,
              "#0d0887"
             ],
             [
              0.1111111111111111,
              "#46039f"
             ],
             [
              0.2222222222222222,
              "#7201a8"
             ],
             [
              0.3333333333333333,
              "#9c179e"
             ],
             [
              0.4444444444444444,
              "#bd3786"
             ],
             [
              0.5555555555555556,
              "#d8576b"
             ],
             [
              0.6666666666666666,
              "#ed7953"
             ],
             [
              0.7777777777777778,
              "#fb9f3a"
             ],
             [
              0.8888888888888888,
              "#fdca26"
             ],
             [
              1,
              "#f0f921"
             ]
            ],
            "type": "histogram2d"
           }
          ],
          "histogram2dcontour": [
           {
            "colorbar": {
             "outlinewidth": 0,
             "ticks": ""
            },
            "colorscale": [
             [
              0,
              "#0d0887"
             ],
             [
              0.1111111111111111,
              "#46039f"
             ],
             [
              0.2222222222222222,
              "#7201a8"
             ],
             [
              0.3333333333333333,
              "#9c179e"
             ],
             [
              0.4444444444444444,
              "#bd3786"
             ],
             [
              0.5555555555555556,
              "#d8576b"
             ],
             [
              0.6666666666666666,
              "#ed7953"
             ],
             [
              0.7777777777777778,
              "#fb9f3a"
             ],
             [
              0.8888888888888888,
              "#fdca26"
             ],
             [
              1,
              "#f0f921"
             ]
            ],
            "type": "histogram2dcontour"
           }
          ],
          "mesh3d": [
           {
            "colorbar": {
             "outlinewidth": 0,
             "ticks": ""
            },
            "type": "mesh3d"
           }
          ],
          "parcoords": [
           {
            "line": {
             "colorbar": {
              "outlinewidth": 0,
              "ticks": ""
             }
            },
            "type": "parcoords"
           }
          ],
          "pie": [
           {
            "automargin": true,
            "type": "pie"
           }
          ],
          "scatter": [
           {
            "marker": {
             "colorbar": {
              "outlinewidth": 0,
              "ticks": ""
             }
            },
            "type": "scatter"
           }
          ],
          "scatter3d": [
           {
            "line": {
             "colorbar": {
              "outlinewidth": 0,
              "ticks": ""
             }
            },
            "marker": {
             "colorbar": {
              "outlinewidth": 0,
              "ticks": ""
             }
            },
            "type": "scatter3d"
           }
          ],
          "scattercarpet": [
           {
            "marker": {
             "colorbar": {
              "outlinewidth": 0,
              "ticks": ""
             }
            },
            "type": "scattercarpet"
           }
          ],
          "scattergeo": [
           {
            "marker": {
             "colorbar": {
              "outlinewidth": 0,
              "ticks": ""
             }
            },
            "type": "scattergeo"
           }
          ],
          "scattergl": [
           {
            "marker": {
             "colorbar": {
              "outlinewidth": 0,
              "ticks": ""
             }
            },
            "type": "scattergl"
           }
          ],
          "scattermapbox": [
           {
            "marker": {
             "colorbar": {
              "outlinewidth": 0,
              "ticks": ""
             }
            },
            "type": "scattermapbox"
           }
          ],
          "scatterpolar": [
           {
            "marker": {
             "colorbar": {
              "outlinewidth": 0,
              "ticks": ""
             }
            },
            "type": "scatterpolar"
           }
          ],
          "scatterpolargl": [
           {
            "marker": {
             "colorbar": {
              "outlinewidth": 0,
              "ticks": ""
             }
            },
            "type": "scatterpolargl"
           }
          ],
          "scatterternary": [
           {
            "marker": {
             "colorbar": {
              "outlinewidth": 0,
              "ticks": ""
             }
            },
            "type": "scatterternary"
           }
          ],
          "surface": [
           {
            "colorbar": {
             "outlinewidth": 0,
             "ticks": ""
            },
            "colorscale": [
             [
              0,
              "#0d0887"
             ],
             [
              0.1111111111111111,
              "#46039f"
             ],
             [
              0.2222222222222222,
              "#7201a8"
             ],
             [
              0.3333333333333333,
              "#9c179e"
             ],
             [
              0.4444444444444444,
              "#bd3786"
             ],
             [
              0.5555555555555556,
              "#d8576b"
             ],
             [
              0.6666666666666666,
              "#ed7953"
             ],
             [
              0.7777777777777778,
              "#fb9f3a"
             ],
             [
              0.8888888888888888,
              "#fdca26"
             ],
             [
              1,
              "#f0f921"
             ]
            ],
            "type": "surface"
           }
          ],
          "table": [
           {
            "cells": {
             "fill": {
              "color": "#EBF0F8"
             },
             "line": {
              "color": "white"
             }
            },
            "header": {
             "fill": {
              "color": "#C8D4E3"
             },
             "line": {
              "color": "white"
             }
            },
            "type": "table"
           }
          ]
         },
         "layout": {
          "annotationdefaults": {
           "arrowcolor": "#2a3f5f",
           "arrowhead": 0,
           "arrowwidth": 1
          },
          "coloraxis": {
           "colorbar": {
            "outlinewidth": 0,
            "ticks": ""
           }
          },
          "colorscale": {
           "diverging": [
            [
             0,
             "#8e0152"
            ],
            [
             0.1,
             "#c51b7d"
            ],
            [
             0.2,
             "#de77ae"
            ],
            [
             0.3,
             "#f1b6da"
            ],
            [
             0.4,
             "#fde0ef"
            ],
            [
             0.5,
             "#f7f7f7"
            ],
            [
             0.6,
             "#e6f5d0"
            ],
            [
             0.7,
             "#b8e186"
            ],
            [
             0.8,
             "#7fbc41"
            ],
            [
             0.9,
             "#4d9221"
            ],
            [
             1,
             "#276419"
            ]
           ],
           "sequential": [
            [
             0,
             "#0d0887"
            ],
            [
             0.1111111111111111,
             "#46039f"
            ],
            [
             0.2222222222222222,
             "#7201a8"
            ],
            [
             0.3333333333333333,
             "#9c179e"
            ],
            [
             0.4444444444444444,
             "#bd3786"
            ],
            [
             0.5555555555555556,
             "#d8576b"
            ],
            [
             0.6666666666666666,
             "#ed7953"
            ],
            [
             0.7777777777777778,
             "#fb9f3a"
            ],
            [
             0.8888888888888888,
             "#fdca26"
            ],
            [
             1,
             "#f0f921"
            ]
           ],
           "sequentialminus": [
            [
             0,
             "#0d0887"
            ],
            [
             0.1111111111111111,
             "#46039f"
            ],
            [
             0.2222222222222222,
             "#7201a8"
            ],
            [
             0.3333333333333333,
             "#9c179e"
            ],
            [
             0.4444444444444444,
             "#bd3786"
            ],
            [
             0.5555555555555556,
             "#d8576b"
            ],
            [
             0.6666666666666666,
             "#ed7953"
            ],
            [
             0.7777777777777778,
             "#fb9f3a"
            ],
            [
             0.8888888888888888,
             "#fdca26"
            ],
            [
             1,
             "#f0f921"
            ]
           ]
          },
          "colorway": [
           "#636efa",
           "#EF553B",
           "#00cc96",
           "#ab63fa",
           "#FFA15A",
           "#19d3f3",
           "#FF6692",
           "#B6E880",
           "#FF97FF",
           "#FECB52"
          ],
          "font": {
           "color": "#2a3f5f"
          },
          "geo": {
           "bgcolor": "white",
           "lakecolor": "white",
           "landcolor": "#E5ECF6",
           "showlakes": true,
           "showland": true,
           "subunitcolor": "white"
          },
          "hoverlabel": {
           "align": "left"
          },
          "hovermode": "closest",
          "mapbox": {
           "style": "light"
          },
          "paper_bgcolor": "white",
          "plot_bgcolor": "#E5ECF6",
          "polar": {
           "angularaxis": {
            "gridcolor": "white",
            "linecolor": "white",
            "ticks": ""
           },
           "bgcolor": "#E5ECF6",
           "radialaxis": {
            "gridcolor": "white",
            "linecolor": "white",
            "ticks": ""
           }
          },
          "scene": {
           "xaxis": {
            "backgroundcolor": "#E5ECF6",
            "gridcolor": "white",
            "gridwidth": 2,
            "linecolor": "white",
            "showbackground": true,
            "ticks": "",
            "zerolinecolor": "white"
           },
           "yaxis": {
            "backgroundcolor": "#E5ECF6",
            "gridcolor": "white",
            "gridwidth": 2,
            "linecolor": "white",
            "showbackground": true,
            "ticks": "",
            "zerolinecolor": "white"
           },
           "zaxis": {
            "backgroundcolor": "#E5ECF6",
            "gridcolor": "white",
            "gridwidth": 2,
            "linecolor": "white",
            "showbackground": true,
            "ticks": "",
            "zerolinecolor": "white"
           }
          },
          "shapedefaults": {
           "line": {
            "color": "#2a3f5f"
           }
          },
          "ternary": {
           "aaxis": {
            "gridcolor": "white",
            "linecolor": "white",
            "ticks": ""
           },
           "baxis": {
            "gridcolor": "white",
            "linecolor": "white",
            "ticks": ""
           },
           "bgcolor": "#E5ECF6",
           "caxis": {
            "gridcolor": "white",
            "linecolor": "white",
            "ticks": ""
           }
          },
          "title": {
           "x": 0.05
          },
          "xaxis": {
           "automargin": true,
           "gridcolor": "white",
           "linecolor": "white",
           "ticks": "",
           "title": {
            "standoff": 15
           },
           "zerolinecolor": "white",
           "zerolinewidth": 2
          },
          "yaxis": {
           "automargin": true,
           "gridcolor": "white",
           "linecolor": "white",
           "ticks": "",
           "title": {
            "standoff": 15
           },
           "zerolinecolor": "white",
           "zerolinewidth": 2
          }
         }
        },
        "title": {
         "text": "Happiest Countries In The World "
        }
       }
      },
      "text/html": [
       "<div>\n",
       "        \n",
       "        \n",
       "            <div id=\"b869d067-2c64-418c-8ad1-99f17e3b415a\" class=\"plotly-graph-div\" style=\"height:525px; width:100%;\"></div>\n",
       "            <script type=\"text/javascript\">\n",
       "                require([\"plotly\"], function(Plotly) {\n",
       "                    window.PLOTLYENV=window.PLOTLYENV || {};\n",
       "                    \n",
       "                if (document.getElementById(\"b869d067-2c64-418c-8ad1-99f17e3b415a\")) {\n",
       "                    Plotly.newPlot(\n",
       "                        'b869d067-2c64-418c-8ad1-99f17e3b415a',\n",
       "                        [{\"autocolorscale\": false, \"colorbar\": {\"title\": {\"text\": \"Happiness Score(0-10)\"}}, \"colorscale\": [[0.0, \"rgb(255,255,204)\"], [0.125, \"rgb(255,237,160)\"], [0.25, \"rgb(254,217,118)\"], [0.375, \"rgb(254,178,76)\"], [0.5, \"rgb(253,141,60)\"], [0.625, \"rgb(252,78,42)\"], [0.75, \"rgb(227,26,28)\"], [0.875, \"rgb(189,0,38)\"], [1.0, \"rgb(128,0,38)\"]], \"locationmode\": \"country names\", \"locations\": [\"Finland\", \"Denmark\", \"Switzerland\", \"Iceland\", \"Norway\", \"Netherlands\", \"Sweden\", \"New Zealand\", \"Austria\", \"Luxembourg\", \"Canada\", \"Australia\", \"United Kingdom\", \"Israel\", \"Costa Rica\", \"Ireland\", \"Germany\", \"United States\", \"Czech Republic\", \"Belgium\", \"United Arab Emirates\", \"Malta\", \"France\", \"Mexico\", \"Taiwan Province of China\", \"Uruguay\", \"Saudi Arabia\", \"Spain\", \"Guatemala\", \"Italy\", \"Singapore\", \"Brazil\", \"Slovenia\", \"El Salvador\", \"Kosovo\", \"Panama\", \"Slovakia\", \"Uzbekistan\", \"Chile\", \"Bahrain\", \"Lithuania\", \"Trinidad and Tobago\", \"Poland\", \"Colombia\", \"Cyprus\", \"Nicaragua\", \"Romania\", \"Kuwait\", \"Mauritius\", \"Kazakhstan\", \"Estonia\", \"Philippines\", \"Hungary\", \"Thailand\", \"Argentina\", \"Honduras\", \"Latvia\", \"Ecuador\", \"Portugal\", \"Jamaica\", \"South Korea\", \"Japan\", \"Peru\", \"Serbia\", \"Bolivia\", \"Pakistan\", \"Paraguay\", \"Dominican Republic\", \"Bosnia and Herzegovina\", \"Moldova\", \"Tajikistan\", \"Montenegro\", \"Russia\", \"Kyrgyzstan\", \"Belarus\", \"North Cyprus\", \"Greece\", \"Hong Kong S.A.R. of China\", \"Croatia\", \"Libya\", \"Mongolia\", \"Malaysia\", \"Vietnam\", \"Indonesia\", \"Ivory Coast\", \"Benin\", \"Maldives\", \"Congo (Brazzaville)\", \"Azerbaijan\", \"Macedonia\", \"Ghana\", \"Nepal\", \"Turkey\", \"China\", \"Turkmenistan\", \"Bulgaria\", \"Morocco\", \"Cameroon\", \"Venezuela\", \"Algeria\", \"Senegal\", \"Guinea\", \"Niger\", \"Laos\", \"Albania\", \"Cambodia\", \"Bangladesh\", \"Gabon\", \"South Africa\", \"Iraq\", \"Lebanon\", \"Burkina Faso\", \"Gambia\", \"Mali\", \"Nigeria\", \"Armenia\", \"Georgia\", \"Iran\", \"Jordan\", \"Mozambique\", \"Kenya\", \"Namibia\", \"Ukraine\", \"Liberia\", \"Palestinian Territories\", \"Uganda\", \"Chad\", \"Tunisia\", \"Mauritania\", \"Sri Lanka\", \"Congo (Kinshasa)\", \"Swaziland\", \"Myanmar\", \"Comoros\", \"Togo\", \"Ethiopia\", \"Madagascar\", \"Egypt\", \"Sierra Leone\", \"Burundi\", \"Zambia\", \"Haiti\", \"Lesotho\", \"India\", \"Malawi\", \"Yemen\", \"Botswana\", \"Tanzania\", \"Central African Republic\", \"Rwanda\", \"Zimbabwe\", \"South Sudan\", \"Afghanistan\"], \"reversescale\": true, \"text\": [\"Western Europe\", \"Western Europe\", \"Western Europe\", \"Western Europe\", \"Western Europe\", \"Western Europe\", \"Western Europe\", \"North America and ANZ\", \"Western Europe\", \"Western Europe\", \"North America and ANZ\", \"North America and ANZ\", \"Western Europe\", \"Middle East and North Africa\", \"Latin America and Caribbean\", \"Western Europe\", \"Western Europe\", \"North America and ANZ\", \"Central and Eastern Europe\", \"Western Europe\", \"Middle East and North Africa\", \"Western Europe\", \"Western Europe\", \"Latin America and Caribbean\", \"East Asia\", \"Latin America and Caribbean\", \"Middle East and North Africa\", \"Western Europe\", \"Latin America and Caribbean\", \"Western Europe\", \"Southeast Asia\", \"Latin America and Caribbean\", \"Central and Eastern Europe\", \"Latin America and Caribbean\", \"Central and Eastern Europe\", \"Latin America and Caribbean\", \"Central and Eastern Europe\", \"Commonwealth of Independent States\", \"Latin America and Caribbean\", \"Middle East and North Africa\", \"Central and Eastern Europe\", \"Latin America and Caribbean\", \"Central and Eastern Europe\", \"Latin America and Caribbean\", \"Western Europe\", \"Latin America and Caribbean\", \"Central and Eastern Europe\", \"Middle East and North Africa\", \"Sub-Saharan Africa\", \"Commonwealth of Independent States\", \"Central and Eastern Europe\", \"Southeast Asia\", \"Central and Eastern Europe\", \"Southeast Asia\", \"Latin America and Caribbean\", \"Latin America and Caribbean\", \"Central and Eastern Europe\", \"Latin America and Caribbean\", \"Western Europe\", \"Latin America and Caribbean\", \"East Asia\", \"East Asia\", \"Latin America and Caribbean\", \"Central and Eastern Europe\", \"Latin America and Caribbean\", \"South Asia\", \"Latin America and Caribbean\", \"Latin America and Caribbean\", \"Central and Eastern Europe\", \"Commonwealth of Independent States\", \"Commonwealth of Independent States\", \"Central and Eastern Europe\", \"Commonwealth of Independent States\", \"Commonwealth of Independent States\", \"Commonwealth of Independent States\", \"Western Europe\", \"Western Europe\", \"East Asia\", \"Central and Eastern Europe\", \"Middle East and North Africa\", \"East Asia\", \"Southeast Asia\", \"Southeast Asia\", \"Southeast Asia\", \"Sub-Saharan Africa\", \"Sub-Saharan Africa\", \"South Asia\", \"Sub-Saharan Africa\", \"Commonwealth of Independent States\", \"Central and Eastern Europe\", \"Sub-Saharan Africa\", \"South Asia\", \"Middle East and North Africa\", \"East Asia\", \"Commonwealth of Independent States\", \"Central and Eastern Europe\", \"Middle East and North Africa\", \"Sub-Saharan Africa\", \"Latin America and Caribbean\", \"Middle East and North Africa\", \"Sub-Saharan Africa\", \"Sub-Saharan Africa\", \"Sub-Saharan Africa\", \"Southeast Asia\", \"Central and Eastern Europe\", \"Southeast Asia\", \"South Asia\", \"Sub-Saharan Africa\", \"Sub-Saharan Africa\", \"Middle East and North Africa\", \"Middle East and North Africa\", \"Sub-Saharan Africa\", \"Sub-Saharan Africa\", \"Sub-Saharan Africa\", \"Sub-Saharan Africa\", \"Commonwealth of Independent States\", \"Commonwealth of Independent States\", \"Middle East and North Africa\", \"Middle East and North Africa\", \"Sub-Saharan Africa\", \"Sub-Saharan Africa\", \"Sub-Saharan Africa\", \"Commonwealth of Independent States\", \"Sub-Saharan Africa\", \"Middle East and North Africa\", \"Sub-Saharan Africa\", \"Sub-Saharan Africa\", \"Middle East and North Africa\", \"Sub-Saharan Africa\", \"South Asia\", \"Sub-Saharan Africa\", \"Sub-Saharan Africa\", \"Southeast Asia\", \"Sub-Saharan Africa\", \"Sub-Saharan Africa\", \"Sub-Saharan Africa\", \"Sub-Saharan Africa\", \"Middle East and North Africa\", \"Sub-Saharan Africa\", \"Sub-Saharan Africa\", \"Sub-Saharan Africa\", \"Latin America and Caribbean\", \"Sub-Saharan Africa\", \"South Asia\", \"Sub-Saharan Africa\", \"Middle East and North Africa\", \"Sub-Saharan Africa\", \"Sub-Saharan Africa\", \"Sub-Saharan Africa\", \"Sub-Saharan Africa\", \"Sub-Saharan Africa\", \"Sub-Saharan Africa\", \"South Asia\"], \"type\": \"choropleth\", \"z\": [7.808700085, 7.645599842, 7.559899807000001, 7.504499912000001, 7.487999916000001, 7.448900223, 7.353499889, 7.2996001239999995, 7.294199944, 7.2375001910000005, 7.23210001, 7.222799778, 7.164500237, 7.128600121, 7.121399879, 7.093699932000001, 7.075799942000001, 6.939599991000001, 6.9109001160000005, 6.863500117999999, 6.790800095, 6.772799968999999, 6.663799762999999, 6.465000152999999, 6.45539999, 6.440100192999999, 6.406499863, 6.4008998870000005, 6.398900032, 6.38740015, 6.377099991000001, 6.375599861, 6.363399982000001, 6.34829998, 6.325200081, 6.304800033999999, 6.280600071, 6.257599831, 6.228499889, 6.227300167, 6.215499877999999, 6.1918997760000005, 6.1862998010000005, 6.163400172999999, 6.15899992, 6.13710022, 6.123700142000001, 6.102099895, 6.101299762999999, 6.0578999520000005, 6.0218000410000005, 6.006000042, 6.000400066, 5.9987998010000005, 5.974699974, 5.953199862999999, 5.9499998089999995, 5.925199986, 5.9109001160000005, 5.889800072000001, 5.872399807000001, 5.870800018, 5.796800137000001, 5.77820015, 5.747499942999999, 5.69329977, 5.6921000479999995, 5.6891999239999995, 5.674099922000001, 5.607500076, 5.555699825, 5.54610014, 5.546000004, 5.541500092000001, 5.539899826, 5.53550005, 5.514999866, 5.510399818, 5.504700184, 5.488800049, 5.4562001229999995, 5.384300232, 5.353499889, 5.285600185, 5.233300208999999, 5.21600008, 5.197599888, 5.1943998339999995, 5.164800167, 5.1598000530000006, 5.1479997630000005, 5.137199879, 5.131800175, 5.123899937, 5.119100093999999, 5.101500034, 5.094799995, 5.084899902, 5.053199768, 5.005099773, 4.980800152, 4.949299812, 4.909599781, 4.888599873, 4.882699966000001, 4.8484001160000005, 4.832799911, 4.829299927, 4.814099789, 4.7848000530000006, 4.771500111, 4.768700123, 4.750599861, 4.729300021999999, 4.724100113, 4.676799774, 4.672599792, 4.672399998, 4.6333999630000005, 4.623600006, 4.583000183, 4.571100235, 4.56069994, 4.557899952, 4.552800179, 4.43200016, 4.422699928, 4.392199993, 4.374599934, 4.327000141, 4.31099987, 4.3081002239999995, 4.308000088, 4.288599968, 4.187200069, 4.186200142, 4.165599823, 4.151400089, 3.926399946, 3.775300026, 3.759399891, 3.720799923, 3.6528000830000003, 3.573299885, 3.538000107, 3.5274000169999997, 3.4788999560000002, 3.4762001039999997, 3.475899935, 3.312299967, 3.2992000580000003, 2.8166000839999996, 2.566900015]}],\n",
       "                        {\"geo\": {\"projection\": {\"type\": \"equirectangular\"}, \"showframe\": false}, \"template\": {\"data\": {\"bar\": [{\"error_x\": {\"color\": \"#2a3f5f\"}, \"error_y\": {\"color\": \"#2a3f5f\"}, \"marker\": {\"line\": {\"color\": \"#E5ECF6\", \"width\": 0.5}}, \"type\": \"bar\"}], \"barpolar\": [{\"marker\": {\"line\": {\"color\": \"#E5ECF6\", \"width\": 0.5}}, \"type\": \"barpolar\"}], \"carpet\": [{\"aaxis\": {\"endlinecolor\": \"#2a3f5f\", \"gridcolor\": \"white\", \"linecolor\": \"white\", \"minorgridcolor\": \"white\", \"startlinecolor\": \"#2a3f5f\"}, \"baxis\": {\"endlinecolor\": \"#2a3f5f\", \"gridcolor\": \"white\", \"linecolor\": \"white\", \"minorgridcolor\": \"white\", \"startlinecolor\": \"#2a3f5f\"}, \"type\": \"carpet\"}], \"choropleth\": [{\"colorbar\": {\"outlinewidth\": 0, \"ticks\": \"\"}, \"type\": \"choropleth\"}], \"contour\": [{\"colorbar\": {\"outlinewidth\": 0, \"ticks\": \"\"}, \"colorscale\": [[0.0, \"#0d0887\"], [0.1111111111111111, \"#46039f\"], [0.2222222222222222, \"#7201a8\"], [0.3333333333333333, \"#9c179e\"], [0.4444444444444444, \"#bd3786\"], [0.5555555555555556, \"#d8576b\"], [0.6666666666666666, \"#ed7953\"], [0.7777777777777778, \"#fb9f3a\"], [0.8888888888888888, \"#fdca26\"], [1.0, \"#f0f921\"]], \"type\": \"contour\"}], \"contourcarpet\": [{\"colorbar\": {\"outlinewidth\": 0, \"ticks\": \"\"}, \"type\": \"contourcarpet\"}], \"heatmap\": [{\"colorbar\": {\"outlinewidth\": 0, \"ticks\": \"\"}, \"colorscale\": [[0.0, \"#0d0887\"], [0.1111111111111111, \"#46039f\"], [0.2222222222222222, \"#7201a8\"], [0.3333333333333333, \"#9c179e\"], [0.4444444444444444, \"#bd3786\"], [0.5555555555555556, \"#d8576b\"], [0.6666666666666666, \"#ed7953\"], [0.7777777777777778, \"#fb9f3a\"], [0.8888888888888888, \"#fdca26\"], [1.0, \"#f0f921\"]], \"type\": \"heatmap\"}], \"heatmapgl\": [{\"colorbar\": {\"outlinewidth\": 0, \"ticks\": \"\"}, \"colorscale\": [[0.0, \"#0d0887\"], [0.1111111111111111, \"#46039f\"], [0.2222222222222222, \"#7201a8\"], [0.3333333333333333, \"#9c179e\"], [0.4444444444444444, \"#bd3786\"], [0.5555555555555556, \"#d8576b\"], [0.6666666666666666, \"#ed7953\"], [0.7777777777777778, \"#fb9f3a\"], [0.8888888888888888, \"#fdca26\"], [1.0, \"#f0f921\"]], \"type\": \"heatmapgl\"}], \"histogram\": [{\"marker\": {\"colorbar\": {\"outlinewidth\": 0, \"ticks\": \"\"}}, \"type\": \"histogram\"}], \"histogram2d\": [{\"colorbar\": {\"outlinewidth\": 0, \"ticks\": \"\"}, \"colorscale\": [[0.0, \"#0d0887\"], [0.1111111111111111, \"#46039f\"], [0.2222222222222222, \"#7201a8\"], [0.3333333333333333, \"#9c179e\"], [0.4444444444444444, \"#bd3786\"], [0.5555555555555556, \"#d8576b\"], [0.6666666666666666, \"#ed7953\"], [0.7777777777777778, \"#fb9f3a\"], [0.8888888888888888, \"#fdca26\"], [1.0, \"#f0f921\"]], \"type\": \"histogram2d\"}], \"histogram2dcontour\": [{\"colorbar\": {\"outlinewidth\": 0, \"ticks\": \"\"}, \"colorscale\": [[0.0, \"#0d0887\"], [0.1111111111111111, \"#46039f\"], [0.2222222222222222, \"#7201a8\"], [0.3333333333333333, \"#9c179e\"], [0.4444444444444444, \"#bd3786\"], [0.5555555555555556, \"#d8576b\"], [0.6666666666666666, \"#ed7953\"], [0.7777777777777778, \"#fb9f3a\"], [0.8888888888888888, \"#fdca26\"], [1.0, \"#f0f921\"]], \"type\": \"histogram2dcontour\"}], \"mesh3d\": [{\"colorbar\": {\"outlinewidth\": 0, \"ticks\": \"\"}, \"type\": \"mesh3d\"}], \"parcoords\": [{\"line\": {\"colorbar\": {\"outlinewidth\": 0, \"ticks\": \"\"}}, \"type\": \"parcoords\"}], \"pie\": [{\"automargin\": true, \"type\": \"pie\"}], \"scatter\": [{\"marker\": {\"colorbar\": {\"outlinewidth\": 0, \"ticks\": \"\"}}, \"type\": \"scatter\"}], \"scatter3d\": [{\"line\": {\"colorbar\": {\"outlinewidth\": 0, \"ticks\": \"\"}}, \"marker\": {\"colorbar\": {\"outlinewidth\": 0, \"ticks\": \"\"}}, \"type\": \"scatter3d\"}], \"scattercarpet\": [{\"marker\": {\"colorbar\": {\"outlinewidth\": 0, \"ticks\": \"\"}}, \"type\": \"scattercarpet\"}], \"scattergeo\": [{\"marker\": {\"colorbar\": {\"outlinewidth\": 0, \"ticks\": \"\"}}, \"type\": \"scattergeo\"}], \"scattergl\": [{\"marker\": {\"colorbar\": {\"outlinewidth\": 0, \"ticks\": \"\"}}, \"type\": \"scattergl\"}], \"scattermapbox\": [{\"marker\": {\"colorbar\": {\"outlinewidth\": 0, \"ticks\": \"\"}}, \"type\": \"scattermapbox\"}], \"scatterpolar\": [{\"marker\": {\"colorbar\": {\"outlinewidth\": 0, \"ticks\": \"\"}}, \"type\": \"scatterpolar\"}], \"scatterpolargl\": [{\"marker\": {\"colorbar\": {\"outlinewidth\": 0, \"ticks\": \"\"}}, \"type\": \"scatterpolargl\"}], \"scatterternary\": [{\"marker\": {\"colorbar\": {\"outlinewidth\": 0, \"ticks\": \"\"}}, \"type\": \"scatterternary\"}], \"surface\": [{\"colorbar\": {\"outlinewidth\": 0, \"ticks\": \"\"}, \"colorscale\": [[0.0, \"#0d0887\"], [0.1111111111111111, \"#46039f\"], [0.2222222222222222, \"#7201a8\"], [0.3333333333333333, \"#9c179e\"], [0.4444444444444444, \"#bd3786\"], [0.5555555555555556, \"#d8576b\"], [0.6666666666666666, \"#ed7953\"], [0.7777777777777778, \"#fb9f3a\"], [0.8888888888888888, \"#fdca26\"], [1.0, \"#f0f921\"]], \"type\": \"surface\"}], \"table\": [{\"cells\": {\"fill\": {\"color\": \"#EBF0F8\"}, \"line\": {\"color\": \"white\"}}, \"header\": {\"fill\": {\"color\": \"#C8D4E3\"}, \"line\": {\"color\": \"white\"}}, \"type\": \"table\"}]}, \"layout\": {\"annotationdefaults\": {\"arrowcolor\": \"#2a3f5f\", \"arrowhead\": 0, \"arrowwidth\": 1}, \"coloraxis\": {\"colorbar\": {\"outlinewidth\": 0, \"ticks\": \"\"}}, \"colorscale\": {\"diverging\": [[0, \"#8e0152\"], [0.1, \"#c51b7d\"], [0.2, \"#de77ae\"], [0.3, \"#f1b6da\"], [0.4, \"#fde0ef\"], [0.5, \"#f7f7f7\"], [0.6, \"#e6f5d0\"], [0.7, \"#b8e186\"], [0.8, \"#7fbc41\"], [0.9, \"#4d9221\"], [1, \"#276419\"]], \"sequential\": [[0.0, \"#0d0887\"], [0.1111111111111111, \"#46039f\"], [0.2222222222222222, \"#7201a8\"], [0.3333333333333333, \"#9c179e\"], [0.4444444444444444, \"#bd3786\"], [0.5555555555555556, \"#d8576b\"], [0.6666666666666666, \"#ed7953\"], [0.7777777777777778, \"#fb9f3a\"], [0.8888888888888888, \"#fdca26\"], [1.0, \"#f0f921\"]], \"sequentialminus\": [[0.0, \"#0d0887\"], [0.1111111111111111, \"#46039f\"], [0.2222222222222222, \"#7201a8\"], [0.3333333333333333, \"#9c179e\"], [0.4444444444444444, \"#bd3786\"], [0.5555555555555556, \"#d8576b\"], [0.6666666666666666, \"#ed7953\"], [0.7777777777777778, \"#fb9f3a\"], [0.8888888888888888, \"#fdca26\"], [1.0, \"#f0f921\"]]}, \"colorway\": [\"#636efa\", \"#EF553B\", \"#00cc96\", \"#ab63fa\", \"#FFA15A\", \"#19d3f3\", \"#FF6692\", \"#B6E880\", \"#FF97FF\", \"#FECB52\"], \"font\": {\"color\": \"#2a3f5f\"}, \"geo\": {\"bgcolor\": \"white\", \"lakecolor\": \"white\", \"landcolor\": \"#E5ECF6\", \"showlakes\": true, \"showland\": true, \"subunitcolor\": \"white\"}, \"hoverlabel\": {\"align\": \"left\"}, \"hovermode\": \"closest\", \"mapbox\": {\"style\": \"light\"}, \"paper_bgcolor\": \"white\", \"plot_bgcolor\": \"#E5ECF6\", \"polar\": {\"angularaxis\": {\"gridcolor\": \"white\", \"linecolor\": \"white\", \"ticks\": \"\"}, \"bgcolor\": \"#E5ECF6\", \"radialaxis\": {\"gridcolor\": \"white\", \"linecolor\": \"white\", \"ticks\": \"\"}}, \"scene\": {\"xaxis\": {\"backgroundcolor\": \"#E5ECF6\", \"gridcolor\": \"white\", \"gridwidth\": 2, \"linecolor\": \"white\", \"showbackground\": true, \"ticks\": \"\", \"zerolinecolor\": \"white\"}, \"yaxis\": {\"backgroundcolor\": \"#E5ECF6\", \"gridcolor\": \"white\", \"gridwidth\": 2, \"linecolor\": \"white\", \"showbackground\": true, \"ticks\": \"\", \"zerolinecolor\": \"white\"}, \"zaxis\": {\"backgroundcolor\": \"#E5ECF6\", \"gridcolor\": \"white\", \"gridwidth\": 2, \"linecolor\": \"white\", \"showbackground\": true, \"ticks\": \"\", \"zerolinecolor\": \"white\"}}, \"shapedefaults\": {\"line\": {\"color\": \"#2a3f5f\"}}, \"ternary\": {\"aaxis\": {\"gridcolor\": \"white\", \"linecolor\": \"white\", \"ticks\": \"\"}, \"baxis\": {\"gridcolor\": \"white\", \"linecolor\": \"white\", \"ticks\": \"\"}, \"bgcolor\": \"#E5ECF6\", \"caxis\": {\"gridcolor\": \"white\", \"linecolor\": \"white\", \"ticks\": \"\"}}, \"title\": {\"x\": 0.05}, \"xaxis\": {\"automargin\": true, \"gridcolor\": \"white\", \"linecolor\": \"white\", \"ticks\": \"\", \"title\": {\"standoff\": 15}, \"zerolinecolor\": \"white\", \"zerolinewidth\": 2}, \"yaxis\": {\"automargin\": true, \"gridcolor\": \"white\", \"linecolor\": \"white\", \"ticks\": \"\", \"title\": {\"standoff\": 15}, \"zerolinecolor\": \"white\", \"zerolinewidth\": 2}}}, \"title\": {\"text\": \"Happiest Countries In The World \"}},\n",
       "                        {\"responsive\": true}\n",
       "                    ).then(function(){\n",
       "                            \n",
       "var gd = document.getElementById('b869d067-2c64-418c-8ad1-99f17e3b415a');\n",
       "var x = new MutationObserver(function (mutations, observer) {{\n",
       "        var display = window.getComputedStyle(gd).display;\n",
       "        if (!display || display === 'none') {{\n",
       "            console.log([gd, 'removed!']);\n",
       "            Plotly.purge(gd);\n",
       "            observer.disconnect();\n",
       "        }}\n",
       "}});\n",
       "\n",
       "// Listen for the removal of the full notebook cells\n",
       "var notebookContainer = gd.closest('#notebook-container');\n",
       "if (notebookContainer) {{\n",
       "    x.observe(notebookContainer, {childList: true});\n",
       "}}\n",
       "\n",
       "// Listen for the clearing of the current output cell\n",
       "var outputEl = gd.closest('.output');\n",
       "if (outputEl) {{\n",
       "    x.observe(outputEl, {childList: true});\n",
       "}}\n",
       "\n",
       "                        })\n",
       "                };\n",
       "                });\n",
       "            </script>\n",
       "        </div>"
      ]
     },
     "metadata": {},
     "output_type": "display_data"
    }
   ],
   "source": [
    "import plotly as py\n",
    "import plotly.graph_objs as go\n",
    "from plotly.offline import iplot\n",
    "map_plot = dict(type = 'choropleth', \n",
    "locations = happy2020['Country name'],\n",
    "locationmode = 'country names',\n",
    "z = happy2020['Ladder score'].astype(float), \n",
    "text =happy2020['Regional indicator'],\n",
    "colorscale='YlOrRd',\n",
    "autocolorscale = False, reversescale = True,colorbar=dict(\n",
    "title = \"Happiness Score(0-10)\"))\n",
    "layout = dict(title = 'Happiest Countries In The World ', \n",
    "geo = dict(showframe = False, \n",
    "projection = {'type': 'equirectangular'}))\n",
    "choromap = go.Figure(data = [map_plot], layout=layout)\n",
    "iplot(choromap)"
   ]
  },
  {
   "cell_type": "code",
   "execution_count": 10,
   "metadata": {},
   "outputs": [
    {
     "data": {
      "application/vnd.plotly.v1+json": {
       "config": {
        "linkText": "Export to plot.ly",
        "plotlyServerURL": "https://plot.ly",
        "showLink": false
       },
       "data": [
        {
         "autocolorscale": false,
         "colorbar": {
          "title": {
           "text": "Healthy Life Expectancy"
          }
         },
         "colorscale": [
          [
           0,
           "rgb(255,255,204)"
          ],
          [
           0.125,
           "rgb(255,237,160)"
          ],
          [
           0.25,
           "rgb(254,217,118)"
          ],
          [
           0.375,
           "rgb(254,178,76)"
          ],
          [
           0.5,
           "rgb(253,141,60)"
          ],
          [
           0.625,
           "rgb(252,78,42)"
          ],
          [
           0.75,
           "rgb(227,26,28)"
          ],
          [
           0.875,
           "rgb(189,0,38)"
          ],
          [
           1,
           "rgb(128,0,38)"
          ]
         ],
         "locationmode": "country names",
         "locations": [
          "Finland",
          "Denmark",
          "Switzerland",
          "Iceland",
          "Norway",
          "Netherlands",
          "Sweden",
          "New Zealand",
          "Austria",
          "Luxembourg",
          "Canada",
          "Australia",
          "United Kingdom",
          "Israel",
          "Costa Rica",
          "Ireland",
          "Germany",
          "United States",
          "Czech Republic",
          "Belgium",
          "United Arab Emirates",
          "Malta",
          "France",
          "Mexico",
          "Taiwan Province of China",
          "Uruguay",
          "Saudi Arabia",
          "Spain",
          "Guatemala",
          "Italy",
          "Singapore",
          "Brazil",
          "Slovenia",
          "El Salvador",
          "Kosovo",
          "Panama",
          "Slovakia",
          "Uzbekistan",
          "Chile",
          "Bahrain",
          "Lithuania",
          "Trinidad and Tobago",
          "Poland",
          "Colombia",
          "Cyprus",
          "Nicaragua",
          "Romania",
          "Kuwait",
          "Mauritius",
          "Kazakhstan",
          "Estonia",
          "Philippines",
          "Hungary",
          "Thailand",
          "Argentina",
          "Honduras",
          "Latvia",
          "Ecuador",
          "Portugal",
          "Jamaica",
          "South Korea",
          "Japan",
          "Peru",
          "Serbia",
          "Bolivia",
          "Pakistan",
          "Paraguay",
          "Dominican Republic",
          "Bosnia and Herzegovina",
          "Moldova",
          "Tajikistan",
          "Montenegro",
          "Russia",
          "Kyrgyzstan",
          "Belarus",
          "North Cyprus",
          "Greece",
          "Hong Kong S.A.R. of China",
          "Croatia",
          "Libya",
          "Mongolia",
          "Malaysia",
          "Vietnam",
          "Indonesia",
          "Ivory Coast",
          "Benin",
          "Maldives",
          "Congo (Brazzaville)",
          "Azerbaijan",
          "Macedonia",
          "Ghana",
          "Nepal",
          "Turkey",
          "China",
          "Turkmenistan",
          "Bulgaria",
          "Morocco",
          "Cameroon",
          "Venezuela",
          "Algeria",
          "Senegal",
          "Guinea",
          "Niger",
          "Laos",
          "Albania",
          "Cambodia",
          "Bangladesh",
          "Gabon",
          "South Africa",
          "Iraq",
          "Lebanon",
          "Burkina Faso",
          "Gambia",
          "Mali",
          "Nigeria",
          "Armenia",
          "Georgia",
          "Iran",
          "Jordan",
          "Mozambique",
          "Kenya",
          "Namibia",
          "Ukraine",
          "Liberia",
          "Palestinian Territories",
          "Uganda",
          "Chad",
          "Tunisia",
          "Mauritania",
          "Sri Lanka",
          "Congo (Kinshasa)",
          "Swaziland",
          "Myanmar",
          "Comoros",
          "Togo",
          "Ethiopia",
          "Madagascar",
          "Egypt",
          "Sierra Leone",
          "Burundi",
          "Zambia",
          "Haiti",
          "Lesotho",
          "India",
          "Malawi",
          "Yemen",
          "Botswana",
          "Tanzania",
          "Central African Republic",
          "Rwanda",
          "Zimbabwe",
          "South Sudan",
          "Afghanistan"
         ],
         "reversescale": true,
         "text": [
          "Western Europe",
          "Western Europe",
          "Western Europe",
          "Western Europe",
          "Western Europe",
          "Western Europe",
          "Western Europe",
          "North America and ANZ",
          "Western Europe",
          "Western Europe",
          "North America and ANZ",
          "North America and ANZ",
          "Western Europe",
          "Middle East and North Africa",
          "Latin America and Caribbean",
          "Western Europe",
          "Western Europe",
          "North America and ANZ",
          "Central and Eastern Europe",
          "Western Europe",
          "Middle East and North Africa",
          "Western Europe",
          "Western Europe",
          "Latin America and Caribbean",
          "East Asia",
          "Latin America and Caribbean",
          "Middle East and North Africa",
          "Western Europe",
          "Latin America and Caribbean",
          "Western Europe",
          "Southeast Asia",
          "Latin America and Caribbean",
          "Central and Eastern Europe",
          "Latin America and Caribbean",
          "Central and Eastern Europe",
          "Latin America and Caribbean",
          "Central and Eastern Europe",
          "Commonwealth of Independent States",
          "Latin America and Caribbean",
          "Middle East and North Africa",
          "Central and Eastern Europe",
          "Latin America and Caribbean",
          "Central and Eastern Europe",
          "Latin America and Caribbean",
          "Western Europe",
          "Latin America and Caribbean",
          "Central and Eastern Europe",
          "Middle East and North Africa",
          "Sub-Saharan Africa",
          "Commonwealth of Independent States",
          "Central and Eastern Europe",
          "Southeast Asia",
          "Central and Eastern Europe",
          "Southeast Asia",
          "Latin America and Caribbean",
          "Latin America and Caribbean",
          "Central and Eastern Europe",
          "Latin America and Caribbean",
          "Western Europe",
          "Latin America and Caribbean",
          "East Asia",
          "East Asia",
          "Latin America and Caribbean",
          "Central and Eastern Europe",
          "Latin America and Caribbean",
          "South Asia",
          "Latin America and Caribbean",
          "Latin America and Caribbean",
          "Central and Eastern Europe",
          "Commonwealth of Independent States",
          "Commonwealth of Independent States",
          "Central and Eastern Europe",
          "Commonwealth of Independent States",
          "Commonwealth of Independent States",
          "Commonwealth of Independent States",
          "Western Europe",
          "Western Europe",
          "East Asia",
          "Central and Eastern Europe",
          "Middle East and North Africa",
          "East Asia",
          "Southeast Asia",
          "Southeast Asia",
          "Southeast Asia",
          "Sub-Saharan Africa",
          "Sub-Saharan Africa",
          "South Asia",
          "Sub-Saharan Africa",
          "Commonwealth of Independent States",
          "Central and Eastern Europe",
          "Sub-Saharan Africa",
          "South Asia",
          "Middle East and North Africa",
          "East Asia",
          "Commonwealth of Independent States",
          "Central and Eastern Europe",
          "Middle East and North Africa",
          "Sub-Saharan Africa",
          "Latin America and Caribbean",
          "Middle East and North Africa",
          "Sub-Saharan Africa",
          "Sub-Saharan Africa",
          "Sub-Saharan Africa",
          "Southeast Asia",
          "Central and Eastern Europe",
          "Southeast Asia",
          "South Asia",
          "Sub-Saharan Africa",
          "Sub-Saharan Africa",
          "Middle East and North Africa",
          "Middle East and North Africa",
          "Sub-Saharan Africa",
          "Sub-Saharan Africa",
          "Sub-Saharan Africa",
          "Sub-Saharan Africa",
          "Commonwealth of Independent States",
          "Commonwealth of Independent States",
          "Middle East and North Africa",
          "Middle East and North Africa",
          "Sub-Saharan Africa",
          "Sub-Saharan Africa",
          "Sub-Saharan Africa",
          "Commonwealth of Independent States",
          "Sub-Saharan Africa",
          "Middle East and North Africa",
          "Sub-Saharan Africa",
          "Sub-Saharan Africa",
          "Middle East and North Africa",
          "Sub-Saharan Africa",
          "South Asia",
          "Sub-Saharan Africa",
          "Sub-Saharan Africa",
          "Southeast Asia",
          "Sub-Saharan Africa",
          "Sub-Saharan Africa",
          "Sub-Saharan Africa",
          "Sub-Saharan Africa",
          "Middle East and North Africa",
          "Sub-Saharan Africa",
          "Sub-Saharan Africa",
          "Sub-Saharan Africa",
          "Latin America and Caribbean",
          "Sub-Saharan Africa",
          "South Asia",
          "Sub-Saharan Africa",
          "Middle East and North Africa",
          "Sub-Saharan Africa",
          "Sub-Saharan Africa",
          "Sub-Saharan Africa",
          "Sub-Saharan Africa",
          "Sub-Saharan Africa",
          "Sub-Saharan Africa",
          "South Asia"
         ],
         "type": "choropleth",
         "z": [
          71.9008255,
          72.40250397,
          74.10244751,
          73,
          73.20078278,
          72.30091858,
          72.60076904,
          73.20262909,
          73.00250244,
          72.59999847,
          73.60160065,
          73.60453796,
          72.30160522,
          73.20025635,
          71.29985046,
          72.30078888,
          72.20201874,
          68.29949951,
          70.04793549,
          72.00164795,
          67.08278656,
          72.19999695,
          73.80193329,
          68.29902649,
          69.59999847,
          69.00254822,
          66.30514526,
          74.40270996,
          64.8089447,
          73.60168457,
          76.80458069,
          66.48016357,
          71.1029892,
          66.10826111,
          63.88555527,
          69.60301208,
          68.90634155,
          65.10757446,
          69.90061951,
          68.5,
          67.29407501,
          63.5,
          69.31113434,
          67.69958496,
          73.70222473,
          67.50717926,
          67.20723724,
          66.76764679,
          66.40434265,
          64.60996246,
          68.60495758,
          61.92676163,
          67.60997009,
          67.25059509,
          68.80380249,
          67.19876862,
          66.8074646,
          68.50003815,
          72.40202332,
          67.09999847,
          73.60272979999999,
          75.00096893,
          68.10023499,
          68.21020508,
          63.6004715,
          58.25313568,
          65.63993835,
          65.80748749,
          67.80813599,
          65.01301575,
          64.10459137,
          68.50534821,
          64.10045624,
          64.10601044,
          66.10433197,
          73.70222473,
          72.40525818,
          76.77170563,
          70.21490479,
          62.29999924,
          62.30448532,
          67.10215759,
          67.95273590000001,
          62.15584946,
          49.50377274,
          54.31246567,
          70.59999847,
          57.92448044,
          65.50839996,
          67.50442505,
          57.20398712,
          63.77917862,
          66.90281677,
          69.2891922,
          62.21170807,
          66.80397797,
          65.89624023,
          52.704940799999996,
          66.50534058,
          65.90517426,
          59.59915161,
          54.46780014,
          53.50009537,
          58.70992279,
          68.70813751,
          61.52996826,
          64.50306702,
          59.71533966,
          56.50601196,
          59.90354919,
          67.10658264,
          53.88945389,
          55.01201629999999,
          51.72698212,
          49.86190796,
          66.75065613,
          64.49520874,
          66.00614929,
          66.79975128,
          54.20582199,
          60.09693146,
          56.50148773,
          64.60678101,
          56.09631348,
          62.25,
          55.70820236,
          48.22053909,
          66.89785767,
          57.01017761,
          67.20006561,
          52.90000153,
          51.18823624,
          58.96171188,
          57.34901047,
          54.71989822,
          58.63959122,
          59.10542679,
          61.78015137,
          50.86514282,
          53.40000153,
          55.29937744,
          55.59862518,
          48.00362396,
          60.21518707,
          57.59288788,
          56.72728348,
          58.92445374,
          57.49607468,
          45.20000076,
          61.09884644,
          55.61725998,
          51,
          52.59000015
         ]
        }
       ],
       "layout": {
        "geo": {
         "projection": {
          "type": "equirectangular"
         },
         "showframe": false
        },
        "template": {
         "data": {
          "bar": [
           {
            "error_x": {
             "color": "#2a3f5f"
            },
            "error_y": {
             "color": "#2a3f5f"
            },
            "marker": {
             "line": {
              "color": "#E5ECF6",
              "width": 0.5
             }
            },
            "type": "bar"
           }
          ],
          "barpolar": [
           {
            "marker": {
             "line": {
              "color": "#E5ECF6",
              "width": 0.5
             }
            },
            "type": "barpolar"
           }
          ],
          "carpet": [
           {
            "aaxis": {
             "endlinecolor": "#2a3f5f",
             "gridcolor": "white",
             "linecolor": "white",
             "minorgridcolor": "white",
             "startlinecolor": "#2a3f5f"
            },
            "baxis": {
             "endlinecolor": "#2a3f5f",
             "gridcolor": "white",
             "linecolor": "white",
             "minorgridcolor": "white",
             "startlinecolor": "#2a3f5f"
            },
            "type": "carpet"
           }
          ],
          "choropleth": [
           {
            "colorbar": {
             "outlinewidth": 0,
             "ticks": ""
            },
            "type": "choropleth"
           }
          ],
          "contour": [
           {
            "colorbar": {
             "outlinewidth": 0,
             "ticks": ""
            },
            "colorscale": [
             [
              0,
              "#0d0887"
             ],
             [
              0.1111111111111111,
              "#46039f"
             ],
             [
              0.2222222222222222,
              "#7201a8"
             ],
             [
              0.3333333333333333,
              "#9c179e"
             ],
             [
              0.4444444444444444,
              "#bd3786"
             ],
             [
              0.5555555555555556,
              "#d8576b"
             ],
             [
              0.6666666666666666,
              "#ed7953"
             ],
             [
              0.7777777777777778,
              "#fb9f3a"
             ],
             [
              0.8888888888888888,
              "#fdca26"
             ],
             [
              1,
              "#f0f921"
             ]
            ],
            "type": "contour"
           }
          ],
          "contourcarpet": [
           {
            "colorbar": {
             "outlinewidth": 0,
             "ticks": ""
            },
            "type": "contourcarpet"
           }
          ],
          "heatmap": [
           {
            "colorbar": {
             "outlinewidth": 0,
             "ticks": ""
            },
            "colorscale": [
             [
              0,
              "#0d0887"
             ],
             [
              0.1111111111111111,
              "#46039f"
             ],
             [
              0.2222222222222222,
              "#7201a8"
             ],
             [
              0.3333333333333333,
              "#9c179e"
             ],
             [
              0.4444444444444444,
              "#bd3786"
             ],
             [
              0.5555555555555556,
              "#d8576b"
             ],
             [
              0.6666666666666666,
              "#ed7953"
             ],
             [
              0.7777777777777778,
              "#fb9f3a"
             ],
             [
              0.8888888888888888,
              "#fdca26"
             ],
             [
              1,
              "#f0f921"
             ]
            ],
            "type": "heatmap"
           }
          ],
          "heatmapgl": [
           {
            "colorbar": {
             "outlinewidth": 0,
             "ticks": ""
            },
            "colorscale": [
             [
              0,
              "#0d0887"
             ],
             [
              0.1111111111111111,
              "#46039f"
             ],
             [
              0.2222222222222222,
              "#7201a8"
             ],
             [
              0.3333333333333333,
              "#9c179e"
             ],
             [
              0.4444444444444444,
              "#bd3786"
             ],
             [
              0.5555555555555556,
              "#d8576b"
             ],
             [
              0.6666666666666666,
              "#ed7953"
             ],
             [
              0.7777777777777778,
              "#fb9f3a"
             ],
             [
              0.8888888888888888,
              "#fdca26"
             ],
             [
              1,
              "#f0f921"
             ]
            ],
            "type": "heatmapgl"
           }
          ],
          "histogram": [
           {
            "marker": {
             "colorbar": {
              "outlinewidth": 0,
              "ticks": ""
             }
            },
            "type": "histogram"
           }
          ],
          "histogram2d": [
           {
            "colorbar": {
             "outlinewidth": 0,
             "ticks": ""
            },
            "colorscale": [
             [
              0,
              "#0d0887"
             ],
             [
              0.1111111111111111,
              "#46039f"
             ],
             [
              0.2222222222222222,
              "#7201a8"
             ],
             [
              0.3333333333333333,
              "#9c179e"
             ],
             [
              0.4444444444444444,
              "#bd3786"
             ],
             [
              0.5555555555555556,
              "#d8576b"
             ],
             [
              0.6666666666666666,
              "#ed7953"
             ],
             [
              0.7777777777777778,
              "#fb9f3a"
             ],
             [
              0.8888888888888888,
              "#fdca26"
             ],
             [
              1,
              "#f0f921"
             ]
            ],
            "type": "histogram2d"
           }
          ],
          "histogram2dcontour": [
           {
            "colorbar": {
             "outlinewidth": 0,
             "ticks": ""
            },
            "colorscale": [
             [
              0,
              "#0d0887"
             ],
             [
              0.1111111111111111,
              "#46039f"
             ],
             [
              0.2222222222222222,
              "#7201a8"
             ],
             [
              0.3333333333333333,
              "#9c179e"
             ],
             [
              0.4444444444444444,
              "#bd3786"
             ],
             [
              0.5555555555555556,
              "#d8576b"
             ],
             [
              0.6666666666666666,
              "#ed7953"
             ],
             [
              0.7777777777777778,
              "#fb9f3a"
             ],
             [
              0.8888888888888888,
              "#fdca26"
             ],
             [
              1,
              "#f0f921"
             ]
            ],
            "type": "histogram2dcontour"
           }
          ],
          "mesh3d": [
           {
            "colorbar": {
             "outlinewidth": 0,
             "ticks": ""
            },
            "type": "mesh3d"
           }
          ],
          "parcoords": [
           {
            "line": {
             "colorbar": {
              "outlinewidth": 0,
              "ticks": ""
             }
            },
            "type": "parcoords"
           }
          ],
          "pie": [
           {
            "automargin": true,
            "type": "pie"
           }
          ],
          "scatter": [
           {
            "marker": {
             "colorbar": {
              "outlinewidth": 0,
              "ticks": ""
             }
            },
            "type": "scatter"
           }
          ],
          "scatter3d": [
           {
            "line": {
             "colorbar": {
              "outlinewidth": 0,
              "ticks": ""
             }
            },
            "marker": {
             "colorbar": {
              "outlinewidth": 0,
              "ticks": ""
             }
            },
            "type": "scatter3d"
           }
          ],
          "scattercarpet": [
           {
            "marker": {
             "colorbar": {
              "outlinewidth": 0,
              "ticks": ""
             }
            },
            "type": "scattercarpet"
           }
          ],
          "scattergeo": [
           {
            "marker": {
             "colorbar": {
              "outlinewidth": 0,
              "ticks": ""
             }
            },
            "type": "scattergeo"
           }
          ],
          "scattergl": [
           {
            "marker": {
             "colorbar": {
              "outlinewidth": 0,
              "ticks": ""
             }
            },
            "type": "scattergl"
           }
          ],
          "scattermapbox": [
           {
            "marker": {
             "colorbar": {
              "outlinewidth": 0,
              "ticks": ""
             }
            },
            "type": "scattermapbox"
           }
          ],
          "scatterpolar": [
           {
            "marker": {
             "colorbar": {
              "outlinewidth": 0,
              "ticks": ""
             }
            },
            "type": "scatterpolar"
           }
          ],
          "scatterpolargl": [
           {
            "marker": {
             "colorbar": {
              "outlinewidth": 0,
              "ticks": ""
             }
            },
            "type": "scatterpolargl"
           }
          ],
          "scatterternary": [
           {
            "marker": {
             "colorbar": {
              "outlinewidth": 0,
              "ticks": ""
             }
            },
            "type": "scatterternary"
           }
          ],
          "surface": [
           {
            "colorbar": {
             "outlinewidth": 0,
             "ticks": ""
            },
            "colorscale": [
             [
              0,
              "#0d0887"
             ],
             [
              0.1111111111111111,
              "#46039f"
             ],
             [
              0.2222222222222222,
              "#7201a8"
             ],
             [
              0.3333333333333333,
              "#9c179e"
             ],
             [
              0.4444444444444444,
              "#bd3786"
             ],
             [
              0.5555555555555556,
              "#d8576b"
             ],
             [
              0.6666666666666666,
              "#ed7953"
             ],
             [
              0.7777777777777778,
              "#fb9f3a"
             ],
             [
              0.8888888888888888,
              "#fdca26"
             ],
             [
              1,
              "#f0f921"
             ]
            ],
            "type": "surface"
           }
          ],
          "table": [
           {
            "cells": {
             "fill": {
              "color": "#EBF0F8"
             },
             "line": {
              "color": "white"
             }
            },
            "header": {
             "fill": {
              "color": "#C8D4E3"
             },
             "line": {
              "color": "white"
             }
            },
            "type": "table"
           }
          ]
         },
         "layout": {
          "annotationdefaults": {
           "arrowcolor": "#2a3f5f",
           "arrowhead": 0,
           "arrowwidth": 1
          },
          "coloraxis": {
           "colorbar": {
            "outlinewidth": 0,
            "ticks": ""
           }
          },
          "colorscale": {
           "diverging": [
            [
             0,
             "#8e0152"
            ],
            [
             0.1,
             "#c51b7d"
            ],
            [
             0.2,
             "#de77ae"
            ],
            [
             0.3,
             "#f1b6da"
            ],
            [
             0.4,
             "#fde0ef"
            ],
            [
             0.5,
             "#f7f7f7"
            ],
            [
             0.6,
             "#e6f5d0"
            ],
            [
             0.7,
             "#b8e186"
            ],
            [
             0.8,
             "#7fbc41"
            ],
            [
             0.9,
             "#4d9221"
            ],
            [
             1,
             "#276419"
            ]
           ],
           "sequential": [
            [
             0,
             "#0d0887"
            ],
            [
             0.1111111111111111,
             "#46039f"
            ],
            [
             0.2222222222222222,
             "#7201a8"
            ],
            [
             0.3333333333333333,
             "#9c179e"
            ],
            [
             0.4444444444444444,
             "#bd3786"
            ],
            [
             0.5555555555555556,
             "#d8576b"
            ],
            [
             0.6666666666666666,
             "#ed7953"
            ],
            [
             0.7777777777777778,
             "#fb9f3a"
            ],
            [
             0.8888888888888888,
             "#fdca26"
            ],
            [
             1,
             "#f0f921"
            ]
           ],
           "sequentialminus": [
            [
             0,
             "#0d0887"
            ],
            [
             0.1111111111111111,
             "#46039f"
            ],
            [
             0.2222222222222222,
             "#7201a8"
            ],
            [
             0.3333333333333333,
             "#9c179e"
            ],
            [
             0.4444444444444444,
             "#bd3786"
            ],
            [
             0.5555555555555556,
             "#d8576b"
            ],
            [
             0.6666666666666666,
             "#ed7953"
            ],
            [
             0.7777777777777778,
             "#fb9f3a"
            ],
            [
             0.8888888888888888,
             "#fdca26"
            ],
            [
             1,
             "#f0f921"
            ]
           ]
          },
          "colorway": [
           "#636efa",
           "#EF553B",
           "#00cc96",
           "#ab63fa",
           "#FFA15A",
           "#19d3f3",
           "#FF6692",
           "#B6E880",
           "#FF97FF",
           "#FECB52"
          ],
          "font": {
           "color": "#2a3f5f"
          },
          "geo": {
           "bgcolor": "white",
           "lakecolor": "white",
           "landcolor": "#E5ECF6",
           "showlakes": true,
           "showland": true,
           "subunitcolor": "white"
          },
          "hoverlabel": {
           "align": "left"
          },
          "hovermode": "closest",
          "mapbox": {
           "style": "light"
          },
          "paper_bgcolor": "white",
          "plot_bgcolor": "#E5ECF6",
          "polar": {
           "angularaxis": {
            "gridcolor": "white",
            "linecolor": "white",
            "ticks": ""
           },
           "bgcolor": "#E5ECF6",
           "radialaxis": {
            "gridcolor": "white",
            "linecolor": "white",
            "ticks": ""
           }
          },
          "scene": {
           "xaxis": {
            "backgroundcolor": "#E5ECF6",
            "gridcolor": "white",
            "gridwidth": 2,
            "linecolor": "white",
            "showbackground": true,
            "ticks": "",
            "zerolinecolor": "white"
           },
           "yaxis": {
            "backgroundcolor": "#E5ECF6",
            "gridcolor": "white",
            "gridwidth": 2,
            "linecolor": "white",
            "showbackground": true,
            "ticks": "",
            "zerolinecolor": "white"
           },
           "zaxis": {
            "backgroundcolor": "#E5ECF6",
            "gridcolor": "white",
            "gridwidth": 2,
            "linecolor": "white",
            "showbackground": true,
            "ticks": "",
            "zerolinecolor": "white"
           }
          },
          "shapedefaults": {
           "line": {
            "color": "#2a3f5f"
           }
          },
          "ternary": {
           "aaxis": {
            "gridcolor": "white",
            "linecolor": "white",
            "ticks": ""
           },
           "baxis": {
            "gridcolor": "white",
            "linecolor": "white",
            "ticks": ""
           },
           "bgcolor": "#E5ECF6",
           "caxis": {
            "gridcolor": "white",
            "linecolor": "white",
            "ticks": ""
           }
          },
          "title": {
           "x": 0.05
          },
          "xaxis": {
           "automargin": true,
           "gridcolor": "white",
           "linecolor": "white",
           "ticks": "",
           "title": {
            "standoff": 15
           },
           "zerolinecolor": "white",
           "zerolinewidth": 2
          },
          "yaxis": {
           "automargin": true,
           "gridcolor": "white",
           "linecolor": "white",
           "ticks": "",
           "title": {
            "standoff": 15
           },
           "zerolinecolor": "white",
           "zerolinewidth": 2
          }
         }
        },
        "title": {
         "text": "Most Healthiest Countries In The World "
        }
       }
      },
      "text/html": [
       "<div>\n",
       "        \n",
       "        \n",
       "            <div id=\"2a485e45-65a0-4e92-82b9-c21d9e609074\" class=\"plotly-graph-div\" style=\"height:525px; width:100%;\"></div>\n",
       "            <script type=\"text/javascript\">\n",
       "                require([\"plotly\"], function(Plotly) {\n",
       "                    window.PLOTLYENV=window.PLOTLYENV || {};\n",
       "                    \n",
       "                if (document.getElementById(\"2a485e45-65a0-4e92-82b9-c21d9e609074\")) {\n",
       "                    Plotly.newPlot(\n",
       "                        '2a485e45-65a0-4e92-82b9-c21d9e609074',\n",
       "                        [{\"autocolorscale\": false, \"colorbar\": {\"title\": {\"text\": \"Healthy Life Expectancy\"}}, \"colorscale\": [[0.0, \"rgb(255,255,204)\"], [0.125, \"rgb(255,237,160)\"], [0.25, \"rgb(254,217,118)\"], [0.375, \"rgb(254,178,76)\"], [0.5, \"rgb(253,141,60)\"], [0.625, \"rgb(252,78,42)\"], [0.75, \"rgb(227,26,28)\"], [0.875, \"rgb(189,0,38)\"], [1.0, \"rgb(128,0,38)\"]], \"locationmode\": \"country names\", \"locations\": [\"Finland\", \"Denmark\", \"Switzerland\", \"Iceland\", \"Norway\", \"Netherlands\", \"Sweden\", \"New Zealand\", \"Austria\", \"Luxembourg\", \"Canada\", \"Australia\", \"United Kingdom\", \"Israel\", \"Costa Rica\", \"Ireland\", \"Germany\", \"United States\", \"Czech Republic\", \"Belgium\", \"United Arab Emirates\", \"Malta\", \"France\", \"Mexico\", \"Taiwan Province of China\", \"Uruguay\", \"Saudi Arabia\", \"Spain\", \"Guatemala\", \"Italy\", \"Singapore\", \"Brazil\", \"Slovenia\", \"El Salvador\", \"Kosovo\", \"Panama\", \"Slovakia\", \"Uzbekistan\", \"Chile\", \"Bahrain\", \"Lithuania\", \"Trinidad and Tobago\", \"Poland\", \"Colombia\", \"Cyprus\", \"Nicaragua\", \"Romania\", \"Kuwait\", \"Mauritius\", \"Kazakhstan\", \"Estonia\", \"Philippines\", \"Hungary\", \"Thailand\", \"Argentina\", \"Honduras\", \"Latvia\", \"Ecuador\", \"Portugal\", \"Jamaica\", \"South Korea\", \"Japan\", \"Peru\", \"Serbia\", \"Bolivia\", \"Pakistan\", \"Paraguay\", \"Dominican Republic\", \"Bosnia and Herzegovina\", \"Moldova\", \"Tajikistan\", \"Montenegro\", \"Russia\", \"Kyrgyzstan\", \"Belarus\", \"North Cyprus\", \"Greece\", \"Hong Kong S.A.R. of China\", \"Croatia\", \"Libya\", \"Mongolia\", \"Malaysia\", \"Vietnam\", \"Indonesia\", \"Ivory Coast\", \"Benin\", \"Maldives\", \"Congo (Brazzaville)\", \"Azerbaijan\", \"Macedonia\", \"Ghana\", \"Nepal\", \"Turkey\", \"China\", \"Turkmenistan\", \"Bulgaria\", \"Morocco\", \"Cameroon\", \"Venezuela\", \"Algeria\", \"Senegal\", \"Guinea\", \"Niger\", \"Laos\", \"Albania\", \"Cambodia\", \"Bangladesh\", \"Gabon\", \"South Africa\", \"Iraq\", \"Lebanon\", \"Burkina Faso\", \"Gambia\", \"Mali\", \"Nigeria\", \"Armenia\", \"Georgia\", \"Iran\", \"Jordan\", \"Mozambique\", \"Kenya\", \"Namibia\", \"Ukraine\", \"Liberia\", \"Palestinian Territories\", \"Uganda\", \"Chad\", \"Tunisia\", \"Mauritania\", \"Sri Lanka\", \"Congo (Kinshasa)\", \"Swaziland\", \"Myanmar\", \"Comoros\", \"Togo\", \"Ethiopia\", \"Madagascar\", \"Egypt\", \"Sierra Leone\", \"Burundi\", \"Zambia\", \"Haiti\", \"Lesotho\", \"India\", \"Malawi\", \"Yemen\", \"Botswana\", \"Tanzania\", \"Central African Republic\", \"Rwanda\", \"Zimbabwe\", \"South Sudan\", \"Afghanistan\"], \"reversescale\": true, \"text\": [\"Western Europe\", \"Western Europe\", \"Western Europe\", \"Western Europe\", \"Western Europe\", \"Western Europe\", \"Western Europe\", \"North America and ANZ\", \"Western Europe\", \"Western Europe\", \"North America and ANZ\", \"North America and ANZ\", \"Western Europe\", \"Middle East and North Africa\", \"Latin America and Caribbean\", \"Western Europe\", \"Western Europe\", \"North America and ANZ\", \"Central and Eastern Europe\", \"Western Europe\", \"Middle East and North Africa\", \"Western Europe\", \"Western Europe\", \"Latin America and Caribbean\", \"East Asia\", \"Latin America and Caribbean\", \"Middle East and North Africa\", \"Western Europe\", \"Latin America and Caribbean\", \"Western Europe\", \"Southeast Asia\", \"Latin America and Caribbean\", \"Central and Eastern Europe\", \"Latin America and Caribbean\", \"Central and Eastern Europe\", \"Latin America and Caribbean\", \"Central and Eastern Europe\", \"Commonwealth of Independent States\", \"Latin America and Caribbean\", \"Middle East and North Africa\", \"Central and Eastern Europe\", \"Latin America and Caribbean\", \"Central and Eastern Europe\", \"Latin America and Caribbean\", \"Western Europe\", \"Latin America and Caribbean\", \"Central and Eastern Europe\", \"Middle East and North Africa\", \"Sub-Saharan Africa\", \"Commonwealth of Independent States\", \"Central and Eastern Europe\", \"Southeast Asia\", \"Central and Eastern Europe\", \"Southeast Asia\", \"Latin America and Caribbean\", \"Latin America and Caribbean\", \"Central and Eastern Europe\", \"Latin America and Caribbean\", \"Western Europe\", \"Latin America and Caribbean\", \"East Asia\", \"East Asia\", \"Latin America and Caribbean\", \"Central and Eastern Europe\", \"Latin America and Caribbean\", \"South Asia\", \"Latin America and Caribbean\", \"Latin America and Caribbean\", \"Central and Eastern Europe\", \"Commonwealth of Independent States\", \"Commonwealth of Independent States\", \"Central and Eastern Europe\", \"Commonwealth of Independent States\", \"Commonwealth of Independent States\", \"Commonwealth of Independent States\", \"Western Europe\", \"Western Europe\", \"East Asia\", \"Central and Eastern Europe\", \"Middle East and North Africa\", \"East Asia\", \"Southeast Asia\", \"Southeast Asia\", \"Southeast Asia\", \"Sub-Saharan Africa\", \"Sub-Saharan Africa\", \"South Asia\", \"Sub-Saharan Africa\", \"Commonwealth of Independent States\", \"Central and Eastern Europe\", \"Sub-Saharan Africa\", \"South Asia\", \"Middle East and North Africa\", \"East Asia\", \"Commonwealth of Independent States\", \"Central and Eastern Europe\", \"Middle East and North Africa\", \"Sub-Saharan Africa\", \"Latin America and Caribbean\", \"Middle East and North Africa\", \"Sub-Saharan Africa\", \"Sub-Saharan Africa\", \"Sub-Saharan Africa\", \"Southeast Asia\", \"Central and Eastern Europe\", \"Southeast Asia\", \"South Asia\", \"Sub-Saharan Africa\", \"Sub-Saharan Africa\", \"Middle East and North Africa\", \"Middle East and North Africa\", \"Sub-Saharan Africa\", \"Sub-Saharan Africa\", \"Sub-Saharan Africa\", \"Sub-Saharan Africa\", \"Commonwealth of Independent States\", \"Commonwealth of Independent States\", \"Middle East and North Africa\", \"Middle East and North Africa\", \"Sub-Saharan Africa\", \"Sub-Saharan Africa\", \"Sub-Saharan Africa\", \"Commonwealth of Independent States\", \"Sub-Saharan Africa\", \"Middle East and North Africa\", \"Sub-Saharan Africa\", \"Sub-Saharan Africa\", \"Middle East and North Africa\", \"Sub-Saharan Africa\", \"South Asia\", \"Sub-Saharan Africa\", \"Sub-Saharan Africa\", \"Southeast Asia\", \"Sub-Saharan Africa\", \"Sub-Saharan Africa\", \"Sub-Saharan Africa\", \"Sub-Saharan Africa\", \"Middle East and North Africa\", \"Sub-Saharan Africa\", \"Sub-Saharan Africa\", \"Sub-Saharan Africa\", \"Latin America and Caribbean\", \"Sub-Saharan Africa\", \"South Asia\", \"Sub-Saharan Africa\", \"Middle East and North Africa\", \"Sub-Saharan Africa\", \"Sub-Saharan Africa\", \"Sub-Saharan Africa\", \"Sub-Saharan Africa\", \"Sub-Saharan Africa\", \"Sub-Saharan Africa\", \"South Asia\"], \"type\": \"choropleth\", \"z\": [71.9008255, 72.40250397, 74.10244751, 73.0, 73.20078278, 72.30091858, 72.60076904, 73.20262909, 73.00250244, 72.59999847, 73.60160065, 73.60453796, 72.30160522, 73.20025635, 71.29985046, 72.30078888, 72.20201874, 68.29949951, 70.04793549, 72.00164795, 67.08278656, 72.19999695, 73.80193329, 68.29902649, 69.59999847, 69.00254822, 66.30514526, 74.40270996, 64.8089447, 73.60168457, 76.80458069, 66.48016357, 71.1029892, 66.10826111, 63.88555527, 69.60301208, 68.90634155, 65.10757446, 69.90061951, 68.5, 67.29407501, 63.5, 69.31113434, 67.69958496, 73.70222473, 67.50717926, 67.20723724, 66.76764679, 66.40434265, 64.60996246, 68.60495758, 61.92676163, 67.60997009, 67.25059509, 68.80380249, 67.19876862, 66.8074646, 68.50003815, 72.40202332, 67.09999847, 73.60272979999999, 75.00096893, 68.10023499, 68.21020508, 63.6004715, 58.25313568, 65.63993835, 65.80748749, 67.80813599, 65.01301575, 64.10459137, 68.50534821, 64.10045624, 64.10601044, 66.10433197, 73.70222473, 72.40525818, 76.77170563, 70.21490479, 62.29999924, 62.30448532, 67.10215759, 67.95273590000001, 62.15584946, 49.50377274, 54.31246567, 70.59999847, 57.92448044, 65.50839996, 67.50442505, 57.20398712, 63.77917862, 66.90281677, 69.2891922, 62.21170807, 66.80397797, 65.89624023, 52.704940799999996, 66.50534058, 65.90517426, 59.59915161, 54.46780014, 53.50009537, 58.70992279, 68.70813751, 61.52996826, 64.50306702, 59.71533966, 56.50601196, 59.90354919, 67.10658264, 53.88945389, 55.01201629999999, 51.72698212, 49.86190796, 66.75065613, 64.49520874, 66.00614929, 66.79975128, 54.20582199, 60.09693146, 56.50148773, 64.60678101, 56.09631348, 62.25, 55.70820236, 48.22053909, 66.89785767, 57.01017761, 67.20006561, 52.90000153, 51.18823624, 58.96171188, 57.34901047, 54.71989822, 58.63959122, 59.10542679, 61.78015137, 50.86514282, 53.40000153, 55.29937744, 55.59862518, 48.00362396, 60.21518707, 57.59288788, 56.72728348, 58.92445374, 57.49607468, 45.20000076, 61.09884644, 55.61725998, 51.0, 52.59000015]}],\n",
       "                        {\"geo\": {\"projection\": {\"type\": \"equirectangular\"}, \"showframe\": false}, \"template\": {\"data\": {\"bar\": [{\"error_x\": {\"color\": \"#2a3f5f\"}, \"error_y\": {\"color\": \"#2a3f5f\"}, \"marker\": {\"line\": {\"color\": \"#E5ECF6\", \"width\": 0.5}}, \"type\": \"bar\"}], \"barpolar\": [{\"marker\": {\"line\": {\"color\": \"#E5ECF6\", \"width\": 0.5}}, \"type\": \"barpolar\"}], \"carpet\": [{\"aaxis\": {\"endlinecolor\": \"#2a3f5f\", \"gridcolor\": \"white\", \"linecolor\": \"white\", \"minorgridcolor\": \"white\", \"startlinecolor\": \"#2a3f5f\"}, \"baxis\": {\"endlinecolor\": \"#2a3f5f\", \"gridcolor\": \"white\", \"linecolor\": \"white\", \"minorgridcolor\": \"white\", \"startlinecolor\": \"#2a3f5f\"}, \"type\": \"carpet\"}], \"choropleth\": [{\"colorbar\": {\"outlinewidth\": 0, \"ticks\": \"\"}, \"type\": \"choropleth\"}], \"contour\": [{\"colorbar\": {\"outlinewidth\": 0, \"ticks\": \"\"}, \"colorscale\": [[0.0, \"#0d0887\"], [0.1111111111111111, \"#46039f\"], [0.2222222222222222, \"#7201a8\"], [0.3333333333333333, \"#9c179e\"], [0.4444444444444444, \"#bd3786\"], [0.5555555555555556, \"#d8576b\"], [0.6666666666666666, \"#ed7953\"], [0.7777777777777778, \"#fb9f3a\"], [0.8888888888888888, \"#fdca26\"], [1.0, \"#f0f921\"]], \"type\": \"contour\"}], \"contourcarpet\": [{\"colorbar\": {\"outlinewidth\": 0, \"ticks\": \"\"}, \"type\": \"contourcarpet\"}], \"heatmap\": [{\"colorbar\": {\"outlinewidth\": 0, \"ticks\": \"\"}, \"colorscale\": [[0.0, \"#0d0887\"], [0.1111111111111111, \"#46039f\"], [0.2222222222222222, \"#7201a8\"], [0.3333333333333333, \"#9c179e\"], [0.4444444444444444, \"#bd3786\"], [0.5555555555555556, \"#d8576b\"], [0.6666666666666666, \"#ed7953\"], [0.7777777777777778, \"#fb9f3a\"], [0.8888888888888888, \"#fdca26\"], [1.0, \"#f0f921\"]], \"type\": \"heatmap\"}], \"heatmapgl\": [{\"colorbar\": {\"outlinewidth\": 0, \"ticks\": \"\"}, \"colorscale\": [[0.0, \"#0d0887\"], [0.1111111111111111, \"#46039f\"], [0.2222222222222222, \"#7201a8\"], [0.3333333333333333, \"#9c179e\"], [0.4444444444444444, \"#bd3786\"], [0.5555555555555556, \"#d8576b\"], [0.6666666666666666, \"#ed7953\"], [0.7777777777777778, \"#fb9f3a\"], [0.8888888888888888, \"#fdca26\"], [1.0, \"#f0f921\"]], \"type\": \"heatmapgl\"}], \"histogram\": [{\"marker\": {\"colorbar\": {\"outlinewidth\": 0, \"ticks\": \"\"}}, \"type\": \"histogram\"}], \"histogram2d\": [{\"colorbar\": {\"outlinewidth\": 0, \"ticks\": \"\"}, \"colorscale\": [[0.0, \"#0d0887\"], [0.1111111111111111, \"#46039f\"], [0.2222222222222222, \"#7201a8\"], [0.3333333333333333, \"#9c179e\"], [0.4444444444444444, \"#bd3786\"], [0.5555555555555556, \"#d8576b\"], [0.6666666666666666, \"#ed7953\"], [0.7777777777777778, \"#fb9f3a\"], [0.8888888888888888, \"#fdca26\"], [1.0, \"#f0f921\"]], \"type\": \"histogram2d\"}], \"histogram2dcontour\": [{\"colorbar\": {\"outlinewidth\": 0, \"ticks\": \"\"}, \"colorscale\": [[0.0, \"#0d0887\"], [0.1111111111111111, \"#46039f\"], [0.2222222222222222, \"#7201a8\"], [0.3333333333333333, \"#9c179e\"], [0.4444444444444444, \"#bd3786\"], [0.5555555555555556, \"#d8576b\"], [0.6666666666666666, \"#ed7953\"], [0.7777777777777778, \"#fb9f3a\"], [0.8888888888888888, \"#fdca26\"], [1.0, \"#f0f921\"]], \"type\": \"histogram2dcontour\"}], \"mesh3d\": [{\"colorbar\": {\"outlinewidth\": 0, \"ticks\": \"\"}, \"type\": \"mesh3d\"}], \"parcoords\": [{\"line\": {\"colorbar\": {\"outlinewidth\": 0, \"ticks\": \"\"}}, \"type\": \"parcoords\"}], \"pie\": [{\"automargin\": true, \"type\": \"pie\"}], \"scatter\": [{\"marker\": {\"colorbar\": {\"outlinewidth\": 0, \"ticks\": \"\"}}, \"type\": \"scatter\"}], \"scatter3d\": [{\"line\": {\"colorbar\": {\"outlinewidth\": 0, \"ticks\": \"\"}}, \"marker\": {\"colorbar\": {\"outlinewidth\": 0, \"ticks\": \"\"}}, \"type\": \"scatter3d\"}], \"scattercarpet\": [{\"marker\": {\"colorbar\": {\"outlinewidth\": 0, \"ticks\": \"\"}}, \"type\": \"scattercarpet\"}], \"scattergeo\": [{\"marker\": {\"colorbar\": {\"outlinewidth\": 0, \"ticks\": \"\"}}, \"type\": \"scattergeo\"}], \"scattergl\": [{\"marker\": {\"colorbar\": {\"outlinewidth\": 0, \"ticks\": \"\"}}, \"type\": \"scattergl\"}], \"scattermapbox\": [{\"marker\": {\"colorbar\": {\"outlinewidth\": 0, \"ticks\": \"\"}}, \"type\": \"scattermapbox\"}], \"scatterpolar\": [{\"marker\": {\"colorbar\": {\"outlinewidth\": 0, \"ticks\": \"\"}}, \"type\": \"scatterpolar\"}], \"scatterpolargl\": [{\"marker\": {\"colorbar\": {\"outlinewidth\": 0, \"ticks\": \"\"}}, \"type\": \"scatterpolargl\"}], \"scatterternary\": [{\"marker\": {\"colorbar\": {\"outlinewidth\": 0, \"ticks\": \"\"}}, \"type\": \"scatterternary\"}], \"surface\": [{\"colorbar\": {\"outlinewidth\": 0, \"ticks\": \"\"}, \"colorscale\": [[0.0, \"#0d0887\"], [0.1111111111111111, \"#46039f\"], [0.2222222222222222, \"#7201a8\"], [0.3333333333333333, \"#9c179e\"], [0.4444444444444444, \"#bd3786\"], [0.5555555555555556, \"#d8576b\"], [0.6666666666666666, \"#ed7953\"], [0.7777777777777778, \"#fb9f3a\"], [0.8888888888888888, \"#fdca26\"], [1.0, \"#f0f921\"]], \"type\": \"surface\"}], \"table\": [{\"cells\": {\"fill\": {\"color\": \"#EBF0F8\"}, \"line\": {\"color\": \"white\"}}, \"header\": {\"fill\": {\"color\": \"#C8D4E3\"}, \"line\": {\"color\": \"white\"}}, \"type\": \"table\"}]}, \"layout\": {\"annotationdefaults\": {\"arrowcolor\": \"#2a3f5f\", \"arrowhead\": 0, \"arrowwidth\": 1}, \"coloraxis\": {\"colorbar\": {\"outlinewidth\": 0, \"ticks\": \"\"}}, \"colorscale\": {\"diverging\": [[0, \"#8e0152\"], [0.1, \"#c51b7d\"], [0.2, \"#de77ae\"], [0.3, \"#f1b6da\"], [0.4, \"#fde0ef\"], [0.5, \"#f7f7f7\"], [0.6, \"#e6f5d0\"], [0.7, \"#b8e186\"], [0.8, \"#7fbc41\"], [0.9, \"#4d9221\"], [1, \"#276419\"]], \"sequential\": [[0.0, \"#0d0887\"], [0.1111111111111111, \"#46039f\"], [0.2222222222222222, \"#7201a8\"], [0.3333333333333333, \"#9c179e\"], [0.4444444444444444, \"#bd3786\"], [0.5555555555555556, \"#d8576b\"], [0.6666666666666666, \"#ed7953\"], [0.7777777777777778, \"#fb9f3a\"], [0.8888888888888888, \"#fdca26\"], [1.0, \"#f0f921\"]], \"sequentialminus\": [[0.0, \"#0d0887\"], [0.1111111111111111, \"#46039f\"], [0.2222222222222222, \"#7201a8\"], [0.3333333333333333, \"#9c179e\"], [0.4444444444444444, \"#bd3786\"], [0.5555555555555556, \"#d8576b\"], [0.6666666666666666, \"#ed7953\"], [0.7777777777777778, \"#fb9f3a\"], [0.8888888888888888, \"#fdca26\"], [1.0, \"#f0f921\"]]}, \"colorway\": [\"#636efa\", \"#EF553B\", \"#00cc96\", \"#ab63fa\", \"#FFA15A\", \"#19d3f3\", \"#FF6692\", \"#B6E880\", \"#FF97FF\", \"#FECB52\"], \"font\": {\"color\": \"#2a3f5f\"}, \"geo\": {\"bgcolor\": \"white\", \"lakecolor\": \"white\", \"landcolor\": \"#E5ECF6\", \"showlakes\": true, \"showland\": true, \"subunitcolor\": \"white\"}, \"hoverlabel\": {\"align\": \"left\"}, \"hovermode\": \"closest\", \"mapbox\": {\"style\": \"light\"}, \"paper_bgcolor\": \"white\", \"plot_bgcolor\": \"#E5ECF6\", \"polar\": {\"angularaxis\": {\"gridcolor\": \"white\", \"linecolor\": \"white\", \"ticks\": \"\"}, \"bgcolor\": \"#E5ECF6\", \"radialaxis\": {\"gridcolor\": \"white\", \"linecolor\": \"white\", \"ticks\": \"\"}}, \"scene\": {\"xaxis\": {\"backgroundcolor\": \"#E5ECF6\", \"gridcolor\": \"white\", \"gridwidth\": 2, \"linecolor\": \"white\", \"showbackground\": true, \"ticks\": \"\", \"zerolinecolor\": \"white\"}, \"yaxis\": {\"backgroundcolor\": \"#E5ECF6\", \"gridcolor\": \"white\", \"gridwidth\": 2, \"linecolor\": \"white\", \"showbackground\": true, \"ticks\": \"\", \"zerolinecolor\": \"white\"}, \"zaxis\": {\"backgroundcolor\": \"#E5ECF6\", \"gridcolor\": \"white\", \"gridwidth\": 2, \"linecolor\": \"white\", \"showbackground\": true, \"ticks\": \"\", \"zerolinecolor\": \"white\"}}, \"shapedefaults\": {\"line\": {\"color\": \"#2a3f5f\"}}, \"ternary\": {\"aaxis\": {\"gridcolor\": \"white\", \"linecolor\": \"white\", \"ticks\": \"\"}, \"baxis\": {\"gridcolor\": \"white\", \"linecolor\": \"white\", \"ticks\": \"\"}, \"bgcolor\": \"#E5ECF6\", \"caxis\": {\"gridcolor\": \"white\", \"linecolor\": \"white\", \"ticks\": \"\"}}, \"title\": {\"x\": 0.05}, \"xaxis\": {\"automargin\": true, \"gridcolor\": \"white\", \"linecolor\": \"white\", \"ticks\": \"\", \"title\": {\"standoff\": 15}, \"zerolinecolor\": \"white\", \"zerolinewidth\": 2}, \"yaxis\": {\"automargin\": true, \"gridcolor\": \"white\", \"linecolor\": \"white\", \"ticks\": \"\", \"title\": {\"standoff\": 15}, \"zerolinecolor\": \"white\", \"zerolinewidth\": 2}}}, \"title\": {\"text\": \"Most Healthiest Countries In The World \"}},\n",
       "                        {\"responsive\": true}\n",
       "                    ).then(function(){\n",
       "                            \n",
       "var gd = document.getElementById('2a485e45-65a0-4e92-82b9-c21d9e609074');\n",
       "var x = new MutationObserver(function (mutations, observer) {{\n",
       "        var display = window.getComputedStyle(gd).display;\n",
       "        if (!display || display === 'none') {{\n",
       "            console.log([gd, 'removed!']);\n",
       "            Plotly.purge(gd);\n",
       "            observer.disconnect();\n",
       "        }}\n",
       "}});\n",
       "\n",
       "// Listen for the removal of the full notebook cells\n",
       "var notebookContainer = gd.closest('#notebook-container');\n",
       "if (notebookContainer) {{\n",
       "    x.observe(notebookContainer, {childList: true});\n",
       "}}\n",
       "\n",
       "// Listen for the clearing of the current output cell\n",
       "var outputEl = gd.closest('.output');\n",
       "if (outputEl) {{\n",
       "    x.observe(outputEl, {childList: true});\n",
       "}}\n",
       "\n",
       "                        })\n",
       "                };\n",
       "                });\n",
       "            </script>\n",
       "        </div>"
      ]
     },
     "metadata": {},
     "output_type": "display_data"
    }
   ],
   "source": [
    "import plotly as py\n",
    "import plotly.graph_objs as go\n",
    "from plotly.offline import iplot\n",
    "map_plot = dict(type = 'choropleth', \n",
    "locations = happy2020['Country name'],\n",
    "locationmode = 'country names',\n",
    "z = happy2020['Healthy life expectancy'].astype(float), \n",
    "text =happy2020['Regional indicator'],\n",
    "colorscale='YlOrRd',\n",
    "autocolorscale = False, reversescale = True,colorbar=dict(\n",
    "title = \"Healthy Life Expectancy\"))\n",
    "layout = dict(title = 'Most Healthiest Countries In The World ', \n",
    "geo = dict(showframe = False, \n",
    "projection = {'type': 'equirectangular'}))\n",
    "choromap = go.Figure(data = [map_plot], layout=layout)\n",
    "iplot(choromap)"
   ]
  },
  {
   "cell_type": "code",
   "execution_count": 11,
   "metadata": {},
   "outputs": [
    {
     "data": {
      "application/vnd.plotly.v1+json": {
       "config": {
        "linkText": "Export to plot.ly",
        "plotlyServerURL": "https://plot.ly",
        "showLink": false
       },
       "data": [
        {
         "autocolorscale": false,
         "colorbar": {
          "title": {
           "text": "Logged GDP per capita"
          }
         },
         "colorscale": [
          [
           0,
           "rgb(255,255,217)"
          ],
          [
           0.125,
           "rgb(237,248,177)"
          ],
          [
           0.25,
           "rgb(199,233,180)"
          ],
          [
           0.375,
           "rgb(127,205,187)"
          ],
          [
           0.5,
           "rgb(65,182,196)"
          ],
          [
           0.625,
           "rgb(29,145,192)"
          ],
          [
           0.75,
           "rgb(34,94,168)"
          ],
          [
           0.875,
           "rgb(37,52,148)"
          ],
          [
           1,
           "rgb(8,29,88)"
          ]
         ],
         "locationmode": "country names",
         "locations": [
          "Finland",
          "Denmark",
          "Switzerland",
          "Iceland",
          "Norway",
          "Netherlands",
          "Sweden",
          "New Zealand",
          "Austria",
          "Luxembourg",
          "Canada",
          "Australia",
          "United Kingdom",
          "Israel",
          "Costa Rica",
          "Ireland",
          "Germany",
          "United States",
          "Czech Republic",
          "Belgium",
          "United Arab Emirates",
          "Malta",
          "France",
          "Mexico",
          "Taiwan Province of China",
          "Uruguay",
          "Saudi Arabia",
          "Spain",
          "Guatemala",
          "Italy",
          "Singapore",
          "Brazil",
          "Slovenia",
          "El Salvador",
          "Kosovo",
          "Panama",
          "Slovakia",
          "Uzbekistan",
          "Chile",
          "Bahrain",
          "Lithuania",
          "Trinidad and Tobago",
          "Poland",
          "Colombia",
          "Cyprus",
          "Nicaragua",
          "Romania",
          "Kuwait",
          "Mauritius",
          "Kazakhstan",
          "Estonia",
          "Philippines",
          "Hungary",
          "Thailand",
          "Argentina",
          "Honduras",
          "Latvia",
          "Ecuador",
          "Portugal",
          "Jamaica",
          "South Korea",
          "Japan",
          "Peru",
          "Serbia",
          "Bolivia",
          "Pakistan",
          "Paraguay",
          "Dominican Republic",
          "Bosnia and Herzegovina",
          "Moldova",
          "Tajikistan",
          "Montenegro",
          "Russia",
          "Kyrgyzstan",
          "Belarus",
          "North Cyprus",
          "Greece",
          "Hong Kong S.A.R. of China",
          "Croatia",
          "Libya",
          "Mongolia",
          "Malaysia",
          "Vietnam",
          "Indonesia",
          "Ivory Coast",
          "Benin",
          "Maldives",
          "Congo (Brazzaville)",
          "Azerbaijan",
          "Macedonia",
          "Ghana",
          "Nepal",
          "Turkey",
          "China",
          "Turkmenistan",
          "Bulgaria",
          "Morocco",
          "Cameroon",
          "Venezuela",
          "Algeria",
          "Senegal",
          "Guinea",
          "Niger",
          "Laos",
          "Albania",
          "Cambodia",
          "Bangladesh",
          "Gabon",
          "South Africa",
          "Iraq",
          "Lebanon",
          "Burkina Faso",
          "Gambia",
          "Mali",
          "Nigeria",
          "Armenia",
          "Georgia",
          "Iran",
          "Jordan",
          "Mozambique",
          "Kenya",
          "Namibia",
          "Ukraine",
          "Liberia",
          "Palestinian Territories",
          "Uganda",
          "Chad",
          "Tunisia",
          "Mauritania",
          "Sri Lanka",
          "Congo (Kinshasa)",
          "Swaziland",
          "Myanmar",
          "Comoros",
          "Togo",
          "Ethiopia",
          "Madagascar",
          "Egypt",
          "Sierra Leone",
          "Burundi",
          "Zambia",
          "Haiti",
          "Lesotho",
          "India",
          "Malawi",
          "Yemen",
          "Botswana",
          "Tanzania",
          "Central African Republic",
          "Rwanda",
          "Zimbabwe",
          "South Sudan",
          "Afghanistan"
         ],
         "reversescale": true,
         "text": [
          "Western Europe",
          "Western Europe",
          "Western Europe",
          "Western Europe",
          "Western Europe",
          "Western Europe",
          "Western Europe",
          "North America and ANZ",
          "Western Europe",
          "Western Europe",
          "North America and ANZ",
          "North America and ANZ",
          "Western Europe",
          "Middle East and North Africa",
          "Latin America and Caribbean",
          "Western Europe",
          "Western Europe",
          "North America and ANZ",
          "Central and Eastern Europe",
          "Western Europe",
          "Middle East and North Africa",
          "Western Europe",
          "Western Europe",
          "Latin America and Caribbean",
          "East Asia",
          "Latin America and Caribbean",
          "Middle East and North Africa",
          "Western Europe",
          "Latin America and Caribbean",
          "Western Europe",
          "Southeast Asia",
          "Latin America and Caribbean",
          "Central and Eastern Europe",
          "Latin America and Caribbean",
          "Central and Eastern Europe",
          "Latin America and Caribbean",
          "Central and Eastern Europe",
          "Commonwealth of Independent States",
          "Latin America and Caribbean",
          "Middle East and North Africa",
          "Central and Eastern Europe",
          "Latin America and Caribbean",
          "Central and Eastern Europe",
          "Latin America and Caribbean",
          "Western Europe",
          "Latin America and Caribbean",
          "Central and Eastern Europe",
          "Middle East and North Africa",
          "Sub-Saharan Africa",
          "Commonwealth of Independent States",
          "Central and Eastern Europe",
          "Southeast Asia",
          "Central and Eastern Europe",
          "Southeast Asia",
          "Latin America and Caribbean",
          "Latin America and Caribbean",
          "Central and Eastern Europe",
          "Latin America and Caribbean",
          "Western Europe",
          "Latin America and Caribbean",
          "East Asia",
          "East Asia",
          "Latin America and Caribbean",
          "Central and Eastern Europe",
          "Latin America and Caribbean",
          "South Asia",
          "Latin America and Caribbean",
          "Latin America and Caribbean",
          "Central and Eastern Europe",
          "Commonwealth of Independent States",
          "Commonwealth of Independent States",
          "Central and Eastern Europe",
          "Commonwealth of Independent States",
          "Commonwealth of Independent States",
          "Commonwealth of Independent States",
          "Western Europe",
          "Western Europe",
          "East Asia",
          "Central and Eastern Europe",
          "Middle East and North Africa",
          "East Asia",
          "Southeast Asia",
          "Southeast Asia",
          "Southeast Asia",
          "Sub-Saharan Africa",
          "Sub-Saharan Africa",
          "South Asia",
          "Sub-Saharan Africa",
          "Commonwealth of Independent States",
          "Central and Eastern Europe",
          "Sub-Saharan Africa",
          "South Asia",
          "Middle East and North Africa",
          "East Asia",
          "Commonwealth of Independent States",
          "Central and Eastern Europe",
          "Middle East and North Africa",
          "Sub-Saharan Africa",
          "Latin America and Caribbean",
          "Middle East and North Africa",
          "Sub-Saharan Africa",
          "Sub-Saharan Africa",
          "Sub-Saharan Africa",
          "Southeast Asia",
          "Central and Eastern Europe",
          "Southeast Asia",
          "South Asia",
          "Sub-Saharan Africa",
          "Sub-Saharan Africa",
          "Middle East and North Africa",
          "Middle East and North Africa",
          "Sub-Saharan Africa",
          "Sub-Saharan Africa",
          "Sub-Saharan Africa",
          "Sub-Saharan Africa",
          "Commonwealth of Independent States",
          "Commonwealth of Independent States",
          "Middle East and North Africa",
          "Middle East and North Africa",
          "Sub-Saharan Africa",
          "Sub-Saharan Africa",
          "Sub-Saharan Africa",
          "Commonwealth of Independent States",
          "Sub-Saharan Africa",
          "Middle East and North Africa",
          "Sub-Saharan Africa",
          "Sub-Saharan Africa",
          "Middle East and North Africa",
          "Sub-Saharan Africa",
          "South Asia",
          "Sub-Saharan Africa",
          "Sub-Saharan Africa",
          "Southeast Asia",
          "Sub-Saharan Africa",
          "Sub-Saharan Africa",
          "Sub-Saharan Africa",
          "Sub-Saharan Africa",
          "Middle East and North Africa",
          "Sub-Saharan Africa",
          "Sub-Saharan Africa",
          "Sub-Saharan Africa",
          "Latin America and Caribbean",
          "Sub-Saharan Africa",
          "South Asia",
          "Sub-Saharan Africa",
          "Middle East and North Africa",
          "Sub-Saharan Africa",
          "Sub-Saharan Africa",
          "Sub-Saharan Africa",
          "Sub-Saharan Africa",
          "Sub-Saharan Africa",
          "Sub-Saharan Africa",
          "South Asia"
         ],
         "type": "choropleth",
         "z": [
          10.63926697,
          10.77400112,
          10.97993279,
          10.77255917,
          11.08780384,
          10.81271172,
          10.75879383,
          10.50094318,
          10.7428236,
          11.45068073,
          10.69236851,
          10.72059631,
          10.60013485,
          10.41752529,
          9.658156395,
          11.16097832,
          10.7328186,
          10.92576885,
          10.40416336,
          10.673639300000001,
          11.1099987,
          10.53383827,
          10.58422279,
          9.797797203,
          10.77568531,
          9.948192596,
          10.79781246,
          10.46292686,
          8.924805641,
          10.48183632,
          11.39552116,
          9.56643486,
          10.39232254,
          8.909075737,
          9.204429626,
          10.03423405,
          10.34774971,
          8.740371704,
          10.0320549,
          10.67638016,
          10.34362602,
          10.26000214,
          10.26512432,
          9.500369072,
          10.40570259,
          8.493160247999999,
          10.107584,
          11.08982468,
          9.956786156,
          10.11465836,
          10.34001732,
          8.993545532,
          10.24924374,
          9.741791725,
          9.810955048,
          8.424534798,
          10.17531967,
          9.246058463999999,
          10.26374245,
          9.006250381000001,
          10.51056671,
          10.57968903,
          9.456313133,
          9.680980682000001,
          8.851115227000001,
          8.482727051,
          9.389982224,
          9.664880753,
          9.455817223,
          8.776714325,
          8.024810791,
          9.751860619,
          10.12887192,
          8.148405075,
          9.779945374,
          10.40570259,
          10.13232613,
          10.934671400000001,
          10.07087517,
          9.789815903,
          9.412186623,
          10.26251888,
          8.809545517,
          9.36975193,
          8.225561142,
          7.674319744,
          9.518632889,
          8.536987305,
          9.687726974,
          9.510591507000001,
          8.350645065,
          7.925357342000001,
          10.12941933,
          9.688568115,
          9.74803257,
          9.869318962000001,
          8.940313339,
          8.118647575,
          8.977793693999999,
          9.537964821000001,
          8.118982315,
          7.750990391,
          6.842166901000001,
          8.79858017,
          9.417930603,
          8.249890327000001,
          8.287063599,
          9.680537224,
          9.403370857,
          9.661095619,
          9.3617239,
          7.46854496,
          7.321814537000001,
          7.629852295,
          8.57662487,
          9.100476265,
          9.226100922,
          9.813719749,
          9.025999069,
          7.069345951,
          8.02977562,
          9.203141212,
          9.010690689,
          7.054380417000001,
          8.389223099,
          7.500389576,
          7.467963696,
          9.314972877999999,
          8.233919144,
          9.389969826,
          6.694256306000001,
          9.16267395,
          8.680481911000001,
          7.833630085,
          7.357711315,
          7.5093855860000005,
          7.281685829,
          9.316541672,
          7.26880312,
          6.492642403,
          8.224720001,
          7.411329268999999,
          7.9604883189999995,
          8.849823952000001,
          7.062226295,
          7.759682655,
          9.711203575,
          7.967665195,
          6.625160217,
          7.600104332000001,
          7.865711688999999,
          7.425359726,
          7.4628605839999995
         ]
        }
       ],
       "layout": {
        "geo": {
         "projection": {
          "type": "equirectangular"
         },
         "showframe": false
        },
        "template": {
         "data": {
          "bar": [
           {
            "error_x": {
             "color": "#2a3f5f"
            },
            "error_y": {
             "color": "#2a3f5f"
            },
            "marker": {
             "line": {
              "color": "#E5ECF6",
              "width": 0.5
             }
            },
            "type": "bar"
           }
          ],
          "barpolar": [
           {
            "marker": {
             "line": {
              "color": "#E5ECF6",
              "width": 0.5
             }
            },
            "type": "barpolar"
           }
          ],
          "carpet": [
           {
            "aaxis": {
             "endlinecolor": "#2a3f5f",
             "gridcolor": "white",
             "linecolor": "white",
             "minorgridcolor": "white",
             "startlinecolor": "#2a3f5f"
            },
            "baxis": {
             "endlinecolor": "#2a3f5f",
             "gridcolor": "white",
             "linecolor": "white",
             "minorgridcolor": "white",
             "startlinecolor": "#2a3f5f"
            },
            "type": "carpet"
           }
          ],
          "choropleth": [
           {
            "colorbar": {
             "outlinewidth": 0,
             "ticks": ""
            },
            "type": "choropleth"
           }
          ],
          "contour": [
           {
            "colorbar": {
             "outlinewidth": 0,
             "ticks": ""
            },
            "colorscale": [
             [
              0,
              "#0d0887"
             ],
             [
              0.1111111111111111,
              "#46039f"
             ],
             [
              0.2222222222222222,
              "#7201a8"
             ],
             [
              0.3333333333333333,
              "#9c179e"
             ],
             [
              0.4444444444444444,
              "#bd3786"
             ],
             [
              0.5555555555555556,
              "#d8576b"
             ],
             [
              0.6666666666666666,
              "#ed7953"
             ],
             [
              0.7777777777777778,
              "#fb9f3a"
             ],
             [
              0.8888888888888888,
              "#fdca26"
             ],
             [
              1,
              "#f0f921"
             ]
            ],
            "type": "contour"
           }
          ],
          "contourcarpet": [
           {
            "colorbar": {
             "outlinewidth": 0,
             "ticks": ""
            },
            "type": "contourcarpet"
           }
          ],
          "heatmap": [
           {
            "colorbar": {
             "outlinewidth": 0,
             "ticks": ""
            },
            "colorscale": [
             [
              0,
              "#0d0887"
             ],
             [
              0.1111111111111111,
              "#46039f"
             ],
             [
              0.2222222222222222,
              "#7201a8"
             ],
             [
              0.3333333333333333,
              "#9c179e"
             ],
             [
              0.4444444444444444,
              "#bd3786"
             ],
             [
              0.5555555555555556,
              "#d8576b"
             ],
             [
              0.6666666666666666,
              "#ed7953"
             ],
             [
              0.7777777777777778,
              "#fb9f3a"
             ],
             [
              0.8888888888888888,
              "#fdca26"
             ],
             [
              1,
              "#f0f921"
             ]
            ],
            "type": "heatmap"
           }
          ],
          "heatmapgl": [
           {
            "colorbar": {
             "outlinewidth": 0,
             "ticks": ""
            },
            "colorscale": [
             [
              0,
              "#0d0887"
             ],
             [
              0.1111111111111111,
              "#46039f"
             ],
             [
              0.2222222222222222,
              "#7201a8"
             ],
             [
              0.3333333333333333,
              "#9c179e"
             ],
             [
              0.4444444444444444,
              "#bd3786"
             ],
             [
              0.5555555555555556,
              "#d8576b"
             ],
             [
              0.6666666666666666,
              "#ed7953"
             ],
             [
              0.7777777777777778,
              "#fb9f3a"
             ],
             [
              0.8888888888888888,
              "#fdca26"
             ],
             [
              1,
              "#f0f921"
             ]
            ],
            "type": "heatmapgl"
           }
          ],
          "histogram": [
           {
            "marker": {
             "colorbar": {
              "outlinewidth": 0,
              "ticks": ""
             }
            },
            "type": "histogram"
           }
          ],
          "histogram2d": [
           {
            "colorbar": {
             "outlinewidth": 0,
             "ticks": ""
            },
            "colorscale": [
             [
              0,
              "#0d0887"
             ],
             [
              0.1111111111111111,
              "#46039f"
             ],
             [
              0.2222222222222222,
              "#7201a8"
             ],
             [
              0.3333333333333333,
              "#9c179e"
             ],
             [
              0.4444444444444444,
              "#bd3786"
             ],
             [
              0.5555555555555556,
              "#d8576b"
             ],
             [
              0.6666666666666666,
              "#ed7953"
             ],
             [
              0.7777777777777778,
              "#fb9f3a"
             ],
             [
              0.8888888888888888,
              "#fdca26"
             ],
             [
              1,
              "#f0f921"
             ]
            ],
            "type": "histogram2d"
           }
          ],
          "histogram2dcontour": [
           {
            "colorbar": {
             "outlinewidth": 0,
             "ticks": ""
            },
            "colorscale": [
             [
              0,
              "#0d0887"
             ],
             [
              0.1111111111111111,
              "#46039f"
             ],
             [
              0.2222222222222222,
              "#7201a8"
             ],
             [
              0.3333333333333333,
              "#9c179e"
             ],
             [
              0.4444444444444444,
              "#bd3786"
             ],
             [
              0.5555555555555556,
              "#d8576b"
             ],
             [
              0.6666666666666666,
              "#ed7953"
             ],
             [
              0.7777777777777778,
              "#fb9f3a"
             ],
             [
              0.8888888888888888,
              "#fdca26"
             ],
             [
              1,
              "#f0f921"
             ]
            ],
            "type": "histogram2dcontour"
           }
          ],
          "mesh3d": [
           {
            "colorbar": {
             "outlinewidth": 0,
             "ticks": ""
            },
            "type": "mesh3d"
           }
          ],
          "parcoords": [
           {
            "line": {
             "colorbar": {
              "outlinewidth": 0,
              "ticks": ""
             }
            },
            "type": "parcoords"
           }
          ],
          "pie": [
           {
            "automargin": true,
            "type": "pie"
           }
          ],
          "scatter": [
           {
            "marker": {
             "colorbar": {
              "outlinewidth": 0,
              "ticks": ""
             }
            },
            "type": "scatter"
           }
          ],
          "scatter3d": [
           {
            "line": {
             "colorbar": {
              "outlinewidth": 0,
              "ticks": ""
             }
            },
            "marker": {
             "colorbar": {
              "outlinewidth": 0,
              "ticks": ""
             }
            },
            "type": "scatter3d"
           }
          ],
          "scattercarpet": [
           {
            "marker": {
             "colorbar": {
              "outlinewidth": 0,
              "ticks": ""
             }
            },
            "type": "scattercarpet"
           }
          ],
          "scattergeo": [
           {
            "marker": {
             "colorbar": {
              "outlinewidth": 0,
              "ticks": ""
             }
            },
            "type": "scattergeo"
           }
          ],
          "scattergl": [
           {
            "marker": {
             "colorbar": {
              "outlinewidth": 0,
              "ticks": ""
             }
            },
            "type": "scattergl"
           }
          ],
          "scattermapbox": [
           {
            "marker": {
             "colorbar": {
              "outlinewidth": 0,
              "ticks": ""
             }
            },
            "type": "scattermapbox"
           }
          ],
          "scatterpolar": [
           {
            "marker": {
             "colorbar": {
              "outlinewidth": 0,
              "ticks": ""
             }
            },
            "type": "scatterpolar"
           }
          ],
          "scatterpolargl": [
           {
            "marker": {
             "colorbar": {
              "outlinewidth": 0,
              "ticks": ""
             }
            },
            "type": "scatterpolargl"
           }
          ],
          "scatterternary": [
           {
            "marker": {
             "colorbar": {
              "outlinewidth": 0,
              "ticks": ""
             }
            },
            "type": "scatterternary"
           }
          ],
          "surface": [
           {
            "colorbar": {
             "outlinewidth": 0,
             "ticks": ""
            },
            "colorscale": [
             [
              0,
              "#0d0887"
             ],
             [
              0.1111111111111111,
              "#46039f"
             ],
             [
              0.2222222222222222,
              "#7201a8"
             ],
             [
              0.3333333333333333,
              "#9c179e"
             ],
             [
              0.4444444444444444,
              "#bd3786"
             ],
             [
              0.5555555555555556,
              "#d8576b"
             ],
             [
              0.6666666666666666,
              "#ed7953"
             ],
             [
              0.7777777777777778,
              "#fb9f3a"
             ],
             [
              0.8888888888888888,
              "#fdca26"
             ],
             [
              1,
              "#f0f921"
             ]
            ],
            "type": "surface"
           }
          ],
          "table": [
           {
            "cells": {
             "fill": {
              "color": "#EBF0F8"
             },
             "line": {
              "color": "white"
             }
            },
            "header": {
             "fill": {
              "color": "#C8D4E3"
             },
             "line": {
              "color": "white"
             }
            },
            "type": "table"
           }
          ]
         },
         "layout": {
          "annotationdefaults": {
           "arrowcolor": "#2a3f5f",
           "arrowhead": 0,
           "arrowwidth": 1
          },
          "coloraxis": {
           "colorbar": {
            "outlinewidth": 0,
            "ticks": ""
           }
          },
          "colorscale": {
           "diverging": [
            [
             0,
             "#8e0152"
            ],
            [
             0.1,
             "#c51b7d"
            ],
            [
             0.2,
             "#de77ae"
            ],
            [
             0.3,
             "#f1b6da"
            ],
            [
             0.4,
             "#fde0ef"
            ],
            [
             0.5,
             "#f7f7f7"
            ],
            [
             0.6,
             "#e6f5d0"
            ],
            [
             0.7,
             "#b8e186"
            ],
            [
             0.8,
             "#7fbc41"
            ],
            [
             0.9,
             "#4d9221"
            ],
            [
             1,
             "#276419"
            ]
           ],
           "sequential": [
            [
             0,
             "#0d0887"
            ],
            [
             0.1111111111111111,
             "#46039f"
            ],
            [
             0.2222222222222222,
             "#7201a8"
            ],
            [
             0.3333333333333333,
             "#9c179e"
            ],
            [
             0.4444444444444444,
             "#bd3786"
            ],
            [
             0.5555555555555556,
             "#d8576b"
            ],
            [
             0.6666666666666666,
             "#ed7953"
            ],
            [
             0.7777777777777778,
             "#fb9f3a"
            ],
            [
             0.8888888888888888,
             "#fdca26"
            ],
            [
             1,
             "#f0f921"
            ]
           ],
           "sequentialminus": [
            [
             0,
             "#0d0887"
            ],
            [
             0.1111111111111111,
             "#46039f"
            ],
            [
             0.2222222222222222,
             "#7201a8"
            ],
            [
             0.3333333333333333,
             "#9c179e"
            ],
            [
             0.4444444444444444,
             "#bd3786"
            ],
            [
             0.5555555555555556,
             "#d8576b"
            ],
            [
             0.6666666666666666,
             "#ed7953"
            ],
            [
             0.7777777777777778,
             "#fb9f3a"
            ],
            [
             0.8888888888888888,
             "#fdca26"
            ],
            [
             1,
             "#f0f921"
            ]
           ]
          },
          "colorway": [
           "#636efa",
           "#EF553B",
           "#00cc96",
           "#ab63fa",
           "#FFA15A",
           "#19d3f3",
           "#FF6692",
           "#B6E880",
           "#FF97FF",
           "#FECB52"
          ],
          "font": {
           "color": "#2a3f5f"
          },
          "geo": {
           "bgcolor": "white",
           "lakecolor": "white",
           "landcolor": "#E5ECF6",
           "showlakes": true,
           "showland": true,
           "subunitcolor": "white"
          },
          "hoverlabel": {
           "align": "left"
          },
          "hovermode": "closest",
          "mapbox": {
           "style": "light"
          },
          "paper_bgcolor": "white",
          "plot_bgcolor": "#E5ECF6",
          "polar": {
           "angularaxis": {
            "gridcolor": "white",
            "linecolor": "white",
            "ticks": ""
           },
           "bgcolor": "#E5ECF6",
           "radialaxis": {
            "gridcolor": "white",
            "linecolor": "white",
            "ticks": ""
           }
          },
          "scene": {
           "xaxis": {
            "backgroundcolor": "#E5ECF6",
            "gridcolor": "white",
            "gridwidth": 2,
            "linecolor": "white",
            "showbackground": true,
            "ticks": "",
            "zerolinecolor": "white"
           },
           "yaxis": {
            "backgroundcolor": "#E5ECF6",
            "gridcolor": "white",
            "gridwidth": 2,
            "linecolor": "white",
            "showbackground": true,
            "ticks": "",
            "zerolinecolor": "white"
           },
           "zaxis": {
            "backgroundcolor": "#E5ECF6",
            "gridcolor": "white",
            "gridwidth": 2,
            "linecolor": "white",
            "showbackground": true,
            "ticks": "",
            "zerolinecolor": "white"
           }
          },
          "shapedefaults": {
           "line": {
            "color": "#2a3f5f"
           }
          },
          "ternary": {
           "aaxis": {
            "gridcolor": "white",
            "linecolor": "white",
            "ticks": ""
           },
           "baxis": {
            "gridcolor": "white",
            "linecolor": "white",
            "ticks": ""
           },
           "bgcolor": "#E5ECF6",
           "caxis": {
            "gridcolor": "white",
            "linecolor": "white",
            "ticks": ""
           }
          },
          "title": {
           "x": 0.05
          },
          "xaxis": {
           "automargin": true,
           "gridcolor": "white",
           "linecolor": "white",
           "ticks": "",
           "title": {
            "standoff": 15
           },
           "zerolinecolor": "white",
           "zerolinewidth": 2
          },
          "yaxis": {
           "automargin": true,
           "gridcolor": "white",
           "linecolor": "white",
           "ticks": "",
           "title": {
            "standoff": 15
           },
           "zerolinecolor": "white",
           "zerolinewidth": 2
          }
         }
        },
        "title": {
         "text": "Most Wealthiest Countries In The World "
        }
       }
      },
      "text/html": [
       "<div>\n",
       "        \n",
       "        \n",
       "            <div id=\"c4af1164-cded-4714-822b-f2c149f6ec6e\" class=\"plotly-graph-div\" style=\"height:525px; width:100%;\"></div>\n",
       "            <script type=\"text/javascript\">\n",
       "                require([\"plotly\"], function(Plotly) {\n",
       "                    window.PLOTLYENV=window.PLOTLYENV || {};\n",
       "                    \n",
       "                if (document.getElementById(\"c4af1164-cded-4714-822b-f2c149f6ec6e\")) {\n",
       "                    Plotly.newPlot(\n",
       "                        'c4af1164-cded-4714-822b-f2c149f6ec6e',\n",
       "                        [{\"autocolorscale\": false, \"colorbar\": {\"title\": {\"text\": \"Logged GDP per capita\"}}, \"colorscale\": [[0.0, \"rgb(255,255,217)\"], [0.125, \"rgb(237,248,177)\"], [0.25, \"rgb(199,233,180)\"], [0.375, \"rgb(127,205,187)\"], [0.5, \"rgb(65,182,196)\"], [0.625, \"rgb(29,145,192)\"], [0.75, \"rgb(34,94,168)\"], [0.875, \"rgb(37,52,148)\"], [1.0, \"rgb(8,29,88)\"]], \"locationmode\": \"country names\", \"locations\": [\"Finland\", \"Denmark\", \"Switzerland\", \"Iceland\", \"Norway\", \"Netherlands\", \"Sweden\", \"New Zealand\", \"Austria\", \"Luxembourg\", \"Canada\", \"Australia\", \"United Kingdom\", \"Israel\", \"Costa Rica\", \"Ireland\", \"Germany\", \"United States\", \"Czech Republic\", \"Belgium\", \"United Arab Emirates\", \"Malta\", \"France\", \"Mexico\", \"Taiwan Province of China\", \"Uruguay\", \"Saudi Arabia\", \"Spain\", \"Guatemala\", \"Italy\", \"Singapore\", \"Brazil\", \"Slovenia\", \"El Salvador\", \"Kosovo\", \"Panama\", \"Slovakia\", \"Uzbekistan\", \"Chile\", \"Bahrain\", \"Lithuania\", \"Trinidad and Tobago\", \"Poland\", \"Colombia\", \"Cyprus\", \"Nicaragua\", \"Romania\", \"Kuwait\", \"Mauritius\", \"Kazakhstan\", \"Estonia\", \"Philippines\", \"Hungary\", \"Thailand\", \"Argentina\", \"Honduras\", \"Latvia\", \"Ecuador\", \"Portugal\", \"Jamaica\", \"South Korea\", \"Japan\", \"Peru\", \"Serbia\", \"Bolivia\", \"Pakistan\", \"Paraguay\", \"Dominican Republic\", \"Bosnia and Herzegovina\", \"Moldova\", \"Tajikistan\", \"Montenegro\", \"Russia\", \"Kyrgyzstan\", \"Belarus\", \"North Cyprus\", \"Greece\", \"Hong Kong S.A.R. of China\", \"Croatia\", \"Libya\", \"Mongolia\", \"Malaysia\", \"Vietnam\", \"Indonesia\", \"Ivory Coast\", \"Benin\", \"Maldives\", \"Congo (Brazzaville)\", \"Azerbaijan\", \"Macedonia\", \"Ghana\", \"Nepal\", \"Turkey\", \"China\", \"Turkmenistan\", \"Bulgaria\", \"Morocco\", \"Cameroon\", \"Venezuela\", \"Algeria\", \"Senegal\", \"Guinea\", \"Niger\", \"Laos\", \"Albania\", \"Cambodia\", \"Bangladesh\", \"Gabon\", \"South Africa\", \"Iraq\", \"Lebanon\", \"Burkina Faso\", \"Gambia\", \"Mali\", \"Nigeria\", \"Armenia\", \"Georgia\", \"Iran\", \"Jordan\", \"Mozambique\", \"Kenya\", \"Namibia\", \"Ukraine\", \"Liberia\", \"Palestinian Territories\", \"Uganda\", \"Chad\", \"Tunisia\", \"Mauritania\", \"Sri Lanka\", \"Congo (Kinshasa)\", \"Swaziland\", \"Myanmar\", \"Comoros\", \"Togo\", \"Ethiopia\", \"Madagascar\", \"Egypt\", \"Sierra Leone\", \"Burundi\", \"Zambia\", \"Haiti\", \"Lesotho\", \"India\", \"Malawi\", \"Yemen\", \"Botswana\", \"Tanzania\", \"Central African Republic\", \"Rwanda\", \"Zimbabwe\", \"South Sudan\", \"Afghanistan\"], \"reversescale\": true, \"text\": [\"Western Europe\", \"Western Europe\", \"Western Europe\", \"Western Europe\", \"Western Europe\", \"Western Europe\", \"Western Europe\", \"North America and ANZ\", \"Western Europe\", \"Western Europe\", \"North America and ANZ\", \"North America and ANZ\", \"Western Europe\", \"Middle East and North Africa\", \"Latin America and Caribbean\", \"Western Europe\", \"Western Europe\", \"North America and ANZ\", \"Central and Eastern Europe\", \"Western Europe\", \"Middle East and North Africa\", \"Western Europe\", \"Western Europe\", \"Latin America and Caribbean\", \"East Asia\", \"Latin America and Caribbean\", \"Middle East and North Africa\", \"Western Europe\", \"Latin America and Caribbean\", \"Western Europe\", \"Southeast Asia\", \"Latin America and Caribbean\", \"Central and Eastern Europe\", \"Latin America and Caribbean\", \"Central and Eastern Europe\", \"Latin America and Caribbean\", \"Central and Eastern Europe\", \"Commonwealth of Independent States\", \"Latin America and Caribbean\", \"Middle East and North Africa\", \"Central and Eastern Europe\", \"Latin America and Caribbean\", \"Central and Eastern Europe\", \"Latin America and Caribbean\", \"Western Europe\", \"Latin America and Caribbean\", \"Central and Eastern Europe\", \"Middle East and North Africa\", \"Sub-Saharan Africa\", \"Commonwealth of Independent States\", \"Central and Eastern Europe\", \"Southeast Asia\", \"Central and Eastern Europe\", \"Southeast Asia\", \"Latin America and Caribbean\", \"Latin America and Caribbean\", \"Central and Eastern Europe\", \"Latin America and Caribbean\", \"Western Europe\", \"Latin America and Caribbean\", \"East Asia\", \"East Asia\", \"Latin America and Caribbean\", \"Central and Eastern Europe\", \"Latin America and Caribbean\", \"South Asia\", \"Latin America and Caribbean\", \"Latin America and Caribbean\", \"Central and Eastern Europe\", \"Commonwealth of Independent States\", \"Commonwealth of Independent States\", \"Central and Eastern Europe\", \"Commonwealth of Independent States\", \"Commonwealth of Independent States\", \"Commonwealth of Independent States\", \"Western Europe\", \"Western Europe\", \"East Asia\", \"Central and Eastern Europe\", \"Middle East and North Africa\", \"East Asia\", \"Southeast Asia\", \"Southeast Asia\", \"Southeast Asia\", \"Sub-Saharan Africa\", \"Sub-Saharan Africa\", \"South Asia\", \"Sub-Saharan Africa\", \"Commonwealth of Independent States\", \"Central and Eastern Europe\", \"Sub-Saharan Africa\", \"South Asia\", \"Middle East and North Africa\", \"East Asia\", \"Commonwealth of Independent States\", \"Central and Eastern Europe\", \"Middle East and North Africa\", \"Sub-Saharan Africa\", \"Latin America and Caribbean\", \"Middle East and North Africa\", \"Sub-Saharan Africa\", \"Sub-Saharan Africa\", \"Sub-Saharan Africa\", \"Southeast Asia\", \"Central and Eastern Europe\", \"Southeast Asia\", \"South Asia\", \"Sub-Saharan Africa\", \"Sub-Saharan Africa\", \"Middle East and North Africa\", \"Middle East and North Africa\", \"Sub-Saharan Africa\", \"Sub-Saharan Africa\", \"Sub-Saharan Africa\", \"Sub-Saharan Africa\", \"Commonwealth of Independent States\", \"Commonwealth of Independent States\", \"Middle East and North Africa\", \"Middle East and North Africa\", \"Sub-Saharan Africa\", \"Sub-Saharan Africa\", \"Sub-Saharan Africa\", \"Commonwealth of Independent States\", \"Sub-Saharan Africa\", \"Middle East and North Africa\", \"Sub-Saharan Africa\", \"Sub-Saharan Africa\", \"Middle East and North Africa\", \"Sub-Saharan Africa\", \"South Asia\", \"Sub-Saharan Africa\", \"Sub-Saharan Africa\", \"Southeast Asia\", \"Sub-Saharan Africa\", \"Sub-Saharan Africa\", \"Sub-Saharan Africa\", \"Sub-Saharan Africa\", \"Middle East and North Africa\", \"Sub-Saharan Africa\", \"Sub-Saharan Africa\", \"Sub-Saharan Africa\", \"Latin America and Caribbean\", \"Sub-Saharan Africa\", \"South Asia\", \"Sub-Saharan Africa\", \"Middle East and North Africa\", \"Sub-Saharan Africa\", \"Sub-Saharan Africa\", \"Sub-Saharan Africa\", \"Sub-Saharan Africa\", \"Sub-Saharan Africa\", \"Sub-Saharan Africa\", \"South Asia\"], \"type\": \"choropleth\", \"z\": [10.63926697, 10.77400112, 10.97993279, 10.77255917, 11.08780384, 10.81271172, 10.75879383, 10.50094318, 10.7428236, 11.45068073, 10.69236851, 10.72059631, 10.60013485, 10.41752529, 9.658156395, 11.16097832, 10.7328186, 10.92576885, 10.40416336, 10.673639300000001, 11.1099987, 10.53383827, 10.58422279, 9.797797203, 10.77568531, 9.948192596, 10.79781246, 10.46292686, 8.924805641, 10.48183632, 11.39552116, 9.56643486, 10.39232254, 8.909075737, 9.204429626, 10.03423405, 10.34774971, 8.740371704, 10.0320549, 10.67638016, 10.34362602, 10.26000214, 10.26512432, 9.500369072, 10.40570259, 8.493160247999999, 10.107584, 11.08982468, 9.956786156, 10.11465836, 10.34001732, 8.993545532, 10.24924374, 9.741791725, 9.810955048, 8.424534798, 10.17531967, 9.246058463999999, 10.26374245, 9.006250381000001, 10.51056671, 10.57968903, 9.456313133, 9.680980682000001, 8.851115227000001, 8.482727051, 9.389982224, 9.664880753, 9.455817223, 8.776714325, 8.024810791, 9.751860619, 10.12887192, 8.148405075, 9.779945374, 10.40570259, 10.13232613, 10.934671400000001, 10.07087517, 9.789815903, 9.412186623, 10.26251888, 8.809545517, 9.36975193, 8.225561142, 7.674319744, 9.518632889, 8.536987305, 9.687726974, 9.510591507000001, 8.350645065, 7.925357342000001, 10.12941933, 9.688568115, 9.74803257, 9.869318962000001, 8.940313339, 8.118647575, 8.977793693999999, 9.537964821000001, 8.118982315, 7.750990391, 6.842166901000001, 8.79858017, 9.417930603, 8.249890327000001, 8.287063599, 9.680537224, 9.403370857, 9.661095619, 9.3617239, 7.46854496, 7.321814537000001, 7.629852295, 8.57662487, 9.100476265, 9.226100922, 9.813719749, 9.025999069, 7.069345951, 8.02977562, 9.203141212, 9.010690689, 7.054380417000001, 8.389223099, 7.500389576, 7.467963696, 9.314972877999999, 8.233919144, 9.389969826, 6.694256306000001, 9.16267395, 8.680481911000001, 7.833630085, 7.357711315, 7.5093855860000005, 7.281685829, 9.316541672, 7.26880312, 6.492642403, 8.224720001, 7.411329268999999, 7.9604883189999995, 8.849823952000001, 7.062226295, 7.759682655, 9.711203575, 7.967665195, 6.625160217, 7.600104332000001, 7.865711688999999, 7.425359726, 7.4628605839999995]}],\n",
       "                        {\"geo\": {\"projection\": {\"type\": \"equirectangular\"}, \"showframe\": false}, \"template\": {\"data\": {\"bar\": [{\"error_x\": {\"color\": \"#2a3f5f\"}, \"error_y\": {\"color\": \"#2a3f5f\"}, \"marker\": {\"line\": {\"color\": \"#E5ECF6\", \"width\": 0.5}}, \"type\": \"bar\"}], \"barpolar\": [{\"marker\": {\"line\": {\"color\": \"#E5ECF6\", \"width\": 0.5}}, \"type\": \"barpolar\"}], \"carpet\": [{\"aaxis\": {\"endlinecolor\": \"#2a3f5f\", \"gridcolor\": \"white\", \"linecolor\": \"white\", \"minorgridcolor\": \"white\", \"startlinecolor\": \"#2a3f5f\"}, \"baxis\": {\"endlinecolor\": \"#2a3f5f\", \"gridcolor\": \"white\", \"linecolor\": \"white\", \"minorgridcolor\": \"white\", \"startlinecolor\": \"#2a3f5f\"}, \"type\": \"carpet\"}], \"choropleth\": [{\"colorbar\": {\"outlinewidth\": 0, \"ticks\": \"\"}, \"type\": \"choropleth\"}], \"contour\": [{\"colorbar\": {\"outlinewidth\": 0, \"ticks\": \"\"}, \"colorscale\": [[0.0, \"#0d0887\"], [0.1111111111111111, \"#46039f\"], [0.2222222222222222, \"#7201a8\"], [0.3333333333333333, \"#9c179e\"], [0.4444444444444444, \"#bd3786\"], [0.5555555555555556, \"#d8576b\"], [0.6666666666666666, \"#ed7953\"], [0.7777777777777778, \"#fb9f3a\"], [0.8888888888888888, \"#fdca26\"], [1.0, \"#f0f921\"]], \"type\": \"contour\"}], \"contourcarpet\": [{\"colorbar\": {\"outlinewidth\": 0, \"ticks\": \"\"}, \"type\": \"contourcarpet\"}], \"heatmap\": [{\"colorbar\": {\"outlinewidth\": 0, \"ticks\": \"\"}, \"colorscale\": [[0.0, \"#0d0887\"], [0.1111111111111111, \"#46039f\"], [0.2222222222222222, \"#7201a8\"], [0.3333333333333333, \"#9c179e\"], [0.4444444444444444, \"#bd3786\"], [0.5555555555555556, \"#d8576b\"], [0.6666666666666666, \"#ed7953\"], [0.7777777777777778, \"#fb9f3a\"], [0.8888888888888888, \"#fdca26\"], [1.0, \"#f0f921\"]], \"type\": \"heatmap\"}], \"heatmapgl\": [{\"colorbar\": {\"outlinewidth\": 0, \"ticks\": \"\"}, \"colorscale\": [[0.0, \"#0d0887\"], [0.1111111111111111, \"#46039f\"], [0.2222222222222222, \"#7201a8\"], [0.3333333333333333, \"#9c179e\"], [0.4444444444444444, \"#bd3786\"], [0.5555555555555556, \"#d8576b\"], [0.6666666666666666, \"#ed7953\"], [0.7777777777777778, \"#fb9f3a\"], [0.8888888888888888, \"#fdca26\"], [1.0, \"#f0f921\"]], \"type\": \"heatmapgl\"}], \"histogram\": [{\"marker\": {\"colorbar\": {\"outlinewidth\": 0, \"ticks\": \"\"}}, \"type\": \"histogram\"}], \"histogram2d\": [{\"colorbar\": {\"outlinewidth\": 0, \"ticks\": \"\"}, \"colorscale\": [[0.0, \"#0d0887\"], [0.1111111111111111, \"#46039f\"], [0.2222222222222222, \"#7201a8\"], [0.3333333333333333, \"#9c179e\"], [0.4444444444444444, \"#bd3786\"], [0.5555555555555556, \"#d8576b\"], [0.6666666666666666, \"#ed7953\"], [0.7777777777777778, \"#fb9f3a\"], [0.8888888888888888, \"#fdca26\"], [1.0, \"#f0f921\"]], \"type\": \"histogram2d\"}], \"histogram2dcontour\": [{\"colorbar\": {\"outlinewidth\": 0, \"ticks\": \"\"}, \"colorscale\": [[0.0, \"#0d0887\"], [0.1111111111111111, \"#46039f\"], [0.2222222222222222, \"#7201a8\"], [0.3333333333333333, \"#9c179e\"], [0.4444444444444444, \"#bd3786\"], [0.5555555555555556, \"#d8576b\"], [0.6666666666666666, \"#ed7953\"], [0.7777777777777778, \"#fb9f3a\"], [0.8888888888888888, \"#fdca26\"], [1.0, \"#f0f921\"]], \"type\": \"histogram2dcontour\"}], \"mesh3d\": [{\"colorbar\": {\"outlinewidth\": 0, \"ticks\": \"\"}, \"type\": \"mesh3d\"}], \"parcoords\": [{\"line\": {\"colorbar\": {\"outlinewidth\": 0, \"ticks\": \"\"}}, \"type\": \"parcoords\"}], \"pie\": [{\"automargin\": true, \"type\": \"pie\"}], \"scatter\": [{\"marker\": {\"colorbar\": {\"outlinewidth\": 0, \"ticks\": \"\"}}, \"type\": \"scatter\"}], \"scatter3d\": [{\"line\": {\"colorbar\": {\"outlinewidth\": 0, \"ticks\": \"\"}}, \"marker\": {\"colorbar\": {\"outlinewidth\": 0, \"ticks\": \"\"}}, \"type\": \"scatter3d\"}], \"scattercarpet\": [{\"marker\": {\"colorbar\": {\"outlinewidth\": 0, \"ticks\": \"\"}}, \"type\": \"scattercarpet\"}], \"scattergeo\": [{\"marker\": {\"colorbar\": {\"outlinewidth\": 0, \"ticks\": \"\"}}, \"type\": \"scattergeo\"}], \"scattergl\": [{\"marker\": {\"colorbar\": {\"outlinewidth\": 0, \"ticks\": \"\"}}, \"type\": \"scattergl\"}], \"scattermapbox\": [{\"marker\": {\"colorbar\": {\"outlinewidth\": 0, \"ticks\": \"\"}}, \"type\": \"scattermapbox\"}], \"scatterpolar\": [{\"marker\": {\"colorbar\": {\"outlinewidth\": 0, \"ticks\": \"\"}}, \"type\": \"scatterpolar\"}], \"scatterpolargl\": [{\"marker\": {\"colorbar\": {\"outlinewidth\": 0, \"ticks\": \"\"}}, \"type\": \"scatterpolargl\"}], \"scatterternary\": [{\"marker\": {\"colorbar\": {\"outlinewidth\": 0, \"ticks\": \"\"}}, \"type\": \"scatterternary\"}], \"surface\": [{\"colorbar\": {\"outlinewidth\": 0, \"ticks\": \"\"}, \"colorscale\": [[0.0, \"#0d0887\"], [0.1111111111111111, \"#46039f\"], [0.2222222222222222, \"#7201a8\"], [0.3333333333333333, \"#9c179e\"], [0.4444444444444444, \"#bd3786\"], [0.5555555555555556, \"#d8576b\"], [0.6666666666666666, \"#ed7953\"], [0.7777777777777778, \"#fb9f3a\"], [0.8888888888888888, \"#fdca26\"], [1.0, \"#f0f921\"]], \"type\": \"surface\"}], \"table\": [{\"cells\": {\"fill\": {\"color\": \"#EBF0F8\"}, \"line\": {\"color\": \"white\"}}, \"header\": {\"fill\": {\"color\": \"#C8D4E3\"}, \"line\": {\"color\": \"white\"}}, \"type\": \"table\"}]}, \"layout\": {\"annotationdefaults\": {\"arrowcolor\": \"#2a3f5f\", \"arrowhead\": 0, \"arrowwidth\": 1}, \"coloraxis\": {\"colorbar\": {\"outlinewidth\": 0, \"ticks\": \"\"}}, \"colorscale\": {\"diverging\": [[0, \"#8e0152\"], [0.1, \"#c51b7d\"], [0.2, \"#de77ae\"], [0.3, \"#f1b6da\"], [0.4, \"#fde0ef\"], [0.5, \"#f7f7f7\"], [0.6, \"#e6f5d0\"], [0.7, \"#b8e186\"], [0.8, \"#7fbc41\"], [0.9, \"#4d9221\"], [1, \"#276419\"]], \"sequential\": [[0.0, \"#0d0887\"], [0.1111111111111111, \"#46039f\"], [0.2222222222222222, \"#7201a8\"], [0.3333333333333333, \"#9c179e\"], [0.4444444444444444, \"#bd3786\"], [0.5555555555555556, \"#d8576b\"], [0.6666666666666666, \"#ed7953\"], [0.7777777777777778, \"#fb9f3a\"], [0.8888888888888888, \"#fdca26\"], [1.0, \"#f0f921\"]], \"sequentialminus\": [[0.0, \"#0d0887\"], [0.1111111111111111, \"#46039f\"], [0.2222222222222222, \"#7201a8\"], [0.3333333333333333, \"#9c179e\"], [0.4444444444444444, \"#bd3786\"], [0.5555555555555556, \"#d8576b\"], [0.6666666666666666, \"#ed7953\"], [0.7777777777777778, \"#fb9f3a\"], [0.8888888888888888, \"#fdca26\"], [1.0, \"#f0f921\"]]}, \"colorway\": [\"#636efa\", \"#EF553B\", \"#00cc96\", \"#ab63fa\", \"#FFA15A\", \"#19d3f3\", \"#FF6692\", \"#B6E880\", \"#FF97FF\", \"#FECB52\"], \"font\": {\"color\": \"#2a3f5f\"}, \"geo\": {\"bgcolor\": \"white\", \"lakecolor\": \"white\", \"landcolor\": \"#E5ECF6\", \"showlakes\": true, \"showland\": true, \"subunitcolor\": \"white\"}, \"hoverlabel\": {\"align\": \"left\"}, \"hovermode\": \"closest\", \"mapbox\": {\"style\": \"light\"}, \"paper_bgcolor\": \"white\", \"plot_bgcolor\": \"#E5ECF6\", \"polar\": {\"angularaxis\": {\"gridcolor\": \"white\", \"linecolor\": \"white\", \"ticks\": \"\"}, \"bgcolor\": \"#E5ECF6\", \"radialaxis\": {\"gridcolor\": \"white\", \"linecolor\": \"white\", \"ticks\": \"\"}}, \"scene\": {\"xaxis\": {\"backgroundcolor\": \"#E5ECF6\", \"gridcolor\": \"white\", \"gridwidth\": 2, \"linecolor\": \"white\", \"showbackground\": true, \"ticks\": \"\", \"zerolinecolor\": \"white\"}, \"yaxis\": {\"backgroundcolor\": \"#E5ECF6\", \"gridcolor\": \"white\", \"gridwidth\": 2, \"linecolor\": \"white\", \"showbackground\": true, \"ticks\": \"\", \"zerolinecolor\": \"white\"}, \"zaxis\": {\"backgroundcolor\": \"#E5ECF6\", \"gridcolor\": \"white\", \"gridwidth\": 2, \"linecolor\": \"white\", \"showbackground\": true, \"ticks\": \"\", \"zerolinecolor\": \"white\"}}, \"shapedefaults\": {\"line\": {\"color\": \"#2a3f5f\"}}, \"ternary\": {\"aaxis\": {\"gridcolor\": \"white\", \"linecolor\": \"white\", \"ticks\": \"\"}, \"baxis\": {\"gridcolor\": \"white\", \"linecolor\": \"white\", \"ticks\": \"\"}, \"bgcolor\": \"#E5ECF6\", \"caxis\": {\"gridcolor\": \"white\", \"linecolor\": \"white\", \"ticks\": \"\"}}, \"title\": {\"x\": 0.05}, \"xaxis\": {\"automargin\": true, \"gridcolor\": \"white\", \"linecolor\": \"white\", \"ticks\": \"\", \"title\": {\"standoff\": 15}, \"zerolinecolor\": \"white\", \"zerolinewidth\": 2}, \"yaxis\": {\"automargin\": true, \"gridcolor\": \"white\", \"linecolor\": \"white\", \"ticks\": \"\", \"title\": {\"standoff\": 15}, \"zerolinecolor\": \"white\", \"zerolinewidth\": 2}}}, \"title\": {\"text\": \"Most Wealthiest Countries In The World \"}},\n",
       "                        {\"responsive\": true}\n",
       "                    ).then(function(){\n",
       "                            \n",
       "var gd = document.getElementById('c4af1164-cded-4714-822b-f2c149f6ec6e');\n",
       "var x = new MutationObserver(function (mutations, observer) {{\n",
       "        var display = window.getComputedStyle(gd).display;\n",
       "        if (!display || display === 'none') {{\n",
       "            console.log([gd, 'removed!']);\n",
       "            Plotly.purge(gd);\n",
       "            observer.disconnect();\n",
       "        }}\n",
       "}});\n",
       "\n",
       "// Listen for the removal of the full notebook cells\n",
       "var notebookContainer = gd.closest('#notebook-container');\n",
       "if (notebookContainer) {{\n",
       "    x.observe(notebookContainer, {childList: true});\n",
       "}}\n",
       "\n",
       "// Listen for the clearing of the current output cell\n",
       "var outputEl = gd.closest('.output');\n",
       "if (outputEl) {{\n",
       "    x.observe(outputEl, {childList: true});\n",
       "}}\n",
       "\n",
       "                        })\n",
       "                };\n",
       "                });\n",
       "            </script>\n",
       "        </div>"
      ]
     },
     "metadata": {},
     "output_type": "display_data"
    }
   ],
   "source": [
    "import plotly as py\n",
    "import plotly.graph_objs as go\n",
    "from plotly.offline import iplot\n",
    "map_plot = dict(type = 'choropleth', \n",
    "locations = happy2020['Country name'],\n",
    "locationmode = 'country names',\n",
    "z = happy2020['Logged GDP per capita'].astype(float), \n",
    "text =happy2020['Regional indicator'],\n",
    "colorscale='ylgnbu',\n",
    "autocolorscale = False, reversescale = True,colorbar=dict(\n",
    "title = \"Logged GDP per capita\"))\n",
    "layout = dict(title = 'Most Wealthiest Countries In The World ', \n",
    "geo = dict(showframe = False, \n",
    "projection = {'type': 'equirectangular'}))\n",
    "choromap = go.Figure(data = [map_plot], layout=layout)\n",
    "iplot(choromap)"
   ]
  },
  {
   "cell_type": "code",
   "execution_count": null,
   "metadata": {},
   "outputs": [],
   "source": [
    "fig = plt.figure(figsize = (10,6))\n",
    "m = Basemap(projection='mill',llcrnrlat=-80,urcrnrlat=80, llcrnrlon=-180,urcrnrlon=180,lat_ts=20,resolution='c')\n",
    "m.drawcoastlines()\n",
    "m.drawcountries()\n",
    "\n",
    "\n",
    "\n",
    "def animate(Year):\n",
    "    ax = plt.axes()\n",
    "    ax.clear()\n",
    "    ax.set_title('Global Terrorism'+'\\n'+'Year:' +str(Year))\n",
    "    lat6=list(terror[terror['iyear']==Year].latitude)\n",
    "    long6=list(terror[terror['iyear']==Year].longitude)\n",
    "    x6,y6=m(long6,lat6)\n",
    "    \n",
    "    m.drawcoastlines()\n",
    "    m.drawcountries()\n",
    "    m.drawmapboundary(fill_color='lightblue')\n",
    "    m.fillcontinents(color='0.8',lake_color='lightblue',alpha=0.3)\n",
    "    m.scatter(x6, y6,s=[(kill+wound)*0.1 for kill,wound in list(zip(terror[terror['iyear']==Year].nkill,terror[terror['iyear']==Year].nwound))],color = 'r')\n",
    "ani = animation.FuncAnimation(fig,animate,list(terror.iyear.unique()), interval = 1500)    \n",
    "ani.save('animation.gif', writer='pillow', fps=1)\n",
    "plt.close(1)\n",
    "filename = 'animation.gif'\n",
    "video = io.open(filename, 'r+b').read()\n",
    "encoded = base64.b64encode(video)\n",
    "HTML(data='''<img src=\"data:image/gif;base64,{0}\" type=\"gif\" />'''.format(encoded.decode('ascii')))\n",
    "\n"
   ]
  }
 ],
 "metadata": {
  "kernelspec": {
   "display_name": "Python 3",
   "language": "python",
   "name": "python3"
  },
  "language_info": {
   "codemirror_mode": {
    "name": "ipython",
    "version": 3
   },
   "file_extension": ".py",
   "mimetype": "text/x-python",
   "name": "python",
   "nbconvert_exporter": "python",
   "pygments_lexer": "ipython3",
   "version": "3.7.4"
  }
 },
 "nbformat": 4,
 "nbformat_minor": 2
}
